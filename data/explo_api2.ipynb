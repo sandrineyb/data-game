{
 "cells": [
  {
   "cell_type": "code",
   "execution_count": 1,
   "id": "dc42793b",
   "metadata": {},
   "outputs": [],
   "source": [
    "# Import\n",
    "from dotenv import load_dotenv\n",
    "import os\n",
    "import sys\n",
    "import requests\n",
    "from requests import post\n",
    "import json\n",
    "import time\n",
    "import pandas as pd\n",
    "import ast"
   ]
  },
  {
   "cell_type": "code",
   "execution_count": 2,
   "id": "f14e8fbd",
   "metadata": {},
   "outputs": [],
   "source": [
    "load_dotenv()\n",
    "\n",
    "client_id_igdb = os.getenv(\"IGDB_ID_CLIENT\")\n",
    "client_secret_igdb = os.getenv(\"IGDB_SECRET_CLIENT\")"
   ]
  },
  {
   "cell_type": "code",
   "execution_count": 3,
   "id": "45f3119f",
   "metadata": {},
   "outputs": [
    {
     "name": "stdout",
     "output_type": "stream",
     "text": [
      "4pmce94am1hizog6ff9feucpmtki1q\n",
      "t0bfpbrfjsxb4eqpt2kezg82p3uhsw\n"
     ]
    }
   ],
   "source": [
    "print(client_id_igdb)\n",
    "print(client_secret_igdb)"
   ]
  },
  {
   "cell_type": "code",
   "execution_count": 4,
   "id": "c83d2102",
   "metadata": {},
   "outputs": [
    {
     "name": "stdout",
     "output_type": "stream",
     "text": [
      "https://id.twitch.tv/oauth2/token?client_id=4pmce94am1hizog6ff9feucpmtki1q&client_secret=t0bfpbrfjsxb4eqpt2kezg82p3uhsw&grant_type=client_credentials\n",
      "Access Token: b3qcss3wxbj8al0okp17ltdk7up3iu\n"
     ]
    }
   ],
   "source": [
    "# Récupération du token d'accès pour IGDB\n",
    "\n",
    "url = f\"https://id.twitch.tv/oauth2/token?client_id={client_id_igdb}&client_secret={client_secret_igdb}&grant_type=client_credentials\"\n",
    "\n",
    "print(url)\n",
    "response = requests.post(url)\n",
    "if response.status_code == 200:\n",
    "    response_json = response.json()\n",
    "    if 'expires_in' in response_json == 0:\n",
    "        print(f\"Le token a expiré, il faut le renouveler\")\n",
    "    access_token = response_json['access_token']\n",
    "    print(f\"Access Token: {access_token}\")\n",
    "else:\n",
    "    print(\"Error fetching data from the API\")\n",
    "    print(\"Status code:\", response.status_code)"
   ]
  },
  {
   "cell_type": "code",
   "execution_count": 5,
   "id": "ce03a649",
   "metadata": {},
   "outputs": [
    {
     "name": "stdout",
     "output_type": "stream",
     "text": [
      "{'count': 323447}\n"
     ]
    }
   ],
   "source": [
    "# Récuperer le nombres de jeux\n",
    "url_igdb_engines_count = \"https://api.igdb.com/v4/games/count\"\n",
    "\n",
    "headers = {\n",
    "    'Client-ID': client_id_igdb,   \n",
    "    'Authorization': f'Bearer {access_token}',\n",
    "    }\n",
    "\n",
    "response = post(url_igdb_engines_count, headers=headers, data='fields *;')\n",
    "print(response.json())"
   ]
  },
  {
   "cell_type": "markdown",
   "id": "0244da58",
   "metadata": {},
   "source": [
    "Recup Game_genre"
   ]
  },
  {
   "cell_type": "code",
   "execution_count": 8,
   "id": "9c14aaea",
   "metadata": {},
   "outputs": [],
   "source": [
    "# Fonction pour récupérer les type de support pour les langues\n",
    "def get_all_game_genre():\n",
    "    \"\"\"\n",
    "    Récupère les genre_id partie Game de l'API IGDB avec pagination.\n",
    "    \n",
    "    Returns:\n",
    "        pd.DataFrame: DataFrame contenant toutes les perspectives de joueur.\n",
    "    \"\"\"\n",
    "    all_game_genre = []\n",
    "    offset = 0\n",
    "    limit = 500  # Maximum limit for IGDB API\n",
    "\n",
    "    while True:\n",
    "        response = post('https://api.igdb.com/v4/games', headers=headers, data = f'fields genres; limit {limit}; offset {offset};')\n",
    "        \n",
    "        if response.status_code == 200:\n",
    "            response_json = response.json()\n",
    "            if not response_json:  # If no more data, break the loop\n",
    "                break\n",
    "            all_game_genre.extend(response_json)\n",
    "            offset += limit\n",
    "        else:\n",
    "            print(\"Error fetching data from the API\")\n",
    "            print(\"Status code:\", response.status_code)\n",
    "            break\n",
    "\n",
    "    return pd.DataFrame(all_game_genre)"
   ]
  },
  {
   "cell_type": "code",
   "execution_count": 19,
   "id": "a7bbfbae",
   "metadata": {},
   "outputs": [],
   "source": [
    "# Exporter le DataFrame en CSV\n",
    "all_game_genre.to_csv('../csv/game_genre.csv', index=False)"
   ]
  },
  {
   "cell_type": "markdown",
   "id": "35ca6c1d",
   "metadata": {},
   "source": [
    "Recup genre ID"
   ]
  },
  {
   "cell_type": "code",
   "execution_count": 21,
   "id": "22e2bb00",
   "metadata": {},
   "outputs": [],
   "source": [
    "# Fonction pour récupérer les type de support pour les langues\n",
    "def get_all_genre_id():\n",
    "    \"\"\"\n",
    "    Récupère les genre_id partie Game de l'API IGDB avec pagination.\n",
    "    \n",
    "    Returns:\n",
    "        pd.DataFrame: DataFrame contenant toutes les perspectives de joueur.\n",
    "    \"\"\"\n",
    "    all_genre = []\n",
    "    offset = 0\n",
    "    limit = 500  # Maximum limit for IGDB API\n",
    "\n",
    "    while True:\n",
    "        response = post('https://api.igdb.com/v4/genre', headers=headers, data = f'fields name; limit {limit}; offset {offset};')\n",
    "        \n",
    "        if response.status_code == 200:\n",
    "            response_json = response.json()\n",
    "            if not response_json:  # If no more data, break the loop\n",
    "                break\n",
    "            all_genre.extend(response_json)\n",
    "            offset += limit\n",
    "        else:\n",
    "            print(\"Error fetching data from the API\")\n",
    "            print(\"Status code:\", response.status_code)\n",
    "            break\n",
    "\n",
    "    return pd.DataFrame(all_genre)"
   ]
  },
  {
   "cell_type": "code",
   "execution_count": 12,
   "id": "94d94fe2",
   "metadata": {},
   "outputs": [
    {
     "data": {
      "application/vnd.microsoft.datawrangler.viewer.v0+json": {
       "columns": [
        {
         "name": "index",
         "rawType": "int64",
         "type": "integer"
        },
        {
         "name": "id",
         "rawType": "int64",
         "type": "integer"
        },
        {
         "name": "name",
         "rawType": "object",
         "type": "string"
        }
       ],
       "ref": "bc1386ec-c141-4cdd-8d1e-f56928577c35",
       "rows": [
        [
         "0",
         "330684",
         "Nightmare Kart: The Old Karts"
        ],
        [
         "1",
         "177310",
         "The Undying Beast"
        ],
        [
         "2",
         "129194",
         "Arcade Archives: XX Mission"
        ],
        [
         "3",
         "282079",
         "Rockman X: New Year 2023"
        ],
        [
         "4",
         "63844",
         "Ace wo Nerae!"
        ],
        [
         "5",
         "338541",
         "Mario Kart Tour: Vancouver Tour"
        ],
        [
         "6",
         "157761",
         "Microsoft Flight Simulator X: Steam Edition - Cessna C208B Grand Caravan"
        ],
        [
         "7",
         "335661",
         "Everlasting Tower"
        ],
        [
         "8",
         "348397",
         "Baccarat"
        ],
        [
         "9",
         "347317",
         "Cat Cosmic Puzzle"
        ],
        [
         "10",
         "2329",
         "Mario Party 3"
        ],
        [
         "11",
         "145545",
         "Steel Salvo"
        ],
        [
         "12",
         "341397",
         "Everweave"
        ],
        [
         "13",
         "340611",
         "Sexy Memory Puzzle: Gay Pool"
        ],
        [
         "14",
         "189844",
         "Godshard Chronicles"
        ],
        [
         "15",
         "134684",
         "Data Loss"
        ],
        [
         "16",
         "194844",
         "Chowder: Rump-A-Thump"
        ],
        [
         "17",
         "340494",
         "Hunter Hitman"
        ],
        [
         "18",
         "1570",
         "Jet Set Radio Future"
        ],
        [
         "19",
         "274434",
         "Merge Games Horror Bundle"
        ],
        [
         "20",
         "130742",
         "Flashy Maze"
        ],
        [
         "21",
         "94975",
         "Wubble Bubbles"
        ],
        [
         "22",
         "198472",
         "Giant Mario Bros."
        ],
        [
         "23",
         "289954",
         "The Tomb of Corruption"
        ],
        [
         "24",
         "337409",
         "Dark Castle"
        ],
        [
         "25",
         "44618",
         "Mortal Kombat HD Arcade Kollection"
        ],
        [
         "26",
         "222607",
         "Moonlight Destiny"
        ],
        [
         "27",
         "347330",
         "Street Vendor Simulator"
        ],
        [
         "28",
         "260316",
         "Banners of Ruin: Iris"
        ],
        [
         "29",
         "227130",
         "Soccer Cup 2022"
        ],
        [
         "30",
         "297397",
         "SCP: Infohazard"
        ],
        [
         "31",
         "255115",
         "Maid for Loving You"
        ],
        [
         "32",
         "6692",
         "Tony Hawk's Pro Skater"
        ],
        [
         "33",
         "342765",
         "Sesame Street Mecha Builders"
        ],
        [
         "34",
         "1460",
         "LocoRoco Cocoreccho"
        ],
        [
         "35",
         "5522",
         "Blackguards"
        ],
        [
         "36",
         "211629",
         "Doodle Champs"
        ],
        [
         "37",
         "225397",
         "Shall we date?: Never Look Back"
        ],
        [
         "38",
         "226044",
         "Phones Not Allowed"
        ],
        [
         "39",
         "196965",
         "Bombardier"
        ],
        [
         "40",
         "220753",
         "Adventure Academia: The Fractured Continent - Vol.2 Bonus Unit: Kiesel"
        ],
        [
         "41",
         "176127",
         "NextDoor"
        ],
        [
         "42",
         "190145",
         "One Last Breath"
        ],
        [
         "43",
         "259007",
         "Crossroad OS"
        ],
        [
         "44",
         "340454",
         "Hentai Tales: Saimin Kouhai"
        ],
        [
         "45",
         "347311",
         "Beat of Life"
        ],
        [
         "46",
         "151312",
         "Gecko Gods"
        ],
        [
         "47",
         "146301",
         "My Hero Academia: The Strongest Hero"
        ],
        [
         "48",
         "181187",
         "Kimi ga Ita Kisetsu"
        ],
        [
         "49",
         "7687",
         "Battleborn"
        ]
       ],
       "shape": {
        "columns": 2,
        "rows": 322137
       }
      },
      "text/html": [
       "<div>\n",
       "<style scoped>\n",
       "    .dataframe tbody tr th:only-of-type {\n",
       "        vertical-align: middle;\n",
       "    }\n",
       "\n",
       "    .dataframe tbody tr th {\n",
       "        vertical-align: top;\n",
       "    }\n",
       "\n",
       "    .dataframe thead th {\n",
       "        text-align: right;\n",
       "    }\n",
       "</style>\n",
       "<table border=\"1\" class=\"dataframe\">\n",
       "  <thead>\n",
       "    <tr style=\"text-align: right;\">\n",
       "      <th></th>\n",
       "      <th>id</th>\n",
       "      <th>name</th>\n",
       "    </tr>\n",
       "  </thead>\n",
       "  <tbody>\n",
       "    <tr>\n",
       "      <th>0</th>\n",
       "      <td>330684</td>\n",
       "      <td>Nightmare Kart: The Old Karts</td>\n",
       "    </tr>\n",
       "    <tr>\n",
       "      <th>1</th>\n",
       "      <td>177310</td>\n",
       "      <td>The Undying Beast</td>\n",
       "    </tr>\n",
       "    <tr>\n",
       "      <th>2</th>\n",
       "      <td>129194</td>\n",
       "      <td>Arcade Archives: XX Mission</td>\n",
       "    </tr>\n",
       "    <tr>\n",
       "      <th>3</th>\n",
       "      <td>282079</td>\n",
       "      <td>Rockman X: New Year 2023</td>\n",
       "    </tr>\n",
       "    <tr>\n",
       "      <th>4</th>\n",
       "      <td>63844</td>\n",
       "      <td>Ace wo Nerae!</td>\n",
       "    </tr>\n",
       "    <tr>\n",
       "      <th>...</th>\n",
       "      <td>...</td>\n",
       "      <td>...</td>\n",
       "    </tr>\n",
       "    <tr>\n",
       "      <th>322132</th>\n",
       "      <td>89219</td>\n",
       "      <td>Stronghold Crusader II: The Templar &amp;The Duke</td>\n",
       "    </tr>\n",
       "    <tr>\n",
       "      <th>322133</th>\n",
       "      <td>8993</td>\n",
       "      <td>Anomaly Defenders</td>\n",
       "    </tr>\n",
       "    <tr>\n",
       "      <th>322134</th>\n",
       "      <td>154420</td>\n",
       "      <td>Catacombs Pack</td>\n",
       "    </tr>\n",
       "    <tr>\n",
       "      <th>322135</th>\n",
       "      <td>11261</td>\n",
       "      <td>The Black Mirror</td>\n",
       "    </tr>\n",
       "    <tr>\n",
       "      <th>322136</th>\n",
       "      <td>6253</td>\n",
       "      <td>Time Gentlemen, Please!</td>\n",
       "    </tr>\n",
       "  </tbody>\n",
       "</table>\n",
       "<p>322137 rows × 2 columns</p>\n",
       "</div>"
      ],
      "text/plain": [
       "            id                                           name\n",
       "0       330684                  Nightmare Kart: The Old Karts\n",
       "1       177310                              The Undying Beast\n",
       "2       129194                    Arcade Archives: XX Mission\n",
       "3       282079                       Rockman X: New Year 2023\n",
       "4        63844                                  Ace wo Nerae!\n",
       "...        ...                                            ...\n",
       "322132   89219  Stronghold Crusader II: The Templar &The Duke\n",
       "322133    8993                              Anomaly Defenders\n",
       "322134  154420                                 Catacombs Pack\n",
       "322135   11261                               The Black Mirror\n",
       "322136    6253                        Time Gentlemen, Please!\n",
       "\n",
       "[322137 rows x 2 columns]"
      ]
     },
     "metadata": {},
     "output_type": "display_data"
    }
   ],
   "source": [
    "all_genre = get_all_genre_id()\n",
    "display(all_genre)"
   ]
  },
  {
   "cell_type": "code",
   "execution_count": 20,
   "id": "ef4d78db",
   "metadata": {},
   "outputs": [],
   "source": [
    "# Exporter le DataFrame en CSV\n",
    "all_genre.to_csv('../csv/genre_id.csv', index=False)"
   ]
  },
  {
   "cell_type": "markdown",
   "id": "68df4863",
   "metadata": {},
   "source": [
    "PLATFORM_VERSION"
   ]
  },
  {
   "cell_type": "code",
   "execution_count": 6,
   "id": "1920d3b1",
   "metadata": {},
   "outputs": [],
   "source": [
    "# Fonction pour récupérer les id + version_name\n",
    "def get_platform_version():\n",
    "    \"\"\"\n",
    "    Récupère les id des platform et le nom de la version de l'API IGDB.\n",
    "    \n",
    "    Returns:\n",
    "        pd.DataFrame: DataFrame contenant toutes les perspectives de joueur.\n",
    "    \"\"\"\n",
    "    platform_version = []\n",
    "    offset = 0\n",
    "    limit = 500  # Maximum limit for IGDB API\n",
    "\n",
    "    while True:\n",
    "        response = post('https://api.igdb.com/v4/platform_versions', headers=headers, data = f'fields name; limit {limit}; offset {offset};')\n",
    "        \n",
    "        if response.status_code == 200:\n",
    "            response_json = response.json()\n",
    "            if not response_json:  # If no more data, break the loop\n",
    "                break\n",
    "            platform_version.extend(response_json)\n",
    "            offset += limit\n",
    "        else:\n",
    "            print(\"Error fetching data from the API\")\n",
    "            print(\"Status code:\", response.status_code)\n",
    "            break\n",
    "\n",
    "    return pd.DataFrame(platform_version)"
   ]
  },
  {
   "cell_type": "code",
   "execution_count": null,
   "id": "1f36e95c",
   "metadata": {},
   "outputs": [],
   "source": [
    "df_platform_version = get_platform_version()"
   ]
  },
  {
   "cell_type": "code",
   "execution_count": 10,
   "id": "8bfecb93",
   "metadata": {},
   "outputs": [],
   "source": [
    "df_platform_version.to_csv(r'C:\\Users\\Martin\\VS_code\\Wild code school\\data_game_new\\data-game\\csv/plaform_version.csv', index=False)"
   ]
  },
  {
   "cell_type": "markdown",
   "id": "78d7d59f",
   "metadata": {},
   "source": [
    "PLATFORM_PLATFORM_VERSION"
   ]
  },
  {
   "cell_type": "code",
   "execution_count": 11,
   "id": "c0410db3",
   "metadata": {},
   "outputs": [],
   "source": [
    "# Fonction pour récupérer les platform id + version id\n",
    "def PLATFORM_PLATFORM_VERSION():\n",
    "    \"\"\"\n",
    "    Récupère les platfor_id et version_id \n",
    "    \n",
    "    Returns:\n",
    "        pd.DataFrame: DataFrame contenant toutes les perspectives de joueur.\n",
    "    \"\"\"\n",
    "    platform_platform_version = []\n",
    "    offset = 0\n",
    "    limit = 500  # Maximum limit for IGDB API\n",
    "\n",
    "    while True:\n",
    "        response = post('https://api.igdb.com/v4/platforms', headers=headers, data = f'fields versions; limit {limit}; offset {offset};')\n",
    "        \n",
    "        if response.status_code == 200:\n",
    "            response_json = response.json()\n",
    "            if not response_json:  # If no more data, break the loop\n",
    "                break\n",
    "            platform_platform_version.extend(response_json)\n",
    "            offset += limit\n",
    "        else:\n",
    "            print(\"Error fetching data from the API\")\n",
    "            print(\"Status code:\", response.status_code)\n",
    "            break\n",
    "\n",
    "    return pd.DataFrame(platform_platform_version)"
   ]
  },
  {
   "cell_type": "code",
   "execution_count": 16,
   "id": "2010faba",
   "metadata": {},
   "outputs": [
    {
     "data": {
      "application/vnd.microsoft.datawrangler.viewer.v0+json": {
       "columns": [
        {
         "name": "index",
         "rawType": "int64",
         "type": "integer"
        },
        {
         "name": "id",
         "rawType": "int64",
         "type": "integer"
        },
        {
         "name": "versions",
         "rawType": "object",
         "type": "unknown"
        }
       ],
       "ref": "7d928171-d003-4f97-887c-3baf5eb0998e",
       "rows": [
        [
         "0",
         "306",
         "423"
        ],
        [
         "1",
         "339",
         "456"
        ],
        [
         "2",
         "376",
         "494"
        ],
        [
         "3",
         "12",
         "2"
        ],
        [
         "3",
         "12",
         "3"
        ],
        [
         "3",
         "12",
         "495"
        ],
        [
         "3",
         "12",
         "83"
        ],
        [
         "4",
         "32",
         "65"
        ],
        [
         "5",
         "62",
         "28"
        ],
        [
         "6",
         "148",
         "211"
        ],
        [
         "7",
         "150",
         "215"
        ],
        [
         "8",
         "156",
         "221"
        ],
        [
         "9",
         "510",
         "732"
        ],
        [
         "9",
         "510",
         "735"
        ],
        [
         "10",
         "309",
         "500"
        ],
        [
         "10",
         "309",
         "426"
        ],
        [
         "10",
         "309",
         "594"
        ],
        [
         "11",
         "389",
         "511"
        ],
        [
         "12",
         "13",
         "56"
        ],
        [
         "12",
         "13",
         "540"
        ],
        [
         "13",
         "41",
         "73"
        ],
        [
         "14",
         "60",
         "26"
        ],
        [
         "15",
         "112",
         "138"
        ],
        [
         "16",
         "410",
         "550"
        ],
        [
         "17",
         "30",
         "61"
        ],
        [
         "17",
         "30",
         "703"
        ],
        [
         "18",
         "53",
         "48"
        ],
        [
         "19",
         "61",
         "29"
        ],
        [
         "19",
         "61",
         "189"
        ],
        [
         "20",
         "77",
         "66"
        ],
        [
         "21",
         "120",
         "158"
        ],
        [
         "22",
         "127",
         "212"
        ],
        [
         "22",
         "127",
         "165"
        ],
        [
         "23",
         "132",
         "176"
        ],
        [
         "24",
         "413",
         "553"
        ],
        [
         "25",
         "140",
         "203"
        ],
        [
         "25",
         "140",
         "198"
        ],
        [
         "25",
         "140",
         "202"
        ],
        [
         "25",
         "140",
         "201"
        ],
        [
         "25",
         "140",
         "204"
        ],
        [
         "25",
         "140",
         "510"
        ],
        [
         "26",
         "143",
         "206"
        ],
        [
         "27",
         "153",
         "218"
        ],
        [
         "28",
         "154",
         "219"
        ],
        [
         "29",
         "167",
         "273"
        ],
        [
         "29",
         "167",
         "724"
        ],
        [
         "30",
         "70",
         "70"
        ],
        [
         "31",
         "87",
         "100"
        ],
        [
         "32",
         "145",
         "208"
        ],
        [
         "33",
         "386",
         "507"
        ]
       ],
       "shape": {
        "columns": 2,
        "rows": 417
       }
      },
      "text/html": [
       "<div>\n",
       "<style scoped>\n",
       "    .dataframe tbody tr th:only-of-type {\n",
       "        vertical-align: middle;\n",
       "    }\n",
       "\n",
       "    .dataframe tbody tr th {\n",
       "        vertical-align: top;\n",
       "    }\n",
       "\n",
       "    .dataframe thead th {\n",
       "        text-align: right;\n",
       "    }\n",
       "</style>\n",
       "<table border=\"1\" class=\"dataframe\">\n",
       "  <thead>\n",
       "    <tr style=\"text-align: right;\">\n",
       "      <th></th>\n",
       "      <th>id</th>\n",
       "      <th>versions</th>\n",
       "    </tr>\n",
       "  </thead>\n",
       "  <tbody>\n",
       "    <tr>\n",
       "      <th>0</th>\n",
       "      <td>306</td>\n",
       "      <td>423</td>\n",
       "    </tr>\n",
       "    <tr>\n",
       "      <th>1</th>\n",
       "      <td>339</td>\n",
       "      <td>456</td>\n",
       "    </tr>\n",
       "    <tr>\n",
       "      <th>2</th>\n",
       "      <td>376</td>\n",
       "      <td>494</td>\n",
       "    </tr>\n",
       "    <tr>\n",
       "      <th>3</th>\n",
       "      <td>12</td>\n",
       "      <td>2</td>\n",
       "    </tr>\n",
       "    <tr>\n",
       "      <th>3</th>\n",
       "      <td>12</td>\n",
       "      <td>3</td>\n",
       "    </tr>\n",
       "    <tr>\n",
       "      <th>...</th>\n",
       "      <td>...</td>\n",
       "      <td>...</td>\n",
       "    </tr>\n",
       "    <tr>\n",
       "      <th>218</th>\n",
       "      <td>130</td>\n",
       "      <td>282</td>\n",
       "    </tr>\n",
       "    <tr>\n",
       "      <th>218</th>\n",
       "      <td>130</td>\n",
       "      <td>173</td>\n",
       "    </tr>\n",
       "    <tr>\n",
       "      <th>218</th>\n",
       "      <td>130</td>\n",
       "      <td>503</td>\n",
       "    </tr>\n",
       "    <tr>\n",
       "      <th>219</th>\n",
       "      <td>159</td>\n",
       "      <td>228</td>\n",
       "    </tr>\n",
       "    <tr>\n",
       "      <th>219</th>\n",
       "      <td>159</td>\n",
       "      <td>229</td>\n",
       "    </tr>\n",
       "  </tbody>\n",
       "</table>\n",
       "<p>417 rows × 2 columns</p>\n",
       "</div>"
      ],
      "text/plain": [
       "      id versions\n",
       "0    306      423\n",
       "1    339      456\n",
       "2    376      494\n",
       "3     12        2\n",
       "3     12        3\n",
       "..   ...      ...\n",
       "218  130      282\n",
       "218  130      173\n",
       "218  130      503\n",
       "219  159      228\n",
       "219  159      229\n",
       "\n",
       "[417 rows x 2 columns]"
      ]
     },
     "execution_count": 16,
     "metadata": {},
     "output_type": "execute_result"
    }
   ],
   "source": [
    "df_platform_platform_version = PLATFORM_PLATFORM_VERSION()\n",
    "df_platform_platform_version = df_platform_platform_version.explode('versions')\n",
    "df_platform_platform_version"
   ]
  },
  {
   "cell_type": "code",
   "execution_count": 17,
   "id": "d0cde791",
   "metadata": {},
   "outputs": [],
   "source": [
    "df_platform_platform_version.to_csv(r'C:\\Users\\Martin\\VS_code\\Wild code school\\data_game_new\\data-game\\csv/plaform_platform_version.csv', index=False)"
   ]
  }
 ],
 "metadata": {
  "kernelspec": {
   "display_name": "data-game",
   "language": "python",
   "name": "python3"
  },
  "language_info": {
   "codemirror_mode": {
    "name": "ipython",
    "version": 3
   },
   "file_extension": ".py",
   "mimetype": "text/x-python",
   "name": "python",
   "nbconvert_exporter": "python",
   "pygments_lexer": "ipython3",
   "version": "3.13.3"
  }
 },
 "nbformat": 4,
 "nbformat_minor": 5
}
