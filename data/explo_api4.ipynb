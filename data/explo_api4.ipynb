{
 "cells": [
  {
   "cell_type": "code",
   "execution_count": 1,
   "id": "dc42793b",
   "metadata": {},
   "outputs": [],
   "source": [
    "# Import\n",
    "from dotenv import load_dotenv\n",
    "import os\n",
    "import sys\n",
    "import requests \n",
    "from requests import post\n",
    "import json\n",
    "import time\n",
    "import pandas as pd\n",
    "import ast"
   ]
  },
  {
   "cell_type": "code",
   "execution_count": 2,
   "id": "f14e8fbd",
   "metadata": {},
   "outputs": [],
   "source": [
    "load_dotenv()\n",
    "\n",
    "client_id_igdb = os.getenv(\"IGDB_ID_CLIENT\")\n",
    "client_secret_igdb = os.getenv(\"IGDB_SECRET_CLIENT\")"
   ]
  },
  {
   "cell_type": "code",
   "execution_count": 3,
   "id": "45f3119f",
   "metadata": {},
   "outputs": [
    {
     "name": "stdout",
     "output_type": "stream",
     "text": [
      "t0bfpbrfjsxb4eqpt2kezg82p3uhsw\n",
      "4pmce94am1hizog6ff9feucpmtki1q\n"
     ]
    }
   ],
   "source": [
    "print(client_secret_igdb)\n",
    "print(client_id_igdb)"
   ]
  },
  {
   "cell_type": "code",
   "execution_count": 4,
   "id": "c83d2102",
   "metadata": {},
   "outputs": [
    {
     "name": "stdout",
     "output_type": "stream",
     "text": [
      "https://id.twitch.tv/oauth2/token?client_id=4pmce94am1hizog6ff9feucpmtki1q&client_secret=t0bfpbrfjsxb4eqpt2kezg82p3uhsw&grant_type=client_credentials\n",
      "Access Token: izkz2s6b0cq4zdugcshw4m4024dbwn\n"
     ]
    }
   ],
   "source": [
    "# Récupération du token d'accès pour IGDB\n",
    "\n",
    "url = f\"https://id.twitch.tv/oauth2/token?client_id={client_id_igdb}&client_secret={client_secret_igdb}&grant_type=client_credentials\"\n",
    "\n",
    "print(url)\n",
    "response = requests.post(url)\n",
    "if response.status_code == 200:\n",
    "    response_json = response.json()\n",
    "    if 'expires_in' in response_json == 0:\n",
    "        print(f\"Le token a expiré, il faut le renouveler\")\n",
    "    access_token = response_json['access_token']\n",
    "    print(f\"Access Token: {access_token}\")\n",
    "else:\n",
    "    print(\"Error fetching data from the API\")\n",
    "    print(\"Status code:\", response.status_code)"
   ]
  },
  {
   "cell_type": "code",
   "execution_count": 5,
   "id": "ce03a649",
   "metadata": {},
   "outputs": [
    {
     "name": "stdout",
     "output_type": "stream",
     "text": [
      "{'count': 323266}\n"
     ]
    }
   ],
   "source": [
    "# Récuperer le nombres de jeux\n",
    "url_igdb_engines_count = \"https://api.igdb.com/v4/games/count\"\n",
    "\n",
    "headers = {\n",
    "    'Client-ID': client_id_igdb,   \n",
    "    'Authorization': f'Bearer {access_token}',\n",
    "    }\n",
    "\n",
    "response = post(url_igdb_engines_count, headers=headers, data='fields *;')\n",
    "print(response.json())"
   ]
  },
  {
   "cell_type": "code",
   "execution_count": 6,
   "id": "1406408a",
   "metadata": {},
   "outputs": [
    {
     "data": {
      "application/vnd.microsoft.datawrangler.viewer.v0+json": {
       "columns": [
        {
         "name": "index",
         "rawType": "int64",
         "type": "integer"
        },
        {
         "name": "id",
         "rawType": "int64",
         "type": "integer"
        },
        {
         "name": "category",
         "rawType": "int64",
         "type": "integer"
        },
        {
         "name": "game_engines",
         "rawType": "object",
         "type": "unknown"
        },
        {
         "name": "genres",
         "rawType": "object",
         "type": "unknown"
        },
        {
         "name": "name",
         "rawType": "object",
         "type": "string"
        },
        {
         "name": "summary",
         "rawType": "object",
         "type": "unknown"
        },
        {
         "name": "videos",
         "rawType": "object",
         "type": "unknown"
        },
        {
         "name": "first_release_date",
         "rawType": "float64",
         "type": "float"
        },
        {
         "name": "websites",
         "rawType": "object",
         "type": "unknown"
        },
        {
         "name": "language_supports",
         "rawType": "object",
         "type": "unknown"
        },
        {
         "name": "total_rating",
         "rawType": "float64",
         "type": "float"
        },
        {
         "name": "age_ratings",
         "rawType": "object",
         "type": "unknown"
        },
        {
         "name": "multiplayer_modes",
         "rawType": "object",
         "type": "unknown"
        },
        {
         "name": "game_status",
         "rawType": "float64",
         "type": "float"
        },
        {
         "name": "dlcs",
         "rawType": "object",
         "type": "unknown"
        }
       ],
       "ref": "a50acbb9-743a-4132-af9d-f374a0a7016b",
       "rows": [
        [
         "0",
         "330684",
         "14",
         "[439]",
         "[10, 33]",
         "Nightmare Kart: The Old Karts",
         "An upcoming free expansion to Nightmare Kart with a brand new mini-campaign, racers, karts, tracks, power-ups, and game modes.",
         "[139717]",
         null,
         null,
         null,
         null,
         null,
         null,
         null,
         null
        ],
        [
         "1",
         "177310",
         "0",
         "[750]",
         "[13, 32]",
         "The Undying Beast",
         "There was a flash of light, a choir of glass, and the sound of sirens approaching. Then for what seemed like eternity, a black hollow void. Suddenly you found yourself within a new plane. Dead trees and fog is all that surrounds you. You hear no birds or signs of life, but strange cackles and moans sound from the distance. And then you notice out of the corner of your eye you may not be alone here.",
         null,
         "1586736000.0",
         "[237634, 473902]",
         null,
         null,
         null,
         null,
         null,
         null
        ],
        [
         "2",
         "282079",
         "5",
         null,
         "[5, 8]",
         "Rockman X: New Year 2023",
         "A small hack to celebrate the Chinese New Year 2023, Year of the Rabbit.",
         null,
         "1672531200.0",
         "[606539]",
         "[876934]",
         null,
         null,
         null,
         null,
         null
        ],
        [
         "3",
         "63844",
         "0",
         null,
         "[14]",
         "Ace wo Nerae!",
         "A tennis game for the Super Famicom based on the 1970s manga and anime of the same name.",
         "[43074]",
         "756518400.0",
         "[161465, 373934]",
         "[685891]",
         "52.90462943179914",
         null,
         null,
         null,
         null
        ],
        [
         "4",
         "338541",
         "7",
         null,
         "[10]",
         "Mario Kart Tour: Vancouver Tour",
         null,
         null,
         "1581465600.0",
         "[724679]",
         "[1205446]",
         null,
         null,
         null,
         null,
         null
        ],
        [
         "5",
         "157761",
         "1",
         null,
         "[13]",
         "Microsoft Flight Simulator X: Steam Edition - Cessna C208B Grand Caravan",
         "Developed by Carenado, the FSX: Steam Edition rendition of the Cessna C208B Grand Caravan is a hugely detailed and accurate aircraft. It comes in seven paint schemes, features accurate flight dynamics and realistic instruments including autopilot, custom weather radar and an original GNS 430.",
         null,
         "1525132800.0",
         "[200750]",
         "[570844]",
         null,
         null,
         null,
         null,
         null
        ],
        [
         "6",
         "335661",
         "0",
         "[206]",
         "[32, 33]",
         "Everlasting Tower",
         "Escape a fiery death by climbing this tower for as long as you can.\n\nA simple randomly-generated vertical platformer with a retro feel. See for how long you can endure the everlasting tower.\n\nHas 4 difficulty levels and local high-scores.",
         "[143185]",
         "1374019200.0",
         "[719223]",
         "[1182730]",
         null,
         null,
         null,
         null,
         null
        ],
        [
         "7",
         "348397",
         "0",
         null,
         "[14, 32]",
         "Baccarat",
         "Baccarat keeps you on the edge of your seat with every turn of the cards! Feel the thrill of high-stakes decisions, the rush of a perfect hand, and the sweet satisfaction of a big win. Will luck be on your side, or will the suspense keep you coming back for more?",
         null,
         null,
         "[811184]",
         "[1277264, 1277268, 1277262, 1277269, 1277273, 1277261, 1277265, 1277266, 1277271, 1277274, 1277237, 1277238, 1277239, 1277240, 1277241, 1277242, 1277243, 1277244, 1277245, 1277246, 1277247, 1277248, 1277249, 1277250, 1277251, 1277252, 1277253, 1277254, 1277255, 1277256, 1277257, 1277258, 1277259, 1277260, 1277263, 1277267, 1277270, 1277272, 1277275]",
         null,
         null,
         null,
         null,
         null
        ],
        [
         "8",
         "347317",
         "0",
         null,
         "[9, 13, 15, 33]",
         "Cat Cosmic Puzzle",
         "A purrfect puzzle among the stars!",
         null,
         "1749686400.0",
         "[807551]",
         "[1282865]",
         null,
         "[212650, 213490]",
         null,
         null,
         null
        ],
        [
         "9",
         "2329",
         "0",
         null,
         "[26, 35]",
         "Mario Party 3",
         "Mario Party 3 is the third and final Mario Party title for the Nintendo 64. A total of eight characters are available to choose from: Mario, Luigi, Princess Peach, Yoshi, Wario, Donkey Kong, and newcomers Waluigi and Princess Daisy. Mario Party 3 features duel maps, in which two players try to lower each other's stamina to zero using non-playable characters such as Chain Chomps. It is the first Mario Party game to feature Luigi's main voice and also it is last Mario game where Princess Daisy appears in a yellow and white dress, and with long hair, as well as the last Mario game (until New Super Mario Bros. Wii) in which Yoshi's \"record-scratching\" voice is used. It is also the first Mario Party game to have multiple save slots.",
         "[21540]",
         "976147200.0",
         "[7508, 242928, 316310, 514643]",
         "[646658, 646659, 646660, 685797, 685798, 685799]",
         "75.89289109104826",
         "[8718, 96855]",
         "[17692]",
         null,
         null
        ],
        [
         "10",
         "145545",
         "0",
         "[439]",
         "[5, 25, 32]",
         "Steel Salvo",
         "Pilot a hulking mech and protect Triton from robot hordes. With the help of your team, vanquish the robot overlord!  \nExperience super-fast FPS mecha action in this short but challenging single-player game!",
         "[47664]",
         "1617753600.0",
         "[176632, 176633, 453962]",
         "[247461, 247462, 247463, 247464, 247465, 247466, 247467]",
         null,
         null,
         null,
         null,
         null
        ],
        [
         "11",
         "341397",
         "0",
         null,
         "[12]",
         "Everweave",
         "AI - powered text RPG based on D&D 5e ruleset",
         null,
         "1713830400.0",
         "[733532, 733533]",
         null,
         null,
         null,
         null,
         "4.0",
         null
        ],
        [
         "12",
         "340611",
         "0",
         null,
         null,
         "Sexy Memory Puzzle: Gay Pool",
         null,
         null,
         null,
         null,
         null,
         null,
         null,
         null,
         null,
         null
        ],
        [
         "13",
         "189844",
         "0",
         null,
         "[31, 32]",
         "Godshard Chronicles",
         "Godshard Chronicles is a top-down action RPG based in the world of the Godshard novels with music by famed composer Noriyuki Iwadare. Inspired by titles such as The Legend of Zelda, Grandia, and the Mana series. Fight in action-packed battles, explore a sprawling world either solo or with a friend!",
         null,
         null,
         "[818728, 818729, 262035, 262036, 483162, 695918]",
         "[241372, 241370]",
         null,
         null,
         null,
         null,
         null
        ],
        [
         "14",
         "134684",
         "0",
         "[13]",
         "[9, 32, 33]",
         "Data Loss",
         "Corporations suck!! Money'Surance Corp especially sucks, so you're taking it upon yourself to hack the Money'Surance Corp Tower, steal money from the higher ups, and erase the debts of everyone subject to its monopoly.",
         null,
         "1588291200.0",
         "[143504, 144073, 450412]",
         null,
         null,
         null,
         null,
         null,
         null
        ],
        [
         "15",
         "194844",
         "0",
         null,
         "[9]",
         "Chowder: Rump-A-Thump",
         "Chowder is helping Mung Daal with three different items, thumpster,cutterfly,and spinzle with his rump(end). There are different foods for you to get for the orders. There are lots of hazards for you to dodge,avoid,and keep away.",
         "[65845]",
         "1356912000.0",
         "[486840]",
         null,
         null,
         null,
         null,
         null,
         null
        ],
        [
         "16",
         "340494",
         "0",
         null,
         "[15]",
         "Hunter Hitman",
         "Hunt or be hunted. Execute stealth kills and survive in this action-packed assassin game.",
         null,
         "1735776000.0",
         "[728616]",
         "[1218127, 1218128]",
         null,
         null,
         null,
         null,
         null
        ],
        [
         "17",
         "36558",
         "0",
         null,
         "[14]",
         "Hot Shots Golf 2",
         "Hot Shots Golf 2 is the sequel to PlayStation game Hot Shots Golf. While the sequel is in many respects similar to the original, it brings some improvements to the series.\n\nLike the original there are several characters to choose from, and many more to be unlocked throughout the game. Each character has his or her own strengths and weaknesses, making character selection more than just choosing a skin. The character models themselves are of a more realistic style this time around, as opposed to the big-head anime style of the original Hot Shots Golf.\n\nThere are several different modes of play, from standards like stroke, match, and tournament, to the 'vs. mode', through which new characters can be unlocked. Gameplay itself is a version of the standard 'tap-tap-tap' variety used by the majority of golf games.",
         "[149627]",
         "933206400.0",
         "[31963, 31962, 358548]",
         "[989064]",
         "59.99501259757459",
         "[12577, 210580, 210581, 210582, 189230]",
         null,
         null,
         null
        ],
        [
         "18",
         "274434",
         "3",
         null,
         null,
         "Merge Games Horror Bundle",
         "What do dark Nordic fables, intergalactic cruises and Lovecraftian gore all have in common? Gruesome, gory and ghoulish monsters! Dive into the horror-themed worlds of Bramble: The Mountain King, Morbid: The Seven Acolytes and Slaycation Paradise - if you dare!",
         null,
         "1698364800.0",
         null,
         null,
         null,
         "[157922, 157924, 157926, 157923, 157925]",
         null,
         null,
         null
        ],
        [
         "19",
         "130742",
         "0",
         null,
         null,
         "Flashy Maze",
         null,
         null,
         null,
         "[389076]",
         null,
         null,
         null,
         null,
         null,
         null
        ],
        [
         "20",
         "94975",
         "0",
         null,
         null,
         "Wubble Bubbles",
         null,
         null,
         null,
         "[411516]",
         null,
         null,
         null,
         null,
         null,
         null
        ],
        [
         "21",
         "198472",
         "5",
         null,
         "[8]",
         "Giant Mario Bros.",
         "This hack will make Mario and Luigi huge, twice their size.\n\nThe levels remain basically the same, but some changes have been made to accommodate the resizing of the player.",
         null,
         "1638921600.0",
         null,
         "[630010]",
         null,
         null,
         null,
         null,
         null
        ],
        [
         "22",
         "289954",
         "0",
         null,
         "[12, 31]",
         "The Tomb of Corruption",
         "Explore procedurally generated dungeons and slash hordes of monsters in THE TOMB OF CORRUPTION! - A 3D action RPG with rogue-lite elements. Fully customize your melee and ranged weapon with hundreds of upgrades, unlock skills, upgrade your armor and get ready to enter the voxel dungeon!",
         "[120046, 120047]",
         "1720656000.0",
         "[619898, 655011, 655012]",
         "[925223, 1035601, 1035602]",
         null,
         null,
         null,
         null,
         null
        ],
        [
         "23",
         "337409",
         "11",
         null,
         "[8, 9, 31]",
         "Dark Castle",
         "The Genesis port of Dark Castle features colored graphics, and music during gameplay.",
         "[144652]",
         "694137600.0",
         null,
         "[1198396]",
         null,
         null,
         null,
         null,
         null
        ],
        [
         "24",
         "44618",
         "3",
         null,
         "[4]",
         "Mortal Kombat HD Arcade Kollection",
         "Before the announcement of Mortal Kombat: Arcade Kollection, different online stores started listing Mortal Kombat HD: Arcade Kollection. It was supposed to include Mortal Kombat 1, Mortal Kombat II and Ultimate Mortal Kombat 3, just like the released version. However unlike the released version, the cancelled HD-Version also had new sounds and completely new graphics with new actors portraying the characters in HD.",
         null,
         null,
         null,
         null,
         null,
         null,
         null,
         "6.0",
         null
        ],
        [
         "25",
         "260316",
         "13",
         null,
         "[12, 15]",
         "Banners of Ruin: Iris",
         "Summon spirits that augment your party with the haunted fox, Iris!",
         "[97227]",
         "1693526400.0",
         "[571360, 571361, 579340]",
         "[746019, 746020, 746021, 746026, 746027, 746029, 746031, 746032, 746034, 746036, 746023, 746024, 746025, 746028, 746030, 746033, 746035, 746022, 790012, 790013]",
         null,
         null,
         null,
         null,
         null
        ],
        [
         "26",
         "222607",
         "0",
         null,
         "[12, 31]",
         "Moonlight Destiny",
         "A Chinese developed role-playing game that was later localized into Japanese by Nihon Falcom under the name Moonlight Destiny.\n\nYue Ying Chuan Shuo Jian Xia Qing Yuan Wai Zhuan is a role-playing game. Many years ago, two of the most famous people in Wulin were Yang Xilie and Shangguan Feilong. Yang Xilie, as his name implies, has a fierce personality, and often competes with Shangguan Feilong. But Shangguan Feilong is indifferent to fame and fortune and dislikes fighting with others, so he ignores his provocations, which makes Yang Xilie more and more angry. After a thrilling life-and-death struggle, Shangguan Feilong was defeated by Yang Xilie at last. But eventually the two men and up that. Ten years after those events Yang Yingfeng (Yang Xilie's son) is already a young man. He still remembers the scene ten years ago. Yang Yingfeng feels that he should go out for an adventure.",
         null,
         "994982400.0",
         "[508806]",
         null,
         null,
         null,
         null,
         null,
         null
        ],
        [
         "27",
         "347330",
         "0",
         null,
         "[13]",
         "Street Vendor Simulator",
         "Buy, sell, and earn big on the city streets by selling water.",
         null,
         "1749254400.0",
         "[807563]",
         "[1282884]",
         null,
         "[212663, 213524]",
         null,
         null,
         null
        ],
        [
         "28",
         "239401",
         "0",
         null,
         "[9]",
         "Blocky Balloons",
         "Blocky Balloons is a block-pushing \"sokoban-like\" puzzle game. Push, slide, and undo your way through 40+ puzzles to get those balloons!",
         "[84942]",
         "1696896000.0",
         "[533291, 588622, 588709]",
         "[639030]",
         null,
         null,
         null,
         null,
         null
        ],
        [
         "29",
         "227130",
         "0",
         null,
         null,
         "Soccer Cup 2022",
         null,
         null,
         null,
         "[511646]",
         null,
         null,
         "[104162]",
         null,
         null,
         null
        ],
        [
         "30",
         "297397",
         "0",
         "[603]",
         "[5, 31]",
         "SCP: Infohazard",
         "SCP: Infohazard is a survival horror game based on the stories of the SCP Foundation, where you take on the role of a test subject who becomes the survivor or a reality-bending disaster. To survive, you must restore reality fragments around the facility while avoiding some of the most dangerous monsters and anomalies that they contain. You must navigate through the high-tech facility and to find a way to stop what might just be an end-of-the-world scenario. SCP: Infohazard immerses you in the inner workings of The SCP Foundation like never before, with breathtaking details, clever puzzles, heart-pounding stealth, combat, and more. Use the environment to your advantage as you avoid detection, shoot around corners, distract the monstrous anomalies, and more.",
         "[111335]",
         null,
         "[630389, 630390, 630391, 630392, 630393, 630394, 630395]",
         "[975478, 975479, 975480, 975481, 975482, 975483, 975484, 975485, 975486, 976578]",
         null,
         null,
         "[27647]",
         "3.0",
         null
        ],
        [
         "31",
         "255115",
         "0",
         "[822]",
         "[31, 34]",
         "Maid for Loving You",
         "Average guy Yuuma suddenly finds his boring life becoming way more exciting when he encounters a mysterious woman named Eve. Join him as he discovers the joys of having a live-in maid in this heartwarming visual novel.",
         null,
         "1553817600.0",
         "[561815]",
         "[719479, 719480, 719481, 719482, 719483, 719484, 719485, 719486, 719487]",
         null,
         null,
         null,
         null,
         null
        ],
        [
         "32",
         "6692",
         "0",
         null,
         "[14]",
         "Tony Hawk's Pro Skater",
         "Take control of real skaters and perform strings of crazy tricks in the first entry of the long-running Tony Hawk skateboarding series.",
         "[2371]",
         "938563200.0",
         "[64900, 344642]",
         null,
         "76.47816474132333",
         "[3839, 167746]",
         null,
         null,
         null
        ],
        [
         "33",
         "342765",
         "0",
         null,
         null,
         "Sesame Street Mecha Builders",
         "Embark on exciting adventures with Mecha Elmo, Cookie Monster, and Abby Cadabby! Explore science, engineering, creativity, and math through engaging games and activities designed for kids aged 2-6. Endless fun and learning await!",
         "[149270]",
         "1705449600.0",
         "[746708, 746709, 751769, 751770]",
         null,
         null,
         null,
         null,
         null,
         null
        ],
        [
         "34",
         "1460",
         "0",
         null,
         "[8, 9]",
         "LocoRoco Cocoreccho",
         "LocoRoco Cocoreccho! (or Oideyo LocoRoco!! BuuBuu Cocoreccho! (おいでよロコロコ！！ BuuBuu Cocoreccho!?), in Japan, meaning \"LocoRoco Come On Over(!)! BuuBuu Cocoreccho!\") is a video game in the LocoRoco series released on the PlayStation Network for PlayStation 3 on September 21, 2007.[1] Described as an \"interactive screensaver\",[2] LocoRoco Cocoreccho! features an autonomous two-dimensional environment in which the world and characters play even without input from the player.[3] The game is capable of running at full high-definition 1080p display resolution.[2]",
         "[53183]",
         "1190246400.0",
         "[338872]",
         null,
         "75.0",
         "[17803, 65027]",
         null,
         null,
         null
        ],
        [
         "35",
         "301852",
         "1",
         null,
         "[12, 31, 32]",
         "Moonstone Island: Arcane Artifacts",
         "This DLC is entirely centered around that mysterious weirdo that you love to love, with new dialogue, new events, and lots of Magic Man-themed furniture to make a shrine out of. We see you.",
         null,
         "1716249600.0",
         "[776879, 638392, 652268, 697611]",
         "[996563, 996564, 996565, 996566, 996567, 996568, 996569, 1132949]",
         null,
         "[178459]",
         null,
         null,
         null
        ],
        [
         "36",
         "5522",
         "0",
         "[13]",
         "[12, 15, 16, 32]",
         "Blackguards",
         "What happens when the only hope of a threatened world lies not with heroes in shining armor, but in the hands of a band of misfits and criminals? Blackguards, a new turn-based strategy RPG, explores this very question. You will discover over 180 unique hex-based battlegrounds within a dark and mature story of crime, drugs, and murder.\n\nPlay as a warrior, mage or hunter and customize your character's skills as you see fit. The challenging campaign delivers a story of doubt, treason and loss. You decide the course of the story at key turning points and determine its outcome.",
         "[1957]",
         "1390521600.0",
         "[47717, 47716, 344155, 543890]",
         "[325552, 325554, 325556, 325558, 325560, 325562, 325564, 325566, 325568, 325570, 325572, 325574, 325576, 325553, 325555, 325557, 325559, 325561, 325563, 325565, 325567, 325569, 325571, 325573, 325575, 325549, 325550, 325551]",
         "65.75482077066133",
         "[190801, 133525]",
         null,
         null,
         "[11105]"
        ],
        [
         "37",
         "211629",
         "0",
         null,
         "[32]",
         "Doodle Champs",
         "Doodle Champs is the ultimate experience for artists and doodlers alike! Play an exciting assortment of doodle-tastic party games with endless replayability, or just draw on a shared online canvas with your pals!",
         null,
         "1747872000.0",
         "[743910, 743911, 743912, 300875, 300876, 499105]",
         "[535451]",
         null,
         null,
         null,
         null,
         null
        ],
        [
         "38",
         "225397",
         "0",
         null,
         "[31, 34]",
         "Shall we date?: Never Look Back",
         "A life-risking journey to the Underworld.",
         "[78133]",
         "1396828800.0",
         "[323532, 323533, 510486]",
         null,
         null,
         null,
         null,
         "8.0",
         null
        ],
        [
         "39",
         "226044",
         "0",
         null,
         "[13, 32]",
         "Phones Not Allowed",
         "School is too boring? The temptation of using your phone is too strong? Be careful, teacher is watching you! Interact with and collect awesome anime artworks while keeping tabs of your teacher and classmates. Don't get caught or you will be suspended!",
         "[120068]",
         null,
         "[324782, 511884, 655216, 655215]",
         "[216568, 1040157, 1040158, 1040159, 1040160, 1258527, 1258528, 1258529, 1258530, 1258531, 1258532, 1258533, 1258534, 1258535, 1258536, 1258537, 1258538]",
         null,
         null,
         null,
         null,
         null
        ],
        [
         "40",
         "196965",
         "0",
         null,
         "[32]",
         "Bombardier",
         "Bombardier is a quick and chaotic online multiplayer game which supports up to 8 players in an arena, or play locally with up to 4 of your closest friends and battle to be crowned the ultimate Bombardier!",
         null,
         "1696032000.0",
         "[274972, 488382, 585900]",
         "[267734]",
         null,
         null,
         null,
         null,
         null
        ],
        [
         "41",
         "220753",
         "1",
         null,
         "[15]",
         "Adventure Academia: The Fractured Continent - Vol.2 Bonus Unit: Kiesel",
         "Description: Adds Kiesel, a main character from the storyline, into the game as a playable character.",
         null,
         "1670544000.0",
         "[785646, 316362]",
         "[394641, 394638, 394632, 394633, 394635, 394637, 394644, 394648, 394656]",
         null,
         "[114238]",
         null,
         null,
         null
        ],
        [
         "42",
         "176127",
         "0",
         null,
         "[31]",
         "NextDoor",
         "Short cinematic pixel horror game based on Junji Ito's manga.",
         "[106869]",
         "1617321600.0",
         "[235567, 320555, 472768, 614400]",
         "[903244]",
         null,
         null,
         null,
         null,
         null
        ],
        [
         "43",
         "190145",
         "0",
         null,
         "[8, 9, 31, 32]",
         "One Last Breath",
         "A 2,5D adventure set in a world in which almost no life is left you will play as Gaia, a being born from nature's last wish with power to influence the surrounding nature in order to face a dark world while being chased by strange creatures.",
         "[72957, 109189]",
         "1711584000.0",
         "[767795, 767796, 262450, 302856, 483429, 302855]",
         "[447373, 447374, 447375, 447367, 447368, 447369, 447370, 447371, 447372, 946250, 958127, 958128, 958129, 958368, 958369]",
         "60.0",
         "[171717, 171715, 170898, 171714, 171716, 171718]",
         null,
         null,
         null
        ],
        [
         "44",
         "259007",
         "0",
         "[507]",
         "[9, 31]",
         "Crossroad OS",
         "Crossʀoad OS is a single-player adventure where you solve puzzles, meet strange creatures and explore a sacred operating system created as a junction between the human and spirit world.",
         "[103229]",
         "1701993600.0",
         "[738136, 738137, 587490, 568985, 587489]",
         "[739046, 739047, 882191, 882192, 882193, 882194, 998766, 998767, 998768, 998769]",
         null,
         null,
         null,
         null,
         null
        ],
        [
         "45",
         "340454",
         "0",
         "[13]",
         "[15, 32]",
         "Hentai Tales: Saimin Kouhai",
         "One day, in the club room, the protagonist downloaded a hypnosis app for some reason. Everything starts to change when the protagonist starts making jokes about it on Miyagami Yui. What will happen there?",
         null,
         "1739491200.0",
         "[728587]",
         "[1217472, 1217461, 1217462, 1217473, 1217471, 1217457, 1217447, 1217448, 1217449, 1217450, 1217451, 1217452, 1217453, 1217454, 1217455, 1217456, 1217459, 1217460, 1217446, 1217458, 1217463, 1217464, 1217465, 1217466, 1217467, 1217468, 1217469, 1217470, 1217474, 1217475, 1217476, 1217477, 1217478]",
         null,
         null,
         null,
         null,
         null
        ],
        [
         "46",
         "721",
         "0",
         "[54]",
         "[12, 15, 24]",
         "Freedom Force vs. The 3rd Reich",
         "Freedom is threatened yet again and only Minute Man and his heroic Freedom Force can save the day in the follow up to one of the most critically acclaimed games of 2002.\n\nFreedom Force vs. the Third Reich brings dynamic storytelling, fast-paced tactical role-play, and larger-than-life characters from the comic book pages to the computer screen. In this title, the league of heroes must travel back in time to defeat Blitzkrieg, defender of the Reich and his homicidal henchmen. With action spanning from the blasted battlefields of World War II to the dazzling depths of distant dimensions, Freedom Force vs. the Third Reich will give Freedom Fans more than they can handle.",
         null,
         "1110240000.0",
         "[174495, 40804, 341517, 118441]",
         "[479307, 479308]",
         "92.85375402137345",
         "[124092, 61640]",
         null,
         null,
         null
        ],
        [
         "47",
         "347311",
         "0",
         null,
         "[7, 12, 13]",
         "Beat of Life",
         "Hit the beat and watch her journey through life.",
         null,
         "1751500800.0",
         "[816344, 816343]",
         "[1282868]",
         null,
         "[212646, 213493]",
         null,
         null,
         null
        ],
        [
         "48",
         "151312",
         "0",
         null,
         "[8, 9, 31, 32]",
         "Gecko Gods",
         "Explore a mysterious island as a tiny lizard. Complete ancient puzzles, effortlessly climb cliffs, and eat bugs as you make your way across an island civilization lost to time.",
         "[81701, 153000]",
         "1767139200.0",
         "[809309, 186445, 186446, 458734, 186443, 616626]",
         "[441627, 441628, 441629, 509148, 509149, 509150, 509151, 509152, 509153, 509154, 1270136, 1270137, 1270138, 1270139, 1270140, 1270141, 1270142, 1270143, 1270144, 1270145]",
         null,
         "[112927]",
         null,
         null,
         null
        ],
        [
         "49",
         "146301",
         "0",
         null,
         "[4, 12, 25]",
         "My Hero Academia: The Strongest Hero",
         "The game is an open-world action RPG set in the My Hero Academia universe. The game features a decked out story mode where players can build their own fighting teams and take on classic villains like Shigaraki and Nomu.",
         "[48509]",
         "1621296000.0",
         "[179296, 179297, 179298, 179299, 179300, 179301, 179302, 179303, 454544]",
         null,
         null,
         "[35852]",
         "[14250, 14251]",
         "4.0",
         null
        ]
       ],
       "shape": {
        "columns": 15,
        "rows": 500
       }
      },
      "text/html": [
       "<div>\n",
       "<style scoped>\n",
       "    .dataframe tbody tr th:only-of-type {\n",
       "        vertical-align: middle;\n",
       "    }\n",
       "\n",
       "    .dataframe tbody tr th {\n",
       "        vertical-align: top;\n",
       "    }\n",
       "\n",
       "    .dataframe thead th {\n",
       "        text-align: right;\n",
       "    }\n",
       "</style>\n",
       "<table border=\"1\" class=\"dataframe\">\n",
       "  <thead>\n",
       "    <tr style=\"text-align: right;\">\n",
       "      <th></th>\n",
       "      <th>id</th>\n",
       "      <th>category</th>\n",
       "      <th>game_engines</th>\n",
       "      <th>genres</th>\n",
       "      <th>name</th>\n",
       "      <th>summary</th>\n",
       "      <th>videos</th>\n",
       "      <th>first_release_date</th>\n",
       "      <th>websites</th>\n",
       "      <th>language_supports</th>\n",
       "      <th>total_rating</th>\n",
       "      <th>age_ratings</th>\n",
       "      <th>multiplayer_modes</th>\n",
       "      <th>game_status</th>\n",
       "      <th>dlcs</th>\n",
       "    </tr>\n",
       "  </thead>\n",
       "  <tbody>\n",
       "    <tr>\n",
       "      <th>0</th>\n",
       "      <td>330684</td>\n",
       "      <td>14</td>\n",
       "      <td>[439]</td>\n",
       "      <td>[10, 33]</td>\n",
       "      <td>Nightmare Kart: The Old Karts</td>\n",
       "      <td>An upcoming free expansion to Nightmare Kart w...</td>\n",
       "      <td>[139717]</td>\n",
       "      <td>NaN</td>\n",
       "      <td>NaN</td>\n",
       "      <td>NaN</td>\n",
       "      <td>NaN</td>\n",
       "      <td>NaN</td>\n",
       "      <td>NaN</td>\n",
       "      <td>NaN</td>\n",
       "      <td>NaN</td>\n",
       "    </tr>\n",
       "    <tr>\n",
       "      <th>1</th>\n",
       "      <td>177310</td>\n",
       "      <td>0</td>\n",
       "      <td>[750]</td>\n",
       "      <td>[13, 32]</td>\n",
       "      <td>The Undying Beast</td>\n",
       "      <td>There was a flash of light, a choir of glass, ...</td>\n",
       "      <td>NaN</td>\n",
       "      <td>1.586736e+09</td>\n",
       "      <td>[237634, 473902]</td>\n",
       "      <td>NaN</td>\n",
       "      <td>NaN</td>\n",
       "      <td>NaN</td>\n",
       "      <td>NaN</td>\n",
       "      <td>NaN</td>\n",
       "      <td>NaN</td>\n",
       "    </tr>\n",
       "    <tr>\n",
       "      <th>2</th>\n",
       "      <td>282079</td>\n",
       "      <td>5</td>\n",
       "      <td>NaN</td>\n",
       "      <td>[5, 8]</td>\n",
       "      <td>Rockman X: New Year 2023</td>\n",
       "      <td>A small hack to celebrate the Chinese New Year...</td>\n",
       "      <td>NaN</td>\n",
       "      <td>1.672531e+09</td>\n",
       "      <td>[606539]</td>\n",
       "      <td>[876934]</td>\n",
       "      <td>NaN</td>\n",
       "      <td>NaN</td>\n",
       "      <td>NaN</td>\n",
       "      <td>NaN</td>\n",
       "      <td>NaN</td>\n",
       "    </tr>\n",
       "    <tr>\n",
       "      <th>3</th>\n",
       "      <td>63844</td>\n",
       "      <td>0</td>\n",
       "      <td>NaN</td>\n",
       "      <td>[14]</td>\n",
       "      <td>Ace wo Nerae!</td>\n",
       "      <td>A tennis game for the Super Famicom based on t...</td>\n",
       "      <td>[43074]</td>\n",
       "      <td>7.565184e+08</td>\n",
       "      <td>[161465, 373934]</td>\n",
       "      <td>[685891]</td>\n",
       "      <td>52.904629</td>\n",
       "      <td>NaN</td>\n",
       "      <td>NaN</td>\n",
       "      <td>NaN</td>\n",
       "      <td>NaN</td>\n",
       "    </tr>\n",
       "    <tr>\n",
       "      <th>4</th>\n",
       "      <td>338541</td>\n",
       "      <td>7</td>\n",
       "      <td>NaN</td>\n",
       "      <td>[10]</td>\n",
       "      <td>Mario Kart Tour: Vancouver Tour</td>\n",
       "      <td>NaN</td>\n",
       "      <td>NaN</td>\n",
       "      <td>1.581466e+09</td>\n",
       "      <td>[724679]</td>\n",
       "      <td>[1205446]</td>\n",
       "      <td>NaN</td>\n",
       "      <td>NaN</td>\n",
       "      <td>NaN</td>\n",
       "      <td>NaN</td>\n",
       "      <td>NaN</td>\n",
       "    </tr>\n",
       "    <tr>\n",
       "      <th>...</th>\n",
       "      <td>...</td>\n",
       "      <td>...</td>\n",
       "      <td>...</td>\n",
       "      <td>...</td>\n",
       "      <td>...</td>\n",
       "      <td>...</td>\n",
       "      <td>...</td>\n",
       "      <td>...</td>\n",
       "      <td>...</td>\n",
       "      <td>...</td>\n",
       "      <td>...</td>\n",
       "      <td>...</td>\n",
       "      <td>...</td>\n",
       "      <td>...</td>\n",
       "      <td>...</td>\n",
       "    </tr>\n",
       "    <tr>\n",
       "      <th>495</th>\n",
       "      <td>218403</td>\n",
       "      <td>0</td>\n",
       "      <td>[456]</td>\n",
       "      <td>[8, 31, 32]</td>\n",
       "      <td>Omega Warp</td>\n",
       "      <td>Omega Warp is a 2D sci-fi themed action-advent...</td>\n",
       "      <td>[75133, 111316, 114101]</td>\n",
       "      <td>1.718755e+09</td>\n",
       "      <td>[312819, 504288, 312820, 312821, 312822, 31282...</td>\n",
       "      <td>[489487, 489488]</td>\n",
       "      <td>NaN</td>\n",
       "      <td>[176009]</td>\n",
       "      <td>NaN</td>\n",
       "      <td>NaN</td>\n",
       "      <td>NaN</td>\n",
       "    </tr>\n",
       "    <tr>\n",
       "      <th>496</th>\n",
       "      <td>102753</td>\n",
       "      <td>0</td>\n",
       "      <td>NaN</td>\n",
       "      <td>NaN</td>\n",
       "      <td>Blocky San Andreas Police 2018</td>\n",
       "      <td>NaN</td>\n",
       "      <td>NaN</td>\n",
       "      <td>NaN</td>\n",
       "      <td>[429634]</td>\n",
       "      <td>NaN</td>\n",
       "      <td>NaN</td>\n",
       "      <td>NaN</td>\n",
       "      <td>NaN</td>\n",
       "      <td>NaN</td>\n",
       "      <td>NaN</td>\n",
       "    </tr>\n",
       "    <tr>\n",
       "      <th>497</th>\n",
       "      <td>191066</td>\n",
       "      <td>0</td>\n",
       "      <td>[64]</td>\n",
       "      <td>[8]</td>\n",
       "      <td>Monster Evolution</td>\n",
       "      <td>Play as a monster. Create havoc, feed on human...</td>\n",
       "      <td>NaN</td>\n",
       "      <td>1.230768e+09</td>\n",
       "      <td>[263668, 484198]</td>\n",
       "      <td>NaN</td>\n",
       "      <td>NaN</td>\n",
       "      <td>NaN</td>\n",
       "      <td>NaN</td>\n",
       "      <td>NaN</td>\n",
       "      <td>NaN</td>\n",
       "    </tr>\n",
       "    <tr>\n",
       "      <th>498</th>\n",
       "      <td>134276</td>\n",
       "      <td>0</td>\n",
       "      <td>[400]</td>\n",
       "      <td>[13, 32]</td>\n",
       "      <td>Unpacking</td>\n",
       "      <td>Unpacking is a job-simulator game about inspec...</td>\n",
       "      <td>[36530]</td>\n",
       "      <td>1.536970e+09</td>\n",
       "      <td>[142013, 778930, 142012]</td>\n",
       "      <td>[300737, 300738, 300739, 300740, 300741, 30074...</td>\n",
       "      <td>NaN</td>\n",
       "      <td>[109241, 110652, 124898, 106263]</td>\n",
       "      <td>NaN</td>\n",
       "      <td>NaN</td>\n",
       "      <td>NaN</td>\n",
       "    </tr>\n",
       "    <tr>\n",
       "      <th>499</th>\n",
       "      <td>120876</td>\n",
       "      <td>0</td>\n",
       "      <td>[64]</td>\n",
       "      <td>[13]</td>\n",
       "      <td>TU-46</td>\n",
       "      <td>TU-46 is a sequel to the game TU-95. This time...</td>\n",
       "      <td>[28770]</td>\n",
       "      <td>1.323734e+09</td>\n",
       "      <td>[111688, 449647]</td>\n",
       "      <td>NaN</td>\n",
       "      <td>NaN</td>\n",
       "      <td>NaN</td>\n",
       "      <td>NaN</td>\n",
       "      <td>NaN</td>\n",
       "      <td>NaN</td>\n",
       "    </tr>\n",
       "  </tbody>\n",
       "</table>\n",
       "<p>500 rows × 15 columns</p>\n",
       "</div>"
      ],
      "text/plain": [
       "         id  category game_engines       genres  \\\n",
       "0    330684        14        [439]     [10, 33]   \n",
       "1    177310         0        [750]     [13, 32]   \n",
       "2    282079         5          NaN       [5, 8]   \n",
       "3     63844         0          NaN         [14]   \n",
       "4    338541         7          NaN         [10]   \n",
       "..      ...       ...          ...          ...   \n",
       "495  218403         0        [456]  [8, 31, 32]   \n",
       "496  102753         0          NaN          NaN   \n",
       "497  191066         0         [64]          [8]   \n",
       "498  134276         0        [400]     [13, 32]   \n",
       "499  120876         0         [64]         [13]   \n",
       "\n",
       "                                name  \\\n",
       "0      Nightmare Kart: The Old Karts   \n",
       "1                  The Undying Beast   \n",
       "2           Rockman X: New Year 2023   \n",
       "3                      Ace wo Nerae!   \n",
       "4    Mario Kart Tour: Vancouver Tour   \n",
       "..                               ...   \n",
       "495                       Omega Warp   \n",
       "496   Blocky San Andreas Police 2018   \n",
       "497                Monster Evolution   \n",
       "498                        Unpacking   \n",
       "499                            TU-46   \n",
       "\n",
       "                                               summary  \\\n",
       "0    An upcoming free expansion to Nightmare Kart w...   \n",
       "1    There was a flash of light, a choir of glass, ...   \n",
       "2    A small hack to celebrate the Chinese New Year...   \n",
       "3    A tennis game for the Super Famicom based on t...   \n",
       "4                                                  NaN   \n",
       "..                                                 ...   \n",
       "495  Omega Warp is a 2D sci-fi themed action-advent...   \n",
       "496                                                NaN   \n",
       "497  Play as a monster. Create havoc, feed on human...   \n",
       "498  Unpacking is a job-simulator game about inspec...   \n",
       "499  TU-46 is a sequel to the game TU-95. This time...   \n",
       "\n",
       "                      videos  first_release_date  \\\n",
       "0                   [139717]                 NaN   \n",
       "1                        NaN        1.586736e+09   \n",
       "2                        NaN        1.672531e+09   \n",
       "3                    [43074]        7.565184e+08   \n",
       "4                        NaN        1.581466e+09   \n",
       "..                       ...                 ...   \n",
       "495  [75133, 111316, 114101]        1.718755e+09   \n",
       "496                      NaN                 NaN   \n",
       "497                      NaN        1.230768e+09   \n",
       "498                  [36530]        1.536970e+09   \n",
       "499                  [28770]        1.323734e+09   \n",
       "\n",
       "                                              websites  \\\n",
       "0                                                  NaN   \n",
       "1                                     [237634, 473902]   \n",
       "2                                             [606539]   \n",
       "3                                     [161465, 373934]   \n",
       "4                                             [724679]   \n",
       "..                                                 ...   \n",
       "495  [312819, 504288, 312820, 312821, 312822, 31282...   \n",
       "496                                           [429634]   \n",
       "497                                   [263668, 484198]   \n",
       "498                           [142013, 778930, 142012]   \n",
       "499                                   [111688, 449647]   \n",
       "\n",
       "                                     language_supports  total_rating  \\\n",
       "0                                                  NaN           NaN   \n",
       "1                                                  NaN           NaN   \n",
       "2                                             [876934]           NaN   \n",
       "3                                             [685891]     52.904629   \n",
       "4                                            [1205446]           NaN   \n",
       "..                                                 ...           ...   \n",
       "495                                   [489487, 489488]           NaN   \n",
       "496                                                NaN           NaN   \n",
       "497                                                NaN           NaN   \n",
       "498  [300737, 300738, 300739, 300740, 300741, 30074...           NaN   \n",
       "499                                                NaN           NaN   \n",
       "\n",
       "                          age_ratings multiplayer_modes  game_status dlcs  \n",
       "0                                 NaN               NaN          NaN  NaN  \n",
       "1                                 NaN               NaN          NaN  NaN  \n",
       "2                                 NaN               NaN          NaN  NaN  \n",
       "3                                 NaN               NaN          NaN  NaN  \n",
       "4                                 NaN               NaN          NaN  NaN  \n",
       "..                                ...               ...          ...  ...  \n",
       "495                          [176009]               NaN          NaN  NaN  \n",
       "496                               NaN               NaN          NaN  NaN  \n",
       "497                               NaN               NaN          NaN  NaN  \n",
       "498  [109241, 110652, 124898, 106263]               NaN          NaN  NaN  \n",
       "499                               NaN               NaN          NaN  NaN  \n",
       "\n",
       "[500 rows x 15 columns]"
      ]
     },
     "execution_count": 6,
     "metadata": {},
     "output_type": "execute_result"
    }
   ],
   "source": [
    "# Récupération des games\n",
    "\n",
    "\n",
    "headers_game = {\n",
    "    'Client-ID': client_id_igdb,\n",
    "    'Authorization': f'Bearer {access_token}',\n",
    "}\n",
    "\n",
    "response = post('https://api.igdb.com/v4/games', headers=headers_game , data='fields name,age_ratings,category,dlcs,first_release_date,game_engines,game_status,genres,language_supports,multiplayer_modes,videos,websites,total_rating,total_rating,summary  ; limit 500;')\n",
    "# Vérification de la réponse\n",
    "if response.status_code == 200:\n",
    "    # On transforme la réponse en JSON\n",
    "    response_json = response.json()\n",
    "    # On transforme le JSON en DataFrame\n",
    "    df_games = pd.DataFrame(response_json)\n",
    "else:\n",
    "    print(\"Error fetching data from the API\")\n",
    "    print(\"Status code:\", response.status_code)\n",
    "    \n",
    "df_games"
   ]
  },
  {
   "cell_type": "code",
   "execution_count": 6,
   "id": "a9301dcd",
   "metadata": {},
   "outputs": [],
   "source": [
    "def get_all_games():\n",
    "    all_games = []\n",
    "    offset = 0\n",
    "    limit = 500  # Maximum limit for IGDB API\n",
    "\n",
    "    while True:\n",
    "        response = post('https://api.igdb.com/v4/games', headers=headers_game, data=f'fields name,first_release_date,total_rating,slug,summary; limit {limit}; offset {offset};')\n",
    "        \n",
    "        if response.status_code == 200:\n",
    "            response_json = response.json()\n",
    "            if not response_json:  # If no more data, break the loop\n",
    "                break\n",
    "            all_games.extend(response_json)\n",
    "            offset += limit\n",
    "        else:\n",
    "            print(\"Error fetching data from the API\")\n",
    "            print(\"Status code:\", response.status_code)\n",
    "            break\n",
    "\n",
    "    return pd.DataFrame(all_games)"
   ]
  },
  {
   "cell_type": "code",
   "execution_count": 8,
   "id": "4915901c",
   "metadata": {},
   "outputs": [],
   "source": [
    "df_games = get_all_games()"
   ]
  },
  {
   "cell_type": "code",
   "execution_count": 10,
   "id": "56dc43ec",
   "metadata": {},
   "outputs": [
    {
     "data": {
      "application/vnd.microsoft.datawrangler.viewer.v0+json": {
       "columns": [
        {
         "name": "index",
         "rawType": "int64",
         "type": "integer"
        },
        {
         "name": "id",
         "rawType": "int64",
         "type": "integer"
        },
        {
         "name": "name",
         "rawType": "object",
         "type": "string"
        },
        {
         "name": "slug",
         "rawType": "object",
         "type": "string"
        },
        {
         "name": "summary",
         "rawType": "object",
         "type": "unknown"
        },
        {
         "name": "first_release_date",
         "rawType": "object",
         "type": "unknown"
        },
        {
         "name": "total_rating",
         "rawType": "float64",
         "type": "float"
        }
       ],
       "ref": "cd56138d-9a76-4c90-b3bf-f1fcf396b25c",
       "rows": [
        [
         "0",
         "330684",
         "Nightmare Kart: The Old Karts",
         "nightmare-kart-the-old-karts",
         "An upcoming free expansion to Nightmare Kart with a brand new mini-campaign, racers, karts, tracks, power-ups, and game modes.",
         null,
         null
        ],
        [
         "1",
         "177310",
         "The Undying Beast",
         "the-undying-beast",
         "There was a flash of light, a choir of glass, and the sound of sirens approaching. Then for what seemed like eternity, a black hollow void. Suddenly you found yourself within a new plane. Dead trees and fog is all that surrounds you. You hear no birds or signs of life, but strange cackles and moans sound from the distance. And then you notice out of the corner of your eye you may not be alone here.",
         "2020-04-13",
         null
        ],
        [
         "2",
         "282079",
         "Rockman X: New Year 2023",
         "rockman-x-new-year-2023",
         "A small hack to celebrate the Chinese New Year 2023, Year of the Rabbit.",
         "2023-01-01",
         null
        ],
        [
         "3",
         "63844",
         "Ace wo Nerae!",
         "ace-wo-nerae",
         "A tennis game for the Super Famicom based on the 1970s manga and anime of the same name.",
         "1993-12-22",
         "52.90462943179914"
        ],
        [
         "4",
         "338541",
         "Mario Kart Tour: Vancouver Tour",
         "mario-kart-tour-vancouver-tour",
         null,
         "2020-02-12",
         null
        ]
       ],
       "shape": {
        "columns": 6,
        "rows": 5
       }
      },
      "text/html": [
       "<div>\n",
       "<style scoped>\n",
       "    .dataframe tbody tr th:only-of-type {\n",
       "        vertical-align: middle;\n",
       "    }\n",
       "\n",
       "    .dataframe tbody tr th {\n",
       "        vertical-align: top;\n",
       "    }\n",
       "\n",
       "    .dataframe thead th {\n",
       "        text-align: right;\n",
       "    }\n",
       "</style>\n",
       "<table border=\"1\" class=\"dataframe\">\n",
       "  <thead>\n",
       "    <tr style=\"text-align: right;\">\n",
       "      <th></th>\n",
       "      <th>id</th>\n",
       "      <th>name</th>\n",
       "      <th>slug</th>\n",
       "      <th>summary</th>\n",
       "      <th>first_release_date</th>\n",
       "      <th>total_rating</th>\n",
       "    </tr>\n",
       "  </thead>\n",
       "  <tbody>\n",
       "    <tr>\n",
       "      <th>0</th>\n",
       "      <td>330684</td>\n",
       "      <td>Nightmare Kart: The Old Karts</td>\n",
       "      <td>nightmare-kart-the-old-karts</td>\n",
       "      <td>An upcoming free expansion to Nightmare Kart w...</td>\n",
       "      <td>NaN</td>\n",
       "      <td>NaN</td>\n",
       "    </tr>\n",
       "    <tr>\n",
       "      <th>1</th>\n",
       "      <td>177310</td>\n",
       "      <td>The Undying Beast</td>\n",
       "      <td>the-undying-beast</td>\n",
       "      <td>There was a flash of light, a choir of glass, ...</td>\n",
       "      <td>2020-04-13</td>\n",
       "      <td>NaN</td>\n",
       "    </tr>\n",
       "    <tr>\n",
       "      <th>2</th>\n",
       "      <td>282079</td>\n",
       "      <td>Rockman X: New Year 2023</td>\n",
       "      <td>rockman-x-new-year-2023</td>\n",
       "      <td>A small hack to celebrate the Chinese New Year...</td>\n",
       "      <td>2023-01-01</td>\n",
       "      <td>NaN</td>\n",
       "    </tr>\n",
       "    <tr>\n",
       "      <th>3</th>\n",
       "      <td>63844</td>\n",
       "      <td>Ace wo Nerae!</td>\n",
       "      <td>ace-wo-nerae</td>\n",
       "      <td>A tennis game for the Super Famicom based on t...</td>\n",
       "      <td>1993-12-22</td>\n",
       "      <td>52.904629</td>\n",
       "    </tr>\n",
       "    <tr>\n",
       "      <th>4</th>\n",
       "      <td>338541</td>\n",
       "      <td>Mario Kart Tour: Vancouver Tour</td>\n",
       "      <td>mario-kart-tour-vancouver-tour</td>\n",
       "      <td>NaN</td>\n",
       "      <td>2020-02-12</td>\n",
       "      <td>NaN</td>\n",
       "    </tr>\n",
       "  </tbody>\n",
       "</table>\n",
       "</div>"
      ],
      "text/plain": [
       "       id                             name                            slug  \\\n",
       "0  330684    Nightmare Kart: The Old Karts    nightmare-kart-the-old-karts   \n",
       "1  177310                The Undying Beast               the-undying-beast   \n",
       "2  282079         Rockman X: New Year 2023         rockman-x-new-year-2023   \n",
       "3   63844                    Ace wo Nerae!                    ace-wo-nerae   \n",
       "4  338541  Mario Kart Tour: Vancouver Tour  mario-kart-tour-vancouver-tour   \n",
       "\n",
       "                                             summary first_release_date  \\\n",
       "0  An upcoming free expansion to Nightmare Kart w...                NaN   \n",
       "1  There was a flash of light, a choir of glass, ...         2020-04-13   \n",
       "2  A small hack to celebrate the Chinese New Year...         2023-01-01   \n",
       "3  A tennis game for the Super Famicom based on t...         1993-12-22   \n",
       "4                                                NaN         2020-02-12   \n",
       "\n",
       "   total_rating  \n",
       "0           NaN  \n",
       "1           NaN  \n",
       "2           NaN  \n",
       "3     52.904629  \n",
       "4           NaN  "
      ]
     },
     "execution_count": 10,
     "metadata": {},
     "output_type": "execute_result"
    }
   ],
   "source": [
    "# On transforme first_release_date en date \n",
    "df_games['first_release_date'] = pd.to_datetime(df_games['first_release_date'], unit='s', errors='coerce').dt.strftime('%Y-%m-%d')\n",
    "\n",
    "df_games.head(5)"
   ]
  },
  {
   "cell_type": "code",
   "execution_count": 11,
   "id": "87a7a5a9",
   "metadata": {},
   "outputs": [],
   "source": [
    "df_games.to_csv(\"../data-game/csv/games.csv\", index=False)"
   ]
  },
  {
   "cell_type": "code",
   "execution_count": 15,
   "id": "94c65d23",
   "metadata": {},
   "outputs": [
    {
     "name": "stdout",
     "output_type": "stream",
     "text": [
      "Fichier créé : donnees_part1.csv\n",
      "Fichier créé : donnees_part2.csv\n",
      "Fichier créé : donnees_part3.csv\n",
      "Fichier créé : donnees_part4.csv\n",
      "Fichier créé : donnees_part5.csv\n"
     ]
    }
   ],
   "source": [
    "fichier_source = r'C:\\Users\\Martin\\VS_code\\Wild code school\\data_game_new\\data-game\\csv/game.csv'\n",
    "taille_bloc = 100000  # Nombre de lignes par fichier (ajuste si besoin)\n",
    "\n",
    "try:\n",
    "    # Utilisez l'une des solutions ci-dessus. Ici, j'utilise 'on_bad_lines='skip''\n",
    "    # pour permettre au code de s'exécuter même avec des lignes mal formées.\n",
    "    # Si votre délimiteur est différent, ajoutez 'delimiter=';'' par exemple.\n",
    "    df_reader = pd.read_csv(fichier_source, chunksize=taille_bloc, on_bad_lines='skip')\n",
    "\n",
    "    for i, chunk in enumerate(df_reader):\n",
    "        nom_fichier = f\"donnees_part{i+1}.csv\"\n",
    "        chunk.to_csv(nom_fichier, index=False)\n",
    "        print(f\"Fichier créé : {nom_fichier}\")\n",
    "\n",
    "except pd.errors.ParserError as e:\n",
    "    print(f\"Une erreur de parsing est survenue : {e}\")\n",
    "    print(\"Veuillez vérifier le format de votre fichier CSV, en particulier la ligne indiquée dans l'erreur.\")\n",
    "    print(\"Assurez-vous que les délimiteurs sont cohérents et que les champs contenant des délimiteurs sont correctement entre guillemets.\")\n",
    "except FileNotFoundError:\n",
    "    print(f\"Erreur : Le fichier source '{fichier_source}' n'a pas été trouvé.\")\n",
    "except Exception as e:\n",
    "    print(f\"Une erreur inattendue est survenue : {e}\")"
   ]
  },
  {
   "cell_type": "markdown",
   "id": "e7577ff6",
   "metadata": {},
   "source": [
    "Plateform_version"
   ]
  },
  {
   "cell_type": "code",
   "execution_count": null,
   "id": "b9eadeca",
   "metadata": {},
   "outputs": [
    {
     "name": "stdout",
     "output_type": "stream",
     "text": [
      "{'count': 118798}\n"
     ]
    }
   ],
   "source": [
    "# Récuperer le nombres game_videos\n",
    "url_igdb_engines_count = \"https://api.igdb.com/v4/game_videos/count\"\n",
    "\n",
    "headers = {\n",
    "    'Client-ID': client_id_igdb,   \n",
    "    'Authorization': f'Bearer {access_token}',\n",
    "    }\n",
    "\n",
    "response = post(url_igdb_engines_count, headers=headers, data='fields *;')\n",
    "print(response.json())"
   ]
  },
  {
   "cell_type": "code",
   "execution_count": null,
   "id": "0ab09e4a",
   "metadata": {},
   "outputs": [
    {
     "data": {
      "application/vnd.microsoft.datawrangler.viewer.v0+json": {
       "columns": [
        {
         "name": "index",
         "rawType": "int64",
         "type": "integer"
        },
        {
         "name": "id",
         "rawType": "int64",
         "type": "integer"
        },
        {
         "name": "game",
         "rawType": "int64",
         "type": "integer"
        },
        {
         "name": "name",
         "rawType": "object",
         "type": "unknown"
        },
        {
         "name": "video_id",
         "rawType": "object",
         "type": "string"
        },
        {
         "name": "checksum",
         "rawType": "object",
         "type": "string"
        }
       ],
       "ref": "354577c9-4a91-4281-a1cd-f8672ebcbeb2",
       "rows": [
        [
         "0",
         "8402",
         "18845",
         "Zone D13 Fly Over Trailer",
         "bPFJuANnahE",
         "be0aa110-be58-e009-0cb6-2a3e55cc2a68"
        ],
        [
         "1",
         "10414",
         "18688",
         "Release Trailer",
         "Ky5mScjzYZk",
         "21c8cda7-4b42-bd2d-0053-97f55cefe101"
        ],
        [
         "2",
         "7866",
         "18880",
         "Trailer",
         "qmtaQqgHfuo",
         "ec60aacc-07ab-428c-4404-1817df5ee847"
        ],
        [
         "3",
         "10429",
         "1212",
         "Alvin Battle Trailer",
         "2qvOHnoS8BA",
         "e233c00a-dc60-29c1-b7fd-c333b6600caf"
        ],
        [
         "4",
         "10436",
         "22281",
         "Trailer",
         "d0Dj0rLptQg",
         "f469c14a-fd39-e76e-e6a5-29418a41fb8e"
        ],
        [
         "5",
         "28858",
         "90387",
         "Trailer",
         "t4jsWKYdW88",
         "2cfd0a42-33cb-3479-2d3f-3fb24f77deb9"
        ],
        [
         "6",
         "28860",
         "121032",
         "Teaser",
         "yhQcgmYEwcQ",
         "59ecc04b-c604-e97a-80a5-d5de7b7936e9"
        ],
        [
         "7",
         "10442",
         "19812",
         "Trailer",
         "JsN-gbex6Io",
         "ef9c01fc-a4ef-78dd-7af9-73bcfdb83c77"
        ],
        [
         "8",
         "12536",
         "25205",
         "Teaser",
         "JcaqXg5zugI",
         "c29c4053-2130-9a6c-98c7-39cab8a9d191"
        ],
        [
         "9",
         "572",
         "540",
         "Trailer",
         "wS7xwRzCK5k",
         "85aa789c-f4dc-5c05-8cd9-5fb4d8f88229"
        ],
        [
         "10",
         "584",
         "554",
         "Trailer",
         "wPM_HOGnK0o",
         "0583ec12-bc7e-c0fd-6cc8-9f8c5866466f"
        ],
        [
         "11",
         "24603",
         "105852",
         "Trailer",
         "Opv7_1uI49A",
         "ee47092e-16c1-075b-0b12-be71e1ef54fb"
        ],
        [
         "12",
         "614",
         "595",
         "Trailer",
         "MQwzoeL8jOc",
         "d9acdae9-30b4-5e62-f3c1-6761bd52b676"
        ],
        [
         "13",
         "28861",
         "120769",
         "Trailer",
         "nM3BNUoF-4E",
         "5f9873e4-ee1f-a6b6-5290-cda8ed42305d"
        ],
        [
         "14",
         "7891",
         "18905",
         "Trailer",
         "_DZNdT9sUo0",
         "e9a46cfa-a3a5-17fa-3044-75eb342dd60e"
        ],
        [
         "15",
         "7887",
         "18903",
         "Trailer",
         "jZnZrcvvyZM",
         "f59c9f23-9337-9ef6-f0d2-03ca156f3fcf"
        ],
        [
         "16",
         "7922",
         "18928",
         "Gameplay video",
         "si0Qyj0WMu8",
         "2cffec4a-7910-814f-b5f8-c0139199d852"
        ],
        [
         "17",
         "7920",
         "18857",
         "Gameplay video",
         "8FhjOx92W_Y",
         "9921c4a1-121b-625b-7ad5-78fcfa95f92b"
        ],
        [
         "18",
         "23932",
         "1475",
         "Gameplay video",
         "3Vc-RIkpk40",
         "181429f6-2aca-b02d-1b46-bca529711f17"
        ],
        [
         "19",
         "32",
         "10",
         "Trailer",
         "kVpl4eKn3aY",
         "96704e20-a9ac-924f-ada0-4754c4bfc197"
        ],
        [
         "20",
         "8044",
         "8862",
         "Trailer",
         "KA_LayTuoRo",
         "bd5072fd-1c58-7330-b4e8-ecc5354d065e"
        ],
        [
         "21",
         "59",
         "150",
         "Trailer",
         "6EAjxp81SaM",
         "f9bccf2b-b349-9787-2919-9c0a3ad8a7e8"
        ],
        [
         "22",
         "64",
         "160",
         "Gameplay video",
         "-QWH9u0LW9A",
         "b93b961e-02bf-f628-dcd3-fdac03bba5fa"
        ],
        [
         "23",
         "1077",
         "1961",
         "Trailer",
         "4WQL4bWaFbs",
         "83ae697b-bad9-ad95-cbad-17d09842e81d"
        ],
        [
         "24",
         "24123",
         "113935",
         "Gameplay video",
         "jiOACOY8xC4",
         "ae7de1ab-4c2b-21e6-46ed-d21c2bc0a020"
        ],
        [
         "25",
         "24135",
         "31553",
         "Trailer",
         "CNf4RtUsWtk",
         "fe95b93d-3717-be0b-b427-2d4f1b990d27"
        ],
        [
         "26",
         "150",
         "367",
         "Trailer",
         "B2Sy7qkkTy8",
         "efa1eb4c-ba26-79d5-cddf-2c3952250e9c"
        ],
        [
         "27",
         "24162",
         "58541",
         "Trailer",
         "ajCnyvnmwCI",
         "dee0e82d-19f8-d9f9-ac5a-b29c1a78265d"
        ],
        [
         "28",
         "24177",
         "113978",
         "Trailer",
         "uNSAviI6vwc",
         "069d3533-8c72-3990-12fc-19c9e87a9a43"
        ],
        [
         "29",
         "18268",
         "87810",
         "Trailer",
         "286TJw4vLLg",
         "179b14c2-3326-3486-bcf0-cb57d39b1217"
        ],
        [
         "30",
         "18313",
         "87854",
         "Trailer",
         "_XDHMC5zgUM",
         "9bd0c1ed-b482-60ca-8f90-84a974421b97"
        ],
        [
         "31",
         "24333",
         "61891",
         "Trailer",
         "UflBzGygVLo",
         "d62e6ff3-b374-3a21-550d-8f95922df547"
        ],
        [
         "32",
         "23331",
         "6850",
         "Trailer",
         "AU45RKaqPtc",
         "bcdd4f0f-6a8f-dcdb-e6ea-12ee5adb27ff"
        ],
        [
         "33",
         "24345",
         "17298",
         "Trailer",
         "Vv6UNlXg0do",
         "21113ab5-b58f-452d-5373-5478a794dbd4"
        ],
        [
         "34",
         "9353",
         "11432",
         "Trailer",
         "_i4fQKm2szA",
         "7c38e46b-2c1e-45df-48aa-ba1748713cd3"
        ],
        [
         "35",
         "10359",
         "20526",
         "Gameplay video",
         "VSm-DAU3mQw",
         "aab312d4-541c-38fa-4a46-c090bc382602"
        ],
        [
         "36",
         "10365",
         "24969",
         "Trailer",
         "4hhc97FNd2s",
         "0384a433-734a-5fcd-49f0-4b4cd2b80d7a"
        ],
        [
         "37",
         "10366",
         "9201",
         "Trailer",
         "CQjnTFme2zI",
         "17442367-c56a-a1f4-b265-f5bf82659e00"
        ],
        [
         "38",
         "10390",
         "114",
         "Bounty Hunter Progression Trailer",
         "r08qD7gxIQU",
         "6e43ec67-8f88-e2ec-395b-602fcebd2aac"
        ],
        [
         "39",
         "9391",
         "1979",
         "Trailer",
         "1SRxs5xYWuo",
         "e023e46a-7aab-786f-e323-f88b3c556c68"
        ],
        [
         "40",
         "10393",
         "114",
         "Signs of War Trailer",
         "gyYSx0R8N1A",
         "1090c1d0-a8e7-4114-7c9d-e894309280d4"
        ],
        [
         "41",
         "10398",
         "114",
         "Character Progression: Jedi Consular Trailer",
         "0_Lh-14Fj3k",
         "548b5ecf-2a43-3493-5231-be772753f08f"
        ],
        [
         "42",
         "24628",
         "37016",
         "Trailer",
         "hAOlTJ9LDWQ",
         "beab4aac-c309-6af1-64bc-352ece45834f"
        ],
        [
         "43",
         "23649",
         "14758",
         "Trailer",
         "2b48HA4mgw0",
         "3e7a1d2c-7b01-f154-5ac3-1c746f34e487"
        ],
        [
         "44",
         "23648",
         "103303",
         "Trailer",
         "o2aB-ZgUYcs",
         "5b2c0eda-26bd-1106-7aa5-f5a5cd91bdae"
        ],
        [
         "45",
         "660",
         "582",
         "101 Airborne Intro",
         "UeBoeOf99ug",
         "5385f8a6-2113-e949-5c26-8cd14a14701c"
        ],
        [
         "46",
         "23663",
         "111234",
         "Trailer",
         "S6DcVHlnMks",
         "a7f99a49-8e4c-47b9-15bd-f8715f0e1a51"
        ],
        [
         "47",
         "24669",
         "114884",
         "Trailer",
         "hIIC2uWSEY8",
         "35d67dcf-1ac2-160c-b497-1320b5856f42"
        ],
        [
         "48",
         "24671",
         "108264",
         "Trailer",
         "ExNQ7x7KnZo",
         "2f9521d3-c3a6-9fad-ae27-d06c07dbdc83"
        ],
        [
         "49",
         "23677",
         "24527",
         "Trailer",
         "_r-nHWKI06g",
         "6e63194c-5361-a8d4-5db1-b3f504bcfd2d"
        ]
       ],
       "shape": {
        "columns": 5,
        "rows": 500
       }
      },
      "text/html": [
       "<div>\n",
       "<style scoped>\n",
       "    .dataframe tbody tr th:only-of-type {\n",
       "        vertical-align: middle;\n",
       "    }\n",
       "\n",
       "    .dataframe tbody tr th {\n",
       "        vertical-align: top;\n",
       "    }\n",
       "\n",
       "    .dataframe thead th {\n",
       "        text-align: right;\n",
       "    }\n",
       "</style>\n",
       "<table border=\"1\" class=\"dataframe\">\n",
       "  <thead>\n",
       "    <tr style=\"text-align: right;\">\n",
       "      <th></th>\n",
       "      <th>id</th>\n",
       "      <th>game</th>\n",
       "      <th>name</th>\n",
       "      <th>video_id</th>\n",
       "      <th>checksum</th>\n",
       "    </tr>\n",
       "  </thead>\n",
       "  <tbody>\n",
       "    <tr>\n",
       "      <th>0</th>\n",
       "      <td>8402</td>\n",
       "      <td>18845</td>\n",
       "      <td>Zone D13 Fly Over Trailer</td>\n",
       "      <td>bPFJuANnahE</td>\n",
       "      <td>be0aa110-be58-e009-0cb6-2a3e55cc2a68</td>\n",
       "    </tr>\n",
       "    <tr>\n",
       "      <th>1</th>\n",
       "      <td>10414</td>\n",
       "      <td>18688</td>\n",
       "      <td>Release Trailer</td>\n",
       "      <td>Ky5mScjzYZk</td>\n",
       "      <td>21c8cda7-4b42-bd2d-0053-97f55cefe101</td>\n",
       "    </tr>\n",
       "    <tr>\n",
       "      <th>2</th>\n",
       "      <td>7866</td>\n",
       "      <td>18880</td>\n",
       "      <td>Trailer</td>\n",
       "      <td>qmtaQqgHfuo</td>\n",
       "      <td>ec60aacc-07ab-428c-4404-1817df5ee847</td>\n",
       "    </tr>\n",
       "    <tr>\n",
       "      <th>3</th>\n",
       "      <td>10429</td>\n",
       "      <td>1212</td>\n",
       "      <td>Alvin Battle Trailer</td>\n",
       "      <td>2qvOHnoS8BA</td>\n",
       "      <td>e233c00a-dc60-29c1-b7fd-c333b6600caf</td>\n",
       "    </tr>\n",
       "    <tr>\n",
       "      <th>4</th>\n",
       "      <td>10436</td>\n",
       "      <td>22281</td>\n",
       "      <td>Trailer</td>\n",
       "      <td>d0Dj0rLptQg</td>\n",
       "      <td>f469c14a-fd39-e76e-e6a5-29418a41fb8e</td>\n",
       "    </tr>\n",
       "    <tr>\n",
       "      <th>...</th>\n",
       "      <td>...</td>\n",
       "      <td>...</td>\n",
       "      <td>...</td>\n",
       "      <td>...</td>\n",
       "      <td>...</td>\n",
       "    </tr>\n",
       "    <tr>\n",
       "      <th>495</th>\n",
       "      <td>24741</td>\n",
       "      <td>109460</td>\n",
       "      <td>Trailer</td>\n",
       "      <td>nBqXSBxOH-A</td>\n",
       "      <td>d8bf1e6f-a32c-a0a8-f635-7b0bc571b46d</td>\n",
       "    </tr>\n",
       "    <tr>\n",
       "      <th>496</th>\n",
       "      <td>24748</td>\n",
       "      <td>36950</td>\n",
       "      <td>Trailer</td>\n",
       "      <td>oh2RHMcfHkg</td>\n",
       "      <td>af43eb69-0211-4a38-566f-8617be120604</td>\n",
       "    </tr>\n",
       "    <tr>\n",
       "      <th>497</th>\n",
       "      <td>24742</td>\n",
       "      <td>41061</td>\n",
       "      <td>Trailer</td>\n",
       "      <td>W15GB7M8FUc</td>\n",
       "      <td>5c5cec2c-58f3-405b-83b2-3da0532ad80d</td>\n",
       "    </tr>\n",
       "    <tr>\n",
       "      <th>498</th>\n",
       "      <td>30765</td>\n",
       "      <td>91823</td>\n",
       "      <td>Gameplay video</td>\n",
       "      <td>itKJoAM6Ze4</td>\n",
       "      <td>1e379bc1-2ce6-50c1-26a6-0d7fca08fdc2</td>\n",
       "    </tr>\n",
       "    <tr>\n",
       "      <th>499</th>\n",
       "      <td>18774</td>\n",
       "      <td>21961</td>\n",
       "      <td>Trailer</td>\n",
       "      <td>tjyO0OzaZJA</td>\n",
       "      <td>26bbd08d-1d34-106c-f13d-1b4694890632</td>\n",
       "    </tr>\n",
       "  </tbody>\n",
       "</table>\n",
       "<p>500 rows × 5 columns</p>\n",
       "</div>"
      ],
      "text/plain": [
       "        id    game                       name     video_id  \\\n",
       "0     8402   18845  Zone D13 Fly Over Trailer  bPFJuANnahE   \n",
       "1    10414   18688            Release Trailer  Ky5mScjzYZk   \n",
       "2     7866   18880                    Trailer  qmtaQqgHfuo   \n",
       "3    10429    1212       Alvin Battle Trailer  2qvOHnoS8BA   \n",
       "4    10436   22281                    Trailer  d0Dj0rLptQg   \n",
       "..     ...     ...                        ...          ...   \n",
       "495  24741  109460                    Trailer  nBqXSBxOH-A   \n",
       "496  24748   36950                    Trailer  oh2RHMcfHkg   \n",
       "497  24742   41061                    Trailer  W15GB7M8FUc   \n",
       "498  30765   91823             Gameplay video  itKJoAM6Ze4   \n",
       "499  18774   21961                    Trailer  tjyO0OzaZJA   \n",
       "\n",
       "                                 checksum  \n",
       "0    be0aa110-be58-e009-0cb6-2a3e55cc2a68  \n",
       "1    21c8cda7-4b42-bd2d-0053-97f55cefe101  \n",
       "2    ec60aacc-07ab-428c-4404-1817df5ee847  \n",
       "3    e233c00a-dc60-29c1-b7fd-c333b6600caf  \n",
       "4    f469c14a-fd39-e76e-e6a5-29418a41fb8e  \n",
       "..                                    ...  \n",
       "495  d8bf1e6f-a32c-a0a8-f635-7b0bc571b46d  \n",
       "496  af43eb69-0211-4a38-566f-8617be120604  \n",
       "497  5c5cec2c-58f3-405b-83b2-3da0532ad80d  \n",
       "498  1e379bc1-2ce6-50c1-26a6-0d7fca08fdc2  \n",
       "499  26bbd08d-1d34-106c-f13d-1b4694890632  \n",
       "\n",
       "[500 rows x 5 columns]"
      ]
     },
     "execution_count": 23,
     "metadata": {},
     "output_type": "execute_result"
    }
   ],
   "source": [
    "# Récupération des game_videos\n",
    "\n",
    "\n",
    "headers_game = {\n",
    "    'Client-ID': client_id_igdb,\n",
    "    'Authorization': f'Bearer {access_token}',\n",
    "}\n",
    "\n",
    "response = post('https://api.igdb.com/v4/game_videos/', headers=headers_game , data=f'fields checksum,game,name,video_id; limit 500;')\n",
    "# Vérification de la réponse\n",
    "if response.status_code == 200:\n",
    "    # On transforme la réponse en JSON\n",
    "    response_json = response.json()\n",
    "    # On transforme le JSON en DataFrame\n",
    "    df_game_video = pd.DataFrame(response_json)\n",
    "else:\n",
    "    print(\"Error fetching data from the API\")\n",
    "    print(\"Status code:\", response.status_code)\n",
    "    \n",
    "df_game_video"
   ]
  },
  {
   "cell_type": "code",
   "execution_count": 32,
   "id": "06051827",
   "metadata": {},
   "outputs": [],
   "source": [
    "def get_all_games_videos():\n",
    "    get_all_games_video = []\n",
    "    offset = 0\n",
    "    limit = 500  # Maximum limit for IGDB API\n",
    "\n",
    "    while True:\n",
    "        response = post('https://api.igdb.com/v4/game_videos/', headers=headers , data=f'fields checksum,game,name,video_id; limit {limit}; offset {offset};')\n",
    "        \n",
    "        if response.status_code == 200:\n",
    "            response_json = response.json()\n",
    "            if not response_json:  # If no more data, break the loop\n",
    "                break\n",
    "            get_all_games_video.extend(response_json)\n",
    "            offset += limit\n",
    "        else:\n",
    "            print(\"Error fetching data from the API\")\n",
    "            print(\"Status code:\", response.status_code)\n",
    "            break\n",
    "\n",
    "    return pd.DataFrame(get_all_games_video)"
   ]
  },
  {
   "cell_type": "code",
   "execution_count": 33,
   "id": "d1c09c1a",
   "metadata": {},
   "outputs": [],
   "source": [
    "df_game_video = get_all_games_videos()"
   ]
  },
  {
   "cell_type": "code",
   "execution_count": null,
   "id": "7ee1740f",
   "metadata": {},
   "outputs": [],
   "source": [
    "# Exporter le DataFrame en CSV\n",
    "df_game_video.to_csv(\"../data-game/csv\", index=False)"
   ]
  },
  {
   "cell_type": "markdown",
   "id": "2188268b",
   "metadata": {},
   "source": [
    "COMPANY"
   ]
  },
  {
   "cell_type": "code",
   "execution_count": null,
   "id": "125f6ce4",
   "metadata": {},
   "outputs": [
    {
     "name": "stdout",
     "output_type": "stream",
     "text": [
      "{'count': 60861}\n"
     ]
    }
   ],
   "source": [
    "# Récuperer le nombres compagnies\n",
    "url_igdb_engines_count = \"https://api.igdb.com/v4/companies/count\"\n",
    "\n",
    "headers = {\n",
    "    'Client-ID': client_id_igdb,   \n",
    "    'Authorization': f'Bearer {access_token}',\n",
    "    }\n",
    "\n",
    "response = post(url_igdb_engines_count, headers=headers, data='fields *;')\n",
    "print(response.json())"
   ]
  },
  {
   "cell_type": "code",
   "execution_count": 7,
   "id": "fd1d147b",
   "metadata": {},
   "outputs": [
    {
     "data": {
      "application/vnd.microsoft.datawrangler.viewer.v0+json": {
       "columns": [
        {
         "name": "index",
         "rawType": "int64",
         "type": "integer"
        },
        {
         "name": "id",
         "rawType": "int64",
         "type": "integer"
        },
        {
         "name": "country",
         "rawType": "float64",
         "type": "float"
        },
        {
         "name": "description",
         "rawType": "object",
         "type": "unknown"
        },
        {
         "name": "developed",
         "rawType": "object",
         "type": "unknown"
        },
        {
         "name": "name",
         "rawType": "object",
         "type": "string"
        },
        {
         "name": "slug",
         "rawType": "object",
         "type": "string"
        },
        {
         "name": "start_date",
         "rawType": "float64",
         "type": "float"
        },
        {
         "name": "websites",
         "rawType": "object",
         "type": "unknown"
        },
        {
         "name": "status",
         "rawType": "int64",
         "type": "integer"
        },
        {
         "name": "logo",
         "rawType": "float64",
         "type": "float"
        },
        {
         "name": "published",
         "rawType": "object",
         "type": "unknown"
        },
        {
         "name": "parent",
         "rawType": "float64",
         "type": "float"
        },
        {
         "name": "changed_company_id",
         "rawType": "float64",
         "type": "float"
        }
       ],
       "ref": "adf0d29d-0103-4ee3-9375-878614d5f612",
       "rows": [
        [
         "0",
         "61668",
         "840.0",
         "CyrustheVirus Studios was established by Sheldon Slater, also known as CyrustheVirus001, in 2019. Serving as the sole developer, programmer, animator, artist, and composer for the project Cold Lazarus.",
         "[289276]",
         "CyrusTheVirus Studios",
         "cyrusthevirus-studios",
         "1548979200.0",
         "[13818]",
         "0",
         null,
         null,
         null,
         null
        ],
        [
         "1",
         "30720",
         "203.0",
         "300AD is an independent company associating developers and distributors of games, which has been in the business for more than 6 years. \n \nThe success of our games consists in the design purity, simplicity and maximum playability, which brings our players lots of fun. We do not compete with large companies which produce games for hard-core players only. On the contrary, we aim to do games which can be played by children, their parents and possibly any people who want to take a rest from their busy lives for a while.",
         "[80245, 52452, 144481, 142326, 142325, 144511, 141970]",
         "300AD",
         "300ad",
         null,
         "[4031]",
         "0",
         "3995.0",
         null,
         null,
         null
        ],
        [
         "2",
         "540",
         "276.0",
         "10TACLE STUDIOS was specialized in the development of games that brought a significant added value to the field of game design.",
         "[92755]",
         "10tacle Studios",
         "10tacle-studios",
         "1072828800.0",
         null,
         "1",
         "1902.0",
         "[736, 738, 11286, 15762, 27466, 125168, 21516, 79753]",
         null,
         null
        ],
        [
         "3",
         "64121",
         "156.0",
         "Sunborn Network Technology (formerly LBX Network Technology) is the legal representative video game company front of MICA Team - a Chinese independent video game developer. Both companies were founded by Yuzhong and owned by him, with him being the president of both. Due to Sunborn's status as a private, limited company, the only outside coroporation with investments into it is Tencent, which acquired a 20% shares of Sunborn through a tactical investment in 2021. Yuzhong owns 70% equity, directly in shares and indirectly through his self-founded private equity firms, which he uses to reinvest his CEO salary. The other 10% is owned by numerous other employees of Sunborn.[2]\n\nWhile many see Sunborn as a legal shell for MICA Team, they are officially still stated to be two separate entities, and often appear side by side during conferences and conventions.",
         null,
         "Sunborn Network Technology",
         "sunborn-network-technology",
         "1445731200.0",
         "[14834]",
         "0",
         "18002.0",
         null,
         "17151.0",
         null
        ],
        [
         "4",
         "62963",
         "76.0",
         null,
         "[339674]",
         "NoShadow",
         "noshadow",
         "1630454400.0",
         null,
         "0",
         null,
         "[339674]",
         null,
         null
        ],
        [
         "5",
         "61769",
         "724.0",
         null,
         "[332279]",
         "Mideas Game Studio",
         "mideas-game-studio",
         null,
         "[13820]",
         "0",
         "16685.0",
         "[332279]",
         null,
         null
        ],
        [
         "6",
         "61767",
         null,
         null,
         "[332276]",
         "Zeta Zash",
         "zeta-zash",
         null,
         null,
         "0",
         null,
         "[332276]",
         null,
         null
        ],
        [
         "7",
         "61768",
         null,
         null,
         "[332278]",
         "emokoshka",
         "emokoshka",
         null,
         "[13829]",
         "0",
         null,
         "[332278]",
         null,
         null
        ],
        [
         "8",
         "61715",
         null,
         null,
         "[332147]",
         "FATHILLL GAMES",
         "fathilll-games",
         null,
         "[14395]",
         "0",
         "16651.0",
         "[332147]",
         null,
         null
        ],
        [
         "9",
         "20721",
         "203.0",
         null,
         "[120243, 134708]",
         "Gamajun Games",
         "gamajun-games",
         null,
         null,
         "0",
         null,
         null,
         null,
         null
        ],
        [
         "10",
         "61717",
         "250.0",
         "Exanticx Studio est un studio de jeux vidéo français et leur premier jeux est \"Better Mart\"",
         "[332148]",
         "Exanticx Studio",
         "exanticx-studio",
         "1735603200.0",
         "[13811]",
         "0",
         null,
         "[332148]",
         null,
         null
        ],
        [
         "11",
         "62277",
         null,
         null,
         null,
         "Avesoft",
         "avesoft",
         null,
         null,
         "0",
         null,
         "[335115]",
         null,
         null
        ],
        [
         "12",
         "62964",
         null,
         "Established in 2023, our team comprises seasoned industry veterans who embarked on a mission to construct the ultimate UGC online open world for exploration and creativity.\n\nWith decades of expertise in shipping some incredible multiplayer experiences and platforms, we have previously contributed to some of the most renowned and successful game titles. We meticulously assembled our team to craft something truly extraordinary.\n\nOur work environment mirrors the ethos of old-school game developers, fostering a collaborative atmosphere where everyone can make meaningful contributions at various levels.\n\nWe have garnered support from exceptional venture capitalists from around the globe, and we are determined to deliver an experience that we believe will make a significant impact on the gaming industry.",
         "[339675]",
         "Onibi",
         "onibi",
         "1703980800.0",
         "[14309]",
         "0",
         "17364.0",
         "[339675]",
         null,
         null
        ],
        [
         "13",
         "61716",
         null,
         null,
         "[248085]",
         "Castle of Blackwater",
         "castle-of-blackwater",
         null,
         null,
         "0",
         "18527.0",
         null,
         null,
         null
        ],
        [
         "14",
         "61770",
         null,
         "Large Battleship Studios is the creation of Saint Bomber, writer of heartfelt, romantic, comedic, thoughtful and deeply enthralling yuri (gxg) games, and their muses. Together, the Battleship has been producing free yuri games and demos in the RPG Maker engine for over a decade.",
         "[314740, 332277, 66174]",
         "Large Battleship Studios",
         "large-battleship-studios",
         null,
         "[14430]",
         "0",
         null,
         "[314740, 332277, 66174]",
         null,
         null
        ],
        [
         "15",
         "64081",
         null,
         null,
         "[345427]",
         "Non Fiction Games",
         "non-fiction-games",
         null,
         null,
         "0",
         null,
         "[345427]",
         null,
         null
        ],
        [
         "16",
         "223",
         "840.0",
         "Edge of Reality is an American video game developer founded in 1998 and based in Austin, Texas that has developed video games for the Nintendo 64, Nintendo GameCube, PlayStation 2 and Xbox game consoles. It also has games in development for PlayStation 3 and Xbox 360 games consoles. Edge of Reality is an independent developer and therefore can work with any publisher and for any system. The company has two development teams, one of which works on licenses and established franchises, and the other works on completely original games. The company only develops two games at a time, one with each studio, feeling that \"anything more than that would jeopardize our focus, and therefore the quality of our studio\"\n\nEdge of Reality was founded in 1998 by Rob Cohen, the lead programmer of Turok: Dinosaur Hunter at Iguana Entertainment and Mike Panoff from Paradigm Entertainment. The company started by developing Nintendo 64 ports of successful games on other systems, including the Tony Hawk's Pro Skater series. Following the stability provided by the success of the ports, the company then branched out into developing its own original games on multiple platforms, including Pitfall: The Lost Expedition and Loadout.",
         "[4059, 4070, 3224, 10615, 4928, 243200, 4148, 224864]",
         "Edge of Reality",
         "edge-of-reality",
         "915062400.0",
         "[1004]",
         "0",
         "968.0",
         "[16583, 3224, 192904]",
         null,
         null
        ],
        [
         "17",
         "42721",
         "528.0",
         "We Challenge, Enchant and evoke Wonder",
         "[213574]",
         "Enchanted Works",
         "enchanted-works",
         "1650153600.0",
         "[5995]",
         "0",
         "6280.0",
         "[213574]",
         null,
         null
        ],
        [
         "18",
         "444",
         "124.0",
         "Radical Entertainment Inc. is a Canadian video game developer based in Vancouver. The studio is best known for developing The Simpsons: Hit & Run (2003), Scarface: The World Is Yours (2006), Prototype (2009) and Prototype 2 (2012), as well as entries in the Crash Bandicoot franchise.\n\nRadical Entertainment was founded in September 1991 by Rory Armes, Dave Davis, and Ian Wilkinson. It was acquired by Vivendi Games in 2005 and transferred to Activision in 2008. The studio faced significant layoffs in 2010 and 2012, with the latter causing it to cease development of original games and only support other Activision studios.",
         "[3869, 3949, 3954, 2844, 5139, 5868, 210116, 8940, 19789, 46231, 4020, 18943, 45122, 20738, 2842, 210224, 96395, 78098, 42246, 42468, 570, 2988, 1191, 1190, 7777, 4200, 231383, 42471, 248550, 1194, 265001, 264999, 265002, 279999, 43858, 19611, 42626, 49960]",
         "Radical Entertainment",
         "radical-entertainment",
         "683683200.0",
         "[506]",
         "0",
         "387.0",
         "[42246]",
         "66.0",
         null
        ],
        [
         "19",
         "815",
         "840.0",
         "Was a subsidiary of Vivendi, then Vivendi Universal. Ultimately succeeded by Activision Blizzard through mergers.",
         "[209062, 209843]",
         "Vivendi Universal Games",
         "vivendi-universal-games",
         "1009756800.0",
         null,
         "3",
         null,
         "[3837, 24096, 1196, 1580, 5821, 5816, 5986, 3803, 5140, 29112, 25067, 3949, 98251, 2844, 131256, 1590, 144422, 1199, 49893, 23122, 1189, 210234, 517, 202149, 518, 43672, 45170, 248681, 60447, 3311, 57592, 209062, 43884, 67729, 6226, 248620, 59942, 71927, 3314, 71080, 200601, 5904, 23781, 200594, 72386, 23749, 200593, 45172, 209843, 81729, 209168, 1193, 321686]",
         null,
         "80.0"
        ],
        [
         "20",
         "2330",
         "392.0",
         "Machatin is a Japanese game developer known for the Spella and We Cheer series. Lately they tackle the mobile market with Damaged Hero -Kamen no Yusha-.",
         "[5263, 5264]",
         "Machatin",
         "machatin",
         "974419200.0",
         "[10420]",
         "0",
         "12386.0",
         null,
         null,
         null
        ],
        [
         "21",
         "13330",
         null,
         null,
         "[55045]",
         "Those Coded Lunatics",
         "those-coded-lunatics",
         null,
         null,
         "0",
         null,
         null,
         null,
         null
        ],
        [
         "22",
         "32330",
         null,
         null,
         "[144268]",
         "Castle Clique",
         "castle-clique",
         null,
         null,
         "0",
         null,
         "[144268]",
         null,
         null
        ],
        [
         "23",
         "41330",
         "840.0",
         "A game modder/hacker and sprite editor who’s made a few hacks within the SNES trilogy of the Mega Man X series games, along with a few other projects other than from the X series.",
         "[201859, 219083, 219082]",
         "XStuff",
         "xstuff",
         "1350604800.0",
         "[5364]",
         "0",
         "5482.0",
         "[201859]",
         null,
         null
        ],
        [
         "24",
         "64123",
         null,
         "Making pixel art and games.",
         "[345611]",
         "Badcomputer",
         "badcomputer",
         null,
         "[14844]",
         "0",
         "18003.0",
         "[345611]",
         null,
         null
        ],
        [
         "25",
         "62278",
         "392.0",
         null,
         null,
         "Littlewitch Velvet",
         "littlewitch-velvet",
         null,
         "[14071]",
         "0",
         null,
         null,
         "5835.0",
         null
        ],
        [
         "26",
         "62965",
         null,
         null,
         "[339677]",
         "Sunburst Communications",
         "sunburst-communications",
         null,
         null,
         "0",
         null,
         "[339677]",
         null,
         null
        ],
        [
         "27",
         "64083",
         "634.0",
         "We are indie game studio crafting games with strange ideas, bold mechanics, and art styles that don’t follow the rules. Our games are challenging—sometimes brutally—but always rewarding. We mix genres, break patterns, and experiment with gameplay that keeps you guessing… and coming back for more.\nStay tuned. It’s only getting weirder from here.\nRemember: Voices in Your Head; Gamified",
         "[345432]",
         "LampDog Studio",
         "lampdog-studio",
         null,
         "[14815]",
         "0",
         null,
         "[345432]",
         null,
         null
        ],
        [
         "28",
         "64082",
         "124.0",
         "Games by Rebecca Smit & Eli Wallis",
         "[345587]",
         "Soft Boil Games",
         "soft-boil-games",
         "1703203200.0",
         "[14828]",
         "0",
         "17977.0",
         "[345587]",
         null,
         null
        ],
        [
         "29",
         "1941",
         null,
         null,
         null,
         "Universal Pictures",
         "universal-pictures",
         null,
         null,
         "0",
         null,
         "[54996, 3867, 138196, 315962]",
         null,
         null
        ],
        [
         "30",
         "25265",
         "840.0",
         "Shiver Entertainment, Inc. is a Miami, Florida based game development studio. They are primarily known for developing entries for WB Games. Some games they developed include Scribblenauts Showdown, and the Switch ports of Hogwarts Legacy and Mortal Kombat 1.\n\nIn December 21st, 2021 they had been acquired by Saber Interactive, Inc., a subdivision of Embracer Group.\n\nIn May 20th, 2024 Nintendo Co., Ltd. announced the acquisition of 100% of the outstanding shares of Shiver Entertainment from Embracer Group.",
         "[104660, 78754]",
         "Shiver Entertainment",
         "shiver-entertainment",
         "1355184000.0",
         "[10951]",
         "0",
         "13091.0",
         "[5033]",
         "70.0",
         null
        ],
        [
         "31",
         "3928",
         "156.0",
         "Ubisoft Chengdu was founded in 2008 in Chengdu, as Ubisoft's second studio in China. The studio also served as a support studio, working on games such as Scott Pilgrim vs. the World: The Game, and provided Chinese localisation services for games like Might & Magic: Duel of Champions. Ubisoft Chengdu led the development of Monkey King Escape, a mobile title, and casual games Scrabble (2013), Uno (2017) and Wheel of Fortune. The studio has over 420 employees.",
         "[138765, 165490, 165492, 22739, 176112, 91261, 201254, 143286, 7448, 119255]",
         "Ubisoft Chengdu",
         "ubisoft-chengdu",
         "1230681600.0",
         "[420]",
         "0",
         "5977.0",
         null,
         "104.0",
         null
        ],
        [
         "32",
         "19",
         "250.0",
         "Founded in 1999, Arkane Studios has grown to become one of the most renowned and critically acclaimed development teams in the video game industry. With teams located in Lyon, France, and Austin, Texas, Arkane has earned a reputation for creating games with unique style, immersive action, and a hand-crafted approach. The studio’s titles, which include Dishonored, Dishonored 2, and Prey, have won hundreds of prestigious accolades around the globe, including several \"Game of the Year\" awards.",
         "[533, 11118, 51690, 19531, 52899, 103306, 103300, 14569, 14568, 78210, 37030, 2369, 117748, 14571, 113598, 139569, 14572, 136269, 141033, 20863, 237522, 279646, 255606, 136124, 103302, 281406, 308562, 602]",
         "Arkane Studios",
         "arkane-studios",
         "922838400.0",
         "[326]",
         "0",
         "7885.0",
         "[602]",
         "245.0",
         null
        ],
        [
         "33",
         "14046",
         "752.0",
         "Formerly known as ESN. \nAcquired by Electronic Arts on June 1st, 2012 and renamed quietly at some point after that. \n \n\"We are Uprise. An EA studio located in Sweden.\" \n\"We create companion and online experiences for games.\" \n \nResponsible for Battlelog, and later Battlefield Companion, in the Battlefield games. It uses their original network framework, Planet. \n\"Battlelog is the social layer of Battlefield. Launched back in 2012, Battlelog spans over desktop, mobile, tablet and game.\"",
         null,
         "Uprise",
         "uprise",
         "1338508800.0",
         "[1152]",
         "0",
         "1606.0",
         null,
         "1.0",
         null
        ],
        [
         "34",
         "64084",
         null,
         "A competitive game publishing platform to help developers in india and southeast asia to publish their games, and compete with the global incumbents.",
         "[101659]",
         "Jambox games",
         "jambox-games",
         null,
         "[14840]",
         "0",
         "17978.0",
         "[101659]",
         null,
         null
        ],
        [
         "35",
         "15790",
         "124.0",
         "Ubisoft Québec studio stands out among the video game industry leaders. Through the years, the studio has managed to achieve cutting-edge expertise, positioning itself in the development of major AAA games. It is especially involved on the Assassin's Creed franchise since 2010 and also served as the lead developer for Assassin's Creed Odyssey and Immortals Fenyx Rising.",
         "[15169, 909, 5315, 109432, 18146, 7908, 5034, 7906, 7907, 109423, 6752, 3302, 8263, 7909, 1852, 103054, 139859, 139850, 142710, 142709, 142848, 154791, 134215, 119357, 201349, 52626, 23648, 229492, 230499, 41612, 135965, 228704, 4191, 109437, 4055, 27567, 24811, 241432, 251379, 301518, 301432, 300976, 3775, 124163, 113098, 112732, 241431, 325330, 66364, 47962, 109463, 144580, 166312, 144579, 327929, 327927, 66885, 85046, 1890]",
         "Ubisoft Québec",
         "ubisoft-quebec--1",
         "1135987200.0",
         "[3614]",
         "0",
         "5991.0",
         "[229538, 228704, 297132]",
         "104.0",
         null
        ],
        [
         "36",
         "221",
         "826.0",
         null,
         "[502, 2987, 680, 28991, 28990, 103291, 1902, 281, 135825, 228536]",
         "Splash Damage",
         "splash-damage",
         "988675200.0",
         "[75]",
         "0",
         "304.0",
         "[228536]",
         null,
         null
        ],
        [
         "37",
         "60330",
         "840.0",
         null,
         "[325286]",
         "Keycard Studio",
         "keycard-studio",
         "1720483200.0",
         null,
         "0",
         "15930.0",
         "[325286]",
         null,
         null
        ],
        [
         "38",
         "398",
         "156.0",
         "Ubisoft Shanghai was founded in 1996 in Shanghai, and has become one of China's largest development studios. The studio has worked as the support team for many of Ubisoft's projects, such as the Far Cry franchise, working on wildlife animation and artificial intelligence.",
         "[1966, 1300, 7469, 7468, 9891, 23213, 507, 86216, 23117, 63272, 10610, 874, 100002, 47449, 193315, 182225, 165421, 165422, 165424, 25293, 53001, 165426, 9202, 250329, 250330, 3495, 163874, 21726, 134396, 216318, 5006, 307566, 4767, 37067, 344452]",
         "Ubisoft Shanghai",
         "ubisoft-shanghai",
         "851990400.0",
         "[1188]",
         "0",
         "5562.0",
         "[134396, 53944]",
         "104.0",
         null
        ],
        [
         "39",
         "1309",
         "840.0",
         "Be it brand new worlds or beloved franchises, we aim for experiences that resonate and brim with the passion that comes from games made for the player. From rich, open worlds to compelling stories, immersion is at the forefront of our efforts.",
         "[3567, 2792, 2793, 2779, 3006, 4747, 5240, 143442, 1610, 30979, 28075, 20627, 4121, 1621, 50611, 11083, 5714, 136625, 47764, 3896, 3583, 200417, 4723, 210254, 210255, 2780, 254933, 214440, 2778, 248449, 248516, 3884, 240940, 241155, 237565, 263922, 300594, 2926, 304809]",
         "Avalanche Software",
         "avalanche-software",
         "812505600.0",
         "[6040]",
         "0",
         "6345.0",
         "[17818, 241155]",
         "50.0",
         null
        ],
        [
         "40",
         "64125",
         null,
         null,
         "[345616]",
         "Kylespark",
         "kylespark",
         null,
         null,
         "0",
         "18005.0",
         null,
         null,
         null
        ],
        [
         "41",
         "2921",
         "804.0",
         "Ubisoft Kyiv was founded in 2008 in Kyiv, Ukraine, originally as Ubisoft Kiev. The studio's focus is to port Ubisoft games to personal computers (PCs), and the studio has also worked on titles such as Tom Clancy's Ghost Recon Future Soldier and Watch Dogs 2. Ubisoft Kyiv partnered with Massive Entertainment on Uplay and frequently worked with RedLynx on Trials games. In 2016, the studio launched a quality control department for PC ports. Recently, Ubisoft Kyiv has worked closely with Ubisoft Quebec on Assassin's Creed Odyssey's PC version, and with RedLynx on Trials Rising. In December 2019, Ubisoft Kiev was rebranded as Ubisoft Kyiv to adopt the Ukrainian spelling of the city's name.",
         "[19553, 114045, 25367, 24743]",
         "Ubisoft Kyiv",
         "ubisoft-kyiv",
         "1230681600.0",
         "[4280]",
         "0",
         "5978.0",
         null,
         "104.0",
         null
        ],
        [
         "42",
         "28639",
         "826.0",
         "The Wizarding World (previously known as J. K. Rowling's Wizarding World) is a fantasy media franchise and shared fictional universe centred on a series of films, based on the Harry Potter/Fantastic Beasts novel series by J. K. Rowling.",
         null,
         "Wizarding World",
         "wizarding-world",
         "1009756800.0",
         "[5018]",
         "0",
         "5112.0",
         null,
         "20400.0",
         null
        ],
        [
         "43",
         "56302",
         null,
         null,
         "[133368]",
         "Arokma Studio",
         "arokma-studio",
         null,
         null,
         "0",
         "13901.0",
         "[133368]",
         null,
         null
        ],
        [
         "44",
         "57302",
         "616.0",
         "Develops mobile games.",
         null,
         "Imaginalis Games",
         "imaginalis-games",
         "1356912000.0",
         "[12291]",
         "0",
         "14417.0",
         null,
         "9005.0",
         null
        ],
        [
         "45",
         "61302",
         "276.0",
         null,
         "[330261]",
         "GFZ-Games",
         "gfz-games",
         "1735689600.0",
         "[13691]",
         "0",
         null,
         "[330261]",
         null,
         null
        ],
        [
         "46",
         "49302",
         "840.0",
         null,
         "[263920]",
         "perplex.gg",
         "perplex-dot-gg",
         "1651190400.0",
         "[8773]",
         "0",
         null,
         "[263920]",
         null,
         null
        ],
        [
         "47",
         "20302",
         null,
         null,
         "[117856]",
         "Blue Pulsar Games",
         "blue-pulsar-games",
         null,
         null,
         "0",
         null,
         "[117856]",
         null,
         null
        ],
        [
         "48",
         "43804",
         null,
         null,
         "[209653]",
         "Artifact",
         "artifact",
         null,
         null,
         "0",
         null,
         "[209653]",
         null,
         null
        ],
        [
         "49",
         "58302",
         null,
         "Everyone loves the sweetness of sugar. As the name 'Sugarfun' suggests, we are a company that wants to provide users with the sweetness of sugar and fun. Sugarfun's main business is global publishing of mobile games. We are always trying to find games that are more suitable for the times and for young people.\n\nSugarfun Game is an Android game developer that has been active since 2023. The current app portfolio contains 2 games, all of which are listed in the category \"Role Playing\". Two of the most important apps from Sugarfun Game are Draconia Saga and 아카디아M. Both of them are highly ranked on Google Play and have been installed more than 100 thousand times.",
         "[309216]",
         "Sugarfun Game",
         "sugarfun-game",
         null,
         "[12409]",
         "0",
         "14873.0",
         null,
         null,
         null
        ]
       ],
       "shape": {
        "columns": 13,
        "rows": 500
       }
      },
      "text/html": [
       "<div>\n",
       "<style scoped>\n",
       "    .dataframe tbody tr th:only-of-type {\n",
       "        vertical-align: middle;\n",
       "    }\n",
       "\n",
       "    .dataframe tbody tr th {\n",
       "        vertical-align: top;\n",
       "    }\n",
       "\n",
       "    .dataframe thead th {\n",
       "        text-align: right;\n",
       "    }\n",
       "</style>\n",
       "<table border=\"1\" class=\"dataframe\">\n",
       "  <thead>\n",
       "    <tr style=\"text-align: right;\">\n",
       "      <th></th>\n",
       "      <th>id</th>\n",
       "      <th>country</th>\n",
       "      <th>description</th>\n",
       "      <th>developed</th>\n",
       "      <th>name</th>\n",
       "      <th>slug</th>\n",
       "      <th>start_date</th>\n",
       "      <th>websites</th>\n",
       "      <th>status</th>\n",
       "      <th>logo</th>\n",
       "      <th>published</th>\n",
       "      <th>parent</th>\n",
       "      <th>changed_company_id</th>\n",
       "    </tr>\n",
       "  </thead>\n",
       "  <tbody>\n",
       "    <tr>\n",
       "      <th>0</th>\n",
       "      <td>61668</td>\n",
       "      <td>840.0</td>\n",
       "      <td>CyrustheVirus Studios was established by Sheld...</td>\n",
       "      <td>[289276]</td>\n",
       "      <td>CyrusTheVirus Studios</td>\n",
       "      <td>cyrusthevirus-studios</td>\n",
       "      <td>1.548979e+09</td>\n",
       "      <td>[13818]</td>\n",
       "      <td>0</td>\n",
       "      <td>NaN</td>\n",
       "      <td>NaN</td>\n",
       "      <td>NaN</td>\n",
       "      <td>NaN</td>\n",
       "    </tr>\n",
       "    <tr>\n",
       "      <th>1</th>\n",
       "      <td>30720</td>\n",
       "      <td>203.0</td>\n",
       "      <td>300AD is an independent company associating de...</td>\n",
       "      <td>[80245, 52452, 144481, 142326, 142325, 144511,...</td>\n",
       "      <td>300AD</td>\n",
       "      <td>300ad</td>\n",
       "      <td>NaN</td>\n",
       "      <td>[4031]</td>\n",
       "      <td>0</td>\n",
       "      <td>3995.0</td>\n",
       "      <td>NaN</td>\n",
       "      <td>NaN</td>\n",
       "      <td>NaN</td>\n",
       "    </tr>\n",
       "    <tr>\n",
       "      <th>2</th>\n",
       "      <td>540</td>\n",
       "      <td>276.0</td>\n",
       "      <td>10TACLE STUDIOS was specialized in the develop...</td>\n",
       "      <td>[92755]</td>\n",
       "      <td>10tacle Studios</td>\n",
       "      <td>10tacle-studios</td>\n",
       "      <td>1.072829e+09</td>\n",
       "      <td>NaN</td>\n",
       "      <td>1</td>\n",
       "      <td>1902.0</td>\n",
       "      <td>[736, 738, 11286, 15762, 27466, 125168, 21516,...</td>\n",
       "      <td>NaN</td>\n",
       "      <td>NaN</td>\n",
       "    </tr>\n",
       "    <tr>\n",
       "      <th>3</th>\n",
       "      <td>64121</td>\n",
       "      <td>156.0</td>\n",
       "      <td>Sunborn Network Technology (formerly LBX Netwo...</td>\n",
       "      <td>NaN</td>\n",
       "      <td>Sunborn Network Technology</td>\n",
       "      <td>sunborn-network-technology</td>\n",
       "      <td>1.445731e+09</td>\n",
       "      <td>[14834]</td>\n",
       "      <td>0</td>\n",
       "      <td>18002.0</td>\n",
       "      <td>NaN</td>\n",
       "      <td>17151.0</td>\n",
       "      <td>NaN</td>\n",
       "    </tr>\n",
       "    <tr>\n",
       "      <th>4</th>\n",
       "      <td>62963</td>\n",
       "      <td>76.0</td>\n",
       "      <td>NaN</td>\n",
       "      <td>[339674]</td>\n",
       "      <td>NoShadow</td>\n",
       "      <td>noshadow</td>\n",
       "      <td>1.630454e+09</td>\n",
       "      <td>NaN</td>\n",
       "      <td>0</td>\n",
       "      <td>NaN</td>\n",
       "      <td>[339674]</td>\n",
       "      <td>NaN</td>\n",
       "      <td>NaN</td>\n",
       "    </tr>\n",
       "    <tr>\n",
       "      <th>...</th>\n",
       "      <td>...</td>\n",
       "      <td>...</td>\n",
       "      <td>...</td>\n",
       "      <td>...</td>\n",
       "      <td>...</td>\n",
       "      <td>...</td>\n",
       "      <td>...</td>\n",
       "      <td>...</td>\n",
       "      <td>...</td>\n",
       "      <td>...</td>\n",
       "      <td>...</td>\n",
       "      <td>...</td>\n",
       "      <td>...</td>\n",
       "    </tr>\n",
       "    <tr>\n",
       "      <th>495</th>\n",
       "      <td>57747</td>\n",
       "      <td>NaN</td>\n",
       "      <td>We are a small group of developers who spend c...</td>\n",
       "      <td>[264939, 264938]</td>\n",
       "      <td>FSDesigns</td>\n",
       "      <td>fsdesigns</td>\n",
       "      <td>NaN</td>\n",
       "      <td>[12429]</td>\n",
       "      <td>0</td>\n",
       "      <td>14669.0</td>\n",
       "      <td>NaN</td>\n",
       "      <td>NaN</td>\n",
       "      <td>NaN</td>\n",
       "    </tr>\n",
       "    <tr>\n",
       "      <th>496</th>\n",
       "      <td>64164</td>\n",
       "      <td>NaN</td>\n",
       "      <td>NaN</td>\n",
       "      <td>[338688]</td>\n",
       "      <td>Overscoped Games</td>\n",
       "      <td>overscoped-games</td>\n",
       "      <td>NaN</td>\n",
       "      <td>[14883]</td>\n",
       "      <td>0</td>\n",
       "      <td>NaN</td>\n",
       "      <td>NaN</td>\n",
       "      <td>NaN</td>\n",
       "      <td>NaN</td>\n",
       "    </tr>\n",
       "    <tr>\n",
       "      <th>497</th>\n",
       "      <td>8224</td>\n",
       "      <td>276.0</td>\n",
       "      <td>Aerosoft - The Simulation Company \\n\"Offering ...</td>\n",
       "      <td>[16945, 161797, 53362, 161850, 161861, 161853,...</td>\n",
       "      <td>Aerosoft GmbH</td>\n",
       "      <td>aerosoft-gmbh</td>\n",
       "      <td>NaN</td>\n",
       "      <td>[1768]</td>\n",
       "      <td>0</td>\n",
       "      <td>1965.0</td>\n",
       "      <td>[22438, 36304, 32829, 67299, 33738, 10594, 111...</td>\n",
       "      <td>NaN</td>\n",
       "      <td>NaN</td>\n",
       "    </tr>\n",
       "    <tr>\n",
       "      <th>498</th>\n",
       "      <td>62301</td>\n",
       "      <td>NaN</td>\n",
       "      <td>NaN</td>\n",
       "      <td>[334737]</td>\n",
       "      <td>FrogJB</td>\n",
       "      <td>frogjb</td>\n",
       "      <td>NaN</td>\n",
       "      <td>NaN</td>\n",
       "      <td>0</td>\n",
       "      <td>NaN</td>\n",
       "      <td>[334737]</td>\n",
       "      <td>NaN</td>\n",
       "      <td>NaN</td>\n",
       "    </tr>\n",
       "    <tr>\n",
       "      <th>499</th>\n",
       "      <td>63004</td>\n",
       "      <td>NaN</td>\n",
       "      <td>NaN</td>\n",
       "      <td>[301978, 342771]</td>\n",
       "      <td>Worst Event</td>\n",
       "      <td>worst-event</td>\n",
       "      <td>NaN</td>\n",
       "      <td>[14350]</td>\n",
       "      <td>0</td>\n",
       "      <td>17382.0</td>\n",
       "      <td>[342771]</td>\n",
       "      <td>NaN</td>\n",
       "      <td>NaN</td>\n",
       "    </tr>\n",
       "  </tbody>\n",
       "</table>\n",
       "<p>500 rows × 13 columns</p>\n",
       "</div>"
      ],
      "text/plain": [
       "        id  country                                        description  \\\n",
       "0    61668    840.0  CyrustheVirus Studios was established by Sheld...   \n",
       "1    30720    203.0  300AD is an independent company associating de...   \n",
       "2      540    276.0  10TACLE STUDIOS was specialized in the develop...   \n",
       "3    64121    156.0  Sunborn Network Technology (formerly LBX Netwo...   \n",
       "4    62963     76.0                                                NaN   \n",
       "..     ...      ...                                                ...   \n",
       "495  57747      NaN  We are a small group of developers who spend c...   \n",
       "496  64164      NaN                                                NaN   \n",
       "497   8224    276.0  Aerosoft - The Simulation Company \\n\"Offering ...   \n",
       "498  62301      NaN                                                NaN   \n",
       "499  63004      NaN                                                NaN   \n",
       "\n",
       "                                             developed  \\\n",
       "0                                             [289276]   \n",
       "1    [80245, 52452, 144481, 142326, 142325, 144511,...   \n",
       "2                                              [92755]   \n",
       "3                                                  NaN   \n",
       "4                                             [339674]   \n",
       "..                                                 ...   \n",
       "495                                   [264939, 264938]   \n",
       "496                                           [338688]   \n",
       "497  [16945, 161797, 53362, 161850, 161861, 161853,...   \n",
       "498                                           [334737]   \n",
       "499                                   [301978, 342771]   \n",
       "\n",
       "                           name                        slug    start_date  \\\n",
       "0         CyrusTheVirus Studios       cyrusthevirus-studios  1.548979e+09   \n",
       "1                         300AD                       300ad           NaN   \n",
       "2               10tacle Studios             10tacle-studios  1.072829e+09   \n",
       "3    Sunborn Network Technology  sunborn-network-technology  1.445731e+09   \n",
       "4                      NoShadow                    noshadow  1.630454e+09   \n",
       "..                          ...                         ...           ...   \n",
       "495                   FSDesigns                   fsdesigns           NaN   \n",
       "496            Overscoped Games            overscoped-games           NaN   \n",
       "497               Aerosoft GmbH               aerosoft-gmbh           NaN   \n",
       "498                      FrogJB                      frogjb           NaN   \n",
       "499                 Worst Event                 worst-event           NaN   \n",
       "\n",
       "    websites  status     logo  \\\n",
       "0    [13818]       0      NaN   \n",
       "1     [4031]       0   3995.0   \n",
       "2        NaN       1   1902.0   \n",
       "3    [14834]       0  18002.0   \n",
       "4        NaN       0      NaN   \n",
       "..       ...     ...      ...   \n",
       "495  [12429]       0  14669.0   \n",
       "496  [14883]       0      NaN   \n",
       "497   [1768]       0   1965.0   \n",
       "498      NaN       0      NaN   \n",
       "499  [14350]       0  17382.0   \n",
       "\n",
       "                                             published   parent  \\\n",
       "0                                                  NaN      NaN   \n",
       "1                                                  NaN      NaN   \n",
       "2    [736, 738, 11286, 15762, 27466, 125168, 21516,...      NaN   \n",
       "3                                                  NaN  17151.0   \n",
       "4                                             [339674]      NaN   \n",
       "..                                                 ...      ...   \n",
       "495                                                NaN      NaN   \n",
       "496                                                NaN      NaN   \n",
       "497  [22438, 36304, 32829, 67299, 33738, 10594, 111...      NaN   \n",
       "498                                           [334737]      NaN   \n",
       "499                                           [342771]      NaN   \n",
       "\n",
       "     changed_company_id  \n",
       "0                   NaN  \n",
       "1                   NaN  \n",
       "2                   NaN  \n",
       "3                   NaN  \n",
       "4                   NaN  \n",
       "..                  ...  \n",
       "495                 NaN  \n",
       "496                 NaN  \n",
       "497                 NaN  \n",
       "498                 NaN  \n",
       "499                 NaN  \n",
       "\n",
       "[500 rows x 13 columns]"
      ]
     },
     "execution_count": 7,
     "metadata": {},
     "output_type": "execute_result"
    }
   ],
   "source": [
    "# Récupération des compagnies\n",
    "\n",
    "\n",
    "headers_game = {\n",
    "    'Client-ID': client_id_igdb,\n",
    "    'Authorization': f'Bearer {access_token}',\n",
    "}\n",
    "\n",
    "response = post('https://api.igdb.com/v4/companies', headers=headers , data=f'fields changed_company_id, country, description,developed,name,parent,published,slug,start_date,status, websites, logo; limit 500;')\n",
    "# Vérification de la réponse\n",
    "if response.status_code == 200:\n",
    "    # On transforme la réponse en JSON\n",
    "    response_json = response.json()\n",
    "    # On transforme le JSON en DataFrame\n",
    "    df_company = pd.DataFrame(response_json)\n",
    "else:\n",
    "    print(\"Error fetching data from the API\")\n",
    "    print(\"Status code:\", response.status_code)\n",
    "    \n",
    "df_company"
   ]
  },
  {
   "cell_type": "code",
   "execution_count": 8,
   "id": "3f631fda",
   "metadata": {},
   "outputs": [],
   "source": [
    "def get_all_company():\n",
    "    get_all_company = []\n",
    "    offset = 0\n",
    "    limit = 500  # Maximum limit for IGDB API\n",
    "\n",
    "    while True:\n",
    "        response = post('https://api.igdb.com/v4/companies', headers=headers , data=f'fields changed_company_id, country, description,developed,name,parent,published,slug,start_date,status, websites, logo; limit {limit}; offset {offset};')\n",
    "        \n",
    "        if response.status_code == 200:\n",
    "            response_json = response.json()\n",
    "            if not response_json:  # If no more data, break the loop\n",
    "                break\n",
    "            get_all_company.extend(response_json)\n",
    "            offset += limit\n",
    "        else:\n",
    "            print(\"Error fetching data from the API\")\n",
    "            print(\"Status code:\", response.status_code)\n",
    "            break\n",
    "\n",
    "    return pd.DataFrame(get_all_company)"
   ]
  },
  {
   "cell_type": "code",
   "execution_count": 9,
   "id": "01733125",
   "metadata": {},
   "outputs": [],
   "source": [
    "df_company = get_all_company()\n"
   ]
  },
  {
   "cell_type": "code",
   "execution_count": 10,
   "id": "b3a33d5d",
   "metadata": {},
   "outputs": [
    {
     "data": {
      "application/vnd.microsoft.datawrangler.viewer.v0+json": {
       "columns": [
        {
         "name": "index",
         "rawType": "int64",
         "type": "integer"
        },
        {
         "name": "id",
         "rawType": "int64",
         "type": "integer"
        },
        {
         "name": "developed",
         "rawType": "object",
         "type": "unknown"
        }
       ],
       "ref": "43b2fffd-0871-4098-980e-5b44e848dc39",
       "rows": [
        [
         "0",
         "61668",
         "289276"
        ],
        [
         "1",
         "30720",
         "80245"
        ],
        [
         "1",
         "30720",
         "52452"
        ],
        [
         "1",
         "30720",
         "144481"
        ],
        [
         "1",
         "30720",
         "142326"
        ],
        [
         "1",
         "30720",
         "142325"
        ],
        [
         "1",
         "30720",
         "144511"
        ],
        [
         "1",
         "30720",
         "141970"
        ],
        [
         "2",
         "540",
         "92755"
        ],
        [
         "3",
         "64121",
         null
        ],
        [
         "4",
         "62963",
         "339674"
        ],
        [
         "5",
         "61769",
         "332279"
        ],
        [
         "6",
         "61767",
         "332276"
        ],
        [
         "7",
         "61768",
         "332278"
        ],
        [
         "8",
         "61715",
         "332147"
        ],
        [
         "9",
         "20721",
         "120243"
        ],
        [
         "9",
         "20721",
         "134708"
        ],
        [
         "10",
         "61717",
         "332148"
        ],
        [
         "11",
         "62277",
         null
        ],
        [
         "12",
         "62964",
         "339675"
        ],
        [
         "13",
         "61716",
         "248085"
        ],
        [
         "14",
         "61770",
         "314740"
        ],
        [
         "14",
         "61770",
         "332277"
        ],
        [
         "14",
         "61770",
         "66174"
        ],
        [
         "15",
         "64081",
         "345427"
        ],
        [
         "16",
         "223",
         "4059"
        ],
        [
         "16",
         "223",
         "4070"
        ],
        [
         "16",
         "223",
         "3224"
        ],
        [
         "16",
         "223",
         "10615"
        ],
        [
         "16",
         "223",
         "4928"
        ],
        [
         "16",
         "223",
         "243200"
        ],
        [
         "16",
         "223",
         "4148"
        ],
        [
         "16",
         "223",
         "224864"
        ],
        [
         "17",
         "42721",
         "213574"
        ],
        [
         "18",
         "444",
         "3869"
        ],
        [
         "18",
         "444",
         "3949"
        ],
        [
         "18",
         "444",
         "3954"
        ],
        [
         "18",
         "444",
         "2844"
        ],
        [
         "18",
         "444",
         "5139"
        ],
        [
         "18",
         "444",
         "5868"
        ],
        [
         "18",
         "444",
         "210116"
        ],
        [
         "18",
         "444",
         "8940"
        ],
        [
         "18",
         "444",
         "19789"
        ],
        [
         "18",
         "444",
         "46231"
        ],
        [
         "18",
         "444",
         "4020"
        ],
        [
         "18",
         "444",
         "18943"
        ],
        [
         "18",
         "444",
         "45122"
        ],
        [
         "18",
         "444",
         "20738"
        ],
        [
         "18",
         "444",
         "2842"
        ],
        [
         "18",
         "444",
         "210224"
        ]
       ],
       "shape": {
        "columns": 2,
        "rows": 159265
       }
      },
      "text/html": [
       "<div>\n",
       "<style scoped>\n",
       "    .dataframe tbody tr th:only-of-type {\n",
       "        vertical-align: middle;\n",
       "    }\n",
       "\n",
       "    .dataframe tbody tr th {\n",
       "        vertical-align: top;\n",
       "    }\n",
       "\n",
       "    .dataframe thead th {\n",
       "        text-align: right;\n",
       "    }\n",
       "</style>\n",
       "<table border=\"1\" class=\"dataframe\">\n",
       "  <thead>\n",
       "    <tr style=\"text-align: right;\">\n",
       "      <th></th>\n",
       "      <th>id</th>\n",
       "      <th>developed</th>\n",
       "    </tr>\n",
       "  </thead>\n",
       "  <tbody>\n",
       "    <tr>\n",
       "      <th>0</th>\n",
       "      <td>61668</td>\n",
       "      <td>289276</td>\n",
       "    </tr>\n",
       "    <tr>\n",
       "      <th>1</th>\n",
       "      <td>30720</td>\n",
       "      <td>80245</td>\n",
       "    </tr>\n",
       "    <tr>\n",
       "      <th>1</th>\n",
       "      <td>30720</td>\n",
       "      <td>52452</td>\n",
       "    </tr>\n",
       "    <tr>\n",
       "      <th>1</th>\n",
       "      <td>30720</td>\n",
       "      <td>144481</td>\n",
       "    </tr>\n",
       "    <tr>\n",
       "      <th>1</th>\n",
       "      <td>30720</td>\n",
       "      <td>142326</td>\n",
       "    </tr>\n",
       "    <tr>\n",
       "      <th>...</th>\n",
       "      <td>...</td>\n",
       "      <td>...</td>\n",
       "    </tr>\n",
       "    <tr>\n",
       "      <th>61192</th>\n",
       "      <td>1277</td>\n",
       "      <td>8014</td>\n",
       "    </tr>\n",
       "    <tr>\n",
       "      <th>61192</th>\n",
       "      <td>1277</td>\n",
       "      <td>18244</td>\n",
       "    </tr>\n",
       "    <tr>\n",
       "      <th>61192</th>\n",
       "      <td>1277</td>\n",
       "      <td>26688</td>\n",
       "    </tr>\n",
       "    <tr>\n",
       "      <th>61192</th>\n",
       "      <td>1277</td>\n",
       "      <td>313290</td>\n",
       "    </tr>\n",
       "    <tr>\n",
       "      <th>61192</th>\n",
       "      <td>1277</td>\n",
       "      <td>58643</td>\n",
       "    </tr>\n",
       "  </tbody>\n",
       "</table>\n",
       "<p>159265 rows × 2 columns</p>\n",
       "</div>"
      ],
      "text/plain": [
       "          id developed\n",
       "0      61668    289276\n",
       "1      30720     80245\n",
       "1      30720     52452\n",
       "1      30720    144481\n",
       "1      30720    142326\n",
       "...      ...       ...\n",
       "61192   1277      8014\n",
       "61192   1277     18244\n",
       "61192   1277     26688\n",
       "61192   1277    313290\n",
       "61192   1277     58643\n",
       "\n",
       "[159265 rows x 2 columns]"
      ]
     },
     "execution_count": 10,
     "metadata": {},
     "output_type": "execute_result"
    }
   ],
   "source": [
    "#creation df_company_developed sur la base de company\n",
    "df_company_developed = df_company.copy()\n",
    "df_company_developed = df_company_developed.drop(columns=[\"country\",\"description\", \"name\", \"slug\",\"start_date\", \"websites\", \"status\", \"logo\", \"published\", \"parent\", \"changed_company_id\"])\n",
    "df_company_developed = df_company_developed.explode(\"developed\")\n",
    "df_company_developed "
   ]
  },
  {
   "cell_type": "code",
   "execution_count": 11,
   "id": "bfc5ca84",
   "metadata": {},
   "outputs": [],
   "source": [
    "df_company_developed.to_csv(r'C:\\Users\\Martin\\VS_code\\Wild code school\\data_game_new\\data-game\\csv/company_developed.csv', index=False)"
   ]
  },
  {
   "cell_type": "code",
   "execution_count": 32,
   "id": "009f2450",
   "metadata": {},
   "outputs": [],
   "source": [
    "#on enelve les colonnes qui ne servent pas \n",
    "df_company = df_company.drop(columns=[\"developed\", \"websites\", \"logo\", \"published\"])\n",
    "# Exporter le DataFrame en CSV\n",
    "df_company.to_csv(r'C:\\Users\\Martin\\VS_code\\Wild code school\\data_game_new\\data-game\\csv/company.csv', index=False)"
   ]
  },
  {
   "cell_type": "markdown",
   "id": "2b79a2ab",
   "metadata": {},
   "source": [
    "COMPANY_LOGO"
   ]
  },
  {
   "cell_type": "code",
   "execution_count": 53,
   "id": "066db6ff",
   "metadata": {},
   "outputs": [
    {
     "data": {
      "application/vnd.microsoft.datawrangler.viewer.v0+json": {
       "columns": [
        {
         "name": "index",
         "rawType": "int64",
         "type": "integer"
        },
        {
         "name": "id",
         "rawType": "int64",
         "type": "integer"
        },
        {
         "name": "image_id",
         "rawType": "object",
         "type": "string"
        },
        {
         "name": "url",
         "rawType": "object",
         "type": "string"
        }
       ],
       "ref": "296df8f6-cb71-4c55-a490-e97c0352513d",
       "rows": [
        [
         "0",
         "968",
         "svplxuxn983cwmohg6w3",
         "//images.igdb.com/igdb/image/upload/t_thumb/svplxuxn983cwmohg6w3.jpg"
        ],
        [
         "1",
         "1972",
         "cl1is",
         "//images.igdb.com/igdb/image/upload/t_thumb/cl1is.jpg"
        ],
        [
         "2",
         "14346",
         "clb2i",
         "//images.igdb.com/igdb/image/upload/t_thumb/clb2i.jpg"
        ],
        [
         "3",
         "1543",
         "iscz8jnzg9cddypn3nle",
         "//images.igdb.com/igdb/image/upload/t_thumb/iscz8jnzg9cddypn3nle.jpg"
        ],
        [
         "4",
         "1574",
         "gwy6dwd3rp0ckgj4vqpx",
         "//images.igdb.com/igdb/image/upload/t_thumb/gwy6dwd3rp0ckgj4vqpx.jpg"
        ],
        [
         "5",
         "1049",
         "crfqo3v3rufwphijqlbg",
         "//images.igdb.com/igdb/image/upload/t_thumb/crfqo3v3rufwphijqlbg.jpg"
        ],
        [
         "6",
         "1075",
         "pq4r2ctc2ceh2irdzjom",
         "//images.igdb.com/igdb/image/upload/t_thumb/pq4r2ctc2ceh2irdzjom.jpg"
        ],
        [
         "7",
         "1082",
         "kwkkuv2pc38phylp2lve",
         "//images.igdb.com/igdb/image/upload/t_thumb/kwkkuv2pc38phylp2lve.jpg"
        ],
        [
         "8",
         "14528",
         "clb7k",
         "//images.igdb.com/igdb/image/upload/t_thumb/clb7k.jpg"
        ],
        [
         "9",
         "95",
         "wsryowoounitph6vhbrh",
         "//images.igdb.com/igdb/image/upload/t_thumb/wsryowoounitph6vhbrh.jpg"
        ],
        [
         "10",
         "166",
         "n98wxt5fjc5waj7v9wr8",
         "//images.igdb.com/igdb/image/upload/t_thumb/n98wxt5fjc5waj7v9wr8.jpg"
        ],
        [
         "11",
         "170",
         "csxvgmoypdbzewyh3egg",
         "//images.igdb.com/igdb/image/upload/t_thumb/csxvgmoypdbzewyh3egg.jpg"
        ],
        [
         "12",
         "1171",
         "qffal0ah1bowlbmh9jnk",
         "//images.igdb.com/igdb/image/upload/t_thumb/qffal0ah1bowlbmh9jnk.jpg"
        ],
        [
         "13",
         "1217",
         "fez1uitcra6cezyfajbs",
         "//images.igdb.com/igdb/image/upload/t_thumb/fez1uitcra6cezyfajbs.jpg"
        ],
        [
         "14",
         "1220",
         "eektr1dmftdsy7hkisrz",
         "//images.igdb.com/igdb/image/upload/t_thumb/eektr1dmftdsy7hkisrz.jpg"
        ],
        [
         "15",
         "239",
         "e5ax296h5opot84esgor",
         "//images.igdb.com/igdb/image/upload/t_thumb/e5ax296h5opot84esgor.jpg"
        ],
        [
         "16",
         "249",
         "ep6ocia8dlwvblcqlzwi",
         "//images.igdb.com/igdb/image/upload/t_thumb/ep6ocia8dlwvblcqlzwi.jpg"
        ],
        [
         "17",
         "250",
         "mejqwns61pd79dhaucjy",
         "//images.igdb.com/igdb/image/upload/t_thumb/mejqwns61pd79dhaucjy.jpg"
        ],
        [
         "18",
         "254",
         "z5drolbllz9av0yoghxa",
         "//images.igdb.com/igdb/image/upload/t_thumb/z5drolbllz9av0yoghxa.jpg"
        ],
        [
         "19",
         "14530",
         "clb7m",
         "//images.igdb.com/igdb/image/upload/t_thumb/clb7m.jpg"
        ],
        [
         "20",
         "694",
         "ihleh5efvkmf2apalyr3",
         "//images.igdb.com/igdb/image/upload/t_thumb/ihleh5efvkmf2apalyr3.jpg"
        ],
        [
         "21",
         "1761",
         "zmzfqey2oaz47n0scb4a",
         "//images.igdb.com/igdb/image/upload/t_thumb/zmzfqey2oaz47n0scb4a.jpg"
        ],
        [
         "22",
         "1763",
         "phxavd6oszmrdifbf1nr",
         "//images.igdb.com/igdb/image/upload/t_thumb/phxavd6oszmrdifbf1nr.jpg"
        ],
        [
         "23",
         "1777",
         "oan613bah6vswx6zztwr",
         "//images.igdb.com/igdb/image/upload/t_thumb/oan613bah6vswx6zztwr.jpg"
        ],
        [
         "24",
         "1785",
         "cl1dl",
         "//images.igdb.com/igdb/image/upload/t_thumb/cl1dl.jpg"
        ],
        [
         "25",
         "1882",
         "cl1ga",
         "//images.igdb.com/igdb/image/upload/t_thumb/cl1ga.jpg"
        ],
        [
         "26",
         "1904",
         "cl1gw",
         "//images.igdb.com/igdb/image/upload/t_thumb/cl1gw.jpg"
        ],
        [
         "27",
         "908",
         "fqyklnidled31ehpzhca",
         "//images.igdb.com/igdb/image/upload/t_thumb/fqyklnidled31ehpzhca.jpg"
        ],
        [
         "28",
         "1576",
         "tqxbtfz1gmkzmvocy1dd",
         "//images.igdb.com/igdb/image/upload/t_thumb/tqxbtfz1gmkzmvocy1dd.jpg"
        ],
        [
         "29",
         "1011",
         "pkotiklgzyhe9q9ac279",
         "//images.igdb.com/igdb/image/upload/t_thumb/pkotiklgzyhe9q9ac279.jpg"
        ],
        [
         "30",
         "1508",
         "ostwr5z2awvbtnqfa5xh",
         "//images.igdb.com/igdb/image/upload/t_thumb/ostwr5z2awvbtnqfa5xh.jpg"
        ],
        [
         "31",
         "1549",
         "r45q1eingrmqasn3codg",
         "//images.igdb.com/igdb/image/upload/t_thumb/r45q1eingrmqasn3codg.jpg"
        ],
        [
         "32",
         "1554",
         "j3ko6har1htf7vkk0vla",
         "//images.igdb.com/igdb/image/upload/t_thumb/j3ko6har1htf7vkk0vla.jpg"
        ],
        [
         "33",
         "1610",
         "tdul7veraso8k0mhru2o",
         "//images.igdb.com/igdb/image/upload/t_thumb/tdul7veraso8k0mhru2o.jpg"
        ],
        [
         "34",
         "1612",
         "x5cm69sc7skt9mhza5pa",
         "//images.igdb.com/igdb/image/upload/t_thumb/x5cm69sc7skt9mhza5pa.jpg"
        ],
        [
         "35",
         "1613",
         "jg1j9nsdxzv9gnahvdwe",
         "//images.igdb.com/igdb/image/upload/t_thumb/jg1j9nsdxzv9gnahvdwe.jpg"
        ],
        [
         "36",
         "614",
         "f1zljcj3e4u0xi6wx8os",
         "//images.igdb.com/igdb/image/upload/t_thumb/f1zljcj3e4u0xi6wx8os.jpg"
        ],
        [
         "37",
         "1619",
         "y8fl3vwxdmou4lvjvezl",
         "//images.igdb.com/igdb/image/upload/t_thumb/y8fl3vwxdmou4lvjvezl.jpg"
        ],
        [
         "38",
         "1947",
         "cl1i3",
         "//images.igdb.com/igdb/image/upload/t_thumb/cl1i3.jpg"
        ],
        [
         "39",
         "1470",
         "rrvbsezoygqwtvvf2foz",
         "//images.igdb.com/igdb/image/upload/t_thumb/rrvbsezoygqwtvvf2foz.jpg"
        ],
        [
         "40",
         "600",
         "di0esfdcce1dnyasut9s",
         "//images.igdb.com/igdb/image/upload/t_thumb/di0esfdcce1dnyasut9s.jpg"
        ],
        [
         "41",
         "1604",
         "ykgdixtigd0s8xcgise8",
         "//images.igdb.com/igdb/image/upload/t_thumb/ykgdixtigd0s8xcgise8.jpg"
        ],
        [
         "42",
         "1496",
         "dku5y5fir5k29fchunbx",
         "//images.igdb.com/igdb/image/upload/t_thumb/dku5y5fir5k29fchunbx.jpg"
        ],
        [
         "43",
         "1522",
         "trashyfbbmgpref2lgpn",
         "//images.igdb.com/igdb/image/upload/t_thumb/trashyfbbmgpref2lgpn.jpg"
        ],
        [
         "44",
         "14529",
         "clb7l",
         "//images.igdb.com/igdb/image/upload/t_thumb/clb7l.jpg"
        ],
        [
         "45",
         "1486",
         "cpsejp7krkpiw98rzezk",
         "//images.igdb.com/igdb/image/upload/t_thumb/cpsejp7krkpiw98rzezk.jpg"
        ],
        [
         "46",
         "942",
         "ppecyvnmwlwyrt0mq3to",
         "//images.igdb.com/igdb/image/upload/t_thumb/ppecyvnmwlwyrt0mq3to.jpg"
        ],
        [
         "47",
         "669",
         "t20qhzv9k1cbrbkxae49",
         "//images.igdb.com/igdb/image/upload/t_thumb/t20qhzv9k1cbrbkxae49.jpg"
        ],
        [
         "48",
         "1561",
         "gumlrykkvlyg1h13d5gk",
         "//images.igdb.com/igdb/image/upload/t_thumb/gumlrykkvlyg1h13d5gk.jpg"
        ],
        [
         "49",
         "135",
         "u3qrerbgtsfubdxfxykw",
         "//images.igdb.com/igdb/image/upload/t_thumb/u3qrerbgtsfubdxfxykw.jpg"
        ]
       ],
       "shape": {
        "columns": 3,
        "rows": 500
       }
      },
      "text/html": [
       "<div>\n",
       "<style scoped>\n",
       "    .dataframe tbody tr th:only-of-type {\n",
       "        vertical-align: middle;\n",
       "    }\n",
       "\n",
       "    .dataframe tbody tr th {\n",
       "        vertical-align: top;\n",
       "    }\n",
       "\n",
       "    .dataframe thead th {\n",
       "        text-align: right;\n",
       "    }\n",
       "</style>\n",
       "<table border=\"1\" class=\"dataframe\">\n",
       "  <thead>\n",
       "    <tr style=\"text-align: right;\">\n",
       "      <th></th>\n",
       "      <th>id</th>\n",
       "      <th>image_id</th>\n",
       "      <th>url</th>\n",
       "    </tr>\n",
       "  </thead>\n",
       "  <tbody>\n",
       "    <tr>\n",
       "      <th>0</th>\n",
       "      <td>968</td>\n",
       "      <td>svplxuxn983cwmohg6w3</td>\n",
       "      <td>//images.igdb.com/igdb/image/upload/t_thumb/sv...</td>\n",
       "    </tr>\n",
       "    <tr>\n",
       "      <th>1</th>\n",
       "      <td>1972</td>\n",
       "      <td>cl1is</td>\n",
       "      <td>//images.igdb.com/igdb/image/upload/t_thumb/cl...</td>\n",
       "    </tr>\n",
       "    <tr>\n",
       "      <th>2</th>\n",
       "      <td>14346</td>\n",
       "      <td>clb2i</td>\n",
       "      <td>//images.igdb.com/igdb/image/upload/t_thumb/cl...</td>\n",
       "    </tr>\n",
       "    <tr>\n",
       "      <th>3</th>\n",
       "      <td>1543</td>\n",
       "      <td>iscz8jnzg9cddypn3nle</td>\n",
       "      <td>//images.igdb.com/igdb/image/upload/t_thumb/is...</td>\n",
       "    </tr>\n",
       "    <tr>\n",
       "      <th>4</th>\n",
       "      <td>1574</td>\n",
       "      <td>gwy6dwd3rp0ckgj4vqpx</td>\n",
       "      <td>//images.igdb.com/igdb/image/upload/t_thumb/gw...</td>\n",
       "    </tr>\n",
       "    <tr>\n",
       "      <th>...</th>\n",
       "      <td>...</td>\n",
       "      <td>...</td>\n",
       "      <td>...</td>\n",
       "    </tr>\n",
       "    <tr>\n",
       "      <th>495</th>\n",
       "      <td>1280</td>\n",
       "      <td>quhi9leoceglbzqpmrx4</td>\n",
       "      <td>//images.igdb.com/igdb/image/upload/t_thumb/qu...</td>\n",
       "    </tr>\n",
       "    <tr>\n",
       "      <th>496</th>\n",
       "      <td>311</td>\n",
       "      <td>uo6otpmodrdvlou3fhvn</td>\n",
       "      <td>//images.igdb.com/igdb/image/upload/t_thumb/uo...</td>\n",
       "    </tr>\n",
       "    <tr>\n",
       "      <th>497</th>\n",
       "      <td>1318</td>\n",
       "      <td>uwddahypagxdfn0l6ae6</td>\n",
       "      <td>//images.igdb.com/igdb/image/upload/t_thumb/uw...</td>\n",
       "    </tr>\n",
       "    <tr>\n",
       "      <th>498</th>\n",
       "      <td>1327</td>\n",
       "      <td>snhadznmkwgg4jscoy6z</td>\n",
       "      <td>//images.igdb.com/igdb/image/upload/t_thumb/sn...</td>\n",
       "    </tr>\n",
       "    <tr>\n",
       "      <th>499</th>\n",
       "      <td>388</td>\n",
       "      <td>ye5hf7vospoaesaxri8v</td>\n",
       "      <td>//images.igdb.com/igdb/image/upload/t_thumb/ye...</td>\n",
       "    </tr>\n",
       "  </tbody>\n",
       "</table>\n",
       "<p>500 rows × 3 columns</p>\n",
       "</div>"
      ],
      "text/plain": [
       "        id              image_id  \\\n",
       "0      968  svplxuxn983cwmohg6w3   \n",
       "1     1972                 cl1is   \n",
       "2    14346                 clb2i   \n",
       "3     1543  iscz8jnzg9cddypn3nle   \n",
       "4     1574  gwy6dwd3rp0ckgj4vqpx   \n",
       "..     ...                   ...   \n",
       "495   1280  quhi9leoceglbzqpmrx4   \n",
       "496    311  uo6otpmodrdvlou3fhvn   \n",
       "497   1318  uwddahypagxdfn0l6ae6   \n",
       "498   1327  snhadznmkwgg4jscoy6z   \n",
       "499    388  ye5hf7vospoaesaxri8v   \n",
       "\n",
       "                                                   url  \n",
       "0    //images.igdb.com/igdb/image/upload/t_thumb/sv...  \n",
       "1    //images.igdb.com/igdb/image/upload/t_thumb/cl...  \n",
       "2    //images.igdb.com/igdb/image/upload/t_thumb/cl...  \n",
       "3    //images.igdb.com/igdb/image/upload/t_thumb/is...  \n",
       "4    //images.igdb.com/igdb/image/upload/t_thumb/gw...  \n",
       "..                                                 ...  \n",
       "495  //images.igdb.com/igdb/image/upload/t_thumb/qu...  \n",
       "496  //images.igdb.com/igdb/image/upload/t_thumb/uo...  \n",
       "497  //images.igdb.com/igdb/image/upload/t_thumb/uw...  \n",
       "498  //images.igdb.com/igdb/image/upload/t_thumb/sn...  \n",
       "499  //images.igdb.com/igdb/image/upload/t_thumb/ye...  \n",
       "\n",
       "[500 rows x 3 columns]"
      ]
     },
     "execution_count": 53,
     "metadata": {},
     "output_type": "execute_result"
    }
   ],
   "source": [
    "# Récupération des logo compagnies\n",
    "\n",
    "\n",
    "headers_game = {\n",
    "    'Client-ID': client_id_igdb,\n",
    "    'Authorization': f'Bearer {access_token}',\n",
    "}\n",
    "\n",
    "response = post('https://api.igdb.com/v4/company_logos', headers=headers , data=f'fields image_id,url; limit 500;')\n",
    "# Vérification de la réponse\n",
    "if response.status_code == 200:\n",
    "    # On transforme la réponse en JSON\n",
    "    response_json = response.json()\n",
    "    # On transforme le JSON en DataFrame\n",
    "    df_compagny_logo = pd.DataFrame(response_json)\n",
    "else:\n",
    "    print(\"Error fetching data from the API\")\n",
    "    print(\"Status code:\", response.status_code)\n",
    "    \n",
    "df_compagny_logo"
   ]
  },
  {
   "cell_type": "code",
   "execution_count": 21,
   "id": "2540fc64",
   "metadata": {},
   "outputs": [],
   "source": [
    "def get_all_company_logos():\n",
    "    get_all_company_logo = []\n",
    "    offset = 0\n",
    "    limit = 500  # Maximum limit for IGDB API\n",
    "\n",
    "    while True:\n",
    "        response = post('https://api.igdb.com/v4/company_logos', headers=headers , data=f'fields url; limit {limit}; offset {offset};')\n",
    "        \n",
    "        if response.status_code == 200:\n",
    "            response_json = response.json()\n",
    "            if not response_json:  # If no more data, break the loop\n",
    "                break\n",
    "            get_all_company_logo.extend(response_json)\n",
    "            offset += limit\n",
    "        else:\n",
    "            print(\"Error fetching data from the API\")\n",
    "            print(\"Status code:\", response.status_code)\n",
    "            break\n",
    "\n",
    "\n",
    "    return pd.DataFrame(get_all_company_logo)"
   ]
  },
  {
   "cell_type": "code",
   "execution_count": 24,
   "id": "c29cfbbf",
   "metadata": {},
   "outputs": [],
   "source": [
    "df_company_logos = get_all_company_logos()\n",
    "\n"
   ]
  },
  {
   "cell_type": "code",
   "execution_count": 26,
   "id": "d8eb3f78",
   "metadata": {},
   "outputs": [],
   "source": [
    "df_company_logos.to_csv(r'C:\\Users\\Martin\\VS_code\\Wild code school\\data_game_new\\data-game\\csv/company_logos.csv', index=False)"
   ]
  },
  {
   "cell_type": "markdown",
   "id": "c00cc117",
   "metadata": {},
   "source": [
    "COMPANY status"
   ]
  },
  {
   "cell_type": "code",
   "execution_count": 44,
   "id": "796266e3",
   "metadata": {},
   "outputs": [
    {
     "data": {
      "application/vnd.microsoft.datawrangler.viewer.v0+json": {
       "columns": [
        {
         "name": "index",
         "rawType": "int64",
         "type": "integer"
        },
        {
         "name": "id",
         "rawType": "int64",
         "type": "integer"
        },
        {
         "name": "name",
         "rawType": "object",
         "type": "string"
        }
       ],
       "ref": "765f9a15-ef42-4755-a00d-9f021ffe2e8d",
       "rows": [
        [
         "0",
         "0",
         "active"
        ],
        [
         "1",
         "1",
         "defunct"
        ],
        [
         "2",
         "2",
         "merged"
        ],
        [
         "3",
         "3",
         "renamed"
        ]
       ],
       "shape": {
        "columns": 2,
        "rows": 4
       }
      },
      "text/html": [
       "<div>\n",
       "<style scoped>\n",
       "    .dataframe tbody tr th:only-of-type {\n",
       "        vertical-align: middle;\n",
       "    }\n",
       "\n",
       "    .dataframe tbody tr th {\n",
       "        vertical-align: top;\n",
       "    }\n",
       "\n",
       "    .dataframe thead th {\n",
       "        text-align: right;\n",
       "    }\n",
       "</style>\n",
       "<table border=\"1\" class=\"dataframe\">\n",
       "  <thead>\n",
       "    <tr style=\"text-align: right;\">\n",
       "      <th></th>\n",
       "      <th>id</th>\n",
       "      <th>name</th>\n",
       "    </tr>\n",
       "  </thead>\n",
       "  <tbody>\n",
       "    <tr>\n",
       "      <th>0</th>\n",
       "      <td>0</td>\n",
       "      <td>active</td>\n",
       "    </tr>\n",
       "    <tr>\n",
       "      <th>1</th>\n",
       "      <td>1</td>\n",
       "      <td>defunct</td>\n",
       "    </tr>\n",
       "    <tr>\n",
       "      <th>2</th>\n",
       "      <td>2</td>\n",
       "      <td>merged</td>\n",
       "    </tr>\n",
       "    <tr>\n",
       "      <th>3</th>\n",
       "      <td>3</td>\n",
       "      <td>renamed</td>\n",
       "    </tr>\n",
       "  </tbody>\n",
       "</table>\n",
       "</div>"
      ],
      "text/plain": [
       "   id     name\n",
       "0   0   active\n",
       "1   1  defunct\n",
       "2   2   merged\n",
       "3   3  renamed"
      ]
     },
     "execution_count": 44,
     "metadata": {},
     "output_type": "execute_result"
    }
   ],
   "source": [
    "# Récupération des statues de compagnies\n",
    "\n",
    "\n",
    "headers_game = {\n",
    "    'Client-ID': client_id_igdb,\n",
    "    'Authorization': f'Bearer {access_token}',\n",
    "}\n",
    "\n",
    "response = post('https://api.igdb.com/v4/company_statuses', headers=headers , data=f'fields name; limit 500;')\n",
    "# Vérification de la réponse\n",
    "if response.status_code == 200:\n",
    "    # On transforme la réponse en JSON\n",
    "    response_json = response.json()\n",
    "    # On transforme le JSON en DataFrame\n",
    "    df_compagny_statues = pd.DataFrame(response_json)\n",
    "else:\n",
    "    print(\"Error fetching data from the API\")\n",
    "    print(\"Status code:\", response.status_code)\n",
    "    \n",
    "df_compagny_statues"
   ]
  },
  {
   "cell_type": "code",
   "execution_count": 45,
   "id": "b14f23e5",
   "metadata": {},
   "outputs": [],
   "source": [
    "df_compagny_statues.to_csv(r'C:\\Users\\Martin\\VS_code\\Wild code school\\data_game_new\\data-game\\csv\\company_status.csv', index=False)"
   ]
  },
  {
   "cell_type": "markdown",
   "id": "55bd5704",
   "metadata": {},
   "source": [
    "COMPANY COMPANY STATUES"
   ]
  },
  {
   "cell_type": "code",
   "execution_count": 17,
   "id": "af80d236",
   "metadata": {},
   "outputs": [
    {
     "data": {
      "application/vnd.microsoft.datawrangler.viewer.v0+json": {
       "columns": [
        {
         "name": "index",
         "rawType": "int64",
         "type": "integer"
        },
        {
         "name": "id",
         "rawType": "int64",
         "type": "integer"
        },
        {
         "name": "status",
         "rawType": "int64",
         "type": "integer"
        }
       ],
       "ref": "d5f2777b-3262-4445-8821-32792ee73df0",
       "rows": [
        [
         "0",
         "61668",
         "0"
        ],
        [
         "1",
         "30720",
         "0"
        ],
        [
         "2",
         "540",
         "1"
        ],
        [
         "3",
         "64121",
         "0"
        ],
        [
         "4",
         "62963",
         "0"
        ],
        [
         "5",
         "61769",
         "0"
        ],
        [
         "6",
         "61767",
         "0"
        ],
        [
         "7",
         "61768",
         "0"
        ],
        [
         "8",
         "61715",
         "0"
        ],
        [
         "9",
         "20721",
         "0"
        ],
        [
         "10",
         "61717",
         "0"
        ],
        [
         "11",
         "62277",
         "0"
        ],
        [
         "12",
         "62964",
         "0"
        ],
        [
         "13",
         "61716",
         "0"
        ],
        [
         "14",
         "61770",
         "0"
        ],
        [
         "15",
         "64081",
         "0"
        ],
        [
         "16",
         "223",
         "0"
        ],
        [
         "17",
         "42721",
         "0"
        ],
        [
         "18",
         "444",
         "0"
        ],
        [
         "19",
         "815",
         "3"
        ],
        [
         "20",
         "2330",
         "0"
        ],
        [
         "21",
         "13330",
         "0"
        ],
        [
         "22",
         "32330",
         "0"
        ],
        [
         "23",
         "41330",
         "0"
        ],
        [
         "24",
         "64123",
         "0"
        ],
        [
         "25",
         "62278",
         "0"
        ],
        [
         "26",
         "62965",
         "0"
        ],
        [
         "27",
         "64083",
         "0"
        ],
        [
         "28",
         "64082",
         "0"
        ],
        [
         "29",
         "1941",
         "0"
        ],
        [
         "30",
         "25265",
         "0"
        ],
        [
         "31",
         "3928",
         "0"
        ],
        [
         "32",
         "19",
         "0"
        ],
        [
         "33",
         "14046",
         "0"
        ],
        [
         "34",
         "64084",
         "0"
        ],
        [
         "35",
         "15790",
         "0"
        ],
        [
         "36",
         "221",
         "0"
        ],
        [
         "37",
         "60330",
         "0"
        ],
        [
         "38",
         "398",
         "0"
        ],
        [
         "39",
         "1309",
         "0"
        ],
        [
         "40",
         "64125",
         "0"
        ],
        [
         "41",
         "2921",
         "0"
        ],
        [
         "42",
         "28639",
         "0"
        ],
        [
         "43",
         "56302",
         "0"
        ],
        [
         "44",
         "57302",
         "0"
        ],
        [
         "45",
         "61302",
         "0"
        ],
        [
         "46",
         "49302",
         "0"
        ],
        [
         "47",
         "20302",
         "0"
        ],
        [
         "48",
         "43804",
         "0"
        ],
        [
         "49",
         "58302",
         "0"
        ]
       ],
       "shape": {
        "columns": 2,
        "rows": 500
       }
      },
      "text/html": [
       "<div>\n",
       "<style scoped>\n",
       "    .dataframe tbody tr th:only-of-type {\n",
       "        vertical-align: middle;\n",
       "    }\n",
       "\n",
       "    .dataframe tbody tr th {\n",
       "        vertical-align: top;\n",
       "    }\n",
       "\n",
       "    .dataframe thead th {\n",
       "        text-align: right;\n",
       "    }\n",
       "</style>\n",
       "<table border=\"1\" class=\"dataframe\">\n",
       "  <thead>\n",
       "    <tr style=\"text-align: right;\">\n",
       "      <th></th>\n",
       "      <th>id</th>\n",
       "      <th>status</th>\n",
       "    </tr>\n",
       "  </thead>\n",
       "  <tbody>\n",
       "    <tr>\n",
       "      <th>0</th>\n",
       "      <td>61668</td>\n",
       "      <td>0</td>\n",
       "    </tr>\n",
       "    <tr>\n",
       "      <th>1</th>\n",
       "      <td>30720</td>\n",
       "      <td>0</td>\n",
       "    </tr>\n",
       "    <tr>\n",
       "      <th>2</th>\n",
       "      <td>540</td>\n",
       "      <td>1</td>\n",
       "    </tr>\n",
       "    <tr>\n",
       "      <th>3</th>\n",
       "      <td>64121</td>\n",
       "      <td>0</td>\n",
       "    </tr>\n",
       "    <tr>\n",
       "      <th>4</th>\n",
       "      <td>62963</td>\n",
       "      <td>0</td>\n",
       "    </tr>\n",
       "    <tr>\n",
       "      <th>...</th>\n",
       "      <td>...</td>\n",
       "      <td>...</td>\n",
       "    </tr>\n",
       "    <tr>\n",
       "      <th>495</th>\n",
       "      <td>57747</td>\n",
       "      <td>0</td>\n",
       "    </tr>\n",
       "    <tr>\n",
       "      <th>496</th>\n",
       "      <td>64164</td>\n",
       "      <td>0</td>\n",
       "    </tr>\n",
       "    <tr>\n",
       "      <th>497</th>\n",
       "      <td>8224</td>\n",
       "      <td>0</td>\n",
       "    </tr>\n",
       "    <tr>\n",
       "      <th>498</th>\n",
       "      <td>62301</td>\n",
       "      <td>0</td>\n",
       "    </tr>\n",
       "    <tr>\n",
       "      <th>499</th>\n",
       "      <td>63004</td>\n",
       "      <td>0</td>\n",
       "    </tr>\n",
       "  </tbody>\n",
       "</table>\n",
       "<p>500 rows × 2 columns</p>\n",
       "</div>"
      ],
      "text/plain": [
       "        id  status\n",
       "0    61668       0\n",
       "1    30720       0\n",
       "2      540       1\n",
       "3    64121       0\n",
       "4    62963       0\n",
       "..     ...     ...\n",
       "495  57747       0\n",
       "496  64164       0\n",
       "497   8224       0\n",
       "498  62301       0\n",
       "499  63004       0\n",
       "\n",
       "[500 rows x 2 columns]"
      ]
     },
     "execution_count": 17,
     "metadata": {},
     "output_type": "execute_result"
    }
   ],
   "source": [
    "# Récupération des statues de compagnies\n",
    "\n",
    "\n",
    "headers_game = {\n",
    "    'Client-ID': client_id_igdb,\n",
    "    'Authorization': f'Bearer {access_token}',\n",
    "}\n",
    "\n",
    "response = post('https://api.igdb.com/v4/companies', headers=headers , data=f'fields status; limit 500;')\n",
    "# Vérification de la réponse\n",
    "if response.status_code == 200:\n",
    "    # On transforme la réponse en JSON\n",
    "    response_json = response.json()\n",
    "    # On transforme le JSON en DataFrame\n",
    "    df_company_companies_statues  = pd.DataFrame(response_json)\n",
    "else:\n",
    "    print(\"Error fetching data from the API\")\n",
    "    print(\"Status code:\", response.status_code)\n",
    "    \n",
    "df_company_companies_statues "
   ]
  },
  {
   "cell_type": "code",
   "execution_count": 16,
   "id": "357d2bd3",
   "metadata": {},
   "outputs": [],
   "source": [
    "def get_all_company_companies():\n",
    "    get_all_company_companies = []\n",
    "    offset = 0\n",
    "    limit = 500  # Maximum limit for IGDB API\n",
    "\n",
    "    while True:\n",
    "        response = post('https://api.igdb.com/v4/companies', headers=headers , data=f'fields status; limit {limit}; offset {offset};')\n",
    "        \n",
    "        if response.status_code == 200:\n",
    "            response_json = response.json()\n",
    "            if not response_json:  # If no more data, break the loop\n",
    "                break\n",
    "            get_all_company_companies.extend(response_json)\n",
    "            offset += limit\n",
    "        else:\n",
    "            print(\"Error fetching data from the API\")\n",
    "            print(\"Status code:\", response.status_code)\n",
    "            break\n",
    "\n",
    "\n",
    "    return pd.DataFrame(get_all_company_companies)"
   ]
  },
  {
   "cell_type": "code",
   "execution_count": 18,
   "id": "827410bb",
   "metadata": {},
   "outputs": [],
   "source": [
    "df_company_companies_statues = get_all_company_companies()"
   ]
  },
  {
   "cell_type": "code",
   "execution_count": 19,
   "id": "4c3bc57e",
   "metadata": {},
   "outputs": [
    {
     "data": {
      "application/vnd.microsoft.datawrangler.viewer.v0+json": {
       "columns": [
        {
         "name": "index",
         "rawType": "int64",
         "type": "integer"
        },
        {
         "name": "id",
         "rawType": "int64",
         "type": "integer"
        },
        {
         "name": "status",
         "rawType": "float64",
         "type": "float"
        }
       ],
       "ref": "3729af30-0406-4ecf-9e6a-a7ac34f66733",
       "rows": [
        [
         "0",
         "61668",
         "0.0"
        ],
        [
         "1",
         "30720",
         "0.0"
        ],
        [
         "2",
         "540",
         "1.0"
        ],
        [
         "3",
         "64121",
         "0.0"
        ],
        [
         "4",
         "62963",
         "0.0"
        ],
        [
         "5",
         "61769",
         "0.0"
        ],
        [
         "6",
         "61767",
         "0.0"
        ],
        [
         "7",
         "61768",
         "0.0"
        ],
        [
         "8",
         "61715",
         "0.0"
        ],
        [
         "9",
         "20721",
         "0.0"
        ],
        [
         "10",
         "61717",
         "0.0"
        ],
        [
         "11",
         "62277",
         "0.0"
        ],
        [
         "12",
         "62964",
         "0.0"
        ],
        [
         "13",
         "61716",
         "0.0"
        ],
        [
         "14",
         "61770",
         "0.0"
        ],
        [
         "15",
         "64081",
         "0.0"
        ],
        [
         "16",
         "223",
         "0.0"
        ],
        [
         "17",
         "42721",
         "0.0"
        ],
        [
         "18",
         "444",
         "0.0"
        ],
        [
         "19",
         "815",
         "3.0"
        ],
        [
         "20",
         "2330",
         "0.0"
        ],
        [
         "21",
         "13330",
         "0.0"
        ],
        [
         "22",
         "32330",
         "0.0"
        ],
        [
         "23",
         "41330",
         "0.0"
        ],
        [
         "24",
         "64123",
         "0.0"
        ],
        [
         "25",
         "62278",
         "0.0"
        ],
        [
         "26",
         "62965",
         "0.0"
        ],
        [
         "27",
         "64083",
         "0.0"
        ],
        [
         "28",
         "64082",
         "0.0"
        ],
        [
         "29",
         "1941",
         "0.0"
        ],
        [
         "30",
         "25265",
         "0.0"
        ],
        [
         "31",
         "3928",
         "0.0"
        ],
        [
         "32",
         "19",
         "0.0"
        ],
        [
         "33",
         "14046",
         "0.0"
        ],
        [
         "34",
         "64084",
         "0.0"
        ],
        [
         "35",
         "15790",
         "0.0"
        ],
        [
         "36",
         "221",
         "0.0"
        ],
        [
         "37",
         "60330",
         "0.0"
        ],
        [
         "38",
         "398",
         "0.0"
        ],
        [
         "39",
         "1309",
         "0.0"
        ],
        [
         "40",
         "64125",
         "0.0"
        ],
        [
         "41",
         "2921",
         "0.0"
        ],
        [
         "42",
         "28639",
         "0.0"
        ],
        [
         "43",
         "56302",
         "0.0"
        ],
        [
         "44",
         "57302",
         "0.0"
        ],
        [
         "45",
         "61302",
         "0.0"
        ],
        [
         "46",
         "49302",
         "0.0"
        ],
        [
         "47",
         "20302",
         "0.0"
        ],
        [
         "48",
         "43804",
         "0.0"
        ],
        [
         "49",
         "58302",
         "0.0"
        ]
       ],
       "shape": {
        "columns": 2,
        "rows": 61194
       }
      },
      "text/html": [
       "<div>\n",
       "<style scoped>\n",
       "    .dataframe tbody tr th:only-of-type {\n",
       "        vertical-align: middle;\n",
       "    }\n",
       "\n",
       "    .dataframe tbody tr th {\n",
       "        vertical-align: top;\n",
       "    }\n",
       "\n",
       "    .dataframe thead th {\n",
       "        text-align: right;\n",
       "    }\n",
       "</style>\n",
       "<table border=\"1\" class=\"dataframe\">\n",
       "  <thead>\n",
       "    <tr style=\"text-align: right;\">\n",
       "      <th></th>\n",
       "      <th>id</th>\n",
       "      <th>status</th>\n",
       "    </tr>\n",
       "  </thead>\n",
       "  <tbody>\n",
       "    <tr>\n",
       "      <th>0</th>\n",
       "      <td>61668</td>\n",
       "      <td>0.0</td>\n",
       "    </tr>\n",
       "    <tr>\n",
       "      <th>1</th>\n",
       "      <td>30720</td>\n",
       "      <td>0.0</td>\n",
       "    </tr>\n",
       "    <tr>\n",
       "      <th>2</th>\n",
       "      <td>540</td>\n",
       "      <td>1.0</td>\n",
       "    </tr>\n",
       "    <tr>\n",
       "      <th>3</th>\n",
       "      <td>64121</td>\n",
       "      <td>0.0</td>\n",
       "    </tr>\n",
       "    <tr>\n",
       "      <th>4</th>\n",
       "      <td>62963</td>\n",
       "      <td>0.0</td>\n",
       "    </tr>\n",
       "    <tr>\n",
       "      <th>...</th>\n",
       "      <td>...</td>\n",
       "      <td>...</td>\n",
       "    </tr>\n",
       "    <tr>\n",
       "      <th>61189</th>\n",
       "      <td>41907</td>\n",
       "      <td>0.0</td>\n",
       "    </tr>\n",
       "    <tr>\n",
       "      <th>61190</th>\n",
       "      <td>37730</td>\n",
       "      <td>0.0</td>\n",
       "    </tr>\n",
       "    <tr>\n",
       "      <th>61191</th>\n",
       "      <td>11925</td>\n",
       "      <td>0.0</td>\n",
       "    </tr>\n",
       "    <tr>\n",
       "      <th>61192</th>\n",
       "      <td>61707</td>\n",
       "      <td>0.0</td>\n",
       "    </tr>\n",
       "    <tr>\n",
       "      <th>61193</th>\n",
       "      <td>1277</td>\n",
       "      <td>1.0</td>\n",
       "    </tr>\n",
       "  </tbody>\n",
       "</table>\n",
       "<p>61194 rows × 2 columns</p>\n",
       "</div>"
      ],
      "text/plain": [
       "          id  status\n",
       "0      61668     0.0\n",
       "1      30720     0.0\n",
       "2        540     1.0\n",
       "3      64121     0.0\n",
       "4      62963     0.0\n",
       "...      ...     ...\n",
       "61189  41907     0.0\n",
       "61190  37730     0.0\n",
       "61191  11925     0.0\n",
       "61192  61707     0.0\n",
       "61193   1277     1.0\n",
       "\n",
       "[61194 rows x 2 columns]"
      ]
     },
     "execution_count": 19,
     "metadata": {},
     "output_type": "execute_result"
    }
   ],
   "source": [
    "df_company_companies_statues"
   ]
  },
  {
   "cell_type": "code",
   "execution_count": 20,
   "id": "cdbd80fb",
   "metadata": {},
   "outputs": [],
   "source": [
    "df_company_companies_statues.to_csv(r'C:\\Users\\Martin\\VS_code\\Wild code school\\data_game_new\\data-game\\csv\\company_companies_statues.csv', index=False)"
   ]
  },
  {
   "cell_type": "markdown",
   "id": "aa73072b",
   "metadata": {},
   "source": [
    "COMPANY_LOGO"
   ]
  },
  {
   "cell_type": "code",
   "execution_count": 27,
   "id": "7ec44a2c",
   "metadata": {},
   "outputs": [],
   "source": [
    "def get_all_company_logo():\n",
    "    get_all_company_logo = []\n",
    "    offset = 0\n",
    "    limit = 500  # Maximum limit for IGDB API\n",
    "\n",
    "    while True:\n",
    "        response = post('https://api.igdb.com/v4/companies', headers=headers , data=f'fields logo; limit {limit}; offset {offset};')\n",
    "        \n",
    "        if response.status_code == 200:\n",
    "            response_json = response.json()\n",
    "            if not response_json:  # If no more data, break the loop\n",
    "                break\n",
    "            get_all_company_logo.extend(response_json)\n",
    "            offset += limit\n",
    "        else:\n",
    "            print(\"Error fetching data from the API\")\n",
    "            print(\"Status code:\", response.status_code)\n",
    "            break\n",
    "\n",
    "\n",
    "    return pd.DataFrame(get_all_company_logo)"
   ]
  },
  {
   "cell_type": "code",
   "execution_count": 28,
   "id": "f07aca0f",
   "metadata": {},
   "outputs": [
    {
     "data": {
      "application/vnd.microsoft.datawrangler.viewer.v0+json": {
       "columns": [
        {
         "name": "index",
         "rawType": "int64",
         "type": "integer"
        },
        {
         "name": "id",
         "rawType": "int64",
         "type": "integer"
        },
        {
         "name": "logo",
         "rawType": "float64",
         "type": "float"
        }
       ],
       "ref": "fa49e9c4-850d-40a3-807f-5bc217e9a199",
       "rows": [
        [
         "0",
         "61668",
         null
        ],
        [
         "1",
         "30720",
         "3995.0"
        ],
        [
         "2",
         "540",
         "1902.0"
        ],
        [
         "3",
         "64121",
         "18002.0"
        ],
        [
         "4",
         "62963",
         null
        ],
        [
         "5",
         "61769",
         "16685.0"
        ],
        [
         "6",
         "61767",
         null
        ],
        [
         "7",
         "61768",
         null
        ],
        [
         "8",
         "61715",
         "16651.0"
        ],
        [
         "9",
         "20721",
         null
        ],
        [
         "10",
         "61717",
         null
        ],
        [
         "11",
         "62277",
         null
        ],
        [
         "12",
         "62964",
         "17364.0"
        ],
        [
         "13",
         "61716",
         "18527.0"
        ],
        [
         "14",
         "61770",
         null
        ],
        [
         "15",
         "64081",
         null
        ],
        [
         "16",
         "223",
         "968.0"
        ],
        [
         "17",
         "42721",
         "6280.0"
        ],
        [
         "18",
         "444",
         "387.0"
        ],
        [
         "19",
         "815",
         null
        ],
        [
         "20",
         "2330",
         "12386.0"
        ],
        [
         "21",
         "13330",
         null
        ],
        [
         "22",
         "32330",
         null
        ],
        [
         "23",
         "41330",
         "5482.0"
        ],
        [
         "24",
         "64123",
         "18003.0"
        ],
        [
         "25",
         "62278",
         null
        ],
        [
         "26",
         "62965",
         null
        ],
        [
         "27",
         "64083",
         null
        ],
        [
         "28",
         "64082",
         "17977.0"
        ],
        [
         "29",
         "1941",
         null
        ],
        [
         "30",
         "25265",
         "13091.0"
        ],
        [
         "31",
         "3928",
         "5977.0"
        ],
        [
         "32",
         "19",
         "7885.0"
        ],
        [
         "33",
         "14046",
         "1606.0"
        ],
        [
         "34",
         "64084",
         "17978.0"
        ],
        [
         "35",
         "15790",
         "5991.0"
        ],
        [
         "36",
         "221",
         "304.0"
        ],
        [
         "37",
         "60330",
         "15930.0"
        ],
        [
         "38",
         "398",
         "5562.0"
        ],
        [
         "39",
         "1309",
         "6345.0"
        ],
        [
         "40",
         "64125",
         "18005.0"
        ],
        [
         "41",
         "2921",
         "5978.0"
        ],
        [
         "42",
         "28639",
         "5112.0"
        ],
        [
         "43",
         "56302",
         "13901.0"
        ],
        [
         "44",
         "57302",
         "14417.0"
        ],
        [
         "45",
         "61302",
         null
        ],
        [
         "46",
         "49302",
         null
        ],
        [
         "47",
         "20302",
         null
        ],
        [
         "48",
         "43804",
         null
        ],
        [
         "49",
         "58302",
         "14873.0"
        ]
       ],
       "shape": {
        "columns": 2,
        "rows": 61194
       }
      },
      "text/html": [
       "<div>\n",
       "<style scoped>\n",
       "    .dataframe tbody tr th:only-of-type {\n",
       "        vertical-align: middle;\n",
       "    }\n",
       "\n",
       "    .dataframe tbody tr th {\n",
       "        vertical-align: top;\n",
       "    }\n",
       "\n",
       "    .dataframe thead th {\n",
       "        text-align: right;\n",
       "    }\n",
       "</style>\n",
       "<table border=\"1\" class=\"dataframe\">\n",
       "  <thead>\n",
       "    <tr style=\"text-align: right;\">\n",
       "      <th></th>\n",
       "      <th>id</th>\n",
       "      <th>logo</th>\n",
       "    </tr>\n",
       "  </thead>\n",
       "  <tbody>\n",
       "    <tr>\n",
       "      <th>0</th>\n",
       "      <td>61668</td>\n",
       "      <td>NaN</td>\n",
       "    </tr>\n",
       "    <tr>\n",
       "      <th>1</th>\n",
       "      <td>30720</td>\n",
       "      <td>3995.0</td>\n",
       "    </tr>\n",
       "    <tr>\n",
       "      <th>2</th>\n",
       "      <td>540</td>\n",
       "      <td>1902.0</td>\n",
       "    </tr>\n",
       "    <tr>\n",
       "      <th>3</th>\n",
       "      <td>64121</td>\n",
       "      <td>18002.0</td>\n",
       "    </tr>\n",
       "    <tr>\n",
       "      <th>4</th>\n",
       "      <td>62963</td>\n",
       "      <td>NaN</td>\n",
       "    </tr>\n",
       "    <tr>\n",
       "      <th>...</th>\n",
       "      <td>...</td>\n",
       "      <td>...</td>\n",
       "    </tr>\n",
       "    <tr>\n",
       "      <th>61189</th>\n",
       "      <td>41907</td>\n",
       "      <td>10007.0</td>\n",
       "    </tr>\n",
       "    <tr>\n",
       "      <th>61190</th>\n",
       "      <td>37730</td>\n",
       "      <td>12274.0</td>\n",
       "    </tr>\n",
       "    <tr>\n",
       "      <th>61191</th>\n",
       "      <td>11925</td>\n",
       "      <td>1181.0</td>\n",
       "    </tr>\n",
       "    <tr>\n",
       "      <th>61192</th>\n",
       "      <td>61707</td>\n",
       "      <td>NaN</td>\n",
       "    </tr>\n",
       "    <tr>\n",
       "      <th>61193</th>\n",
       "      <td>1277</td>\n",
       "      <td>13309.0</td>\n",
       "    </tr>\n",
       "  </tbody>\n",
       "</table>\n",
       "<p>61194 rows × 2 columns</p>\n",
       "</div>"
      ],
      "text/plain": [
       "          id     logo\n",
       "0      61668      NaN\n",
       "1      30720   3995.0\n",
       "2        540   1902.0\n",
       "3      64121  18002.0\n",
       "4      62963      NaN\n",
       "...      ...      ...\n",
       "61189  41907  10007.0\n",
       "61190  37730  12274.0\n",
       "61191  11925   1181.0\n",
       "61192  61707      NaN\n",
       "61193   1277  13309.0\n",
       "\n",
       "[61194 rows x 2 columns]"
      ]
     },
     "execution_count": 28,
     "metadata": {},
     "output_type": "execute_result"
    }
   ],
   "source": [
    "df_company_logo = get_all_company_logo()\n",
    "df_company_logo"
   ]
  },
  {
   "cell_type": "code",
   "execution_count": 29,
   "id": "a638afe6",
   "metadata": {},
   "outputs": [],
   "source": [
    "df_company_logo.to_csv(r'C:\\Users\\Martin\\VS_code\\Wild code school\\data_game_new\\data-game\\csv\\company_logo.csv', index=False)"
   ]
  },
  {
   "cell_type": "markdown",
   "id": "0822dc24",
   "metadata": {},
   "source": [
    "MULTIPLAYER_MODE"
   ]
  },
  {
   "cell_type": "code",
   "execution_count": null,
   "id": "aac4f734",
   "metadata": {},
   "outputs": [],
   "source": [
    "def get_all_multiplayer_modes():\n",
    "    get_all_multiplayer_modes = []\n",
    "    offset = 0\n",
    "    limit = 500  # Maximum limit for IGDB API\n",
    "\n",
    "    while True:\n",
    "        response = post('https://api.igdb.com/v4/multiplayer_modes', headers=headers , data=f'fields campaigncoop,lancoop,offlinecoop,offlinecoopmax,offlinemax,onlinecoop,onlinecoopmax,onlinemax,platform,splitscreen,splitscreenonline; limit {limit}; offset {offset};')\n",
    "        \n",
    "        if response.status_code == 200:\n",
    "            response_json = response.json()\n",
    "            if not response_json:  # If no more data, break the loop\n",
    "                break\n",
    "            get_all_multiplayer_modes.extend(response_json)\n",
    "            offset += limit\n",
    "        else:\n",
    "            print(\"Error fetching data from the API\")\n",
    "            print(\"Status code:\", response.status_code)\n",
    "            break\n",
    "\n",
    "\n",
    "    return pd.DataFrame(get_all_multiplayer_modes)"
   ]
  },
  {
   "cell_type": "code",
   "execution_count": 32,
   "id": "377dd0da",
   "metadata": {},
   "outputs": [
    {
     "data": {
      "application/vnd.microsoft.datawrangler.viewer.v0+json": {
       "columns": [
        {
         "name": "index",
         "rawType": "int64",
         "type": "integer"
        },
        {
         "name": "id",
         "rawType": "int64",
         "type": "integer"
        },
        {
         "name": "campaigncoop",
         "rawType": "bool",
         "type": "boolean"
        },
        {
         "name": "lancoop",
         "rawType": "bool",
         "type": "boolean"
        },
        {
         "name": "offlinecoop",
         "rawType": "bool",
         "type": "boolean"
        },
        {
         "name": "offlinemax",
         "rawType": "float64",
         "type": "float"
        },
        {
         "name": "onlinecoop",
         "rawType": "bool",
         "type": "boolean"
        },
        {
         "name": "platform",
         "rawType": "float64",
         "type": "float"
        },
        {
         "name": "splitscreen",
         "rawType": "bool",
         "type": "boolean"
        },
        {
         "name": "offlinecoopmax",
         "rawType": "float64",
         "type": "float"
        },
        {
         "name": "onlinecoopmax",
         "rawType": "float64",
         "type": "float"
        },
        {
         "name": "onlinemax",
         "rawType": "float64",
         "type": "float"
        }
       ],
       "ref": "69ae1452-c2bf-4a1d-a85b-31502099fe29",
       "rows": [
        [
         "0",
         "9953",
         "False",
         "False",
         "False",
         "2.0",
         "False",
         "22.0",
         "False",
         null,
         null,
         null
        ],
        [
         "1",
         "1832",
         "True",
         "False",
         "True",
         "0.0",
         "False",
         "12.0",
         "False",
         "2.0",
         "0.0",
         "0.0"
        ],
        [
         "2",
         "7987",
         "False",
         "False",
         "True",
         "2.0",
         "False",
         "49.0",
         "False",
         "0.0",
         "0.0",
         "0.0"
        ],
        [
         "3",
         "7",
         "False",
         "False",
         "False",
         "30.0",
         "False",
         "6.0",
         "False",
         null,
         null,
         null
        ],
        [
         "4",
         "10207",
         "False",
         "False",
         "False",
         null,
         "False",
         "82.0",
         "False",
         null,
         null,
         null
        ],
        [
         "5",
         "8224",
         "False",
         "False",
         "True",
         "2.0",
         "True",
         "49.0",
         "False",
         "0.0",
         "0.0",
         "6.0"
        ],
        [
         "6",
         "8246",
         "False",
         "False",
         "False",
         "0.0",
         "True",
         "49.0",
         "False",
         "0.0",
         "0.0",
         "2.0"
        ],
        [
         "7",
         "9247",
         "False",
         "False",
         "False",
         null,
         "True",
         "6.0",
         "False",
         null,
         "2.0",
         "6.0"
        ],
        [
         "8",
         "8258",
         "False",
         "False",
         "True",
         "4.0",
         "False",
         "49.0",
         "False",
         "0.0",
         "0.0",
         "0.0"
        ],
        [
         "9",
         "8273",
         "False",
         "False",
         "False",
         "0.0",
         "True",
         "49.0",
         "False",
         "0.0",
         "0.0",
         "2.0"
        ],
        [
         "10",
         "8278",
         "False",
         "False",
         "False",
         "0.0",
         "True",
         "49.0",
         "False",
         "0.0",
         "0.0",
         "5.0"
        ],
        [
         "11",
         "10832",
         "True",
         "False",
         "True",
         "2.0",
         "False",
         "6.0",
         "False",
         "2.0",
         null,
         null
        ],
        [
         "12",
         "8335",
         "False",
         "False",
         "False",
         "0.0",
         "True",
         "49.0",
         "False",
         "0.0",
         "0.0",
         "8.0"
        ],
        [
         "13",
         "8345",
         "False",
         "False",
         "False",
         "0.0",
         "False",
         "49.0",
         "False",
         "0.0",
         "0.0",
         "2.0"
        ],
        [
         "14",
         "10984",
         "False",
         "False",
         "False",
         null,
         "False",
         "32.0",
         "False",
         null,
         null,
         null
        ],
        [
         "15",
         "10358",
         "True",
         "False",
         "True",
         "2.0",
         "False",
         "48.0",
         "True",
         "2.0",
         null,
         null
        ],
        [
         "16",
         "8387",
         "False",
         "False",
         "False",
         null,
         "False",
         "34.0",
         "False",
         null,
         null,
         null
        ],
        [
         "17",
         "10818",
         "True",
         "False",
         "False",
         null,
         "True",
         "6.0",
         "False",
         null,
         "2.0",
         "2.0"
        ],
        [
         "18",
         "10532",
         "False",
         "False",
         "False",
         null,
         "True",
         "6.0",
         "False",
         null,
         "4.0",
         "6.0"
        ],
        [
         "19",
         "9569",
         "False",
         "False",
         "False",
         null,
         "False",
         "6.0",
         "False",
         null,
         null,
         null
        ],
        [
         "20",
         "10581",
         "False",
         "False",
         "False",
         "2.0",
         "False",
         "52.0",
         "False",
         null,
         null,
         null
        ],
        [
         "21",
         "10582",
         "False",
         "False",
         "False",
         "2.0",
         "False",
         "19.0",
         "False",
         null,
         null,
         null
        ],
        [
         "22",
         "9587",
         "False",
         "True",
         "True",
         "4.0",
         "True",
         "130.0",
         "True",
         "4.0",
         "8.0",
         "8.0"
        ],
        [
         "23",
         "7980",
         "False",
         "False",
         "True",
         "2.0",
         "True",
         "49.0",
         "False",
         "0.0",
         "0.0",
         "2.0"
        ],
        [
         "24",
         "8632",
         "False",
         "False",
         "True",
         "2.0",
         "False",
         "49.0",
         "False",
         "0.0",
         "0.0",
         "0.0"
        ],
        [
         "25",
         "6",
         "False",
         "False",
         "False",
         null,
         "False",
         "14.0",
         "False",
         null,
         null,
         "2.0"
        ],
        [
         "26",
         "8659",
         "False",
         "False",
         "False",
         "8.0",
         "False",
         "6.0",
         "False",
         "0.0",
         "0.0",
         "0.0"
        ],
        [
         "27",
         "8666",
         "False",
         "False",
         "False",
         null,
         "False",
         "6.0",
         "False",
         null,
         null,
         null
        ],
        [
         "28",
         "9667",
         "False",
         "False",
         "False",
         "8.0",
         "False",
         "6.0",
         "False",
         "0.0",
         "0.0",
         "8.0"
        ],
        [
         "29",
         "10675",
         "False",
         "False",
         "False",
         "4.0",
         "False",
         "14.0",
         "True",
         null,
         null,
         "4.0"
        ],
        [
         "30",
         "8678",
         "False",
         "False",
         "False",
         "1.0",
         "False",
         "6.0",
         "False",
         null,
         null,
         null
        ],
        [
         "31",
         "10683",
         "False",
         "False",
         "False",
         null,
         "False",
         "13.0",
         "False",
         null,
         null,
         null
        ],
        [
         "32",
         "10702",
         "True",
         "False",
         "True",
         "4.0",
         "True",
         "49.0",
         "False",
         "4.0",
         "4.0",
         "4.0"
        ],
        [
         "33",
         "8714",
         "False",
         "False",
         "False",
         null,
         "False",
         "6.0",
         "False",
         null,
         null,
         null
        ],
        [
         "34",
         "8725",
         "False",
         "False",
         "False",
         null,
         "False",
         "39.0",
         "False",
         null,
         null,
         null
        ],
        [
         "35",
         "8727",
         "False",
         "False",
         "True",
         null,
         "False",
         "6.0",
         "True",
         "2.0",
         null,
         null
        ],
        [
         "36",
         "1730",
         "True",
         "False",
         "True",
         "0.0",
         "True",
         "12.0",
         "True",
         "4.0",
         "4.0",
         "0.0"
        ],
        [
         "37",
         "8730",
         "False",
         "False",
         "False",
         "1.0",
         "False",
         null,
         "False",
         null,
         null,
         null
        ],
        [
         "38",
         "8739",
         "False",
         "False",
         "False",
         null,
         "False",
         "34.0",
         "False",
         null,
         null,
         null
        ],
        [
         "39",
         "1844",
         "True",
         "False",
         "True",
         "0.0",
         "False",
         "12.0",
         "False",
         "2.0",
         "0.0",
         "0.0"
        ],
        [
         "40",
         "1850",
         "True",
         "False",
         "True",
         "0.0",
         "False",
         "5.0",
         "True",
         "2.0",
         "0.0",
         "0.0"
        ],
        [
         "41",
         "1878",
         "True",
         "True",
         "False",
         "0.0",
         "True",
         "6.0",
         "False",
         "0.0",
         "4.0",
         "0.0"
        ],
        [
         "42",
         "8437",
         "False",
         "False",
         "False",
         "0.0",
         "True",
         "49.0",
         "False",
         "0.0",
         "0.0",
         "4.0"
        ],
        [
         "43",
         "8440",
         "False",
         "False",
         "True",
         "0.0",
         "False",
         "49.0",
         "False",
         "0.0",
         "0.0",
         "0.0"
        ],
        [
         "44",
         "7973",
         "False",
         "False",
         "False",
         "2.0",
         "False",
         "49.0",
         "False",
         "0.0",
         "0.0",
         "2.0"
        ],
        [
         "45",
         "10963",
         "False",
         "False",
         "False",
         "4.0",
         "False",
         "24.0",
         "False",
         null,
         null,
         null
        ],
        [
         "46",
         "8",
         "False",
         "False",
         "False",
         null,
         "False",
         "6.0",
         "False",
         null,
         null,
         null
        ],
        [
         "47",
         "9990",
         "False",
         "False",
         "False",
         null,
         "False",
         "20.0",
         "False",
         null,
         null,
         null
        ],
        [
         "48",
         "9008",
         "False",
         "False",
         "False",
         null,
         "False",
         "34.0",
         "False",
         null,
         null,
         null
        ],
        [
         "49",
         "12",
         "False",
         "False",
         "False",
         null,
         "False",
         null,
         "False",
         "6.0",
         null,
         null
        ]
       ],
       "shape": {
        "columns": 11,
        "rows": 20630
       }
      },
      "text/html": [
       "<div>\n",
       "<style scoped>\n",
       "    .dataframe tbody tr th:only-of-type {\n",
       "        vertical-align: middle;\n",
       "    }\n",
       "\n",
       "    .dataframe tbody tr th {\n",
       "        vertical-align: top;\n",
       "    }\n",
       "\n",
       "    .dataframe thead th {\n",
       "        text-align: right;\n",
       "    }\n",
       "</style>\n",
       "<table border=\"1\" class=\"dataframe\">\n",
       "  <thead>\n",
       "    <tr style=\"text-align: right;\">\n",
       "      <th></th>\n",
       "      <th>id</th>\n",
       "      <th>campaigncoop</th>\n",
       "      <th>lancoop</th>\n",
       "      <th>offlinecoop</th>\n",
       "      <th>offlinemax</th>\n",
       "      <th>onlinecoop</th>\n",
       "      <th>platform</th>\n",
       "      <th>splitscreen</th>\n",
       "      <th>offlinecoopmax</th>\n",
       "      <th>onlinecoopmax</th>\n",
       "      <th>onlinemax</th>\n",
       "    </tr>\n",
       "  </thead>\n",
       "  <tbody>\n",
       "    <tr>\n",
       "      <th>0</th>\n",
       "      <td>9953</td>\n",
       "      <td>False</td>\n",
       "      <td>False</td>\n",
       "      <td>False</td>\n",
       "      <td>2.0</td>\n",
       "      <td>False</td>\n",
       "      <td>22.0</td>\n",
       "      <td>False</td>\n",
       "      <td>NaN</td>\n",
       "      <td>NaN</td>\n",
       "      <td>NaN</td>\n",
       "    </tr>\n",
       "    <tr>\n",
       "      <th>1</th>\n",
       "      <td>1832</td>\n",
       "      <td>True</td>\n",
       "      <td>False</td>\n",
       "      <td>True</td>\n",
       "      <td>0.0</td>\n",
       "      <td>False</td>\n",
       "      <td>12.0</td>\n",
       "      <td>False</td>\n",
       "      <td>2.0</td>\n",
       "      <td>0.0</td>\n",
       "      <td>0.0</td>\n",
       "    </tr>\n",
       "    <tr>\n",
       "      <th>2</th>\n",
       "      <td>7987</td>\n",
       "      <td>False</td>\n",
       "      <td>False</td>\n",
       "      <td>True</td>\n",
       "      <td>2.0</td>\n",
       "      <td>False</td>\n",
       "      <td>49.0</td>\n",
       "      <td>False</td>\n",
       "      <td>0.0</td>\n",
       "      <td>0.0</td>\n",
       "      <td>0.0</td>\n",
       "    </tr>\n",
       "    <tr>\n",
       "      <th>3</th>\n",
       "      <td>7</td>\n",
       "      <td>False</td>\n",
       "      <td>False</td>\n",
       "      <td>False</td>\n",
       "      <td>30.0</td>\n",
       "      <td>False</td>\n",
       "      <td>6.0</td>\n",
       "      <td>False</td>\n",
       "      <td>NaN</td>\n",
       "      <td>NaN</td>\n",
       "      <td>NaN</td>\n",
       "    </tr>\n",
       "    <tr>\n",
       "      <th>4</th>\n",
       "      <td>10207</td>\n",
       "      <td>False</td>\n",
       "      <td>False</td>\n",
       "      <td>False</td>\n",
       "      <td>NaN</td>\n",
       "      <td>False</td>\n",
       "      <td>82.0</td>\n",
       "      <td>False</td>\n",
       "      <td>NaN</td>\n",
       "      <td>NaN</td>\n",
       "      <td>NaN</td>\n",
       "    </tr>\n",
       "    <tr>\n",
       "      <th>...</th>\n",
       "      <td>...</td>\n",
       "      <td>...</td>\n",
       "      <td>...</td>\n",
       "      <td>...</td>\n",
       "      <td>...</td>\n",
       "      <td>...</td>\n",
       "      <td>...</td>\n",
       "      <td>...</td>\n",
       "      <td>...</td>\n",
       "      <td>...</td>\n",
       "      <td>...</td>\n",
       "    </tr>\n",
       "    <tr>\n",
       "      <th>20625</th>\n",
       "      <td>35303</td>\n",
       "      <td>False</td>\n",
       "      <td>False</td>\n",
       "      <td>False</td>\n",
       "      <td>1.0</td>\n",
       "      <td>False</td>\n",
       "      <td>6.0</td>\n",
       "      <td>False</td>\n",
       "      <td>NaN</td>\n",
       "      <td>NaN</td>\n",
       "      <td>NaN</td>\n",
       "    </tr>\n",
       "    <tr>\n",
       "      <th>20626</th>\n",
       "      <td>35164</td>\n",
       "      <td>False</td>\n",
       "      <td>False</td>\n",
       "      <td>False</td>\n",
       "      <td>NaN</td>\n",
       "      <td>False</td>\n",
       "      <td>471.0</td>\n",
       "      <td>False</td>\n",
       "      <td>NaN</td>\n",
       "      <td>NaN</td>\n",
       "      <td>NaN</td>\n",
       "    </tr>\n",
       "    <tr>\n",
       "      <th>20627</th>\n",
       "      <td>35308</td>\n",
       "      <td>False</td>\n",
       "      <td>False</td>\n",
       "      <td>False</td>\n",
       "      <td>2.0</td>\n",
       "      <td>False</td>\n",
       "      <td>NaN</td>\n",
       "      <td>True</td>\n",
       "      <td>NaN</td>\n",
       "      <td>NaN</td>\n",
       "      <td>NaN</td>\n",
       "    </tr>\n",
       "    <tr>\n",
       "      <th>20628</th>\n",
       "      <td>35257</td>\n",
       "      <td>False</td>\n",
       "      <td>False</td>\n",
       "      <td>False</td>\n",
       "      <td>1.0</td>\n",
       "      <td>False</td>\n",
       "      <td>21.0</td>\n",
       "      <td>False</td>\n",
       "      <td>NaN</td>\n",
       "      <td>NaN</td>\n",
       "      <td>NaN</td>\n",
       "    </tr>\n",
       "    <tr>\n",
       "      <th>20629</th>\n",
       "      <td>35269</td>\n",
       "      <td>False</td>\n",
       "      <td>True</td>\n",
       "      <td>False</td>\n",
       "      <td>1.0</td>\n",
       "      <td>True</td>\n",
       "      <td>38.0</td>\n",
       "      <td>False</td>\n",
       "      <td>NaN</td>\n",
       "      <td>NaN</td>\n",
       "      <td>2.0</td>\n",
       "    </tr>\n",
       "  </tbody>\n",
       "</table>\n",
       "<p>20630 rows × 11 columns</p>\n",
       "</div>"
      ],
      "text/plain": [
       "          id  campaigncoop  lancoop  offlinecoop  offlinemax  onlinecoop  \\\n",
       "0       9953         False    False        False         2.0       False   \n",
       "1       1832          True    False         True         0.0       False   \n",
       "2       7987         False    False         True         2.0       False   \n",
       "3          7         False    False        False        30.0       False   \n",
       "4      10207         False    False        False         NaN       False   \n",
       "...      ...           ...      ...          ...         ...         ...   \n",
       "20625  35303         False    False        False         1.0       False   \n",
       "20626  35164         False    False        False         NaN       False   \n",
       "20627  35308         False    False        False         2.0       False   \n",
       "20628  35257         False    False        False         1.0       False   \n",
       "20629  35269         False     True        False         1.0        True   \n",
       "\n",
       "       platform  splitscreen  offlinecoopmax  onlinecoopmax  onlinemax  \n",
       "0          22.0        False             NaN            NaN        NaN  \n",
       "1          12.0        False             2.0            0.0        0.0  \n",
       "2          49.0        False             0.0            0.0        0.0  \n",
       "3           6.0        False             NaN            NaN        NaN  \n",
       "4          82.0        False             NaN            NaN        NaN  \n",
       "...         ...          ...             ...            ...        ...  \n",
       "20625       6.0        False             NaN            NaN        NaN  \n",
       "20626     471.0        False             NaN            NaN        NaN  \n",
       "20627       NaN         True             NaN            NaN        NaN  \n",
       "20628      21.0        False             NaN            NaN        NaN  \n",
       "20629      38.0        False             NaN            NaN        2.0  \n",
       "\n",
       "[20630 rows x 11 columns]"
      ]
     },
     "execution_count": 32,
     "metadata": {},
     "output_type": "execute_result"
    }
   ],
   "source": [
    "df_multiplayer_modes = get_all_multiplayer_modes()\n",
    "df_multiplayer_modes"
   ]
  },
  {
   "cell_type": "code",
   "execution_count": 33,
   "id": "b22843cb",
   "metadata": {},
   "outputs": [],
   "source": [
    "df_multiplayer_modes.to_csv(r'C:\\Users\\Martin\\VS_code\\Wild code school\\data_game_new\\data-game\\csv\\multiplayer_modes.csv', index=False)"
   ]
  },
  {
   "cell_type": "markdown",
   "id": "5b66ace6",
   "metadata": {},
   "source": [
    "GAME_MULTIPLAYER_MODE"
   ]
  },
  {
   "cell_type": "code",
   "execution_count": 38,
   "id": "7695d117",
   "metadata": {},
   "outputs": [],
   "source": [
    "def get_all_game_multiplayer_modes():\n",
    "    get_all_game_multiplayer_modes = []\n",
    "    offset = 0\n",
    "    limit = 500  # Maximum limit for IGDB API\n",
    "\n",
    "    while True:\n",
    "        response = post('https://api.igdb.com/v4/games', headers=headers , data=f'fields multiplayer_modes; limit {limit}; offset {offset};')\n",
    "        \n",
    "        if response.status_code == 200:\n",
    "            response_json = response.json()\n",
    "            if not response_json:  # If no more data, break the loop\n",
    "                break\n",
    "            get_all_game_multiplayer_modes.extend(response_json)\n",
    "            offset += limit\n",
    "        else:\n",
    "            print(\"Error fetching data from the API\")\n",
    "            print(\"Status code:\", response.status_code)\n",
    "            break\n",
    "\n",
    "\n",
    "    return pd.DataFrame(get_all_game_multiplayer_modes)"
   ]
  },
  {
   "cell_type": "code",
   "execution_count": null,
   "id": "49a417a4",
   "metadata": {},
   "outputs": [
    {
     "data": {
      "application/vnd.microsoft.datawrangler.viewer.v0+json": {
       "columns": [
        {
         "name": "index",
         "rawType": "int64",
         "type": "integer"
        },
        {
         "name": "id",
         "rawType": "int64",
         "type": "integer"
        },
        {
         "name": "multiplayer_modes",
         "rawType": "object",
         "type": "unknown"
        }
       ],
       "ref": "f08d5522-9f35-45d7-9c63-0a99787e006e",
       "rows": [
        [
         "0",
         "330684",
         null
        ],
        [
         "1",
         "177310",
         null
        ],
        [
         "2",
         "129194",
         null
        ],
        [
         "3",
         "282079",
         null
        ],
        [
         "4",
         "63844",
         null
        ],
        [
         "5",
         "338541",
         null
        ],
        [
         "6",
         "157761",
         null
        ],
        [
         "7",
         "335661",
         null
        ],
        [
         "8",
         "348397",
         null
        ],
        [
         "9",
         "347317",
         null
        ],
        [
         "10",
         "2329",
         "[17692]"
        ],
        [
         "11",
         "145545",
         null
        ],
        [
         "12",
         "341397",
         null
        ],
        [
         "13",
         "340611",
         null
        ],
        [
         "14",
         "189844",
         null
        ],
        [
         "15",
         "134684",
         null
        ],
        [
         "16",
         "194844",
         null
        ],
        [
         "17",
         "340494",
         null
        ],
        [
         "18",
         "1570",
         "[13833]"
        ],
        [
         "19",
         "274434",
         null
        ],
        [
         "20",
         "130742",
         null
        ],
        [
         "21",
         "94975",
         null
        ],
        [
         "22",
         "198472",
         null
        ],
        [
         "23",
         "289954",
         null
        ],
        [
         "24",
         "337409",
         null
        ],
        [
         "25",
         "44618",
         null
        ],
        [
         "26",
         "222607",
         null
        ],
        [
         "27",
         "347330",
         null
        ],
        [
         "28",
         "227130",
         null
        ],
        [
         "29",
         "260316",
         null
        ],
        [
         "30",
         "297397",
         "[27647]"
        ],
        [
         "31",
         "342765",
         null
        ],
        [
         "32",
         "1460",
         null
        ],
        [
         "33",
         "6692",
         null
        ],
        [
         "34",
         "255115",
         null
        ],
        [
         "35",
         "5522",
         null
        ],
        [
         "36",
         "211629",
         null
        ],
        [
         "37",
         "225397",
         null
        ],
        [
         "38",
         "226044",
         null
        ],
        [
         "39",
         "196965",
         null
        ],
        [
         "40",
         "220753",
         null
        ],
        [
         "41",
         "176127",
         null
        ],
        [
         "42",
         "259007",
         null
        ],
        [
         "43",
         "340454",
         null
        ],
        [
         "44",
         "347311",
         null
        ],
        [
         "45",
         "190145",
         null
        ],
        [
         "46",
         "151312",
         null
        ],
        [
         "47",
         "146301",
         "[14250, 14251]"
        ],
        [
         "48",
         "181187",
         null
        ],
        [
         "49",
         "7687",
         "[7992]"
        ]
       ],
       "shape": {
        "columns": 2,
        "rows": 323276
       }
      },
      "text/html": [
       "<div>\n",
       "<style scoped>\n",
       "    .dataframe tbody tr th:only-of-type {\n",
       "        vertical-align: middle;\n",
       "    }\n",
       "\n",
       "    .dataframe tbody tr th {\n",
       "        vertical-align: top;\n",
       "    }\n",
       "\n",
       "    .dataframe thead th {\n",
       "        text-align: right;\n",
       "    }\n",
       "</style>\n",
       "<table border=\"1\" class=\"dataframe\">\n",
       "  <thead>\n",
       "    <tr style=\"text-align: right;\">\n",
       "      <th></th>\n",
       "      <th>id</th>\n",
       "      <th>multiplayer_modes</th>\n",
       "    </tr>\n",
       "  </thead>\n",
       "  <tbody>\n",
       "    <tr>\n",
       "      <th>0</th>\n",
       "      <td>330684</td>\n",
       "      <td>NaN</td>\n",
       "    </tr>\n",
       "    <tr>\n",
       "      <th>1</th>\n",
       "      <td>177310</td>\n",
       "      <td>NaN</td>\n",
       "    </tr>\n",
       "    <tr>\n",
       "      <th>2</th>\n",
       "      <td>129194</td>\n",
       "      <td>NaN</td>\n",
       "    </tr>\n",
       "    <tr>\n",
       "      <th>3</th>\n",
       "      <td>282079</td>\n",
       "      <td>NaN</td>\n",
       "    </tr>\n",
       "    <tr>\n",
       "      <th>4</th>\n",
       "      <td>63844</td>\n",
       "      <td>NaN</td>\n",
       "    </tr>\n",
       "    <tr>\n",
       "      <th>...</th>\n",
       "      <td>...</td>\n",
       "      <td>...</td>\n",
       "    </tr>\n",
       "    <tr>\n",
       "      <th>323271</th>\n",
       "      <td>89219</td>\n",
       "      <td>NaN</td>\n",
       "    </tr>\n",
       "    <tr>\n",
       "      <th>323272</th>\n",
       "      <td>8993</td>\n",
       "      <td>NaN</td>\n",
       "    </tr>\n",
       "    <tr>\n",
       "      <th>323273</th>\n",
       "      <td>154420</td>\n",
       "      <td>NaN</td>\n",
       "    </tr>\n",
       "    <tr>\n",
       "      <th>323274</th>\n",
       "      <td>6253</td>\n",
       "      <td>NaN</td>\n",
       "    </tr>\n",
       "    <tr>\n",
       "      <th>323275</th>\n",
       "      <td>11261</td>\n",
       "      <td>NaN</td>\n",
       "    </tr>\n",
       "  </tbody>\n",
       "</table>\n",
       "<p>323276 rows × 2 columns</p>\n",
       "</div>"
      ],
      "text/plain": [
       "            id multiplayer_modes\n",
       "0       330684               NaN\n",
       "1       177310               NaN\n",
       "2       129194               NaN\n",
       "3       282079               NaN\n",
       "4        63844               NaN\n",
       "...        ...               ...\n",
       "323271   89219               NaN\n",
       "323272    8993               NaN\n",
       "323273  154420               NaN\n",
       "323274    6253               NaN\n",
       "323275   11261               NaN\n",
       "\n",
       "[323276 rows x 2 columns]"
      ]
     },
     "execution_count": 39,
     "metadata": {},
     "output_type": "execute_result"
    }
   ],
   "source": [
    "df_game_multiplayer_mode = get_all_game_multiplayer_modes()\n"
   ]
  },
  {
   "cell_type": "code",
   "execution_count": 40,
   "id": "edb1163a",
   "metadata": {},
   "outputs": [],
   "source": [
    "df_game_multiplayer_mode = df_game_multiplayer_mode.explode(\"multiplayer_modes\")"
   ]
  },
  {
   "cell_type": "code",
   "execution_count": 42,
   "id": "aa1c7d5f",
   "metadata": {},
   "outputs": [],
   "source": [
    "df_game_multiplayer_mode.to_csv(r'C:\\Users\\Martin\\VS_code\\Wild code school\\data_game_new\\data-game\\csv\\game_multiplayer_mode.csv', index=False)"
   ]
  },
  {
   "cell_type": "markdown",
   "id": "e0e2df0e",
   "metadata": {},
   "source": [
    "PLATFORM_MULTIPLAYER_MODE"
   ]
  },
  {
   "cell_type": "code",
   "execution_count": null,
   "id": "f89f53e7",
   "metadata": {},
   "outputs": [],
   "source": [
    "def get_all_platform_multiplayer_mode():\n",
    "    get_all_platform_multiplayer_mode = []\n",
    "    offset = 0\n",
    "    limit = 500  # Maximum limit for IGDB API\n",
    "\n",
    "    while True:\n",
    "        response = post('https://api.igdb.com/v4/multiplayer_modes', headers=headers , data=f'fields platform ; limit {limit}; offset {offset};')\n",
    "        \n",
    "        if response.status_code == 200:\n",
    "            response_json = response.json()\n",
    "            if not response_json:  # If no more data, break the loop\n",
    "                break\n",
    "            get_all_platform_multiplayer_mode.extend(response_json)\n",
    "            offset += limit\n",
    "        else:\n",
    "            print(\"Error fetching data from the API\")\n",
    "            print(\"Status code:\", response.status_code)\n",
    "            break\n",
    "\n",
    "\n",
    "    return pd.DataFrame(get_all_game_multiplayer_modes)"
   ]
  }
 ],
 "metadata": {
  "kernelspec": {
   "display_name": "Python 3",
   "language": "python",
   "name": "python3"
  },
  "language_info": {
   "codemirror_mode": {
    "name": "ipython",
    "version": 3
   },
   "file_extension": ".py",
   "mimetype": "text/x-python",
   "name": "python",
   "nbconvert_exporter": "python",
   "pygments_lexer": "ipython3",
   "version": "3.13.2"
  }
 },
 "nbformat": 4,
 "nbformat_minor": 5
}
