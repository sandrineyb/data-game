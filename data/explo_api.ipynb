{
 "cells": [
  {
   "cell_type": "markdown",
   "id": "8d1d65c1",
   "metadata": {},
   "source": [
    "# API RAWG\n",
    "RAWG : https://rawg.io/apidocs\n",
    "\n",
    "# API IGDB\n",
    "IGDB : https://api-docs.igdb.com/"
   ]
  },
  {
   "cell_type": "code",
   "execution_count": 18,
   "id": "fd8af8ca",
   "metadata": {},
   "outputs": [],
   "source": [
    "# Import\n",
    "from dotenv import load_dotenv\n",
    "import os\n",
    "import sys\n",
    "import requests\n",
    "from requests import post\n",
    "import json\n",
    "import time\n",
    "import pandas as pd\n",
    "import ast"
   ]
  },
  {
   "cell_type": "code",
   "execution_count": 3,
   "id": "0c246e04",
   "metadata": {},
   "outputs": [],
   "source": [
    "load_dotenv()\n",
    "\n",
    "api_key_rawg = os.getenv(\"API_KEY_RAWG\")\n",
    "client_id_igdb = os.getenv(\"IGDB_ID_CLIENT\")\n",
    "client_secret_igdb = os.getenv(\"IGDB_SECRET_CLIENT\")"
   ]
  },
  {
   "cell_type": "code",
   "execution_count": null,
   "id": "02e612bf",
   "metadata": {},
   "outputs": [],
   "source": [
    "\n",
    "    "
   ]
  },
  {
   "cell_type": "code",
   "execution_count": 4,
   "id": "8e0856e8",
   "metadata": {},
   "outputs": [
    {
     "name": "stdout",
     "output_type": "stream",
     "text": [
      "https://id.twitch.tv/oauth2/token?client_id=wxbwlcskmokd9wdad9b24663j01q97&client_secret=80utj76in1slffnnrruzm67wvc7il8&grant_type=client_credentials\n",
      "Access Token: f8aiuuakw1tdbqumtbrovicvb2x400\n"
     ]
    }
   ],
   "source": [
    "# Récupération du token d'accès pour IGDB\n",
    "\n",
    "url = f\"https://id.twitch.tv/oauth2/token?client_id={client_id_igdb}&client_secret={client_secret_igdb}&grant_type=client_credentials\"\n",
    "\n",
    "print(url)\n",
    "response = requests.post(url)\n",
    "if response.status_code == 200:\n",
    "    response_json = response.json()\n",
    "    if 'expires_in' in response_json == 0:\n",
    "        print(f\"Le token a expiré, il faut le renouveler\")\n",
    "    access_token = response_json['access_token']\n",
    "    print(f\"Access Token: {access_token}\")\n",
    "else:\n",
    "    print(\"Error fetching data from the API\")\n",
    "    print(\"Status code:\", response.status_code)\n"
   ]
  },
  {
   "cell_type": "code",
   "execution_count": 7,
   "id": "db1c1aa2",
   "metadata": {},
   "outputs": [],
   "source": [
    "headers = {\n",
    "    'Client-ID': client_id_igdb,   \n",
    "    'Authorization': f'Bearer {access_token}',\n",
    "    }"
   ]
  },
  {
   "cell_type": "code",
   "execution_count": 4,
   "id": "9be46be1",
   "metadata": {},
   "outputs": [
    {
     "data": {
      "text/plain": [
       "'\\nPagination IGDB -> limit max = 500 // Pour commencer plus loins -> offset = 500 \\n'"
      ]
     },
     "execution_count": 4,
     "metadata": {},
     "output_type": "execute_result"
    }
   ],
   "source": [
    "'''\n",
    "Pagination IGDB -> limit max = 500 // Pour commencer plus loins -> offset = 500 \n",
    "'''"
   ]
  },
  {
   "cell_type": "code",
   "execution_count": 5,
   "id": "22a6f1c8",
   "metadata": {},
   "outputs": [
    {
     "data": {
      "application/vnd.microsoft.datawrangler.viewer.v0+json": {
       "columns": [
        {
         "name": "index",
         "rawType": "int64",
         "type": "integer"
        },
        {
         "name": "id",
         "rawType": "int64",
         "type": "integer"
        },
        {
         "name": "category",
         "rawType": "int64",
         "type": "integer"
        },
        {
         "name": "cover",
         "rawType": "int64",
         "type": "integer"
        },
        {
         "name": "created_at",
         "rawType": "int64",
         "type": "integer"
        },
        {
         "name": "game_engines",
         "rawType": "object",
         "type": "unknown"
        },
        {
         "name": "game_modes",
         "rawType": "object",
         "type": "unknown"
        },
        {
         "name": "genres",
         "rawType": "object",
         "type": "unknown"
        },
        {
         "name": "involved_companies",
         "rawType": "object",
         "type": "unknown"
        },
        {
         "name": "name",
         "rawType": "object",
         "type": "string"
        },
        {
         "name": "parent_game",
         "rawType": "float64",
         "type": "float"
        },
        {
         "name": "platforms",
         "rawType": "object",
         "type": "unknown"
        },
        {
         "name": "player_perspectives",
         "rawType": "object",
         "type": "unknown"
        },
        {
         "name": "release_dates",
         "rawType": "object",
         "type": "unknown"
        },
        {
         "name": "screenshots",
         "rawType": "object",
         "type": "unknown"
        },
        {
         "name": "slug",
         "rawType": "object",
         "type": "string"
        },
        {
         "name": "summary",
         "rawType": "object",
         "type": "unknown"
        },
        {
         "name": "themes",
         "rawType": "object",
         "type": "unknown"
        },
        {
         "name": "updated_at",
         "rawType": "int64",
         "type": "integer"
        },
        {
         "name": "url",
         "rawType": "object",
         "type": "string"
        },
        {
         "name": "videos",
         "rawType": "object",
         "type": "unknown"
        },
        {
         "name": "checksum",
         "rawType": "object",
         "type": "string"
        },
        {
         "name": "game_type",
         "rawType": "int64",
         "type": "integer"
        },
        {
         "name": "artworks",
         "rawType": "object",
         "type": "unknown"
        },
        {
         "name": "external_games",
         "rawType": "object",
         "type": "unknown"
        },
        {
         "name": "first_release_date",
         "rawType": "float64",
         "type": "float"
        },
        {
         "name": "similar_games",
         "rawType": "object",
         "type": "unknown"
        },
        {
         "name": "tags",
         "rawType": "object",
         "type": "unknown"
        },
        {
         "name": "websites",
         "rawType": "object",
         "type": "unknown"
        },
        {
         "name": "keywords",
         "rawType": "object",
         "type": "unknown"
        },
        {
         "name": "language_supports",
         "rawType": "object",
         "type": "unknown"
        },
        {
         "name": "collections",
         "rawType": "object",
         "type": "unknown"
        },
        {
         "name": "alternative_names",
         "rawType": "object",
         "type": "unknown"
        },
        {
         "name": "franchises",
         "rawType": "object",
         "type": "unknown"
        },
        {
         "name": "rating",
         "rawType": "float64",
         "type": "float"
        },
        {
         "name": "rating_count",
         "rawType": "float64",
         "type": "float"
        },
        {
         "name": "total_rating",
         "rawType": "float64",
         "type": "float"
        },
        {
         "name": "total_rating_count",
         "rawType": "float64",
         "type": "float"
        },
        {
         "name": "game_localizations",
         "rawType": "object",
         "type": "unknown"
        },
        {
         "name": "age_ratings",
         "rawType": "object",
         "type": "unknown"
        },
        {
         "name": "franchise",
         "rawType": "float64",
         "type": "float"
        },
        {
         "name": "multiplayer_modes",
         "rawType": "object",
         "type": "unknown"
        }
       ],
       "ref": "f607e06f-a127-4e9c-a645-769e202445c7",
       "rows": [
        [
         "0",
         "330684",
         "14",
         "437074",
         "1738949769",
         "[439]",
         "[1, 2, 4]",
         "[10, 33]",
         "[306710]",
         "Nightmare Kart: The Old Karts",
         "295664.0",
         "[6]",
         "[2]",
         "[700729]",
         "[1459201, 1459202, 1459205, 1459203, 1459204]",
         "nightmare-kart-the-old-karts",
         "An upcoming free expansion to Nightmare Kart with a brand new mini-campaign, racers, karts, tracks, power-ups, and game modes.",
         "[1]",
         "1739978991",
         "https://www.igdb.com/games/nightmare-kart-the-old-karts",
         "[139717]",
         "7d5404e9-fea7-c763-0667-d9ad7a9ba15a",
         "14",
         null,
         null,
         null,
         null,
         null,
         null,
         null,
         null,
         null,
         null,
         null,
         null,
         null,
         null,
         null,
         null,
         null,
         null,
         null
        ],
        [
         "1",
         "177310",
         "0",
         "256495",
         "1634642434",
         "[750]",
         "[1]",
         "[13, 32]",
         "[190784]",
         "The Undying Beast",
         null,
         "[6]",
         "[1]",
         "[393911]",
         "[668441, 668442, 668443]",
         "the-undying-beast",
         "There was a flash of light, a choir of glass, and the sound of sirens approaching. Then for what seemed like eternity, a black hollow void. Suddenly you found yourself within a new plane. Dead trees and fog is all that surrounds you. You hear no birds or signs of life, but strange cackles and moans sound from the distance. And then you notice out of the corner of your eye you may not be alone here.",
         "[19]",
         "1745590085",
         "https://www.igdb.com/games/the-undying-beast",
         null,
         "61ffa790-3306-000b-7c7a-ea34f44c861e",
         "0",
         "[56200]",
         "[2158811, 2137275]",
         "1586736000.0",
         "[65827, 111130, 36269, 55282, 55590, 31515, 29348, 87975, 116582, 13189]",
         "[19, 268435469, 268435488]",
         "[237634, 473902]",
         null,
         null,
         null,
         null,
         null,
         null,
         null,
         null,
         null,
         null,
         null,
         null,
         null
        ],
        [
         "2",
         "282079",
         "5",
         "354470",
         "1704811215",
         null,
         "[1]",
         "[5, 8]",
         "[253727]",
         "Rockman X: New Year 2023",
         "1741.0",
         "[58]",
         "[2, 4]",
         "[553958]",
         null,
         "rockman-x-new-year-2023",
         "A small hack to celebrate the Chinese New Year 2023, Year of the Rabbit.",
         "[1]",
         "1739927802",
         "https://www.igdb.com/games/rockman-x-new-year-2023",
         null,
         "8d13b251-8e24-ea0d-ce58-67797903093e",
         "5",
         null,
         null,
         "1672531200.0",
         "[57187, 103292, 95340, 19164, 119177, 38030, 106805, 32902, 43367, 28751]",
         "[1, 268435461, 268435464, 536872916]",
         "[606539]",
         "[2004]",
         "[876934]",
         "[9403]",
         null,
         null,
         null,
         null,
         null,
         null,
         null,
         null,
         null,
         null
        ],
        [
         "3",
         "63844",
         "0",
         "120345",
         "1505125971",
         null,
         "[1, 2, 4]",
         "[14]",
         "[113526]",
         "Ace wo Nerae!",
         null,
         "[58]",
         "[2]",
         "[527779]",
         "[409289, 409288, 409287]",
         "ace-wo-nerae",
         "A tennis game for the Super Famicom based on the 1970s manga and anime of the same name.",
         "[1]",
         "1748464541",
         "https://www.igdb.com/games/ace-wo-nerae",
         "[43074]",
         "e6fd2230-d828-ffd1-13f0-c24bb5c89133",
         "0",
         null,
         "[1898974, 119203]",
         "756518400.0",
         "[57372, 57296, 72812, 118871, 61127, 114285, 24426, 28010, 61985, 15851]",
         "[1, 268435470, 536870990, 536871223, 536875053, 536896177, 536900657, 536919203]",
         "[161465, 373934]",
         "[78, 311, 4141, 25265, 29745, 48291]",
         "[685891]",
         "[6626]",
         "[52401, 118236]",
         "[2330]",
         "52.90462943179914",
         "5.0",
         "52.90462943179914",
         "5.0",
         "[2159]",
         null,
         null,
         null
        ],
        [
         "4",
         "338541",
         "7",
         "449138",
         "1743773041",
         null,
         "[1]",
         "[10]",
         "[314234]",
         "Mario Kart Tour: Vancouver Tour",
         "85663.0",
         "[34, 39]",
         "[2]",
         "[723812, 723814]",
         null,
         "mario-kart-tour-vancouver-tour",
         null,
         null,
         "1743800609",
         "https://www.igdb.com/games/mario-kart-tour-vancouver-tour",
         null,
         "fbfe2f93-bc2e-76e1-11a8-8c9d059c8e4f",
         "7",
         "[159497]",
         null,
         "1581465600.0",
         "[80382, 109292, 55192, 104983, 27553, 107227, 102023, 103018, 44178, 27378]",
         "[268435466]",
         "[724679]",
         null,
         "[1205446]",
         null,
         null,
         "[845]",
         null,
         null,
         null,
         null,
         null,
         null,
         null,
         null
        ],
        [
         "5",
         "157761",
         "1",
         "380797",
         "1626338753",
         null,
         "[1]",
         "[13]",
         "[144890, 144891]",
         "Microsoft Flight Simulator X: Steam Edition - Cessna C208B Grand Caravan",
         "36261.0",
         "[6]",
         "[1, 2]",
         "[302630]",
         "[539975, 540007, 540003, 539998, 539995, 539992, 539988, 539983, 539976]",
         "microsoft-flight-simulator-x-steam-edition-cessna-c208b-grand-caravan",
         "Developed by Carenado, the FSX: Steam Edition rendition of the Cessna C208B Grand Caravan is a hugely detailed and accurate aircraft. It comes in seven paint schemes, features accurate flight dynamics and realistic instruments including autopilot, custom weather radar and an original GNS 430.",
         null,
         "1728930003",
         "https://www.igdb.com/games/microsoft-flight-simulator-x-steam-edition-cessna-c208b-grand-caravan",
         null,
         "43345b69-b4fd-370e-cbaa-da25d689cabe",
         "1",
         null,
         "[2056165]",
         "1525132800.0",
         "[101573, 105264, 115738, 17613, 112754, 87485, 100794, 36346, 65827, 76340]",
         "[268435469]",
         "[200750]",
         null,
         "[570844]",
         null,
         null,
         null,
         null,
         null,
         null,
         null,
         null,
         null,
         null,
         null
        ],
        [
         "6",
         "335661",
         "0",
         "444936",
         "1742049962",
         "[206]",
         "[1]",
         "[32, 33]",
         "[311598]",
         "Everlasting Tower",
         null,
         "[3, 6, 14]",
         "[4]",
         "[715032, 715033, 715031]",
         "[1481657, 1481658, 1481659]",
         "everlasting-tower",
         "Escape a fiery death by climbing this tower for as long as you can.\n\nA simple randomly-generated vertical platformer with a retro feel. See for how long you can endure the everlasting tower.\n\nHas 4 difficulty levels and local high-scores.",
         "[1]",
         "1745474073",
         "https://www.igdb.com/games/everlasting-tower",
         "[143185]",
         "abda95cf-032a-1a7a-905b-ec6eb7946594",
         "0",
         "[162146]",
         "[2993188, 3006529]",
         "1374019200.0",
         "[43367, 113895, 111130, 56033, 96217, 119207, 121036, 106987, 25640, 37419]",
         "[1, 268435488, 268435489, 536872617, 536872692, 536913759]",
         "[719223]",
         "[1705, 1780, 42847]",
         "[1182730]",
         null,
         null,
         null,
         null,
         null,
         null,
         null,
         null,
         null,
         null,
         null
        ],
        [
         "7",
         "348397",
         "0",
         "464597",
         "1749430032",
         null,
         "[1]",
         "[14, 32]",
         null,
         "Baccarat",
         null,
         "[6]",
         null,
         "[753589]",
         "[1558382, 1558392, 1558396, 1558406, 1558413]",
         "baccarat",
         "Baccarat keeps you on the edge of your seat with every turn of the cards! Feel the thrill of high-stakes decisions, the rush of a perfect hand, and the sweet satisfaction of a big win. Will luck be on your side, or will the suspense keep you coming back for more?",
         null,
         "1749548143",
         "https://www.igdb.com/games/baccarat",
         null,
         "eb584d31-1ac9-7379-ceda-ccdcd3aff880",
         "0",
         "[173159]",
         "[3071334, 3021779]",
         null,
         "[349142, 349071, 349039, 349036, 349028, 349026, 348993, 348821, 348702, 348565]",
         "[536909060, 536919197]",
         "[811184]",
         "[38148, 48285]",
         "[1277264, 1277268, 1277262, 1277269, 1277273, 1277261, 1277265, 1277266, 1277271, 1277274, 1277237, 1277238, 1277239, 1277240, 1277241, 1277242, 1277243, 1277244, 1277245, 1277246, 1277247, 1277248, 1277249, 1277250, 1277251, 1277252, 1277253, 1277254, 1277255, 1277256, 1277257, 1277258, 1277259, 1277260, 1277263, 1277267, 1277270, 1277272, 1277275]",
         null,
         null,
         null,
         null,
         null,
         null,
         null,
         null,
         null,
         null,
         null
        ],
        [
         "8",
         "347317",
         "0",
         "465492",
         "1749177413",
         null,
         "[1]",
         "[9, 13, 15, 33]",
         null,
         "Cat Cosmic Puzzle",
         null,
         "[130]",
         null,
         "[751770]",
         "[1550021, 1550026, 1550032, 1550038, 1550042, 1550049]",
         "cat-cosmic-puzzle",
         "A purrfect puzzle among the stars!",
         null,
         "1749748842",
         "https://www.igdb.com/games/cat-cosmic-puzzle",
         null,
         "a18be72d-963f-5e1b-9536-df0e8c96a79f",
         "0",
         "[171221]",
         "[3069726]",
         "1749686400.0",
         "[17613, 25905, 112754, 36346, 65827, 90788, 24620, 36269, 55590, 31515]",
         "[268435465, 268435469, 268435471, 268435489]",
         "[807551]",
         null,
         "[1282865]",
         null,
         null,
         null,
         null,
         null,
         null,
         null,
         null,
         "[212650, 213490]",
         null,
         null
        ],
        [
         "9",
         "2329",
         "0",
         "95862",
         "1372630174",
         null,
         "[1, 2, 3, 4]",
         "[26, 35]",
         "[190541, 190542, 225625]",
         "Mario Party 3",
         null,
         "[4]",
         "[3]",
         "[549128, 549129, 549130, 509561]",
         "[24226, 24224, 24225, 24227, 24228]",
         "mario-party-3",
         "Mario Party 3 is the third and final Mario Party title for the Nintendo 64. A total of eight characters are available to choose from: Mario, Luigi, Princess Peach, Yoshi, Wario, Donkey Kong, and newcomers Waluigi and Princess Daisy. Mario Party 3 features duel maps, in which two players try to lower each other's stamina to zero using non-playable characters such as Chain Chomps. It is the first Mario Party game to feature Luigi's main voice and also it is last Mario game where Princess Daisy appears in a yellow and white dress, and with long hair, as well as the last Mario game (until New Super Mario Bros. Wii) in which Yoshi's \"record-scratching\" voice is used. It is also the first Mario Party game to have multiple save slots.",
         "[1, 40]",
         "1750631904",
         "https://www.igdb.com/games/mario-party-3",
         "[21540]",
         "5f3fa5bd-4741-4aec-2bb7-696f5ecf3edb",
         "0",
         "[95881, 124541, 124542, 124543, 124553]",
         "[28500, 218739, 246832, 145672]",
         "976147200.0",
         "[28113, 19083, 28213, 103339, 54774, 90101, 19082, 27927, 1074, 119207]",
         "[1, 40, 268435482, 268435491, 536871186, 536875151, 536875240, 536894895, 536896227, 536897818, 536900340, 536900534, 536900542, 536902445, 536908274, 536908653]",
         "[7508, 242928, 316310, 514643]",
         "[274, 4239, 4328, 23983, 25315, 26906, 29428, 29622, 29630, 31533, 37362, 37741]",
         "[646658, 646659, 646660, 685797, 685798, 685799]",
         "[453]",
         "[34041, 137901]",
         "[24, 845]",
         "75.89289109104826",
         "97.0",
         "75.89289109104826",
         "97.0",
         "[3461, 28758]",
         "[8718, 96855]",
         "24.0",
         "[17692]"
        ]
       ],
       "shape": {
        "columns": 41,
        "rows": 10
       }
      },
      "text/html": [
       "<div>\n",
       "<style scoped>\n",
       "    .dataframe tbody tr th:only-of-type {\n",
       "        vertical-align: middle;\n",
       "    }\n",
       "\n",
       "    .dataframe tbody tr th {\n",
       "        vertical-align: top;\n",
       "    }\n",
       "\n",
       "    .dataframe thead th {\n",
       "        text-align: right;\n",
       "    }\n",
       "</style>\n",
       "<table border=\"1\" class=\"dataframe\">\n",
       "  <thead>\n",
       "    <tr style=\"text-align: right;\">\n",
       "      <th></th>\n",
       "      <th>id</th>\n",
       "      <th>category</th>\n",
       "      <th>cover</th>\n",
       "      <th>created_at</th>\n",
       "      <th>game_engines</th>\n",
       "      <th>game_modes</th>\n",
       "      <th>genres</th>\n",
       "      <th>involved_companies</th>\n",
       "      <th>name</th>\n",
       "      <th>parent_game</th>\n",
       "      <th>...</th>\n",
       "      <th>alternative_names</th>\n",
       "      <th>franchises</th>\n",
       "      <th>rating</th>\n",
       "      <th>rating_count</th>\n",
       "      <th>total_rating</th>\n",
       "      <th>total_rating_count</th>\n",
       "      <th>game_localizations</th>\n",
       "      <th>age_ratings</th>\n",
       "      <th>franchise</th>\n",
       "      <th>multiplayer_modes</th>\n",
       "    </tr>\n",
       "  </thead>\n",
       "  <tbody>\n",
       "    <tr>\n",
       "      <th>0</th>\n",
       "      <td>330684</td>\n",
       "      <td>14</td>\n",
       "      <td>437074</td>\n",
       "      <td>1738949769</td>\n",
       "      <td>[439]</td>\n",
       "      <td>[1, 2, 4]</td>\n",
       "      <td>[10, 33]</td>\n",
       "      <td>[306710]</td>\n",
       "      <td>Nightmare Kart: The Old Karts</td>\n",
       "      <td>295664.0</td>\n",
       "      <td>...</td>\n",
       "      <td>NaN</td>\n",
       "      <td>NaN</td>\n",
       "      <td>NaN</td>\n",
       "      <td>NaN</td>\n",
       "      <td>NaN</td>\n",
       "      <td>NaN</td>\n",
       "      <td>NaN</td>\n",
       "      <td>NaN</td>\n",
       "      <td>NaN</td>\n",
       "      <td>NaN</td>\n",
       "    </tr>\n",
       "    <tr>\n",
       "      <th>1</th>\n",
       "      <td>177310</td>\n",
       "      <td>0</td>\n",
       "      <td>256495</td>\n",
       "      <td>1634642434</td>\n",
       "      <td>[750]</td>\n",
       "      <td>[1]</td>\n",
       "      <td>[13, 32]</td>\n",
       "      <td>[190784]</td>\n",
       "      <td>The Undying Beast</td>\n",
       "      <td>NaN</td>\n",
       "      <td>...</td>\n",
       "      <td>NaN</td>\n",
       "      <td>NaN</td>\n",
       "      <td>NaN</td>\n",
       "      <td>NaN</td>\n",
       "      <td>NaN</td>\n",
       "      <td>NaN</td>\n",
       "      <td>NaN</td>\n",
       "      <td>NaN</td>\n",
       "      <td>NaN</td>\n",
       "      <td>NaN</td>\n",
       "    </tr>\n",
       "    <tr>\n",
       "      <th>2</th>\n",
       "      <td>282079</td>\n",
       "      <td>5</td>\n",
       "      <td>354470</td>\n",
       "      <td>1704811215</td>\n",
       "      <td>NaN</td>\n",
       "      <td>[1]</td>\n",
       "      <td>[5, 8]</td>\n",
       "      <td>[253727]</td>\n",
       "      <td>Rockman X: New Year 2023</td>\n",
       "      <td>1741.0</td>\n",
       "      <td>...</td>\n",
       "      <td>NaN</td>\n",
       "      <td>NaN</td>\n",
       "      <td>NaN</td>\n",
       "      <td>NaN</td>\n",
       "      <td>NaN</td>\n",
       "      <td>NaN</td>\n",
       "      <td>NaN</td>\n",
       "      <td>NaN</td>\n",
       "      <td>NaN</td>\n",
       "      <td>NaN</td>\n",
       "    </tr>\n",
       "    <tr>\n",
       "      <th>3</th>\n",
       "      <td>63844</td>\n",
       "      <td>0</td>\n",
       "      <td>120345</td>\n",
       "      <td>1505125971</td>\n",
       "      <td>NaN</td>\n",
       "      <td>[1, 2, 4]</td>\n",
       "      <td>[14]</td>\n",
       "      <td>[113526]</td>\n",
       "      <td>Ace wo Nerae!</td>\n",
       "      <td>NaN</td>\n",
       "      <td>...</td>\n",
       "      <td>[52401, 118236]</td>\n",
       "      <td>[2330]</td>\n",
       "      <td>52.904629</td>\n",
       "      <td>5.0</td>\n",
       "      <td>52.904629</td>\n",
       "      <td>5.0</td>\n",
       "      <td>[2159]</td>\n",
       "      <td>NaN</td>\n",
       "      <td>NaN</td>\n",
       "      <td>NaN</td>\n",
       "    </tr>\n",
       "    <tr>\n",
       "      <th>4</th>\n",
       "      <td>338541</td>\n",
       "      <td>7</td>\n",
       "      <td>449138</td>\n",
       "      <td>1743773041</td>\n",
       "      <td>NaN</td>\n",
       "      <td>[1]</td>\n",
       "      <td>[10]</td>\n",
       "      <td>[314234]</td>\n",
       "      <td>Mario Kart Tour: Vancouver Tour</td>\n",
       "      <td>85663.0</td>\n",
       "      <td>...</td>\n",
       "      <td>NaN</td>\n",
       "      <td>[845]</td>\n",
       "      <td>NaN</td>\n",
       "      <td>NaN</td>\n",
       "      <td>NaN</td>\n",
       "      <td>NaN</td>\n",
       "      <td>NaN</td>\n",
       "      <td>NaN</td>\n",
       "      <td>NaN</td>\n",
       "      <td>NaN</td>\n",
       "    </tr>\n",
       "    <tr>\n",
       "      <th>5</th>\n",
       "      <td>157761</td>\n",
       "      <td>1</td>\n",
       "      <td>380797</td>\n",
       "      <td>1626338753</td>\n",
       "      <td>NaN</td>\n",
       "      <td>[1]</td>\n",
       "      <td>[13]</td>\n",
       "      <td>[144890, 144891]</td>\n",
       "      <td>Microsoft Flight Simulator X: Steam Edition - ...</td>\n",
       "      <td>36261.0</td>\n",
       "      <td>...</td>\n",
       "      <td>NaN</td>\n",
       "      <td>NaN</td>\n",
       "      <td>NaN</td>\n",
       "      <td>NaN</td>\n",
       "      <td>NaN</td>\n",
       "      <td>NaN</td>\n",
       "      <td>NaN</td>\n",
       "      <td>NaN</td>\n",
       "      <td>NaN</td>\n",
       "      <td>NaN</td>\n",
       "    </tr>\n",
       "    <tr>\n",
       "      <th>6</th>\n",
       "      <td>335661</td>\n",
       "      <td>0</td>\n",
       "      <td>444936</td>\n",
       "      <td>1742049962</td>\n",
       "      <td>[206]</td>\n",
       "      <td>[1]</td>\n",
       "      <td>[32, 33]</td>\n",
       "      <td>[311598]</td>\n",
       "      <td>Everlasting Tower</td>\n",
       "      <td>NaN</td>\n",
       "      <td>...</td>\n",
       "      <td>NaN</td>\n",
       "      <td>NaN</td>\n",
       "      <td>NaN</td>\n",
       "      <td>NaN</td>\n",
       "      <td>NaN</td>\n",
       "      <td>NaN</td>\n",
       "      <td>NaN</td>\n",
       "      <td>NaN</td>\n",
       "      <td>NaN</td>\n",
       "      <td>NaN</td>\n",
       "    </tr>\n",
       "    <tr>\n",
       "      <th>7</th>\n",
       "      <td>348397</td>\n",
       "      <td>0</td>\n",
       "      <td>464597</td>\n",
       "      <td>1749430032</td>\n",
       "      <td>NaN</td>\n",
       "      <td>[1]</td>\n",
       "      <td>[14, 32]</td>\n",
       "      <td>NaN</td>\n",
       "      <td>Baccarat</td>\n",
       "      <td>NaN</td>\n",
       "      <td>...</td>\n",
       "      <td>NaN</td>\n",
       "      <td>NaN</td>\n",
       "      <td>NaN</td>\n",
       "      <td>NaN</td>\n",
       "      <td>NaN</td>\n",
       "      <td>NaN</td>\n",
       "      <td>NaN</td>\n",
       "      <td>NaN</td>\n",
       "      <td>NaN</td>\n",
       "      <td>NaN</td>\n",
       "    </tr>\n",
       "    <tr>\n",
       "      <th>8</th>\n",
       "      <td>347317</td>\n",
       "      <td>0</td>\n",
       "      <td>465492</td>\n",
       "      <td>1749177413</td>\n",
       "      <td>NaN</td>\n",
       "      <td>[1]</td>\n",
       "      <td>[9, 13, 15, 33]</td>\n",
       "      <td>NaN</td>\n",
       "      <td>Cat Cosmic Puzzle</td>\n",
       "      <td>NaN</td>\n",
       "      <td>...</td>\n",
       "      <td>NaN</td>\n",
       "      <td>NaN</td>\n",
       "      <td>NaN</td>\n",
       "      <td>NaN</td>\n",
       "      <td>NaN</td>\n",
       "      <td>NaN</td>\n",
       "      <td>NaN</td>\n",
       "      <td>[212650, 213490]</td>\n",
       "      <td>NaN</td>\n",
       "      <td>NaN</td>\n",
       "    </tr>\n",
       "    <tr>\n",
       "      <th>9</th>\n",
       "      <td>2329</td>\n",
       "      <td>0</td>\n",
       "      <td>95862</td>\n",
       "      <td>1372630174</td>\n",
       "      <td>NaN</td>\n",
       "      <td>[1, 2, 3, 4]</td>\n",
       "      <td>[26, 35]</td>\n",
       "      <td>[190541, 190542, 225625]</td>\n",
       "      <td>Mario Party 3</td>\n",
       "      <td>NaN</td>\n",
       "      <td>...</td>\n",
       "      <td>[34041, 137901]</td>\n",
       "      <td>[24, 845]</td>\n",
       "      <td>75.892891</td>\n",
       "      <td>97.0</td>\n",
       "      <td>75.892891</td>\n",
       "      <td>97.0</td>\n",
       "      <td>[3461, 28758]</td>\n",
       "      <td>[8718, 96855]</td>\n",
       "      <td>24.0</td>\n",
       "      <td>[17692]</td>\n",
       "    </tr>\n",
       "  </tbody>\n",
       "</table>\n",
       "<p>10 rows × 41 columns</p>\n",
       "</div>"
      ],
      "text/plain": [
       "       id  category   cover  created_at game_engines    game_modes  \\\n",
       "0  330684        14  437074  1738949769        [439]     [1, 2, 4]   \n",
       "1  177310         0  256495  1634642434        [750]           [1]   \n",
       "2  282079         5  354470  1704811215          NaN           [1]   \n",
       "3   63844         0  120345  1505125971          NaN     [1, 2, 4]   \n",
       "4  338541         7  449138  1743773041          NaN           [1]   \n",
       "5  157761         1  380797  1626338753          NaN           [1]   \n",
       "6  335661         0  444936  1742049962        [206]           [1]   \n",
       "7  348397         0  464597  1749430032          NaN           [1]   \n",
       "8  347317         0  465492  1749177413          NaN           [1]   \n",
       "9    2329         0   95862  1372630174          NaN  [1, 2, 3, 4]   \n",
       "\n",
       "            genres        involved_companies  \\\n",
       "0         [10, 33]                  [306710]   \n",
       "1         [13, 32]                  [190784]   \n",
       "2           [5, 8]                  [253727]   \n",
       "3             [14]                  [113526]   \n",
       "4             [10]                  [314234]   \n",
       "5             [13]          [144890, 144891]   \n",
       "6         [32, 33]                  [311598]   \n",
       "7         [14, 32]                       NaN   \n",
       "8  [9, 13, 15, 33]                       NaN   \n",
       "9         [26, 35]  [190541, 190542, 225625]   \n",
       "\n",
       "                                                name  parent_game  ...  \\\n",
       "0                      Nightmare Kart: The Old Karts     295664.0  ...   \n",
       "1                                  The Undying Beast          NaN  ...   \n",
       "2                           Rockman X: New Year 2023       1741.0  ...   \n",
       "3                                      Ace wo Nerae!          NaN  ...   \n",
       "4                    Mario Kart Tour: Vancouver Tour      85663.0  ...   \n",
       "5  Microsoft Flight Simulator X: Steam Edition - ...      36261.0  ...   \n",
       "6                                  Everlasting Tower          NaN  ...   \n",
       "7                                           Baccarat          NaN  ...   \n",
       "8                                  Cat Cosmic Puzzle          NaN  ...   \n",
       "9                                      Mario Party 3          NaN  ...   \n",
       "\n",
       "  alternative_names franchises     rating rating_count total_rating  \\\n",
       "0               NaN        NaN        NaN          NaN          NaN   \n",
       "1               NaN        NaN        NaN          NaN          NaN   \n",
       "2               NaN        NaN        NaN          NaN          NaN   \n",
       "3   [52401, 118236]     [2330]  52.904629          5.0    52.904629   \n",
       "4               NaN      [845]        NaN          NaN          NaN   \n",
       "5               NaN        NaN        NaN          NaN          NaN   \n",
       "6               NaN        NaN        NaN          NaN          NaN   \n",
       "7               NaN        NaN        NaN          NaN          NaN   \n",
       "8               NaN        NaN        NaN          NaN          NaN   \n",
       "9   [34041, 137901]  [24, 845]  75.892891         97.0    75.892891   \n",
       "\n",
       "  total_rating_count game_localizations       age_ratings franchise  \\\n",
       "0                NaN                NaN               NaN       NaN   \n",
       "1                NaN                NaN               NaN       NaN   \n",
       "2                NaN                NaN               NaN       NaN   \n",
       "3                5.0             [2159]               NaN       NaN   \n",
       "4                NaN                NaN               NaN       NaN   \n",
       "5                NaN                NaN               NaN       NaN   \n",
       "6                NaN                NaN               NaN       NaN   \n",
       "7                NaN                NaN               NaN       NaN   \n",
       "8                NaN                NaN  [212650, 213490]       NaN   \n",
       "9               97.0      [3461, 28758]     [8718, 96855]      24.0   \n",
       "\n",
       "  multiplayer_modes  \n",
       "0               NaN  \n",
       "1               NaN  \n",
       "2               NaN  \n",
       "3               NaN  \n",
       "4               NaN  \n",
       "5               NaN  \n",
       "6               NaN  \n",
       "7               NaN  \n",
       "8               NaN  \n",
       "9           [17692]  \n",
       "\n",
       "[10 rows x 41 columns]"
      ]
     },
     "metadata": {},
     "output_type": "display_data"
    }
   ],
   "source": [
    "# Récupération des données de IGDB ( 4 requetes par seconde )\n",
    "url_igdb = \"https://api.igdb.com/v4/games\"\n",
    "\n",
    "headers = {\n",
    "    'Client-ID': client_id_igdb,\n",
    "    'Authorization': f'Bearer {access_token}',\n",
    "    'Body': \"fields *;\",\n",
    "    'data': 'fields age_ratings,artworks,bundles,category,checksum,collections,cover,dlcs,expanded_games,expansions,external_games,first_release_date,franchise,franchises,game_localizations,game_modes,game_status,game_type,genres,hypes,involved_companies,keywords,language_supports,multiplayer_modes,name,parent_game,platforms,player_perspectives,ports,rating,rating_count,release_dates,remakes,remasters,slug,standalone_expansions,storyline,summary,tags,themes,total_rating,total_rating_count,version_parent,version_title,videos,websites;'\n",
    "    }\n",
    "\n",
    "\n",
    "response = post('https://api.igdb.com/v4/games', headers=headers, data='fields *; limit 10;')\n",
    "\n",
    "# Vérification de la réponse\n",
    "if response.status_code == 200:\n",
    "    # On transforme la réponse en JSON\n",
    "    response_json = response.json()\n",
    "    # On transforme le JSON en DataFrame\n",
    "    df = pd.DataFrame(response_json)\n",
    "else:\n",
    "    print(\"Error fetching data from the API\")\n",
    "    print(\"Status code:\", response.status_code)\n",
    "    \n",
    "# Affichage du DataFrame\n",
    "display(df)"
   ]
  },
  {
   "cell_type": "markdown",
   "id": "9e3c4846",
   "metadata": {},
   "source": [
    "# Game Engines"
   ]
  },
  {
   "cell_type": "code",
   "execution_count": 6,
   "id": "6be62ebe",
   "metadata": {},
   "outputs": [],
   "source": [
    "# Pour completer le dataframe il va falloir faire des requetes sur les autres endpoints de l'API IGDB\n",
    "# Il faut notamment récuperers les game_engines, les games_modes, les genres, les involved_companies, les platformrs, les player perspectives, les release_dates, les screenxhot, les themes, les videos, les game_type, les artworks, les external_games, les first_release_date, les tags, les age_ratings, les keywords, les collections, les languages_supports, les alternative_names, les franchises, les game_localizations"
   ]
  },
  {
   "cell_type": "code",
   "execution_count": 6,
   "id": "d1f298ec",
   "metadata": {},
   "outputs": [
    {
     "name": "stdout",
     "output_type": "stream",
     "text": [
      "{'count': 1382}\n"
     ]
    }
   ],
   "source": [
    "# Récuperer le nombres d'engines\n",
    "url_igdb_engines_count = \"https://api.igdb.com/v4/game_engines/count\"\n",
    "\n",
    "headers = {\n",
    "    'Client-ID': client_id_igdb,   \n",
    "    'Authorization': f'Bearer {access_token}',\n",
    "    }\n",
    "\n",
    "response = post(url_igdb_engines_count, headers=headers, data='fields *;')\n",
    "print(response.json())"
   ]
  },
  {
   "cell_type": "code",
   "execution_count": 8,
   "id": "64a58dab",
   "metadata": {},
   "outputs": [
    {
     "data": {
      "application/vnd.microsoft.datawrangler.viewer.v0+json": {
       "columns": [
        {
         "name": "index",
         "rawType": "int64",
         "type": "integer"
        },
        {
         "name": "id",
         "rawType": "int64",
         "type": "integer"
        },
        {
         "name": "name",
         "rawType": "object",
         "type": "string"
        },
        {
         "name": "slug",
         "rawType": "object",
         "type": "string"
        },
        {
         "name": "description",
         "rawType": "object",
         "type": "unknown"
        },
        {
         "name": "companies",
         "rawType": "object",
         "type": "unknown"
        },
        {
         "name": "logo",
         "rawType": "float64",
         "type": "float"
        }
       ],
       "ref": "5bc17def-1a09-4407-a4a9-d358c9001ee8",
       "rows": [
        [
         "0",
         "220",
         "Vicious Engine",
         "vicious-engine",
         null,
         null,
         null
        ],
        [
         "1",
         "1184",
         "Bitsy 3D",
         "bitsy-3d",
         null,
         null,
         null
        ],
        [
         "2",
         "1597",
         "Star Rod",
         "star-rod",
         "Star Rod is a modding tool for Paper Mario (Nintendo 64).",
         null,
         null
        ],
        [
         "3",
         "339",
         "The Eight-Bit Universal Role Playing Engine",
         "the-eight-bit-universal-role-playing-engine",
         null,
         null,
         null
        ],
        [
         "4",
         "127",
         "LS3D",
         "ls3d",
         null,
         null,
         null
        ],
        [
         "5",
         "546",
         "AGS",
         "ags",
         null,
         null,
         null
        ],
        [
         "6",
         "119",
         "Glacier",
         "glacier",
         "The Glacier 1 game engine was created by IO Interactive in 1998 and was used publicly for the first time in the year 2000, with the release of IO Interactives first game, Hitman: Codename 47.",
         "[290]",
         "70.0"
        ],
        [
         "7",
         "1128",
         "Pixel Game Maker MV",
         "pixel-game-maker-mv",
         null,
         null,
         null
        ],
        [
         "8",
         "1331",
         "Tiger",
         "tiger",
         null,
         null,
         null
        ],
        [
         "9",
         "1279",
         "MS25",
         "ms25",
         null,
         null,
         null
        ],
        [
         "10",
         "488",
         "PC",
         "pc--1",
         null,
         null,
         null
        ],
        [
         "11",
         "1776",
         "GRACE",
         "grace",
         null,
         null,
         null
        ],
        [
         "12",
         "229",
         "Moai",
         "moai",
         null,
         null,
         null
        ],
        [
         "13",
         "129",
         "Emmersion",
         "emmersion",
         null,
         null,
         null
        ],
        [
         "14",
         "184",
         "Killzone Shadow Fall engine",
         "killzone-shadow-fall-engine",
         null,
         null,
         null
        ],
        [
         "15",
         "1617",
         "RT64",
         "rt64",
         "RT64 is an N64 graphics renderer for playing games with enhancements in emulators and native ports.",
         null,
         "331.0"
        ],
        [
         "16",
         "1210",
         "Darkstar",
         "darkstar",
         null,
         null,
         null
        ],
        [
         "17",
         "1681",
         "EntisGLS",
         "entisgls",
         null,
         null,
         null
        ],
        [
         "18",
         "288",
         "Dagon Engine",
         "dagon-engine",
         null,
         null,
         null
        ],
        [
         "19",
         "766",
         "Saber3D Engine",
         "saber3d-engine",
         null,
         null,
         null
        ],
        [
         "20",
         "1469",
         "Narrat",
         "narrat",
         "Narrat is a game engine for making interactive narrative RPGs.",
         null,
         "215.0"
        ],
        [
         "21",
         "34",
         "GlassBox",
         "glassbox",
         null,
         null,
         null
        ],
        [
         "22",
         "1592",
         "libsm64",
         "libsm64",
         null,
         null,
         null
        ],
        [
         "23",
         "40",
         "Titan 2.0",
         "titan-2-0",
         null,
         null,
         null
        ],
        [
         "24",
         "1558",
         "MegaZeux",
         "megazeux",
         "MegaZeux is a game creation system originally released in 1994 and still being developed today.",
         null,
         null
        ],
        [
         "25",
         "1756",
         "Sonic Dash",
         "sonic-dash",
         null,
         null,
         null
        ],
        [
         "26",
         "1052",
         "Rpgmak",
         "rpgmak",
         null,
         null,
         null
        ],
        [
         "27",
         "1108",
         "Starlight",
         "starlight",
         null,
         null,
         null
        ],
        [
         "28",
         "109",
         "Horizon Engine",
         "horizon-engine",
         null,
         null,
         null
        ],
        [
         "29",
         "112",
         "FlatRedBall",
         "flatredball",
         null,
         null,
         null
        ],
        [
         "30",
         "44",
         "Velocity Engine",
         "velocity-engine",
         null,
         "[481]",
         null
        ],
        [
         "31",
         "146",
         "Beard+Razor",
         "beard-plus-razor",
         null,
         null,
         null
        ],
        [
         "32",
         "162",
         "Vampire",
         "vampire",
         null,
         null,
         null
        ],
        [
         "33",
         "1357",
         "Cryogen",
         "cryogen",
         null,
         null,
         null
        ],
        [
         "34",
         "1185",
         "Creatures Evolution Engine",
         "creatures-evolution-engine",
         null,
         null,
         null
        ],
        [
         "35",
         "1211",
         "Trial",
         "trial",
         null,
         null,
         null
        ],
        [
         "36",
         "1212",
         "plays",
         "plays",
         null,
         null,
         null
        ],
        [
         "37",
         "1310",
         "Raven",
         "raven",
         null,
         null,
         null
        ],
        [
         "38",
         "1328",
         "RTC Engine",
         "rtc-engine",
         null,
         null,
         null
        ],
        [
         "39",
         "1589",
         "R² Engine",
         "r2-engine",
         "The R² Engine is a custom multiplayer platform that aims to put a thousand players onto a dense battlefield in a persistent online world.",
         "[39452]",
         "312.0"
        ],
        [
         "40",
         "1403",
         "NeoAxis",
         "neoaxis",
         null,
         null,
         null
        ],
        [
         "41",
         "1479",
         "G-Engine",
         "g-engine",
         null,
         "[32]",
         null
        ],
        [
         "42",
         "1482",
         "Virtual Stadium",
         "virtual-stadium",
         null,
         null,
         null
        ],
        [
         "43",
         "1735",
         "Rayne",
         "rayne",
         "Multiplatform 3D game engine.",
         "[25007]",
         "401.0"
        ],
        [
         "44",
         "1704",
         "Trisoft Engine",
         "trisoft-engine",
         null,
         null,
         null
        ],
        [
         "45",
         "835",
         "Dark Sun",
         "dark-sun",
         null,
         null,
         null
        ],
        [
         "46",
         "772",
         "Acknex",
         "acknex",
         null,
         null,
         null
        ],
        [
         "47",
         "977",
         "CP System III (CPS-3)",
         "cp-system-iii-cps-3",
         null,
         null,
         null
        ],
        [
         "48",
         "623",
         "Abyss Engine",
         "abyss-engine",
         null,
         null,
         null
        ],
        [
         "49",
         "1159",
         "ShiVa3d",
         "shiva3d",
         null,
         null,
         null
        ]
       ],
       "shape": {
        "columns": 6,
        "rows": 100
       }
      },
      "text/html": [
       "<div>\n",
       "<style scoped>\n",
       "    .dataframe tbody tr th:only-of-type {\n",
       "        vertical-align: middle;\n",
       "    }\n",
       "\n",
       "    .dataframe tbody tr th {\n",
       "        vertical-align: top;\n",
       "    }\n",
       "\n",
       "    .dataframe thead th {\n",
       "        text-align: right;\n",
       "    }\n",
       "</style>\n",
       "<table border=\"1\" class=\"dataframe\">\n",
       "  <thead>\n",
       "    <tr style=\"text-align: right;\">\n",
       "      <th></th>\n",
       "      <th>id</th>\n",
       "      <th>name</th>\n",
       "      <th>slug</th>\n",
       "      <th>description</th>\n",
       "      <th>companies</th>\n",
       "      <th>logo</th>\n",
       "    </tr>\n",
       "  </thead>\n",
       "  <tbody>\n",
       "    <tr>\n",
       "      <th>0</th>\n",
       "      <td>220</td>\n",
       "      <td>Vicious Engine</td>\n",
       "      <td>vicious-engine</td>\n",
       "      <td>NaN</td>\n",
       "      <td>NaN</td>\n",
       "      <td>NaN</td>\n",
       "    </tr>\n",
       "    <tr>\n",
       "      <th>1</th>\n",
       "      <td>1184</td>\n",
       "      <td>Bitsy 3D</td>\n",
       "      <td>bitsy-3d</td>\n",
       "      <td>NaN</td>\n",
       "      <td>NaN</td>\n",
       "      <td>NaN</td>\n",
       "    </tr>\n",
       "    <tr>\n",
       "      <th>2</th>\n",
       "      <td>1597</td>\n",
       "      <td>Star Rod</td>\n",
       "      <td>star-rod</td>\n",
       "      <td>Star Rod is a modding tool for Paper Mario (Ni...</td>\n",
       "      <td>NaN</td>\n",
       "      <td>NaN</td>\n",
       "    </tr>\n",
       "    <tr>\n",
       "      <th>3</th>\n",
       "      <td>339</td>\n",
       "      <td>The Eight-Bit Universal Role Playing Engine</td>\n",
       "      <td>the-eight-bit-universal-role-playing-engine</td>\n",
       "      <td>NaN</td>\n",
       "      <td>NaN</td>\n",
       "      <td>NaN</td>\n",
       "    </tr>\n",
       "    <tr>\n",
       "      <th>4</th>\n",
       "      <td>127</td>\n",
       "      <td>LS3D</td>\n",
       "      <td>ls3d</td>\n",
       "      <td>NaN</td>\n",
       "      <td>NaN</td>\n",
       "      <td>NaN</td>\n",
       "    </tr>\n",
       "    <tr>\n",
       "      <th>...</th>\n",
       "      <td>...</td>\n",
       "      <td>...</td>\n",
       "      <td>...</td>\n",
       "      <td>...</td>\n",
       "      <td>...</td>\n",
       "      <td>...</td>\n",
       "    </tr>\n",
       "    <tr>\n",
       "      <th>95</th>\n",
       "      <td>1186</td>\n",
       "      <td>Rockstar Advanced Game Engine</td>\n",
       "      <td>rockstar-advanced-game-engine</td>\n",
       "      <td>NaN</td>\n",
       "      <td>NaN</td>\n",
       "      <td>NaN</td>\n",
       "    </tr>\n",
       "    <tr>\n",
       "      <th>96</th>\n",
       "      <td>1484</td>\n",
       "      <td>Ebitengine</td>\n",
       "      <td>ebitengine</td>\n",
       "      <td>Ebitengine (Eh-Bee-Ten-Gin) (formerly known as...</td>\n",
       "      <td>NaN</td>\n",
       "      <td>227.0</td>\n",
       "    </tr>\n",
       "    <tr>\n",
       "      <th>97</th>\n",
       "      <td>389</td>\n",
       "      <td>Pixi</td>\n",
       "      <td>pixi</td>\n",
       "      <td>NaN</td>\n",
       "      <td>NaN</td>\n",
       "      <td>NaN</td>\n",
       "    </tr>\n",
       "    <tr>\n",
       "      <th>98</th>\n",
       "      <td>502</td>\n",
       "      <td>Autodesk Beast</td>\n",
       "      <td>autodesk-beast</td>\n",
       "      <td>NaN</td>\n",
       "      <td>NaN</td>\n",
       "      <td>NaN</td>\n",
       "    </tr>\n",
       "    <tr>\n",
       "      <th>99</th>\n",
       "      <td>1608</td>\n",
       "      <td>Action Editor 4</td>\n",
       "      <td>action-editor-4</td>\n",
       "      <td>Alternative spelling: Action Editor(Anton)</td>\n",
       "      <td>[37971]</td>\n",
       "      <td>NaN</td>\n",
       "    </tr>\n",
       "  </tbody>\n",
       "</table>\n",
       "<p>100 rows × 6 columns</p>\n",
       "</div>"
      ],
      "text/plain": [
       "      id                                         name  \\\n",
       "0    220                               Vicious Engine   \n",
       "1   1184                                     Bitsy 3D   \n",
       "2   1597                                     Star Rod   \n",
       "3    339  The Eight-Bit Universal Role Playing Engine   \n",
       "4    127                                         LS3D   \n",
       "..   ...                                          ...   \n",
       "95  1186                Rockstar Advanced Game Engine   \n",
       "96  1484                                   Ebitengine   \n",
       "97   389                                         Pixi   \n",
       "98   502                               Autodesk Beast   \n",
       "99  1608                              Action Editor 4   \n",
       "\n",
       "                                           slug  \\\n",
       "0                                vicious-engine   \n",
       "1                                      bitsy-3d   \n",
       "2                                      star-rod   \n",
       "3   the-eight-bit-universal-role-playing-engine   \n",
       "4                                          ls3d   \n",
       "..                                          ...   \n",
       "95                rockstar-advanced-game-engine   \n",
       "96                                   ebitengine   \n",
       "97                                         pixi   \n",
       "98                               autodesk-beast   \n",
       "99                              action-editor-4   \n",
       "\n",
       "                                          description companies   logo  \n",
       "0                                                 NaN       NaN    NaN  \n",
       "1                                                 NaN       NaN    NaN  \n",
       "2   Star Rod is a modding tool for Paper Mario (Ni...       NaN    NaN  \n",
       "3                                                 NaN       NaN    NaN  \n",
       "4                                                 NaN       NaN    NaN  \n",
       "..                                                ...       ...    ...  \n",
       "95                                                NaN       NaN    NaN  \n",
       "96  Ebitengine (Eh-Bee-Ten-Gin) (formerly known as...       NaN  227.0  \n",
       "97                                                NaN       NaN    NaN  \n",
       "98                                                NaN       NaN    NaN  \n",
       "99         Alternative spelling: Action Editor(Anton)   [37971]    NaN  \n",
       "\n",
       "[100 rows x 6 columns]"
      ]
     },
     "execution_count": 8,
     "metadata": {},
     "output_type": "execute_result"
    }
   ],
   "source": [
    "# Récupération des game_engines\n",
    "\n",
    "# Si logo a recup -> https://api.igdb.com/v4/game_engine_logos\n",
    "\n",
    "headers_game_engines = {\n",
    "    'Client-ID': client_id_igdb,\n",
    "    'Authorization': f'Bearer {access_token}',\n",
    "}\n",
    "\n",
    "response = post('https://api.igdb.com/v4/game_engines', headers=headers_game_engines , data='fields companies,description,logo,name,slug; limit 100;')\n",
    "# Vérification de la réponse\n",
    "if response.status_code == 200:\n",
    "    # On transforme la réponse en JSON\n",
    "    response_json = response.json()\n",
    "    # On transforme le JSON en DataFrame\n",
    "    df_game_engines = pd.DataFrame(response_json)\n",
    "else:\n",
    "    print(\"Error fetching data from the API\")\n",
    "    print(\"Status code:\", response.status_code)\n",
    "    \n",
    "df_game_engines"
   ]
  },
  {
   "cell_type": "code",
   "execution_count": 9,
   "id": "8be65b17",
   "metadata": {},
   "outputs": [],
   "source": [
    "# Fonction pour récupérer toutes les game engines (1364) avec pagination\n",
    "headers_game_engines = {\n",
    "    'Client-ID': client_id_igdb,\n",
    "    'Authorization': f'Bearer {access_token}',\n",
    "}\n",
    "\n",
    "def get_all_game_engines():\n",
    "    all_game_engines = []\n",
    "    offset = 0\n",
    "    limit = 500  # Maximum limit for IGDB API\n",
    "\n",
    "    while True:\n",
    "        response = post('https://api.igdb.com/v4/game_engines', headers=headers_game_engines, data=f'fields companies,description,logo,name,slug; limit {limit}; offset {offset};')\n",
    "        \n",
    "        if response.status_code == 200:\n",
    "            response_json = response.json()\n",
    "            if not response_json:  # If no more data, break the loop\n",
    "                break\n",
    "            all_game_engines.extend(response_json)\n",
    "            offset += limit\n",
    "        else:\n",
    "            print(\"Error fetching data from the API\")\n",
    "            print(\"Status code:\", response.status_code)\n",
    "            break\n",
    "\n",
    "    return pd.DataFrame(all_game_engines)"
   ]
  },
  {
   "cell_type": "code",
   "execution_count": 10,
   "id": "e2ca1133",
   "metadata": {},
   "outputs": [
    {
     "data": {
      "application/vnd.microsoft.datawrangler.viewer.v0+json": {
       "columns": [
        {
         "name": "index",
         "rawType": "int64",
         "type": "integer"
        },
        {
         "name": "id",
         "rawType": "int64",
         "type": "integer"
        },
        {
         "name": "name",
         "rawType": "object",
         "type": "string"
        },
        {
         "name": "slug",
         "rawType": "object",
         "type": "string"
        },
        {
         "name": "description",
         "rawType": "object",
         "type": "unknown"
        },
        {
         "name": "companies",
         "rawType": "object",
         "type": "unknown"
        },
        {
         "name": "logo",
         "rawType": "float64",
         "type": "float"
        }
       ],
       "ref": "8d9d669e-9852-4ab9-a95f-51d699fd2fd7",
       "rows": [
        [
         "0",
         "220",
         "Vicious Engine",
         "vicious-engine",
         null,
         null,
         null
        ],
        [
         "1",
         "1184",
         "Bitsy 3D",
         "bitsy-3d",
         null,
         null,
         null
        ],
        [
         "2",
         "1597",
         "Star Rod",
         "star-rod",
         "Star Rod is a modding tool for Paper Mario (Nintendo 64).",
         null,
         null
        ],
        [
         "3",
         "339",
         "The Eight-Bit Universal Role Playing Engine",
         "the-eight-bit-universal-role-playing-engine",
         null,
         null,
         null
        ],
        [
         "4",
         "127",
         "LS3D",
         "ls3d",
         null,
         null,
         null
        ],
        [
         "5",
         "546",
         "AGS",
         "ags",
         null,
         null,
         null
        ],
        [
         "6",
         "119",
         "Glacier",
         "glacier",
         "The Glacier 1 game engine was created by IO Interactive in 1998 and was used publicly for the first time in the year 2000, with the release of IO Interactives first game, Hitman: Codename 47.",
         "[290]",
         "70.0"
        ],
        [
         "7",
         "1128",
         "Pixel Game Maker MV",
         "pixel-game-maker-mv",
         null,
         null,
         null
        ],
        [
         "8",
         "1331",
         "Tiger",
         "tiger",
         null,
         null,
         null
        ],
        [
         "9",
         "1279",
         "MS25",
         "ms25",
         null,
         null,
         null
        ],
        [
         "10",
         "488",
         "PC",
         "pc--1",
         null,
         null,
         null
        ],
        [
         "11",
         "1776",
         "GRACE",
         "grace",
         null,
         null,
         null
        ],
        [
         "12",
         "229",
         "Moai",
         "moai",
         null,
         null,
         null
        ],
        [
         "13",
         "129",
         "Emmersion",
         "emmersion",
         null,
         null,
         null
        ],
        [
         "14",
         "184",
         "Killzone Shadow Fall engine",
         "killzone-shadow-fall-engine",
         null,
         null,
         null
        ],
        [
         "15",
         "1617",
         "RT64",
         "rt64",
         "RT64 is an N64 graphics renderer for playing games with enhancements in emulators and native ports.",
         null,
         "331.0"
        ],
        [
         "16",
         "1210",
         "Darkstar",
         "darkstar",
         null,
         null,
         null
        ],
        [
         "17",
         "1681",
         "EntisGLS",
         "entisgls",
         null,
         null,
         null
        ],
        [
         "18",
         "288",
         "Dagon Engine",
         "dagon-engine",
         null,
         null,
         null
        ],
        [
         "19",
         "766",
         "Saber3D Engine",
         "saber3d-engine",
         null,
         null,
         null
        ],
        [
         "20",
         "1469",
         "Narrat",
         "narrat",
         "Narrat is a game engine for making interactive narrative RPGs.",
         null,
         "215.0"
        ],
        [
         "21",
         "34",
         "GlassBox",
         "glassbox",
         null,
         null,
         null
        ],
        [
         "22",
         "1592",
         "libsm64",
         "libsm64",
         null,
         null,
         null
        ],
        [
         "23",
         "40",
         "Titan 2.0",
         "titan-2-0",
         null,
         null,
         null
        ],
        [
         "24",
         "1558",
         "MegaZeux",
         "megazeux",
         "MegaZeux is a game creation system originally released in 1994 and still being developed today.",
         null,
         null
        ],
        [
         "25",
         "1756",
         "Sonic Dash",
         "sonic-dash",
         null,
         null,
         null
        ],
        [
         "26",
         "1052",
         "Rpgmak",
         "rpgmak",
         null,
         null,
         null
        ],
        [
         "27",
         "1108",
         "Starlight",
         "starlight",
         null,
         null,
         null
        ],
        [
         "28",
         "109",
         "Horizon Engine",
         "horizon-engine",
         null,
         null,
         null
        ],
        [
         "29",
         "112",
         "FlatRedBall",
         "flatredball",
         null,
         null,
         null
        ],
        [
         "30",
         "44",
         "Velocity Engine",
         "velocity-engine",
         null,
         "[481]",
         null
        ],
        [
         "31",
         "146",
         "Beard+Razor",
         "beard-plus-razor",
         null,
         null,
         null
        ],
        [
         "32",
         "162",
         "Vampire",
         "vampire",
         null,
         null,
         null
        ],
        [
         "33",
         "1357",
         "Cryogen",
         "cryogen",
         null,
         null,
         null
        ],
        [
         "34",
         "1185",
         "Creatures Evolution Engine",
         "creatures-evolution-engine",
         null,
         null,
         null
        ],
        [
         "35",
         "1211",
         "Trial",
         "trial",
         null,
         null,
         null
        ],
        [
         "36",
         "1212",
         "plays",
         "plays",
         null,
         null,
         null
        ],
        [
         "37",
         "1310",
         "Raven",
         "raven",
         null,
         null,
         null
        ],
        [
         "38",
         "1328",
         "RTC Engine",
         "rtc-engine",
         null,
         null,
         null
        ],
        [
         "39",
         "1589",
         "R² Engine",
         "r2-engine",
         "The R² Engine is a custom multiplayer platform that aims to put a thousand players onto a dense battlefield in a persistent online world.",
         "[39452]",
         "312.0"
        ],
        [
         "40",
         "1403",
         "NeoAxis",
         "neoaxis",
         null,
         null,
         null
        ],
        [
         "41",
         "1479",
         "G-Engine",
         "g-engine",
         null,
         "[32]",
         null
        ],
        [
         "42",
         "1482",
         "Virtual Stadium",
         "virtual-stadium",
         null,
         null,
         null
        ],
        [
         "43",
         "1735",
         "Rayne",
         "rayne",
         "Multiplatform 3D game engine.",
         "[25007]",
         "401.0"
        ],
        [
         "44",
         "1704",
         "Trisoft Engine",
         "trisoft-engine",
         null,
         null,
         null
        ],
        [
         "45",
         "835",
         "Dark Sun",
         "dark-sun",
         null,
         null,
         null
        ],
        [
         "46",
         "772",
         "Acknex",
         "acknex",
         null,
         null,
         null
        ],
        [
         "47",
         "977",
         "CP System III (CPS-3)",
         "cp-system-iii-cps-3",
         null,
         null,
         null
        ],
        [
         "48",
         "623",
         "Abyss Engine",
         "abyss-engine",
         null,
         null,
         null
        ],
        [
         "49",
         "1159",
         "ShiVa3d",
         "shiva3d",
         null,
         null,
         null
        ]
       ],
       "shape": {
        "columns": 6,
        "rows": 1370
       }
      },
      "text/html": [
       "<div>\n",
       "<style scoped>\n",
       "    .dataframe tbody tr th:only-of-type {\n",
       "        vertical-align: middle;\n",
       "    }\n",
       "\n",
       "    .dataframe tbody tr th {\n",
       "        vertical-align: top;\n",
       "    }\n",
       "\n",
       "    .dataframe thead th {\n",
       "        text-align: right;\n",
       "    }\n",
       "</style>\n",
       "<table border=\"1\" class=\"dataframe\">\n",
       "  <thead>\n",
       "    <tr style=\"text-align: right;\">\n",
       "      <th></th>\n",
       "      <th>id</th>\n",
       "      <th>name</th>\n",
       "      <th>slug</th>\n",
       "      <th>description</th>\n",
       "      <th>companies</th>\n",
       "      <th>logo</th>\n",
       "    </tr>\n",
       "  </thead>\n",
       "  <tbody>\n",
       "    <tr>\n",
       "      <th>0</th>\n",
       "      <td>220</td>\n",
       "      <td>Vicious Engine</td>\n",
       "      <td>vicious-engine</td>\n",
       "      <td>NaN</td>\n",
       "      <td>NaN</td>\n",
       "      <td>NaN</td>\n",
       "    </tr>\n",
       "    <tr>\n",
       "      <th>1</th>\n",
       "      <td>1184</td>\n",
       "      <td>Bitsy 3D</td>\n",
       "      <td>bitsy-3d</td>\n",
       "      <td>NaN</td>\n",
       "      <td>NaN</td>\n",
       "      <td>NaN</td>\n",
       "    </tr>\n",
       "    <tr>\n",
       "      <th>2</th>\n",
       "      <td>1597</td>\n",
       "      <td>Star Rod</td>\n",
       "      <td>star-rod</td>\n",
       "      <td>Star Rod is a modding tool for Paper Mario (Ni...</td>\n",
       "      <td>NaN</td>\n",
       "      <td>NaN</td>\n",
       "    </tr>\n",
       "    <tr>\n",
       "      <th>3</th>\n",
       "      <td>339</td>\n",
       "      <td>The Eight-Bit Universal Role Playing Engine</td>\n",
       "      <td>the-eight-bit-universal-role-playing-engine</td>\n",
       "      <td>NaN</td>\n",
       "      <td>NaN</td>\n",
       "      <td>NaN</td>\n",
       "    </tr>\n",
       "    <tr>\n",
       "      <th>4</th>\n",
       "      <td>127</td>\n",
       "      <td>LS3D</td>\n",
       "      <td>ls3d</td>\n",
       "      <td>NaN</td>\n",
       "      <td>NaN</td>\n",
       "      <td>NaN</td>\n",
       "    </tr>\n",
       "    <tr>\n",
       "      <th>...</th>\n",
       "      <td>...</td>\n",
       "      <td>...</td>\n",
       "      <td>...</td>\n",
       "      <td>...</td>\n",
       "      <td>...</td>\n",
       "      <td>...</td>\n",
       "    </tr>\n",
       "    <tr>\n",
       "      <th>1365</th>\n",
       "      <td>590</td>\n",
       "      <td>J2ME</td>\n",
       "      <td>j2me</td>\n",
       "      <td>Java Platform, Micro Edition (Java ME) provide...</td>\n",
       "      <td>[1506]</td>\n",
       "      <td>129.0</td>\n",
       "    </tr>\n",
       "    <tr>\n",
       "      <th>1366</th>\n",
       "      <td>509</td>\n",
       "      <td>Unity 2017</td>\n",
       "      <td>unity-2017</td>\n",
       "      <td>The 6th version of the Unity engine released o...</td>\n",
       "      <td>[3067]</td>\n",
       "      <td>NaN</td>\n",
       "    </tr>\n",
       "    <tr>\n",
       "      <th>1367</th>\n",
       "      <td>1325</td>\n",
       "      <td>Taito Type-X2</td>\n",
       "      <td>taito-type-x2</td>\n",
       "      <td>NaN</td>\n",
       "      <td>NaN</td>\n",
       "      <td>NaN</td>\n",
       "    </tr>\n",
       "    <tr>\n",
       "      <th>1368</th>\n",
       "      <td>439</td>\n",
       "      <td>Unreal Engine 4</td>\n",
       "      <td>unreal-engine-4--1</td>\n",
       "      <td>Unreal Engine 4 is a complete suite of game de...</td>\n",
       "      <td>[17463]</td>\n",
       "      <td>50.0</td>\n",
       "    </tr>\n",
       "    <tr>\n",
       "      <th>1369</th>\n",
       "      <td>456</td>\n",
       "      <td>Godot</td>\n",
       "      <td>godot</td>\n",
       "      <td>Godot is an advanced, feature-packed, multi-pl...</td>\n",
       "      <td>NaN</td>\n",
       "      <td>367.0</td>\n",
       "    </tr>\n",
       "  </tbody>\n",
       "</table>\n",
       "<p>1370 rows × 6 columns</p>\n",
       "</div>"
      ],
      "text/plain": [
       "        id                                         name  \\\n",
       "0      220                               Vicious Engine   \n",
       "1     1184                                     Bitsy 3D   \n",
       "2     1597                                     Star Rod   \n",
       "3      339  The Eight-Bit Universal Role Playing Engine   \n",
       "4      127                                         LS3D   \n",
       "...    ...                                          ...   \n",
       "1365   590                                         J2ME   \n",
       "1366   509                                   Unity 2017   \n",
       "1367  1325                                Taito Type-X2   \n",
       "1368   439                              Unreal Engine 4   \n",
       "1369   456                                        Godot   \n",
       "\n",
       "                                             slug  \\\n",
       "0                                  vicious-engine   \n",
       "1                                        bitsy-3d   \n",
       "2                                        star-rod   \n",
       "3     the-eight-bit-universal-role-playing-engine   \n",
       "4                                            ls3d   \n",
       "...                                           ...   \n",
       "1365                                         j2me   \n",
       "1366                                   unity-2017   \n",
       "1367                                taito-type-x2   \n",
       "1368                           unreal-engine-4--1   \n",
       "1369                                        godot   \n",
       "\n",
       "                                            description companies   logo  \n",
       "0                                                   NaN       NaN    NaN  \n",
       "1                                                   NaN       NaN    NaN  \n",
       "2     Star Rod is a modding tool for Paper Mario (Ni...       NaN    NaN  \n",
       "3                                                   NaN       NaN    NaN  \n",
       "4                                                   NaN       NaN    NaN  \n",
       "...                                                 ...       ...    ...  \n",
       "1365  Java Platform, Micro Edition (Java ME) provide...    [1506]  129.0  \n",
       "1366  The 6th version of the Unity engine released o...    [3067]    NaN  \n",
       "1367                                                NaN       NaN    NaN  \n",
       "1368  Unreal Engine 4 is a complete suite of game de...   [17463]   50.0  \n",
       "1369  Godot is an advanced, feature-packed, multi-pl...       NaN  367.0  \n",
       "\n",
       "[1370 rows x 6 columns]"
      ]
     },
     "metadata": {},
     "output_type": "display_data"
    }
   ],
   "source": [
    "all_game_engines_df = get_all_game_engines()\n",
    "display(all_game_engines_df)\n",
    "# Exporter le DataFrame en CSV\n",
    "all_game_engines_df.to_csv('../csv/game_engines.csv', index=False)"
   ]
  },
  {
   "cell_type": "markdown",
   "id": "307fbdef",
   "metadata": {},
   "source": [
    "# Game Engines Logo\n"
   ]
  },
  {
   "cell_type": "code",
   "execution_count": 11,
   "id": "e1839cfc",
   "metadata": {},
   "outputs": [],
   "source": [
    "def get_all_game_engines_logos():\n",
    "    all_game_engines_logos = []\n",
    "    offset = 0\n",
    "    limit = 500  # Maximum limit for IGDB API\n",
    "\n",
    "    while True:\n",
    "        response = post('https://api.igdb.com/v4/game_engine_logos', headers=headers_game_engines, data=f'fields url; limit {limit}; offset {offset};')\n",
    "        \n",
    "        if response.status_code == 200:\n",
    "            response_json = response.json()\n",
    "            if not response_json:  # If no more data, break the loop\n",
    "                break\n",
    "            all_game_engines_logos.extend(response_json)\n",
    "            offset += limit\n",
    "        else:\n",
    "            print(\"Error fetching data from the API\")\n",
    "            print(\"Status code:\", response.status_code)\n",
    "            break\n",
    "\n",
    "    return pd.DataFrame(all_game_engines_logos)"
   ]
  },
  {
   "cell_type": "code",
   "execution_count": 12,
   "id": "11e96f6b",
   "metadata": {},
   "outputs": [
    {
     "data": {
      "application/vnd.microsoft.datawrangler.viewer.v0+json": {
       "columns": [
        {
         "name": "index",
         "rawType": "int64",
         "type": "integer"
        },
        {
         "name": "id",
         "rawType": "int64",
         "type": "integer"
        },
        {
         "name": "url",
         "rawType": "object",
         "type": "string"
        }
       ],
       "ref": "c2848d9f-c79b-4458-9be1-5ccb4ef1c3f5",
       "rows": [
        [
         "0",
         "397",
         "//images.igdb.com/igdb/image/upload/t_thumb/geb1.jpg"
        ],
        [
         "1",
         "404",
         "//images.igdb.com/igdb/image/upload/t_thumb/geb8.jpg"
        ],
        [
         "2",
         "412",
         "//images.igdb.com/igdb/image/upload/t_thumb/gebg.jpg"
        ],
        [
         "3",
         "413",
         "//images.igdb.com/igdb/image/upload/t_thumb/gebh.jpg"
        ],
        [
         "4",
         "12",
         "//images.igdb.com/igdb/image/upload/t_thumb/q0atqqttcdj6ea5zkkkk.jpg"
        ],
        [
         "5",
         "415",
         "//images.igdb.com/igdb/image/upload/t_thumb/gebj.jpg"
        ],
        [
         "6",
         "420",
         "//images.igdb.com/igdb/image/upload/t_thumb/gebo.jpg"
        ],
        [
         "7",
         "421",
         "//images.igdb.com/igdb/image/upload/t_thumb/gebp.jpg"
        ],
        [
         "8",
         "11",
         "//images.igdb.com/igdb/image/upload/t_thumb/qqvzsxjdjr6qk310gzne.jpg"
        ],
        [
         "9",
         "136",
         "//images.igdb.com/igdb/image/upload/t_thumb/ge3s.jpg"
        ],
        [
         "10",
         "422",
         "//images.igdb.com/igdb/image/upload/t_thumb/gebq.jpg"
        ],
        [
         "11",
         "313",
         "//images.igdb.com/igdb/image/upload/t_thumb/ge8p.jpg"
        ],
        [
         "12",
         "273",
         "//images.igdb.com/igdb/image/upload/t_thumb/ge7l.jpg"
        ],
        [
         "13",
         "22",
         "//images.igdb.com/igdb/image/upload/t_thumb/vsz6gctfz1m9d0ggrx3h.jpg"
        ],
        [
         "14",
         "375",
         "//images.igdb.com/igdb/image/upload/t_thumb/geaf.jpg"
        ],
        [
         "15",
         "81",
         "//images.igdb.com/igdb/image/upload/t_thumb/akejgjoj9rpky3zc2hnz.jpg"
        ],
        [
         "16",
         "90",
         "//images.igdb.com/igdb/image/upload/t_thumb/ge2i.jpg"
        ],
        [
         "17",
         "82",
         "//images.igdb.com/igdb/image/upload/t_thumb/tvsphggisugq9dbmfyjx.jpg"
        ],
        [
         "18",
         "424",
         "//images.igdb.com/igdb/image/upload/t_thumb/gebs.jpg"
        ],
        [
         "19",
         "428",
         "//images.igdb.com/igdb/image/upload/t_thumb/gebw.jpg"
        ],
        [
         "20",
         "429",
         "//images.igdb.com/igdb/image/upload/t_thumb/gebx.jpg"
        ],
        [
         "21",
         "432",
         "//images.igdb.com/igdb/image/upload/t_thumb/gec0.jpg"
        ],
        [
         "22",
         "433",
         "//images.igdb.com/igdb/image/upload/t_thumb/gec1.jpg"
        ],
        [
         "23",
         "440",
         "//images.igdb.com/igdb/image/upload/t_thumb/gec8.jpg"
        ],
        [
         "24",
         "442",
         "//images.igdb.com/igdb/image/upload/t_thumb/geca.jpg"
        ],
        [
         "25",
         "30",
         "//images.igdb.com/igdb/image/upload/t_thumb/prfbgzvm7gjws62e4qbq.jpg"
        ],
        [
         "26",
         "21",
         "//images.igdb.com/igdb/image/upload/t_thumb/xjduzu8otx76h4uyadrl.jpg"
        ],
        [
         "27",
         "13",
         "//images.igdb.com/igdb/image/upload/t_thumb/jax7ohmigy2kk2nmdxro.jpg"
        ],
        [
         "28",
         "24",
         "//images.igdb.com/igdb/image/upload/t_thumb/fbv9ntczf6b7btfhuhp4.jpg"
        ],
        [
         "29",
         "83",
         "//images.igdb.com/igdb/image/upload/t_thumb/ge2b.jpg"
        ],
        [
         "30",
         "78",
         "//images.igdb.com/igdb/image/upload/t_thumb/gvenygpdngxi3akcq0ru.jpg"
        ],
        [
         "31",
         "85",
         "//images.igdb.com/igdb/image/upload/t_thumb/ge2d.jpg"
        ],
        [
         "32",
         "89",
         "//images.igdb.com/igdb/image/upload/t_thumb/ge2h.jpg"
        ],
        [
         "33",
         "46",
         "//images.igdb.com/igdb/image/upload/t_thumb/jvywf6q8rdlcunnl7mw8.jpg"
        ],
        [
         "34",
         "126",
         "//images.igdb.com/igdb/image/upload/t_thumb/ge3i.jpg"
        ],
        [
         "35",
         "92",
         "//images.igdb.com/igdb/image/upload/t_thumb/ge2k.jpg"
        ],
        [
         "36",
         "86",
         "//images.igdb.com/igdb/image/upload/t_thumb/ge2e.jpg"
        ],
        [
         "37",
         "91",
         "//images.igdb.com/igdb/image/upload/t_thumb/ge2j.jpg"
        ],
        [
         "38",
         "160",
         "//images.igdb.com/igdb/image/upload/t_thumb/ge4g.jpg"
        ],
        [
         "39",
         "134",
         "//images.igdb.com/igdb/image/upload/t_thumb/ge3q.jpg"
        ],
        [
         "40",
         "239",
         "//images.igdb.com/igdb/image/upload/t_thumb/ge6n.jpg"
        ],
        [
         "41",
         "142",
         "//images.igdb.com/igdb/image/upload/t_thumb/ge3y.jpg"
        ],
        [
         "42",
         "130",
         "//images.igdb.com/igdb/image/upload/t_thumb/ge3m.jpg"
        ],
        [
         "43",
         "329",
         "//images.igdb.com/igdb/image/upload/t_thumb/ge95.jpg"
        ],
        [
         "44",
         "314",
         "//images.igdb.com/igdb/image/upload/t_thumb/ge8q.jpg"
        ],
        [
         "45",
         "170",
         "//images.igdb.com/igdb/image/upload/t_thumb/ge4q.jpg"
        ],
        [
         "46",
         "320",
         "//images.igdb.com/igdb/image/upload/t_thumb/ge8w.jpg"
        ],
        [
         "47",
         "284",
         "//images.igdb.com/igdb/image/upload/t_thumb/ge7w.jpg"
        ],
        [
         "48",
         "289",
         "//images.igdb.com/igdb/image/upload/t_thumb/ge81.jpg"
        ],
        [
         "49",
         "19",
         "//images.igdb.com/igdb/image/upload/t_thumb/abdlxrwjh0wihnq4mqnm.jpg"
        ]
       ],
       "shape": {
        "columns": 2,
        "rows": 289
       }
      },
      "text/html": [
       "<div>\n",
       "<style scoped>\n",
       "    .dataframe tbody tr th:only-of-type {\n",
       "        vertical-align: middle;\n",
       "    }\n",
       "\n",
       "    .dataframe tbody tr th {\n",
       "        vertical-align: top;\n",
       "    }\n",
       "\n",
       "    .dataframe thead th {\n",
       "        text-align: right;\n",
       "    }\n",
       "</style>\n",
       "<table border=\"1\" class=\"dataframe\">\n",
       "  <thead>\n",
       "    <tr style=\"text-align: right;\">\n",
       "      <th></th>\n",
       "      <th>id</th>\n",
       "      <th>url</th>\n",
       "    </tr>\n",
       "  </thead>\n",
       "  <tbody>\n",
       "    <tr>\n",
       "      <th>0</th>\n",
       "      <td>397</td>\n",
       "      <td>//images.igdb.com/igdb/image/upload/t_thumb/ge...</td>\n",
       "    </tr>\n",
       "    <tr>\n",
       "      <th>1</th>\n",
       "      <td>404</td>\n",
       "      <td>//images.igdb.com/igdb/image/upload/t_thumb/ge...</td>\n",
       "    </tr>\n",
       "    <tr>\n",
       "      <th>2</th>\n",
       "      <td>412</td>\n",
       "      <td>//images.igdb.com/igdb/image/upload/t_thumb/ge...</td>\n",
       "    </tr>\n",
       "    <tr>\n",
       "      <th>3</th>\n",
       "      <td>413</td>\n",
       "      <td>//images.igdb.com/igdb/image/upload/t_thumb/ge...</td>\n",
       "    </tr>\n",
       "    <tr>\n",
       "      <th>4</th>\n",
       "      <td>12</td>\n",
       "      <td>//images.igdb.com/igdb/image/upload/t_thumb/q0...</td>\n",
       "    </tr>\n",
       "    <tr>\n",
       "      <th>...</th>\n",
       "      <td>...</td>\n",
       "      <td>...</td>\n",
       "    </tr>\n",
       "    <tr>\n",
       "      <th>284</th>\n",
       "      <td>167</td>\n",
       "      <td>//images.igdb.com/igdb/image/upload/t_thumb/ge...</td>\n",
       "    </tr>\n",
       "    <tr>\n",
       "      <th>285</th>\n",
       "      <td>237</td>\n",
       "      <td>//images.igdb.com/igdb/image/upload/t_thumb/ge...</td>\n",
       "    </tr>\n",
       "    <tr>\n",
       "      <th>286</th>\n",
       "      <td>360</td>\n",
       "      <td>//images.igdb.com/igdb/image/upload/t_thumb/ge...</td>\n",
       "    </tr>\n",
       "    <tr>\n",
       "      <th>287</th>\n",
       "      <td>149</td>\n",
       "      <td>//images.igdb.com/igdb/image/upload/t_thumb/ge...</td>\n",
       "    </tr>\n",
       "    <tr>\n",
       "      <th>288</th>\n",
       "      <td>340</td>\n",
       "      <td>//images.igdb.com/igdb/image/upload/t_thumb/ge...</td>\n",
       "    </tr>\n",
       "  </tbody>\n",
       "</table>\n",
       "<p>289 rows × 2 columns</p>\n",
       "</div>"
      ],
      "text/plain": [
       "      id                                                url\n",
       "0    397  //images.igdb.com/igdb/image/upload/t_thumb/ge...\n",
       "1    404  //images.igdb.com/igdb/image/upload/t_thumb/ge...\n",
       "2    412  //images.igdb.com/igdb/image/upload/t_thumb/ge...\n",
       "3    413  //images.igdb.com/igdb/image/upload/t_thumb/ge...\n",
       "4     12  //images.igdb.com/igdb/image/upload/t_thumb/q0...\n",
       "..   ...                                                ...\n",
       "284  167  //images.igdb.com/igdb/image/upload/t_thumb/ge...\n",
       "285  237  //images.igdb.com/igdb/image/upload/t_thumb/ge...\n",
       "286  360  //images.igdb.com/igdb/image/upload/t_thumb/ge...\n",
       "287  149  //images.igdb.com/igdb/image/upload/t_thumb/ge...\n",
       "288  340  //images.igdb.com/igdb/image/upload/t_thumb/ge...\n",
       "\n",
       "[289 rows x 2 columns]"
      ]
     },
     "metadata": {},
     "output_type": "display_data"
    }
   ],
   "source": [
    "all_game_engines_logos_df = get_all_game_engines_logos()\n",
    "display(all_game_engines_logos_df)\n",
    "# Exporter le DataFrame en CSV\n",
    "all_game_engines_logos_df.to_csv('../csv/game_engines_logos.csv', index=False)"
   ]
  },
  {
   "cell_type": "markdown",
   "id": "d66a28f6",
   "metadata": {},
   "source": [
    "# PLateformes\n"
   ]
  },
  {
   "cell_type": "code",
   "execution_count": 13,
   "id": "8efb6f8e",
   "metadata": {},
   "outputs": [
    {
     "name": "stdout",
     "output_type": "stream",
     "text": [
      "{'count': 220}\n"
     ]
    }
   ],
   "source": [
    "# Voir le nombre de platforms\n",
    "url_igdb_platforms_count = \"https://api.igdb.com/v4/platforms/count\"\n",
    "\n",
    "response = post(url_igdb_platforms_count, headers=headers, data='fields *;')\n",
    "print(response.json())\n"
   ]
  },
  {
   "cell_type": "code",
   "execution_count": 14,
   "id": "bf576d26",
   "metadata": {},
   "outputs": [],
   "source": [
    "# Récupérations des platforms\n",
    "def get_all_platforms():\n",
    "    all_platforms = []\n",
    "    offset = 0\n",
    "    limit = 500  # Maximum limit for IGDB API\n",
    "    \n",
    "    while True:\n",
    "        response = post('https://api.igdb.com/v4/platforms', headers=headers, data=f'fields *; exclude websites,checksum,created_at,updated_at,url;limit {limit}; offset {offset};')\n",
    "        \n",
    "        if response.status_code == 200:\n",
    "            response_json = response.json()\n",
    "            if not response_json:\n",
    "                break\n",
    "            all_platforms.extend(response_json)\n",
    "            offset += limit\n",
    "        else:\n",
    "            print(\"Error fetching data from the API\")\n",
    "            print(\"Status code:\", response.status_code)\n",
    "            break\n",
    "    return pd.DataFrame(all_platforms)"
   ]
  },
  {
   "cell_type": "code",
   "execution_count": 15,
   "id": "fc9888fe",
   "metadata": {},
   "outputs": [
    {
     "data": {
      "application/vnd.microsoft.datawrangler.viewer.v0+json": {
       "columns": [
        {
         "name": "index",
         "rawType": "int64",
         "type": "integer"
        },
        {
         "name": "id",
         "rawType": "int64",
         "type": "integer"
        },
        {
         "name": "category",
         "rawType": "float64",
         "type": "float"
        },
        {
         "name": "generation",
         "rawType": "float64",
         "type": "float"
        },
        {
         "name": "name",
         "rawType": "object",
         "type": "string"
        },
        {
         "name": "platform_logo",
         "rawType": "float64",
         "type": "float"
        },
        {
         "name": "platform_family",
         "rawType": "float64",
         "type": "float"
        },
        {
         "name": "slug",
         "rawType": "object",
         "type": "string"
        },
        {
         "name": "versions",
         "rawType": "object",
         "type": "unknown"
        },
        {
         "name": "platform_type",
         "rawType": "float64",
         "type": "float"
        },
        {
         "name": "alternative_name",
         "rawType": "object",
         "type": "unknown"
        },
        {
         "name": "abbreviation",
         "rawType": "object",
         "type": "unknown"
        },
        {
         "name": "summary",
         "rawType": "object",
         "type": "unknown"
        }
       ],
       "ref": "3264b28b-2b69-47fe-88c8-39f4d8430a54",
       "rows": [
        [
         "0",
         "306",
         "1.0",
         "4.0",
         "Satellaview",
         "595.0",
         "5.0",
         "satellaview",
         "[423]",
         "1.0",
         null,
         null,
         null
        ],
        [
         "1",
         "339",
         "1.0",
         "4.0",
         "Sega Pico",
         "600.0",
         "3.0",
         "sega-pico",
         "[456]",
         "1.0",
         "Kids Computer Pico",
         null,
         null
        ],
        [
         "2",
         "376",
         "1.0",
         "3.0",
         "Epoch Super Cassette Vision",
         "743.0",
         null,
         "epoch-super-cassette-vision",
         "[494]",
         "1.0",
         "YENO Super Cassette Vision",
         null,
         null
        ],
        [
         "3",
         "12",
         "1.0",
         "7.0",
         "Xbox 360",
         "622.0",
         "2.0",
         "xbox360",
         "[2, 3, 495, 83]",
         "1.0",
         "X360",
         "X360",
         "Xbox 360 brings you a total games and entertainment experience. The largest library of games, including titles that get you right into the thick of it with Kinect. Plus, your whole family can watch HD movies, TV shows, live events, music, sports and more—across all your devices. Xbox 360 is the center of your games and entertainment universe."
        ],
        [
         "4",
         "32",
         "1.0",
         "5.0",
         "Sega Saturn",
         "49.0",
         "3.0",
         "saturn",
         "[65]",
         "1.0",
         "JVC Saturn, Hi-Saturn, Samsung Saturn, V-Saturn",
         "Saturn",
         null
        ],
        [
         "5",
         "62",
         "1.0",
         "5.0",
         "Atari Jaguar",
         "286.0",
         null,
         "jaguar",
         "[28]",
         "1.0",
         null,
         "Jaguar",
         null
        ],
        [
         "6",
         "148",
         "1.0",
         null,
         "AY-3-8607",
         null,
         null,
         "ay-3-8607",
         "[211]",
         "1.0",
         null,
         null,
         null
        ],
        [
         "7",
         "150",
         "6.0",
         null,
         "Turbografx-16/PC Engine CD",
         "291.0",
         null,
         "turbografx-16-slash-pc-engine-cd",
         "[215]",
         "6.0",
         "TG-16CD/PCECD",
         null,
         null
        ],
        [
         "8",
         "156",
         "6.0",
         null,
         "Thomson MO5",
         "537.0",
         null,
         "thomson-mo5",
         "[221]",
         "6.0",
         null,
         null,
         null
        ],
        [
         "9",
         "510",
         "5.0",
         "6.0",
         "Nintendo e-Reader",
         null,
         "5.0",
         "nintendo-e-reader",
         "[732]",
         "5.0",
         "Game Boy Advance e-Reader",
         null,
         null
        ],
        [
         "10",
         "309",
         "5.0",
         "8.0",
         "Evercade",
         "754.0",
         null,
         "evercade",
         "[500, 426, 594]",
         "5.0",
         null,
         null,
         null
        ],
        [
         "11",
         "389",
         "3.0",
         null,
         "AirConsole",
         "746.0",
         null,
         "airconsole",
         "[511]",
         "3.0",
         null,
         null,
         null
        ],
        [
         "12",
         "13",
         "4.0",
         null,
         "DOS",
         "38.0",
         null,
         "dos",
         "[56, 540]",
         "4.0",
         "PC DOS",
         "DOS",
         null
        ],
        [
         "13",
         "41",
         "1.0",
         "8.0",
         "Wii U",
         "239.0",
         "5.0",
         "wiiu",
         "[73]",
         "1.0",
         "Project Cafe",
         "WiiU",
         null
        ],
        [
         "14",
         "60",
         "1.0",
         "3.0",
         "Atari 7800",
         "303.0",
         null,
         "atari7800",
         "[26]",
         "1.0",
         "Atari 7800 ProSystem",
         "Atari7800",
         null
        ],
        [
         "15",
         "112",
         null,
         null,
         "Microcomputer",
         null,
         null,
         "microcomputer--1",
         "[138]",
         null,
         null,
         "microcomputer",
         null
        ],
        [
         "16",
         "410",
         "1.0",
         "5.0",
         "Atari Jaguar CD",
         "688.0",
         null,
         "atari-jaguar-cd",
         "[550]",
         "1.0",
         "Jag CD",
         null,
         null
        ],
        [
         "17",
         "30",
         "1.0",
         "4.0",
         "Sega 32X",
         "279.0",
         "3.0",
         "sega32",
         "[61, 703]",
         "1.0",
         null,
         "Sega32",
         null
        ],
        [
         "18",
         "53",
         "6.0",
         null,
         "MSX2",
         "308.0",
         null,
         "msx2",
         "[48]",
         "6.0",
         null,
         "MSX2",
         null
        ],
        [
         "19",
         "61",
         "5.0",
         "4.0",
         "Atari Lynx",
         "290.0",
         null,
         "lynx",
         "[29, 189]",
         "5.0",
         null,
         "Lynx",
         null
        ],
        [
         "20",
         "77",
         "6.0",
         null,
         "Sharp X1",
         "297.0",
         null,
         "x1",
         "[66]",
         "6.0",
         null,
         "x1",
         null
        ],
        [
         "21",
         "120",
         "5.0",
         "5.0",
         "Neo Geo Pocket Color",
         "269.0",
         null,
         "neo-geo-pocket-color",
         "[158]",
         "5.0",
         "NGPC",
         null,
         null
        ],
        [
         "22",
         "127",
         "1.0",
         "2.0",
         "Fairchild Channel F",
         "316.0",
         null,
         "fairchild-channel-f",
         "[212, 165]",
         "1.0",
         null,
         null,
         null
        ],
        [
         "23",
         "132",
         "3.0",
         null,
         "Amazon Fire TV",
         "325.0",
         null,
         "amazon-fire-tv",
         "[176]",
         "3.0",
         null,
         null,
         null
        ],
        [
         "24",
         "413",
         "5.0",
         "7.0",
         "Leapster Explorer/LeadPad Explorer",
         "838.0",
         null,
         "leapster-explorer-slash-leadpad-explorer",
         "[553]",
         "5.0",
         null,
         null,
         null
        ],
        [
         "25",
         "140",
         "6.0",
         null,
         "AY-3-8500",
         "128.0",
         null,
         "ay-3-8500",
         "[203, 198, 202, 201, 204, 510]",
         "6.0",
         null,
         null,
         null
        ],
        [
         "26",
         "143",
         "1.0",
         null,
         "AY-3-8760",
         null,
         null,
         "ay-3-8760",
         "[206]",
         "1.0",
         null,
         null,
         null
        ],
        [
         "27",
         "153",
         "6.0",
         null,
         "Dragon 32/64",
         "302.0",
         null,
         "dragon-32-slash-64",
         "[218]",
         "6.0",
         null,
         null,
         null
        ],
        [
         "28",
         "154",
         "6.0",
         null,
         "Amstrad PCW",
         "547.0",
         null,
         "amstrad-pcw",
         "[219]",
         "6.0",
         null,
         null,
         null
        ],
        [
         "29",
         "167",
         "1.0",
         "9.0",
         "PlayStation 5",
         "892.0",
         "1.0",
         "ps5",
         "[273, 724]",
         "1.0",
         "PS5",
         "PS5",
         null
        ],
        [
         "30",
         "70",
         "1.0",
         "2.0",
         "Vectrex",
         "305.0",
         null,
         "vectrex",
         "[70]",
         "1.0",
         null,
         "vectrex",
         null
        ],
        [
         "31",
         "87",
         "1.0",
         "5.0",
         "Virtual Boy",
         "280.0",
         "5.0",
         "virtualboy",
         "[100]",
         "1.0",
         "VB",
         "virtualboy",
         null
        ],
        [
         "32",
         "145",
         "1.0",
         null,
         "AY-3-8603",
         null,
         null,
         "ay-3-8603",
         "[208]",
         "1.0",
         null,
         null,
         null
        ],
        [
         "33",
         "386",
         "1.0",
         null,
         "Meta Quest 2",
         "756.0",
         null,
         "meta-quest-2",
         "[507, 593]",
         "1.0",
         "Quest 2",
         "Meta Quest 2",
         null
        ],
        [
         "34",
         "390",
         "1.0",
         "9.0",
         "PlayStation VR2",
         "869.0",
         "1.0",
         "psvr2",
         "[512]",
         "1.0",
         "PSVR2",
         "PSVR2",
         null
        ],
        [
         "35",
         "477",
         "5.0",
         "8.0",
         "Panasonic Jungle",
         "853.0",
         null,
         "panasonic-jungle",
         "[694]",
         "5.0",
         null,
         null,
         null
        ],
        [
         "36",
         "504",
         "1.0",
         null,
         "Uzebox",
         "891.0",
         null,
         "uzebox",
         "[721, 720]",
         "1.0",
         "EUzebox",
         null,
         null
        ],
        [
         "37",
         "65",
         "6.0",
         null,
         "Atari 8-bit",
         "373.0",
         null,
         "atari8bit",
         "[104, 27]",
         "6.0",
         null,
         "Atari8bit",
         null
        ],
        [
         "38",
         "158",
         "6.0",
         null,
         "Commodore CDTV",
         "292.0",
         null,
         "commodore-cdtv",
         "[223]",
         "6.0",
         "Commodore Dynamic Total Vision",
         null,
         null
        ],
        [
         "39",
         "165",
         "1.0",
         "8.0",
         "PlayStation VR",
         "840.0",
         "1.0",
         "psvr",
         "[235]",
         "1.0",
         "PSVR",
         "PSVR",
         null
        ],
        [
         "40",
         "440",
         "5.0",
         "6.0",
         "Visual Memory Unit / Visual Memory System",
         "728.0",
         "3.0",
         "visual-memory-unit-slash-visual-memory-system",
         "[590]",
         "5.0",
         "VMU / VMS",
         null,
         null
        ],
        [
         "41",
         "473",
         "1.0",
         null,
         "Arcadia 2001",
         "848.0",
         null,
         "arcadia-2001",
         "[683]",
         "1.0",
         null,
         null,
         null
        ],
        [
         "42",
         "474",
         "5.0",
         "7.0",
         "Gizmondo",
         "849.0",
         null,
         "gizmondo",
         "[689]",
         "5.0",
         "Gametraq",
         null,
         null
        ],
        [
         "43",
         "48",
         "1.0",
         "8.0",
         "PlayStation 4",
         "231.0",
         "1.0",
         "ps4--1",
         "[17, 178, 179]",
         "1.0",
         "PS4",
         "PS4",
         "The PlayStation 4 system opens the door to an incredible journey through immersive new gaming worlds and a deeply connected gaming community. PS4 puts gamers first with an astounding launch line-up and over 180 games in development. Play amazing top-tier blockbusters and innovative indie hits on PS4. Developer inspired, gamer focused."
        ],
        [
         "44",
         "51",
         "1.0",
         "3.0",
         "Family Computer Disk System",
         "299.0",
         "5.0",
         "fds",
         "[38]",
         "1.0",
         "Famicom Disk System, FDS",
         "fds",
         null
        ],
        [
         "45",
         "89",
         "5.0",
         "2.0",
         "Microvision",
         "314.0",
         null,
         "microvision--1",
         "[102]",
         "5.0",
         null,
         "microvision",
         null
        ],
        [
         "46",
         "94",
         "6.0",
         null,
         "Commodore Plus/4",
         "310.0",
         null,
         "c-plus-4",
         "[108]",
         "6.0",
         null,
         "C+4",
         null
        ],
        [
         "47",
         "123",
         "5.0",
         "5.0",
         "WonderSwan Color",
         "261.0",
         null,
         "wonderswan-color",
         "[161]",
         "5.0",
         "WSC",
         null,
         null
        ],
        [
         "48",
         "128",
         "1.0",
         "4.0",
         "PC Engine SuperGrafx",
         "364.0",
         null,
         "supergrafx",
         "[166]",
         "1.0",
         "SuperGrafx",
         "supergrafx",
         null
        ],
        [
         "49",
         "129",
         "6.0",
         null,
         "Texas Instruments TI-99",
         "540.0",
         null,
         "ti-99",
         "[172, 427]",
         "6.0",
         "Texas Instruments TI-99/4A",
         "ti-99",
         null
        ]
       ],
       "shape": {
        "columns": 12,
        "rows": 220
       }
      },
      "text/html": [
       "<div>\n",
       "<style scoped>\n",
       "    .dataframe tbody tr th:only-of-type {\n",
       "        vertical-align: middle;\n",
       "    }\n",
       "\n",
       "    .dataframe tbody tr th {\n",
       "        vertical-align: top;\n",
       "    }\n",
       "\n",
       "    .dataframe thead th {\n",
       "        text-align: right;\n",
       "    }\n",
       "</style>\n",
       "<table border=\"1\" class=\"dataframe\">\n",
       "  <thead>\n",
       "    <tr style=\"text-align: right;\">\n",
       "      <th></th>\n",
       "      <th>id</th>\n",
       "      <th>category</th>\n",
       "      <th>generation</th>\n",
       "      <th>name</th>\n",
       "      <th>platform_logo</th>\n",
       "      <th>platform_family</th>\n",
       "      <th>slug</th>\n",
       "      <th>versions</th>\n",
       "      <th>platform_type</th>\n",
       "      <th>alternative_name</th>\n",
       "      <th>abbreviation</th>\n",
       "      <th>summary</th>\n",
       "    </tr>\n",
       "  </thead>\n",
       "  <tbody>\n",
       "    <tr>\n",
       "      <th>0</th>\n",
       "      <td>306</td>\n",
       "      <td>1.0</td>\n",
       "      <td>4.0</td>\n",
       "      <td>Satellaview</td>\n",
       "      <td>595.0</td>\n",
       "      <td>5.0</td>\n",
       "      <td>satellaview</td>\n",
       "      <td>[423]</td>\n",
       "      <td>1.0</td>\n",
       "      <td>NaN</td>\n",
       "      <td>NaN</td>\n",
       "      <td>NaN</td>\n",
       "    </tr>\n",
       "    <tr>\n",
       "      <th>1</th>\n",
       "      <td>339</td>\n",
       "      <td>1.0</td>\n",
       "      <td>4.0</td>\n",
       "      <td>Sega Pico</td>\n",
       "      <td>600.0</td>\n",
       "      <td>3.0</td>\n",
       "      <td>sega-pico</td>\n",
       "      <td>[456]</td>\n",
       "      <td>1.0</td>\n",
       "      <td>Kids Computer Pico</td>\n",
       "      <td>NaN</td>\n",
       "      <td>NaN</td>\n",
       "    </tr>\n",
       "    <tr>\n",
       "      <th>2</th>\n",
       "      <td>376</td>\n",
       "      <td>1.0</td>\n",
       "      <td>3.0</td>\n",
       "      <td>Epoch Super Cassette Vision</td>\n",
       "      <td>743.0</td>\n",
       "      <td>NaN</td>\n",
       "      <td>epoch-super-cassette-vision</td>\n",
       "      <td>[494]</td>\n",
       "      <td>1.0</td>\n",
       "      <td>YENO Super Cassette Vision</td>\n",
       "      <td>NaN</td>\n",
       "      <td>NaN</td>\n",
       "    </tr>\n",
       "    <tr>\n",
       "      <th>3</th>\n",
       "      <td>12</td>\n",
       "      <td>1.0</td>\n",
       "      <td>7.0</td>\n",
       "      <td>Xbox 360</td>\n",
       "      <td>622.0</td>\n",
       "      <td>2.0</td>\n",
       "      <td>xbox360</td>\n",
       "      <td>[2, 3, 495, 83]</td>\n",
       "      <td>1.0</td>\n",
       "      <td>X360</td>\n",
       "      <td>X360</td>\n",
       "      <td>Xbox 360 brings you a total games and entertai...</td>\n",
       "    </tr>\n",
       "    <tr>\n",
       "      <th>4</th>\n",
       "      <td>32</td>\n",
       "      <td>1.0</td>\n",
       "      <td>5.0</td>\n",
       "      <td>Sega Saturn</td>\n",
       "      <td>49.0</td>\n",
       "      <td>3.0</td>\n",
       "      <td>saturn</td>\n",
       "      <td>[65]</td>\n",
       "      <td>1.0</td>\n",
       "      <td>JVC Saturn, Hi-Saturn, Samsung Saturn, V-Saturn</td>\n",
       "      <td>Saturn</td>\n",
       "      <td>NaN</td>\n",
       "    </tr>\n",
       "    <tr>\n",
       "      <th>...</th>\n",
       "      <td>...</td>\n",
       "      <td>...</td>\n",
       "      <td>...</td>\n",
       "      <td>...</td>\n",
       "      <td>...</td>\n",
       "      <td>...</td>\n",
       "      <td>...</td>\n",
       "      <td>...</td>\n",
       "      <td>...</td>\n",
       "      <td>...</td>\n",
       "      <td>...</td>\n",
       "      <td>...</td>\n",
       "    </tr>\n",
       "    <tr>\n",
       "      <th>215</th>\n",
       "      <td>82</td>\n",
       "      <td>3.0</td>\n",
       "      <td>NaN</td>\n",
       "      <td>Web browser</td>\n",
       "      <td>825.0</td>\n",
       "      <td>NaN</td>\n",
       "      <td>browser</td>\n",
       "      <td>[663, 662, 655, 656, 657, 658, 659, 86, 661, 660]</td>\n",
       "      <td>3.0</td>\n",
       "      <td>Internet</td>\n",
       "      <td>browser</td>\n",
       "      <td>NaN</td>\n",
       "    </tr>\n",
       "    <tr>\n",
       "      <th>216</th>\n",
       "      <td>90</td>\n",
       "      <td>6.0</td>\n",
       "      <td>NaN</td>\n",
       "      <td>Commodore PET</td>\n",
       "      <td>543.0</td>\n",
       "      <td>NaN</td>\n",
       "      <td>cpet</td>\n",
       "      <td>[103]</td>\n",
       "      <td>6.0</td>\n",
       "      <td>NaN</td>\n",
       "      <td>cpet</td>\n",
       "      <td>NaN</td>\n",
       "    </tr>\n",
       "    <tr>\n",
       "      <th>217</th>\n",
       "      <td>126</td>\n",
       "      <td>6.0</td>\n",
       "      <td>NaN</td>\n",
       "      <td>TRS-80</td>\n",
       "      <td>372.0</td>\n",
       "      <td>NaN</td>\n",
       "      <td>trs-80</td>\n",
       "      <td>[164]</td>\n",
       "      <td>6.0</td>\n",
       "      <td>NaN</td>\n",
       "      <td>NaN</td>\n",
       "      <td>NaN</td>\n",
       "    </tr>\n",
       "    <tr>\n",
       "      <th>218</th>\n",
       "      <td>130</td>\n",
       "      <td>1.0</td>\n",
       "      <td>8.0</td>\n",
       "      <td>Nintendo Switch</td>\n",
       "      <td>606.0</td>\n",
       "      <td>5.0</td>\n",
       "      <td>switch</td>\n",
       "      <td>[282, 173, 503]</td>\n",
       "      <td>1.0</td>\n",
       "      <td>NX</td>\n",
       "      <td>Switch</td>\n",
       "      <td>NaN</td>\n",
       "    </tr>\n",
       "    <tr>\n",
       "      <th>219</th>\n",
       "      <td>159</td>\n",
       "      <td>5.0</td>\n",
       "      <td>7.0</td>\n",
       "      <td>Nintendo DSi</td>\n",
       "      <td>246.0</td>\n",
       "      <td>5.0</td>\n",
       "      <td>nintendo-dsi</td>\n",
       "      <td>[228, 229]</td>\n",
       "      <td>5.0</td>\n",
       "      <td>NaN</td>\n",
       "      <td>NaN</td>\n",
       "      <td>NaN</td>\n",
       "    </tr>\n",
       "  </tbody>\n",
       "</table>\n",
       "<p>220 rows × 12 columns</p>\n",
       "</div>"
      ],
      "text/plain": [
       "      id  category  generation                         name  platform_logo  \\\n",
       "0    306       1.0         4.0                  Satellaview          595.0   \n",
       "1    339       1.0         4.0                    Sega Pico          600.0   \n",
       "2    376       1.0         3.0  Epoch Super Cassette Vision          743.0   \n",
       "3     12       1.0         7.0                     Xbox 360          622.0   \n",
       "4     32       1.0         5.0                  Sega Saturn           49.0   \n",
       "..   ...       ...         ...                          ...            ...   \n",
       "215   82       3.0         NaN                  Web browser          825.0   \n",
       "216   90       6.0         NaN                Commodore PET          543.0   \n",
       "217  126       6.0         NaN                       TRS-80          372.0   \n",
       "218  130       1.0         8.0              Nintendo Switch          606.0   \n",
       "219  159       5.0         7.0                 Nintendo DSi          246.0   \n",
       "\n",
       "     platform_family                         slug  \\\n",
       "0                5.0                  satellaview   \n",
       "1                3.0                    sega-pico   \n",
       "2                NaN  epoch-super-cassette-vision   \n",
       "3                2.0                      xbox360   \n",
       "4                3.0                       saturn   \n",
       "..               ...                          ...   \n",
       "215              NaN                      browser   \n",
       "216              NaN                         cpet   \n",
       "217              NaN                       trs-80   \n",
       "218              5.0                       switch   \n",
       "219              5.0                 nintendo-dsi   \n",
       "\n",
       "                                              versions  platform_type  \\\n",
       "0                                                [423]            1.0   \n",
       "1                                                [456]            1.0   \n",
       "2                                                [494]            1.0   \n",
       "3                                      [2, 3, 495, 83]            1.0   \n",
       "4                                                 [65]            1.0   \n",
       "..                                                 ...            ...   \n",
       "215  [663, 662, 655, 656, 657, 658, 659, 86, 661, 660]            3.0   \n",
       "216                                              [103]            6.0   \n",
       "217                                              [164]            6.0   \n",
       "218                                    [282, 173, 503]            1.0   \n",
       "219                                         [228, 229]            5.0   \n",
       "\n",
       "                                    alternative_name abbreviation  \\\n",
       "0                                                NaN          NaN   \n",
       "1                                 Kids Computer Pico          NaN   \n",
       "2                         YENO Super Cassette Vision          NaN   \n",
       "3                                               X360         X360   \n",
       "4    JVC Saturn, Hi-Saturn, Samsung Saturn, V-Saturn       Saturn   \n",
       "..                                               ...          ...   \n",
       "215                                         Internet      browser   \n",
       "216                                              NaN         cpet   \n",
       "217                                              NaN          NaN   \n",
       "218                                               NX       Switch   \n",
       "219                                              NaN          NaN   \n",
       "\n",
       "                                               summary  \n",
       "0                                                  NaN  \n",
       "1                                                  NaN  \n",
       "2                                                  NaN  \n",
       "3    Xbox 360 brings you a total games and entertai...  \n",
       "4                                                  NaN  \n",
       "..                                                 ...  \n",
       "215                                                NaN  \n",
       "216                                                NaN  \n",
       "217                                                NaN  \n",
       "218                                                NaN  \n",
       "219                                                NaN  \n",
       "\n",
       "[220 rows x 12 columns]"
      ]
     },
     "metadata": {},
     "output_type": "display_data"
    }
   ],
   "source": [
    "all_platform = get_all_platforms()\n",
    "display(all_platform)\n",
    "# Exporter le DataFrame en CSV\n",
    "all_platform.to_csv('../csv/platforms.csv', index=False)"
   ]
  },
  {
   "cell_type": "code",
   "execution_count": 16,
   "id": "3b5a1f11",
   "metadata": {},
   "outputs": [],
   "source": [
    "# Details des versions des plateforms\n",
    "# Récupération des versions des platforms\n",
    "def get_all_platform_versions():\n",
    "    all_platform_versions = []\n",
    "    offset = 0\n",
    "    limit = 500  # Maximum limit for IGDB API\n",
    "    \n",
    "    while True:\n",
    "        response = post('https://api.igdb.com/v4/platform_version', headers=headers, data=f'fields *; limit {limit}; offset {offset};')\n",
    "        \n",
    "        if response.status_code == 200:\n",
    "            response_json = response.json()\n",
    "            if not response_json:\n",
    "                break\n",
    "            all_platform_versions.extend(response_json)\n",
    "            offset += limit\n",
    "        else:\n",
    "            print(\"Error fetching data from the API\")\n",
    "            print(\"Status code:\", response.status_code)\n",
    "            break\n",
    "            \n",
    "    return pd.DataFrame(all_platform_versions)"
   ]
  },
  {
   "cell_type": "markdown",
   "id": "b02f42f6",
   "metadata": {},
   "source": [
    "# Player perspectives"
   ]
  },
  {
   "cell_type": "code",
   "execution_count": 17,
   "id": "49cd30ad",
   "metadata": {},
   "outputs": [
    {
     "name": "stdout",
     "output_type": "stream",
     "text": [
      "{'count': 7}\n"
     ]
    }
   ],
   "source": [
    "# Nombre de player perspectives\n",
    "url_igdb_player_perspectives_count = \"https://api.igdb.com/v4/player_perspectives/count\"\n",
    "\n",
    "response = post(url_igdb_player_perspectives_count, headers=headers, data='fields *;')\n",
    "print(response.json())"
   ]
  },
  {
   "cell_type": "code",
   "execution_count": 18,
   "id": "77479ca5",
   "metadata": {},
   "outputs": [],
   "source": [
    "# Fonction pour récupérer toutes les player perspectives\n",
    "def get_all_player_perspectives():\n",
    "    \"\"\"\n",
    "    Récupère toutes les perspectives de joueur depuis l'API IGDB avec pagination.\n",
    "    \n",
    "    Returns:\n",
    "        pd.DataFrame: DataFrame contenant toutes les perspectives de joueur.\n",
    "    \"\"\"\n",
    "    all_player_perspectives = []\n",
    "    offset = 0\n",
    "    limit = 500  # Maximum limit for IGDB API\n",
    "\n",
    "    while True:\n",
    "        response = post('https://api.igdb.com/v4/player_perspectives', headers=headers, data = f'fields id,name,slug; limit {limit}; offset {offset};')\n",
    "        \n",
    "        if response.status_code == 200:\n",
    "            response_json = response.json()\n",
    "            if not response_json:  # If no more data, break the loop\n",
    "                break\n",
    "            all_player_perspectives.extend(response_json)\n",
    "            offset += limit\n",
    "        else:\n",
    "            print(\"Error fetching data from the API\")\n",
    "            print(\"Status code:\", response.status_code)\n",
    "            break\n",
    "\n",
    "    return pd.DataFrame(all_player_perspectives)"
   ]
  },
  {
   "cell_type": "code",
   "execution_count": 19,
   "id": "ed62ba05",
   "metadata": {},
   "outputs": [
    {
     "data": {
      "application/vnd.microsoft.datawrangler.viewer.v0+json": {
       "columns": [
        {
         "name": "index",
         "rawType": "int64",
         "type": "integer"
        },
        {
         "name": "id",
         "rawType": "int64",
         "type": "integer"
        },
        {
         "name": "name",
         "rawType": "object",
         "type": "string"
        },
        {
         "name": "slug",
         "rawType": "object",
         "type": "string"
        }
       ],
       "ref": "e9100887-8fd4-4cdb-a7c1-28ec4d923e03",
       "rows": [
        [
         "0",
         "1",
         "First person",
         "first-person"
        ],
        [
         "1",
         "2",
         "Third person",
         "third-person"
        ],
        [
         "2",
         "3",
         "Bird view / Isometric",
         "bird-view-slash-isometric"
        ],
        [
         "3",
         "4",
         "Side view",
         "side-view"
        ],
        [
         "4",
         "5",
         "Text",
         "text"
        ],
        [
         "5",
         "6",
         "Auditory",
         "auditory"
        ],
        [
         "6",
         "7",
         "Virtual Reality",
         "virtual-reality"
        ]
       ],
       "shape": {
        "columns": 3,
        "rows": 7
       }
      },
      "text/html": [
       "<div>\n",
       "<style scoped>\n",
       "    .dataframe tbody tr th:only-of-type {\n",
       "        vertical-align: middle;\n",
       "    }\n",
       "\n",
       "    .dataframe tbody tr th {\n",
       "        vertical-align: top;\n",
       "    }\n",
       "\n",
       "    .dataframe thead th {\n",
       "        text-align: right;\n",
       "    }\n",
       "</style>\n",
       "<table border=\"1\" class=\"dataframe\">\n",
       "  <thead>\n",
       "    <tr style=\"text-align: right;\">\n",
       "      <th></th>\n",
       "      <th>id</th>\n",
       "      <th>name</th>\n",
       "      <th>slug</th>\n",
       "    </tr>\n",
       "  </thead>\n",
       "  <tbody>\n",
       "    <tr>\n",
       "      <th>0</th>\n",
       "      <td>1</td>\n",
       "      <td>First person</td>\n",
       "      <td>first-person</td>\n",
       "    </tr>\n",
       "    <tr>\n",
       "      <th>1</th>\n",
       "      <td>2</td>\n",
       "      <td>Third person</td>\n",
       "      <td>third-person</td>\n",
       "    </tr>\n",
       "    <tr>\n",
       "      <th>2</th>\n",
       "      <td>3</td>\n",
       "      <td>Bird view / Isometric</td>\n",
       "      <td>bird-view-slash-isometric</td>\n",
       "    </tr>\n",
       "    <tr>\n",
       "      <th>3</th>\n",
       "      <td>4</td>\n",
       "      <td>Side view</td>\n",
       "      <td>side-view</td>\n",
       "    </tr>\n",
       "    <tr>\n",
       "      <th>4</th>\n",
       "      <td>5</td>\n",
       "      <td>Text</td>\n",
       "      <td>text</td>\n",
       "    </tr>\n",
       "    <tr>\n",
       "      <th>5</th>\n",
       "      <td>6</td>\n",
       "      <td>Auditory</td>\n",
       "      <td>auditory</td>\n",
       "    </tr>\n",
       "    <tr>\n",
       "      <th>6</th>\n",
       "      <td>7</td>\n",
       "      <td>Virtual Reality</td>\n",
       "      <td>virtual-reality</td>\n",
       "    </tr>\n",
       "  </tbody>\n",
       "</table>\n",
       "</div>"
      ],
      "text/plain": [
       "   id                   name                       slug\n",
       "0   1           First person               first-person\n",
       "1   2           Third person               third-person\n",
       "2   3  Bird view / Isometric  bird-view-slash-isometric\n",
       "3   4              Side view                  side-view\n",
       "4   5                   Text                       text\n",
       "5   6               Auditory                   auditory\n",
       "6   7        Virtual Reality            virtual-reality"
      ]
     },
     "metadata": {},
     "output_type": "display_data"
    }
   ],
   "source": [
    "all_player_perspective = get_all_player_perspectives()\n",
    "display(all_player_perspective)\n",
    "# Exporter le DataFrame en CSV\n",
    "all_player_perspective.to_csv('../csv/player_perspectives.csv', index=False)"
   ]
  },
  {
   "cell_type": "code",
   "execution_count": null,
   "id": "bf3d7763",
   "metadata": {},
   "outputs": [],
   "source": []
  },
  {
   "cell_type": "code",
   "execution_count": 20,
   "id": "6453fea2",
   "metadata": {},
   "outputs": [
    {
     "name": "stdout",
     "output_type": "stream",
     "text": [
      "response: [{'id': 61668, 'country': 840, 'description': 'CyrustheVirus Studios was established by Sheldon Slater, also known as CyrustheVirus001, in 2019. Serving as the sole developer, programmer, animator, artist, and composer for the project Cold Lazarus.', 'developed': [289276], 'name': 'CyrusTheVirus Studios', 'slug': 'cyrusthevirus-studios', 'start_date': 1548979200, 'status': 0}, {'id': 30720, 'country': 203, 'description': '300AD is an independent company associating developers and distributors of games, which has been in the business for more than 6 years. \\n \\nThe success of our games consists in the design purity, simplicity and maximum playability, which brings our players lots of fun. We do not compete with large companies which produce games for hard-core players only. On the contrary, we aim to do games which can be played by children, their parents and possibly any people who want to take a rest from their busy lives for a while.', 'developed': [80245, 52452, 144481, 142326, 142325, 144511, 141970], 'logo': 3995, 'name': '300AD', 'slug': '300ad', 'status': 0}, {'id': 540, 'country': 276, 'description': '10TACLE STUDIOS was specialized in the development of games that brought a significant added value to the field of game design.', 'developed': [92755], 'logo': 1902, 'name': '10tacle Studios', 'published': [736, 738, 11286, 15762, 27466, 125168, 21516, 79753], 'slug': '10tacle-studios', 'start_date': 1072828800, 'status': 1}, {'id': 64121, 'country': 156, 'description': \"Sunborn Network Technology (formerly LBX Network Technology) is the legal representative video game company front of MICA Team - a Chinese independent video game developer. Both companies were founded by Yuzhong and owned by him, with him being the president of both. Due to Sunborn's status as a private, limited company, the only outside coroporation with investments into it is Tencent, which acquired a 20% shares of Sunborn through a tactical investment in 2021. Yuzhong owns 70% equity, directly in shares and indirectly through his self-founded private equity firms, which he uses to reinvest his CEO salary. The other 10% is owned by numerous other employees of Sunborn.[2]\\n\\nWhile many see Sunborn as a legal shell for MICA Team, they are officially still stated to be two separate entities, and often appear side by side during conferences and conventions.\", 'logo': 18002, 'name': 'Sunborn Network Technology', 'parent': 17151, 'slug': 'sunborn-network-technology', 'start_date': 1445731200, 'status': 0}, {'id': 62963, 'country': 76, 'developed': [339674], 'name': 'NoShadow', 'published': [339674], 'slug': 'noshadow', 'start_date': 1630454400, 'status': 0}, {'id': 61769, 'country': 724, 'developed': [332279], 'logo': 16685, 'name': 'Mideas Game Studio', 'published': [332279], 'slug': 'mideas-game-studio', 'status': 0}, {'id': 61767, 'developed': [332276], 'name': 'Zeta Zash', 'published': [332276], 'slug': 'zeta-zash', 'status': 0}, {'id': 61768, 'developed': [332278], 'name': 'emokoshka', 'published': [332278], 'slug': 'emokoshka', 'status': 0}, {'id': 61715, 'developed': [332147], 'logo': 16651, 'name': 'FATHILLL GAMES', 'published': [332147], 'slug': 'fathilll-games', 'status': 0}, {'id': 64122, 'name': 'Starberry Games GmbH', 'slug': 'starberry-games-gmbh', 'status': 0}]\n"
     ]
    }
   ],
   "source": [
    "response = post('https://api.igdb.com/v4/companies', headers=headers, data=f'fields changed_company_id,country,description,developed,logo,name,parent,published,slug,start_date,status;')\n",
    "print (\"response: %s\" % str(response.json()))"
   ]
  },
  {
   "cell_type": "markdown",
   "id": "45b0be4e",
   "metadata": {},
   "source": [
    "# Multiplayer modes"
   ]
  },
  {
   "cell_type": "code",
   "execution_count": 21,
   "id": "1fce1ccc",
   "metadata": {},
   "outputs": [],
   "source": [
    "# Fonction pour récupérer tout les modes de jeu \n",
    "def get_all_multiplayer_modes():\n",
    "    \"\"\"\n",
    "    Récupère tout les mode de jeu depuis l'API IGDB avec pagination.\n",
    "    \n",
    "    Returns:\n",
    "        pd.DataFrame: DataFrame contenant toutes les perspectives de joueur.\n",
    "    \"\"\"\n",
    "    all_multiplayer_modes= []\n",
    "    offset = 0\n",
    "    limit = 500  # Maximum limit for IGDB API\n",
    "\n",
    "    while True:\n",
    "        response = post('https://api.igdb.com/v4/multiplayer_modes', headers=headers, data = f'fields campaigncoop,lancoop,offlinecoop,offlinecoopmax,offlinemax,onlinecoop,onlinecoopmax,onlinemax,splitscreen,splitscreenonline,platform; limit {limit}; offset {offset};')\n",
    "        \n",
    "        if response.status_code == 200:\n",
    "            response_json = response.json()\n",
    "            if not response_json:  # If no more data, break the loop\n",
    "                break\n",
    "            all_multiplayer_modes.extend(response_json)\n",
    "            offset += limit\n",
    "        else:\n",
    "            print(\"Error fetching data from the API\")\n",
    "            print(\"Status code:\", response.status_code)\n",
    "            break\n",
    "\n",
    "    return pd.DataFrame(all_multiplayer_modes)"
   ]
  },
  {
   "cell_type": "code",
   "execution_count": 22,
   "id": "a9223612",
   "metadata": {},
   "outputs": [],
   "source": [
    "# Colonne Splitscreenonline vide sur igdb donc pour la récuperer on va forcer le colonne dans le dataframe, elle sera vide\n",
    "\n",
    "all_multiplayer_modes = get_all_multiplayer_modes()\n",
    "# Liste complète des champs attendus\n",
    "all_cols = [\n",
    "    'id', 'campaigncoop', 'lancoop', 'offlinecoop', 'offlinecoopmax', 'offlinemax',\n",
    "    'onlinecoop', 'onlinecoopmax', 'onlinemax', 'splitscreen', 'splitscreenonline', 'platform'\n",
    "]\n",
    "\n",
    "df = pd.DataFrame(all_multiplayer_modes)  # ou response_json\n",
    "\n",
    "# Ajoute la colonne absente avec None (ou np.nan si tu préfères)\n",
    "for col in all_cols:\n",
    "    if col not in df.columns:\n",
    "        df[col] = None\n",
    "\n",
    "# Réorganise l’ordre si tu veux\n",
    "df = df[all_cols]\n",
    "\n",
    "# Exporte\n",
    "df.to_csv(\"../csv/multiplayer_modes.csv\", index=False)"
   ]
  },
  {
   "cell_type": "code",
   "execution_count": 23,
   "id": "6b31b9e9",
   "metadata": {},
   "outputs": [
    {
     "name": "stdout",
     "output_type": "stream",
     "text": [
      "Empty DataFrame\n",
      "Columns: [id, campaigncoop, lancoop, offlinecoop, offlinecoopmax, offlinemax, onlinecoop, onlinecoopmax, onlinemax, splitscreen, splitscreenonline, platform]\n",
      "Index: []\n"
     ]
    }
   ],
   "source": [
    "print(df[df.duplicated(subset='id', keep=False)])"
   ]
  },
  {
   "cell_type": "markdown",
   "id": "fd7d7d3d",
   "metadata": {},
   "source": [
    "# Game Type"
   ]
  },
  {
   "cell_type": "code",
   "execution_count": 24,
   "id": "f8556940",
   "metadata": {},
   "outputs": [],
   "source": [
    "# Fonction pour récupérer les types de jeu \n",
    "def get_all_game_types():\n",
    "    \"\"\"\n",
    "    Récupère les types de jeu depuis l'API IGDB avec pagination.\n",
    "    \n",
    "    Returns:\n",
    "        pd.DataFrame: DataFrame contenant toutes les perspectives de joueur.\n",
    "    \"\"\"\n",
    "    all_game_types= []\n",
    "    offset = 0\n",
    "    limit = 500  # Maximum limit for IGDB API\n",
    "\n",
    "    while True:\n",
    "        response = post('https://api.igdb.com/v4/game_types', headers=headers, data = f'fields type; limit {limit}; offset {offset};')\n",
    "        \n",
    "        if response.status_code == 200:\n",
    "            response_json = response.json()\n",
    "            if not response_json:  # If no more data, break the loop\n",
    "                break\n",
    "            all_game_types.extend(response_json)\n",
    "            offset += limit\n",
    "        else:\n",
    "            print(\"Error fetching data from the API\")\n",
    "            print(\"Status code:\", response.status_code)\n",
    "            break\n",
    "\n",
    "    return pd.DataFrame(all_game_types)"
   ]
  },
  {
   "cell_type": "code",
   "execution_count": 25,
   "id": "26400412",
   "metadata": {},
   "outputs": [
    {
     "data": {
      "application/vnd.microsoft.datawrangler.viewer.v0+json": {
       "columns": [
        {
         "name": "index",
         "rawType": "int64",
         "type": "integer"
        },
        {
         "name": "id",
         "rawType": "int64",
         "type": "integer"
        },
        {
         "name": "type",
         "rawType": "object",
         "type": "string"
        }
       ],
       "ref": "96fb1850-64f5-4f4e-8ba6-36179ff63eac",
       "rows": [
        [
         "0",
         "3",
         "Bundle"
        ],
        [
         "1",
         "1",
         "DLC"
        ],
        [
         "2",
         "6",
         "Episode"
        ],
        [
         "3",
         "4",
         "Standalone Expansion"
        ],
        [
         "4",
         "5",
         "Mod"
        ],
        [
         "5",
         "8",
         "Remake"
        ],
        [
         "6",
         "11",
         "Port"
        ],
        [
         "7",
         "7",
         "Season"
        ],
        [
         "8",
         "12",
         "Fork"
        ],
        [
         "9",
         "14",
         "Update"
        ],
        [
         "10",
         "10",
         "Expanded Game"
        ],
        [
         "11",
         "13",
         "Pack / Addon"
        ],
        [
         "12",
         "9",
         "Remaster"
        ],
        [
         "13",
         "2",
         "Expansion"
        ],
        [
         "14",
         "0",
         "Main Game"
        ]
       ],
       "shape": {
        "columns": 2,
        "rows": 15
       }
      },
      "text/html": [
       "<div>\n",
       "<style scoped>\n",
       "    .dataframe tbody tr th:only-of-type {\n",
       "        vertical-align: middle;\n",
       "    }\n",
       "\n",
       "    .dataframe tbody tr th {\n",
       "        vertical-align: top;\n",
       "    }\n",
       "\n",
       "    .dataframe thead th {\n",
       "        text-align: right;\n",
       "    }\n",
       "</style>\n",
       "<table border=\"1\" class=\"dataframe\">\n",
       "  <thead>\n",
       "    <tr style=\"text-align: right;\">\n",
       "      <th></th>\n",
       "      <th>id</th>\n",
       "      <th>type</th>\n",
       "    </tr>\n",
       "  </thead>\n",
       "  <tbody>\n",
       "    <tr>\n",
       "      <th>0</th>\n",
       "      <td>3</td>\n",
       "      <td>Bundle</td>\n",
       "    </tr>\n",
       "    <tr>\n",
       "      <th>1</th>\n",
       "      <td>1</td>\n",
       "      <td>DLC</td>\n",
       "    </tr>\n",
       "    <tr>\n",
       "      <th>2</th>\n",
       "      <td>6</td>\n",
       "      <td>Episode</td>\n",
       "    </tr>\n",
       "    <tr>\n",
       "      <th>3</th>\n",
       "      <td>4</td>\n",
       "      <td>Standalone Expansion</td>\n",
       "    </tr>\n",
       "    <tr>\n",
       "      <th>4</th>\n",
       "      <td>5</td>\n",
       "      <td>Mod</td>\n",
       "    </tr>\n",
       "    <tr>\n",
       "      <th>5</th>\n",
       "      <td>8</td>\n",
       "      <td>Remake</td>\n",
       "    </tr>\n",
       "    <tr>\n",
       "      <th>6</th>\n",
       "      <td>11</td>\n",
       "      <td>Port</td>\n",
       "    </tr>\n",
       "    <tr>\n",
       "      <th>7</th>\n",
       "      <td>7</td>\n",
       "      <td>Season</td>\n",
       "    </tr>\n",
       "    <tr>\n",
       "      <th>8</th>\n",
       "      <td>12</td>\n",
       "      <td>Fork</td>\n",
       "    </tr>\n",
       "    <tr>\n",
       "      <th>9</th>\n",
       "      <td>14</td>\n",
       "      <td>Update</td>\n",
       "    </tr>\n",
       "    <tr>\n",
       "      <th>10</th>\n",
       "      <td>10</td>\n",
       "      <td>Expanded Game</td>\n",
       "    </tr>\n",
       "    <tr>\n",
       "      <th>11</th>\n",
       "      <td>13</td>\n",
       "      <td>Pack / Addon</td>\n",
       "    </tr>\n",
       "    <tr>\n",
       "      <th>12</th>\n",
       "      <td>9</td>\n",
       "      <td>Remaster</td>\n",
       "    </tr>\n",
       "    <tr>\n",
       "      <th>13</th>\n",
       "      <td>2</td>\n",
       "      <td>Expansion</td>\n",
       "    </tr>\n",
       "    <tr>\n",
       "      <th>14</th>\n",
       "      <td>0</td>\n",
       "      <td>Main Game</td>\n",
       "    </tr>\n",
       "  </tbody>\n",
       "</table>\n",
       "</div>"
      ],
      "text/plain": [
       "    id                  type\n",
       "0    3                Bundle\n",
       "1    1                   DLC\n",
       "2    6               Episode\n",
       "3    4  Standalone Expansion\n",
       "4    5                   Mod\n",
       "5    8                Remake\n",
       "6   11                  Port\n",
       "7    7                Season\n",
       "8   12                  Fork\n",
       "9   14                Update\n",
       "10  10         Expanded Game\n",
       "11  13          Pack / Addon\n",
       "12   9              Remaster\n",
       "13   2             Expansion\n",
       "14   0             Main Game"
      ]
     },
     "metadata": {},
     "output_type": "display_data"
    }
   ],
   "source": [
    "all_multiplayer_modes = get_all_game_types()\n",
    "display(all_multiplayer_modes)\n",
    "# Exporter le DataFrame en CSV\n",
    "all_multiplayer_modes.to_csv('../csv/game_types.csv', index=False)"
   ]
  },
  {
   "cell_type": "markdown",
   "id": "6c01eb0e",
   "metadata": {},
   "source": [
    "# Language supports"
   ]
  },
  {
   "cell_type": "code",
   "execution_count": 28,
   "id": "0ab26a51",
   "metadata": {},
   "outputs": [],
   "source": [
    "# Fonction pour récupérer les supports de langues\n",
    "def get_all_language_supports():\n",
    "    \"\"\"\n",
    "    Récupère les supports de langue depuis l'API IGDB avec pagination.\n",
    "    \n",
    "    Returns:\n",
    "        pd.DataFrame: DataFrame contenant toutes les perspectives de joueur.\n",
    "    \"\"\"\n",
    "    all_language_supports= []\n",
    "    offset = 0\n",
    "    limit = 500  # Maximum limit for IGDB API\n",
    "\n",
    "    while True:\n",
    "        response = post('https://api.igdb.com/v4/language_supports', headers=headers, data = f'fields language,language_support_type, game; limit {limit}; offset {offset};')\n",
    "        \n",
    "        if response.status_code == 200:\n",
    "            response_json = response.json()\n",
    "            if not response_json:  # If no more data, break the loop\n",
    "                break\n",
    "            all_language_supports.extend(response_json)\n",
    "            offset += limit\n",
    "        else:\n",
    "            print(\"Error fetching data from the API\")\n",
    "            print(\"Status code:\", response.status_code)\n",
    "            break\n",
    "\n",
    "    return pd.DataFrame(all_language_supports)"
   ]
  },
  {
   "cell_type": "code",
   "execution_count": 29,
   "id": "42e4d01d",
   "metadata": {},
   "outputs": [
    {
     "data": {
      "application/vnd.microsoft.datawrangler.viewer.v0+json": {
       "columns": [
        {
         "name": "index",
         "rawType": "int64",
         "type": "integer"
        },
        {
         "name": "id",
         "rawType": "int64",
         "type": "integer"
        },
        {
         "name": "game",
         "rawType": "int64",
         "type": "integer"
        },
        {
         "name": "language",
         "rawType": "int64",
         "type": "integer"
        },
        {
         "name": "language_support_type",
         "rawType": "int64",
         "type": "integer"
        }
       ],
       "ref": "0703c410-3d56-41b5-8b14-57461eebf0ea",
       "rows": [
        [
         "0",
         "1001",
         "113494",
         "7",
         "1"
        ],
        [
         "1",
         "1042224",
         "309457",
         "13",
         "1"
        ],
        [
         "2",
         "4001",
         "76477",
         "7",
         "2"
        ],
        [
         "3",
         "2001",
         "24816",
         "1",
         "3"
        ],
        [
         "4",
         "6001",
         "112929",
         "22",
         "3"
        ],
        [
         "5",
         "7001",
         "32125",
         "16",
         "2"
        ],
        [
         "6",
         "8001",
         "74129",
         "7",
         "2"
        ],
        [
         "7",
         "9001",
         "114122",
         "16",
         "3"
        ],
        [
         "8",
         "10001",
         "114312",
         "1",
         "2"
        ],
        [
         "9",
         "46001",
         "29372",
         "5",
         "3"
        ],
        [
         "10",
         "49001",
         "29403",
         "7",
         "2"
        ],
        [
         "11",
         "11001",
         "23225",
         "23",
         "2"
        ],
        [
         "12",
         "54001",
         "15531",
         "16",
         "1"
        ],
        [
         "13",
         "56001",
         "31076",
         "9",
         "3"
        ],
        [
         "14",
         "62001",
         "119192",
         "7",
         "2"
        ],
        [
         "15",
         "77001",
         "107329",
         "16",
         "3"
        ],
        [
         "16",
         "78001",
         "118060",
         "12",
         "3"
        ],
        [
         "17",
         "79001",
         "14746",
         "1",
         "3"
        ],
        [
         "18",
         "88001",
         "91024",
         "16",
         "3"
        ],
        [
         "19",
         "89001",
         "134583",
         "3",
         "2"
        ],
        [
         "20",
         "101001",
         "33160",
         "17",
         "3"
        ],
        [
         "21",
         "102001",
         "124962",
         "22",
         "3"
        ],
        [
         "22",
         "81001",
         "121617",
         "20",
         "3"
        ],
        [
         "23",
         "109001",
         "23294",
         "7",
         "3"
        ],
        [
         "24",
         "112001",
         "33705",
         "7",
         "2"
        ],
        [
         "25",
         "113001",
         "88035",
         "23",
         "2"
        ],
        [
         "26",
         "114001",
         "25812",
         "12",
         "3"
        ],
        [
         "27",
         "116001",
         "8865",
         "7",
         "3"
        ],
        [
         "28",
         "103001",
         "32282",
         "7",
         "3"
        ],
        [
         "29",
         "118001",
         "11205",
         "7",
         "1"
        ],
        [
         "30",
         "122001",
         "9772",
         "7",
         "3"
        ],
        [
         "31",
         "120001",
         "36086",
         "20",
         "1"
        ],
        [
         "32",
         "124001",
         "113755",
         "7",
         "3"
        ],
        [
         "33",
         "125001",
         "142877",
         "9",
         "1"
        ],
        [
         "34",
         "126001",
         "110999",
         "7",
         "3"
        ],
        [
         "35",
         "130001",
         "148049",
         "9",
         "3"
        ],
        [
         "36",
         "131001",
         "10872",
         "22",
         "3"
        ],
        [
         "37",
         "132001",
         "223307",
         "7",
         "2"
        ],
        [
         "38",
         "123001",
         "50510",
         "15",
         "1"
        ],
        [
         "39",
         "1005",
         "8115",
         "7",
         "1"
        ],
        [
         "40",
         "1003",
         "149900",
         "7",
         "1"
        ],
        [
         "41",
         "1002",
         "149900",
         "7",
         "3"
        ],
        [
         "42",
         "2005",
         "24816",
         "5",
         "3"
        ],
        [
         "43",
         "2003",
         "24816",
         "4",
         "3"
        ],
        [
         "44",
         "2002",
         "24816",
         "1",
         "1"
        ],
        [
         "45",
         "4005",
         "147340",
         "7",
         "3"
        ],
        [
         "46",
         "6003",
         "112929",
         "22",
         "2"
        ],
        [
         "47",
         "4002",
         "76477",
         "22",
         "3"
        ],
        [
         "48",
         "6005",
         "112929",
         "2",
         "2"
        ],
        [
         "49",
         "6002",
         "112929",
         "22",
         "1"
        ]
       ],
       "shape": {
        "columns": 4,
        "rows": 1223826
       }
      },
      "text/html": [
       "<div>\n",
       "<style scoped>\n",
       "    .dataframe tbody tr th:only-of-type {\n",
       "        vertical-align: middle;\n",
       "    }\n",
       "\n",
       "    .dataframe tbody tr th {\n",
       "        vertical-align: top;\n",
       "    }\n",
       "\n",
       "    .dataframe thead th {\n",
       "        text-align: right;\n",
       "    }\n",
       "</style>\n",
       "<table border=\"1\" class=\"dataframe\">\n",
       "  <thead>\n",
       "    <tr style=\"text-align: right;\">\n",
       "      <th></th>\n",
       "      <th>id</th>\n",
       "      <th>game</th>\n",
       "      <th>language</th>\n",
       "      <th>language_support_type</th>\n",
       "    </tr>\n",
       "  </thead>\n",
       "  <tbody>\n",
       "    <tr>\n",
       "      <th>0</th>\n",
       "      <td>1001</td>\n",
       "      <td>113494</td>\n",
       "      <td>7</td>\n",
       "      <td>1</td>\n",
       "    </tr>\n",
       "    <tr>\n",
       "      <th>1</th>\n",
       "      <td>1042224</td>\n",
       "      <td>309457</td>\n",
       "      <td>13</td>\n",
       "      <td>1</td>\n",
       "    </tr>\n",
       "    <tr>\n",
       "      <th>2</th>\n",
       "      <td>4001</td>\n",
       "      <td>76477</td>\n",
       "      <td>7</td>\n",
       "      <td>2</td>\n",
       "    </tr>\n",
       "    <tr>\n",
       "      <th>3</th>\n",
       "      <td>2001</td>\n",
       "      <td>24816</td>\n",
       "      <td>1</td>\n",
       "      <td>3</td>\n",
       "    </tr>\n",
       "    <tr>\n",
       "      <th>4</th>\n",
       "      <td>6001</td>\n",
       "      <td>112929</td>\n",
       "      <td>22</td>\n",
       "      <td>3</td>\n",
       "    </tr>\n",
       "    <tr>\n",
       "      <th>...</th>\n",
       "      <td>...</td>\n",
       "      <td>...</td>\n",
       "      <td>...</td>\n",
       "      <td>...</td>\n",
       "    </tr>\n",
       "    <tr>\n",
       "      <th>1223821</th>\n",
       "      <td>1297568</td>\n",
       "      <td>351798</td>\n",
       "      <td>7</td>\n",
       "      <td>2</td>\n",
       "    </tr>\n",
       "    <tr>\n",
       "      <th>1223822</th>\n",
       "      <td>1297570</td>\n",
       "      <td>351798</td>\n",
       "      <td>27</td>\n",
       "      <td>2</td>\n",
       "    </tr>\n",
       "    <tr>\n",
       "      <th>1223823</th>\n",
       "      <td>1297562</td>\n",
       "      <td>351798</td>\n",
       "      <td>12</td>\n",
       "      <td>3</td>\n",
       "    </tr>\n",
       "    <tr>\n",
       "      <th>1223824</th>\n",
       "      <td>1297569</td>\n",
       "      <td>351798</td>\n",
       "      <td>9</td>\n",
       "      <td>2</td>\n",
       "    </tr>\n",
       "    <tr>\n",
       "      <th>1223825</th>\n",
       "      <td>1297563</td>\n",
       "      <td>351798</td>\n",
       "      <td>7</td>\n",
       "      <td>3</td>\n",
       "    </tr>\n",
       "  </tbody>\n",
       "</table>\n",
       "<p>1223826 rows × 4 columns</p>\n",
       "</div>"
      ],
      "text/plain": [
       "              id    game  language  language_support_type\n",
       "0           1001  113494         7                      1\n",
       "1        1042224  309457        13                      1\n",
       "2           4001   76477         7                      2\n",
       "3           2001   24816         1                      3\n",
       "4           6001  112929        22                      3\n",
       "...          ...     ...       ...                    ...\n",
       "1223821  1297568  351798         7                      2\n",
       "1223822  1297570  351798        27                      2\n",
       "1223823  1297562  351798        12                      3\n",
       "1223824  1297569  351798         9                      2\n",
       "1223825  1297563  351798         7                      3\n",
       "\n",
       "[1223826 rows x 4 columns]"
      ]
     },
     "metadata": {},
     "output_type": "display_data"
    }
   ],
   "source": [
    "all_language_supports = get_all_language_supports()\n",
    "display(all_language_supports)\n",
    "# Exporter le DataFrame en CSV\n",
    "all_language_supports.to_csv('../csv/language_supports.csv', index=False)"
   ]
  },
  {
   "cell_type": "markdown",
   "id": "922a6a9b",
   "metadata": {},
   "source": [
    "# Language"
   ]
  },
  {
   "cell_type": "code",
   "execution_count": 34,
   "id": "466e88ce",
   "metadata": {},
   "outputs": [],
   "source": [
    "# Fonction pour récupérer les langues\n",
    "def get_all_language():\n",
    "    \"\"\"\n",
    "    Récupère les langues depuis l'API IGDB avec pagination.\n",
    "    \n",
    "    Returns:\n",
    "        pd.DataFrame: DataFrame contenant toutes les perspectives de joueur.\n",
    "    \"\"\"\n",
    "    all_language = []\n",
    "    offset = 0\n",
    "    limit = 500  # Maximum limit for IGDB API\n",
    "\n",
    "    while True:\n",
    "        response = post('https://api.igdb.com/v4/languages', headers=headers, data = f'fields locale, name, native_name; limit {limit}; offset {offset};')\n",
    "        \n",
    "        if response.status_code == 200:\n",
    "            response_json = response.json()\n",
    "            if not response_json:  # If no more data, break the loop\n",
    "                break\n",
    "            all_language.extend(response_json)\n",
    "            offset += limit\n",
    "        else:\n",
    "            print(\"Error fetching data from the API\")\n",
    "            print(\"Status code:\", response.status_code)\n",
    "            break\n",
    "\n",
    "    return pd.DataFrame(all_language)"
   ]
  },
  {
   "cell_type": "code",
   "execution_count": 35,
   "id": "fc5bc0e5",
   "metadata": {},
   "outputs": [
    {
     "data": {
      "application/vnd.microsoft.datawrangler.viewer.v0+json": {
       "columns": [
        {
         "name": "index",
         "rawType": "int64",
         "type": "integer"
        },
        {
         "name": "id",
         "rawType": "int64",
         "type": "integer"
        },
        {
         "name": "name",
         "rawType": "object",
         "type": "string"
        },
        {
         "name": "native_name",
         "rawType": "object",
         "type": "string"
        },
        {
         "name": "locale",
         "rawType": "object",
         "type": "string"
        }
       ],
       "ref": "a3dcd4ab-79ad-4224-8bfc-b857df97e94d",
       "rows": [
        [
         "0",
         "1",
         "Arabic",
         "العربية",
         "ar"
        ],
        [
         "1",
         "2",
         "Chinese (Simplified)",
         "简体中文",
         "zh-CN"
        ],
        [
         "2",
         "3",
         "Chinese (Traditional)",
         "繁體中文",
         "zh-TW"
        ],
        [
         "3",
         "4",
         "Czech",
         "čeština",
         "cs-CZ"
        ],
        [
         "4",
         "5",
         "Danish",
         "Dansk",
         "da-DK"
        ],
        [
         "5",
         "6",
         "Dutch",
         "Nederlands",
         "nl-NL"
        ],
        [
         "6",
         "7",
         "English",
         "English (US)",
         "en-US"
        ],
        [
         "7",
         "8",
         "English (UK)",
         "English (UK)",
         "en-GB"
        ],
        [
         "8",
         "9",
         "Spanish (Spain)",
         "Español (España)",
         "es-ES"
        ],
        [
         "9",
         "10",
         "Spanish (Mexico)",
         "Español (Mexico)",
         "es-MX"
        ],
        [
         "10",
         "12",
         "French",
         "Français",
         "fr-FR"
        ],
        [
         "11",
         "14",
         "Hungarian",
         "Magyar",
         "hu-HU"
        ],
        [
         "12",
         "11",
         "Finnish",
         "Suomi",
         "fi-FI"
        ],
        [
         "13",
         "15",
         "Italian",
         "Italiano",
         "it-IT"
        ],
        [
         "14",
         "13",
         "Hebrew",
         "עברית",
         "he-IL"
        ],
        [
         "15",
         "16",
         "Japanese",
         "日本語",
         "ja-JP"
        ],
        [
         "16",
         "17",
         "Korean",
         "한국어",
         "ko-KR"
        ],
        [
         "17",
         "18",
         "Norwegian",
         "Norsk",
         "nb-NO"
        ],
        [
         "18",
         "20",
         "Portuguese (Portugal)",
         "Português (Portugal)",
         "pt-PT"
        ],
        [
         "19",
         "21",
         "Portuguese (Brazil)",
         "Português (Brasil)",
         "pt-BR"
        ],
        [
         "20",
         "19",
         "Polish",
         "Polski",
         "pl-PL"
        ],
        [
         "21",
         "22",
         "Russian",
         "Русский",
         "ru-RU"
        ],
        [
         "22",
         "24",
         "Turkish",
         "Türkçe",
         "tr-TR"
        ],
        [
         "23",
         "25",
         "Thai",
         "ไทย",
         "th-TH"
        ],
        [
         "24",
         "26",
         "Vietnamese",
         "Tiếng Việt",
         "vi-VN"
        ],
        [
         "25",
         "23",
         "Swedish",
         "Svenska",
         "sv-SE"
        ],
        [
         "26",
         "27",
         "German",
         "Deutsch",
         "de-DE"
        ],
        [
         "27",
         "28",
         "Ukrainian",
         "українська",
         "uk-UA"
        ]
       ],
       "shape": {
        "columns": 4,
        "rows": 28
       }
      },
      "text/html": [
       "<div>\n",
       "<style scoped>\n",
       "    .dataframe tbody tr th:only-of-type {\n",
       "        vertical-align: middle;\n",
       "    }\n",
       "\n",
       "    .dataframe tbody tr th {\n",
       "        vertical-align: top;\n",
       "    }\n",
       "\n",
       "    .dataframe thead th {\n",
       "        text-align: right;\n",
       "    }\n",
       "</style>\n",
       "<table border=\"1\" class=\"dataframe\">\n",
       "  <thead>\n",
       "    <tr style=\"text-align: right;\">\n",
       "      <th></th>\n",
       "      <th>id</th>\n",
       "      <th>name</th>\n",
       "      <th>native_name</th>\n",
       "      <th>locale</th>\n",
       "    </tr>\n",
       "  </thead>\n",
       "  <tbody>\n",
       "    <tr>\n",
       "      <th>0</th>\n",
       "      <td>1</td>\n",
       "      <td>Arabic</td>\n",
       "      <td>العربية</td>\n",
       "      <td>ar</td>\n",
       "    </tr>\n",
       "    <tr>\n",
       "      <th>1</th>\n",
       "      <td>2</td>\n",
       "      <td>Chinese (Simplified)</td>\n",
       "      <td>简体中文</td>\n",
       "      <td>zh-CN</td>\n",
       "    </tr>\n",
       "    <tr>\n",
       "      <th>2</th>\n",
       "      <td>3</td>\n",
       "      <td>Chinese (Traditional)</td>\n",
       "      <td>繁體中文</td>\n",
       "      <td>zh-TW</td>\n",
       "    </tr>\n",
       "    <tr>\n",
       "      <th>3</th>\n",
       "      <td>4</td>\n",
       "      <td>Czech</td>\n",
       "      <td>čeština</td>\n",
       "      <td>cs-CZ</td>\n",
       "    </tr>\n",
       "    <tr>\n",
       "      <th>4</th>\n",
       "      <td>5</td>\n",
       "      <td>Danish</td>\n",
       "      <td>Dansk</td>\n",
       "      <td>da-DK</td>\n",
       "    </tr>\n",
       "    <tr>\n",
       "      <th>5</th>\n",
       "      <td>6</td>\n",
       "      <td>Dutch</td>\n",
       "      <td>Nederlands</td>\n",
       "      <td>nl-NL</td>\n",
       "    </tr>\n",
       "    <tr>\n",
       "      <th>6</th>\n",
       "      <td>7</td>\n",
       "      <td>English</td>\n",
       "      <td>English (US)</td>\n",
       "      <td>en-US</td>\n",
       "    </tr>\n",
       "    <tr>\n",
       "      <th>7</th>\n",
       "      <td>8</td>\n",
       "      <td>English (UK)</td>\n",
       "      <td>English (UK)</td>\n",
       "      <td>en-GB</td>\n",
       "    </tr>\n",
       "    <tr>\n",
       "      <th>8</th>\n",
       "      <td>9</td>\n",
       "      <td>Spanish (Spain)</td>\n",
       "      <td>Español (España)</td>\n",
       "      <td>es-ES</td>\n",
       "    </tr>\n",
       "    <tr>\n",
       "      <th>9</th>\n",
       "      <td>10</td>\n",
       "      <td>Spanish (Mexico)</td>\n",
       "      <td>Español (Mexico)</td>\n",
       "      <td>es-MX</td>\n",
       "    </tr>\n",
       "    <tr>\n",
       "      <th>10</th>\n",
       "      <td>12</td>\n",
       "      <td>French</td>\n",
       "      <td>Français</td>\n",
       "      <td>fr-FR</td>\n",
       "    </tr>\n",
       "    <tr>\n",
       "      <th>11</th>\n",
       "      <td>14</td>\n",
       "      <td>Hungarian</td>\n",
       "      <td>Magyar</td>\n",
       "      <td>hu-HU</td>\n",
       "    </tr>\n",
       "    <tr>\n",
       "      <th>12</th>\n",
       "      <td>11</td>\n",
       "      <td>Finnish</td>\n",
       "      <td>Suomi</td>\n",
       "      <td>fi-FI</td>\n",
       "    </tr>\n",
       "    <tr>\n",
       "      <th>13</th>\n",
       "      <td>15</td>\n",
       "      <td>Italian</td>\n",
       "      <td>Italiano</td>\n",
       "      <td>it-IT</td>\n",
       "    </tr>\n",
       "    <tr>\n",
       "      <th>14</th>\n",
       "      <td>13</td>\n",
       "      <td>Hebrew</td>\n",
       "      <td>עברית</td>\n",
       "      <td>he-IL</td>\n",
       "    </tr>\n",
       "    <tr>\n",
       "      <th>15</th>\n",
       "      <td>16</td>\n",
       "      <td>Japanese</td>\n",
       "      <td>日本語</td>\n",
       "      <td>ja-JP</td>\n",
       "    </tr>\n",
       "    <tr>\n",
       "      <th>16</th>\n",
       "      <td>17</td>\n",
       "      <td>Korean</td>\n",
       "      <td>한국어</td>\n",
       "      <td>ko-KR</td>\n",
       "    </tr>\n",
       "    <tr>\n",
       "      <th>17</th>\n",
       "      <td>18</td>\n",
       "      <td>Norwegian</td>\n",
       "      <td>Norsk</td>\n",
       "      <td>nb-NO</td>\n",
       "    </tr>\n",
       "    <tr>\n",
       "      <th>18</th>\n",
       "      <td>20</td>\n",
       "      <td>Portuguese (Portugal)</td>\n",
       "      <td>Português (Portugal)</td>\n",
       "      <td>pt-PT</td>\n",
       "    </tr>\n",
       "    <tr>\n",
       "      <th>19</th>\n",
       "      <td>21</td>\n",
       "      <td>Portuguese (Brazil)</td>\n",
       "      <td>Português (Brasil)</td>\n",
       "      <td>pt-BR</td>\n",
       "    </tr>\n",
       "    <tr>\n",
       "      <th>20</th>\n",
       "      <td>19</td>\n",
       "      <td>Polish</td>\n",
       "      <td>Polski</td>\n",
       "      <td>pl-PL</td>\n",
       "    </tr>\n",
       "    <tr>\n",
       "      <th>21</th>\n",
       "      <td>22</td>\n",
       "      <td>Russian</td>\n",
       "      <td>Русский</td>\n",
       "      <td>ru-RU</td>\n",
       "    </tr>\n",
       "    <tr>\n",
       "      <th>22</th>\n",
       "      <td>24</td>\n",
       "      <td>Turkish</td>\n",
       "      <td>Türkçe</td>\n",
       "      <td>tr-TR</td>\n",
       "    </tr>\n",
       "    <tr>\n",
       "      <th>23</th>\n",
       "      <td>25</td>\n",
       "      <td>Thai</td>\n",
       "      <td>ไทย</td>\n",
       "      <td>th-TH</td>\n",
       "    </tr>\n",
       "    <tr>\n",
       "      <th>24</th>\n",
       "      <td>26</td>\n",
       "      <td>Vietnamese</td>\n",
       "      <td>Tiếng Việt</td>\n",
       "      <td>vi-VN</td>\n",
       "    </tr>\n",
       "    <tr>\n",
       "      <th>25</th>\n",
       "      <td>23</td>\n",
       "      <td>Swedish</td>\n",
       "      <td>Svenska</td>\n",
       "      <td>sv-SE</td>\n",
       "    </tr>\n",
       "    <tr>\n",
       "      <th>26</th>\n",
       "      <td>27</td>\n",
       "      <td>German</td>\n",
       "      <td>Deutsch</td>\n",
       "      <td>de-DE</td>\n",
       "    </tr>\n",
       "    <tr>\n",
       "      <th>27</th>\n",
       "      <td>28</td>\n",
       "      <td>Ukrainian</td>\n",
       "      <td>українська</td>\n",
       "      <td>uk-UA</td>\n",
       "    </tr>\n",
       "  </tbody>\n",
       "</table>\n",
       "</div>"
      ],
      "text/plain": [
       "    id                   name           native_name locale\n",
       "0    1                 Arabic               العربية     ar\n",
       "1    2   Chinese (Simplified)                  简体中文  zh-CN\n",
       "2    3  Chinese (Traditional)                  繁體中文  zh-TW\n",
       "3    4                  Czech               čeština  cs-CZ\n",
       "4    5                 Danish                 Dansk  da-DK\n",
       "5    6                  Dutch            Nederlands  nl-NL\n",
       "6    7                English          English (US)  en-US\n",
       "7    8           English (UK)          English (UK)  en-GB\n",
       "8    9        Spanish (Spain)      Español (España)  es-ES\n",
       "9   10       Spanish (Mexico)      Español (Mexico)  es-MX\n",
       "10  12                 French              Français  fr-FR\n",
       "11  14              Hungarian                Magyar  hu-HU\n",
       "12  11                Finnish                 Suomi  fi-FI\n",
       "13  15                Italian              Italiano  it-IT\n",
       "14  13                 Hebrew                 עברית  he-IL\n",
       "15  16               Japanese                   日本語  ja-JP\n",
       "16  17                 Korean                   한국어  ko-KR\n",
       "17  18              Norwegian                 Norsk  nb-NO\n",
       "18  20  Portuguese (Portugal)  Português (Portugal)  pt-PT\n",
       "19  21    Portuguese (Brazil)    Português (Brasil)  pt-BR\n",
       "20  19                 Polish                Polski  pl-PL\n",
       "21  22                Russian               Русский  ru-RU\n",
       "22  24                Turkish                Türkçe  tr-TR\n",
       "23  25                   Thai                   ไทย  th-TH\n",
       "24  26             Vietnamese            Tiếng Việt  vi-VN\n",
       "25  23                Swedish               Svenska  sv-SE\n",
       "26  27                 German               Deutsch  de-DE\n",
       "27  28              Ukrainian            українська  uk-UA"
      ]
     },
     "metadata": {},
     "output_type": "display_data"
    }
   ],
   "source": [
    "all_language = get_all_language()\n",
    "display(all_language)\n",
    "# Exporter le DataFrame en CSV\n",
    "all_language.to_csv('../csv/language.csv', index=False)"
   ]
  },
  {
   "cell_type": "markdown",
   "id": "ad27e96b",
   "metadata": {},
   "source": [
    "# Language supports type"
   ]
  },
  {
   "cell_type": "code",
   "execution_count": 40,
   "id": "ae8c7661",
   "metadata": {},
   "outputs": [],
   "source": [
    "# Fonction pour récupérer les type de support pour les langues\n",
    "def get_all_language_supports_type():\n",
    "    \"\"\"\n",
    "    Récupère les types de support de langues depuis l'API IGDB avec pagination.\n",
    "    \n",
    "    Returns:\n",
    "        pd.DataFrame: DataFrame contenant toutes les perspectives de joueur.\n",
    "    \"\"\"\n",
    "    all_language_supports_type = []\n",
    "    offset = 0\n",
    "    limit = 500  # Maximum limit for IGDB API\n",
    "\n",
    "    while True:\n",
    "        response = post('https://api.igdb.com/v4/language_support_types', headers=headers, data = f'fields name; limit {limit}; offset {offset};')\n",
    "        \n",
    "        if response.status_code == 200:\n",
    "            response_json = response.json()\n",
    "            if not response_json:  # If no more data, break the loop\n",
    "                break\n",
    "            all_language_supports_type.extend(response_json)\n",
    "            offset += limit\n",
    "        else:\n",
    "            print(\"Error fetching data from the API\")\n",
    "            print(\"Status code:\", response.status_code)\n",
    "            break\n",
    "\n",
    "    return pd.DataFrame(all_language_supports_type)"
   ]
  },
  {
   "cell_type": "code",
   "execution_count": 41,
   "id": "bc1fe5ff",
   "metadata": {},
   "outputs": [
    {
     "data": {
      "application/vnd.microsoft.datawrangler.viewer.v0+json": {
       "columns": [
        {
         "name": "index",
         "rawType": "int64",
         "type": "integer"
        },
        {
         "name": "id",
         "rawType": "int64",
         "type": "integer"
        },
        {
         "name": "name",
         "rawType": "object",
         "type": "string"
        }
       ],
       "ref": "3a919ffc-1721-4cec-a0ac-4ff711306254",
       "rows": [
        [
         "0",
         "1",
         "Audio"
        ],
        [
         "1",
         "2",
         "Subtitles"
        ],
        [
         "2",
         "3",
         "Interface"
        ]
       ],
       "shape": {
        "columns": 2,
        "rows": 3
       }
      },
      "text/html": [
       "<div>\n",
       "<style scoped>\n",
       "    .dataframe tbody tr th:only-of-type {\n",
       "        vertical-align: middle;\n",
       "    }\n",
       "\n",
       "    .dataframe tbody tr th {\n",
       "        vertical-align: top;\n",
       "    }\n",
       "\n",
       "    .dataframe thead th {\n",
       "        text-align: right;\n",
       "    }\n",
       "</style>\n",
       "<table border=\"1\" class=\"dataframe\">\n",
       "  <thead>\n",
       "    <tr style=\"text-align: right;\">\n",
       "      <th></th>\n",
       "      <th>id</th>\n",
       "      <th>name</th>\n",
       "    </tr>\n",
       "  </thead>\n",
       "  <tbody>\n",
       "    <tr>\n",
       "      <th>0</th>\n",
       "      <td>1</td>\n",
       "      <td>Audio</td>\n",
       "    </tr>\n",
       "    <tr>\n",
       "      <th>1</th>\n",
       "      <td>2</td>\n",
       "      <td>Subtitles</td>\n",
       "    </tr>\n",
       "    <tr>\n",
       "      <th>2</th>\n",
       "      <td>3</td>\n",
       "      <td>Interface</td>\n",
       "    </tr>\n",
       "  </tbody>\n",
       "</table>\n",
       "</div>"
      ],
      "text/plain": [
       "   id       name\n",
       "0   1      Audio\n",
       "1   2  Subtitles\n",
       "2   3  Interface"
      ]
     },
     "metadata": {},
     "output_type": "display_data"
    }
   ],
   "source": [
    "all_language_supports_type = get_all_language_supports_type()\n",
    "display(all_language_supports_type)\n",
    "# Exporter le DataFrame en CSV\n",
    "all_language_supports_type.to_csv('../csv/language_supports_type.csv', index=False)"
   ]
  },
  {
   "cell_type": "markdown",
   "id": "c58d6a89",
   "metadata": {},
   "source": [
    "# Game type et game_id de l'API de game (table game_game_category)"
   ]
  },
  {
   "cell_type": "code",
   "execution_count": 1,
   "id": "afda86e3",
   "metadata": {},
   "outputs": [],
   "source": [
    "# Fonction pour récupérer les type de support pour les langues\n",
    "def get_all_game_types_from_game():\n",
    "    \"\"\"\n",
    "    Récupère les types de jeux dans la partie Game de l'API IGDB avec pagination.\n",
    "    \n",
    "    Returns:\n",
    "        pd.DataFrame: DataFrame contenant toutes les perspectives de joueur.\n",
    "    \"\"\"\n",
    "    all_game_types_from_game = []\n",
    "    offset = 0\n",
    "    limit = 500  # Maximum limit for IGDB API\n",
    "\n",
    "    while True:\n",
    "        response = post('https://api.igdb.com/v4/games', headers=headers, data = f'fields game_type; limit {limit}; offset {offset};')\n",
    "        \n",
    "        if response.status_code == 200:\n",
    "            response_json = response.json()\n",
    "            if not response_json:  # If no more data, break the loop\n",
    "                break\n",
    "            all_game_types_from_game.extend(response_json)\n",
    "            offset += limit\n",
    "        else:\n",
    "            print(\"Error fetching data from the API\")\n",
    "            print(\"Status code:\", response.status_code)\n",
    "            break\n",
    "\n",
    "    return pd.DataFrame(all_game_types_from_game)"
   ]
  },
  {
   "cell_type": "code",
   "execution_count": 8,
   "id": "b45c92aa",
   "metadata": {},
   "outputs": [
    {
     "data": {
      "application/vnd.microsoft.datawrangler.viewer.v0+json": {
       "columns": [
        {
         "name": "index",
         "rawType": "int64",
         "type": "integer"
        },
        {
         "name": "id",
         "rawType": "int64",
         "type": "integer"
        },
        {
         "name": "game_type",
         "rawType": "int64",
         "type": "integer"
        }
       ],
       "ref": "56290765-ce09-42df-96bb-497af54f76dc",
       "rows": [
        [
         "0",
         "330684",
         "14"
        ],
        [
         "1",
         "177310",
         "0"
        ],
        [
         "2",
         "282079",
         "5"
        ],
        [
         "3",
         "63844",
         "0"
        ],
        [
         "4",
         "338541",
         "7"
        ],
        [
         "5",
         "157761",
         "1"
        ],
        [
         "6",
         "335661",
         "0"
        ],
        [
         "7",
         "348397",
         "0"
        ],
        [
         "8",
         "347317",
         "0"
        ],
        [
         "9",
         "2329",
         "0"
        ],
        [
         "10",
         "145545",
         "0"
        ],
        [
         "11",
         "341397",
         "0"
        ],
        [
         "12",
         "340611",
         "0"
        ],
        [
         "13",
         "189844",
         "0"
        ],
        [
         "14",
         "134684",
         "0"
        ],
        [
         "15",
         "194844",
         "0"
        ],
        [
         "16",
         "340494",
         "0"
        ],
        [
         "17",
         "36558",
         "0"
        ],
        [
         "18",
         "274434",
         "3"
        ],
        [
         "19",
         "130742",
         "0"
        ],
        [
         "20",
         "94975",
         "0"
        ],
        [
         "21",
         "198472",
         "5"
        ],
        [
         "22",
         "289954",
         "0"
        ],
        [
         "23",
         "337409",
         "11"
        ],
        [
         "24",
         "44618",
         "3"
        ],
        [
         "25",
         "260316",
         "13"
        ],
        [
         "26",
         "222607",
         "0"
        ],
        [
         "27",
         "347330",
         "0"
        ],
        [
         "28",
         "239401",
         "0"
        ],
        [
         "29",
         "227130",
         "0"
        ],
        [
         "30",
         "297397",
         "0"
        ],
        [
         "31",
         "255115",
         "0"
        ],
        [
         "32",
         "6692",
         "0"
        ],
        [
         "33",
         "342765",
         "0"
        ],
        [
         "34",
         "1460",
         "0"
        ],
        [
         "35",
         "301852",
         "1"
        ],
        [
         "36",
         "5522",
         "0"
        ],
        [
         "37",
         "211629",
         "0"
        ],
        [
         "38",
         "225397",
         "0"
        ],
        [
         "39",
         "226044",
         "0"
        ],
        [
         "40",
         "196965",
         "0"
        ],
        [
         "41",
         "220753",
         "1"
        ],
        [
         "42",
         "176127",
         "0"
        ],
        [
         "43",
         "190145",
         "0"
        ],
        [
         "44",
         "259007",
         "0"
        ],
        [
         "45",
         "340454",
         "0"
        ],
        [
         "46",
         "721",
         "0"
        ],
        [
         "47",
         "347311",
         "0"
        ],
        [
         "48",
         "151312",
         "0"
        ],
        [
         "49",
         "146301",
         "0"
        ]
       ],
       "shape": {
        "columns": 2,
        "rows": 321747
       }
      },
      "text/html": [
       "<div>\n",
       "<style scoped>\n",
       "    .dataframe tbody tr th:only-of-type {\n",
       "        vertical-align: middle;\n",
       "    }\n",
       "\n",
       "    .dataframe tbody tr th {\n",
       "        vertical-align: top;\n",
       "    }\n",
       "\n",
       "    .dataframe thead th {\n",
       "        text-align: right;\n",
       "    }\n",
       "</style>\n",
       "<table border=\"1\" class=\"dataframe\">\n",
       "  <thead>\n",
       "    <tr style=\"text-align: right;\">\n",
       "      <th></th>\n",
       "      <th>id</th>\n",
       "      <th>game_type</th>\n",
       "    </tr>\n",
       "  </thead>\n",
       "  <tbody>\n",
       "    <tr>\n",
       "      <th>0</th>\n",
       "      <td>330684</td>\n",
       "      <td>14</td>\n",
       "    </tr>\n",
       "    <tr>\n",
       "      <th>1</th>\n",
       "      <td>177310</td>\n",
       "      <td>0</td>\n",
       "    </tr>\n",
       "    <tr>\n",
       "      <th>2</th>\n",
       "      <td>282079</td>\n",
       "      <td>5</td>\n",
       "    </tr>\n",
       "    <tr>\n",
       "      <th>3</th>\n",
       "      <td>63844</td>\n",
       "      <td>0</td>\n",
       "    </tr>\n",
       "    <tr>\n",
       "      <th>4</th>\n",
       "      <td>338541</td>\n",
       "      <td>7</td>\n",
       "    </tr>\n",
       "    <tr>\n",
       "      <th>...</th>\n",
       "      <td>...</td>\n",
       "      <td>...</td>\n",
       "    </tr>\n",
       "    <tr>\n",
       "      <th>321742</th>\n",
       "      <td>34207</td>\n",
       "      <td>2</td>\n",
       "    </tr>\n",
       "    <tr>\n",
       "      <th>321743</th>\n",
       "      <td>8993</td>\n",
       "      <td>0</td>\n",
       "    </tr>\n",
       "    <tr>\n",
       "      <th>321744</th>\n",
       "      <td>154420</td>\n",
       "      <td>3</td>\n",
       "    </tr>\n",
       "    <tr>\n",
       "      <th>321745</th>\n",
       "      <td>6253</td>\n",
       "      <td>0</td>\n",
       "    </tr>\n",
       "    <tr>\n",
       "      <th>321746</th>\n",
       "      <td>11261</td>\n",
       "      <td>0</td>\n",
       "    </tr>\n",
       "  </tbody>\n",
       "</table>\n",
       "<p>321747 rows × 2 columns</p>\n",
       "</div>"
      ],
      "text/plain": [
       "            id  game_type\n",
       "0       330684         14\n",
       "1       177310          0\n",
       "2       282079          5\n",
       "3        63844          0\n",
       "4       338541          7\n",
       "...        ...        ...\n",
       "321742   34207          2\n",
       "321743    8993          0\n",
       "321744  154420          3\n",
       "321745    6253          0\n",
       "321746   11261          0\n",
       "\n",
       "[321747 rows x 2 columns]"
      ]
     },
     "metadata": {},
     "output_type": "display_data"
    }
   ],
   "source": [
    "all_game_types_from_game = get_all_game_types_from_game()\n",
    "display(all_game_types_from_game)\n",
    "# Exporter le DataFrame en CSV\n",
    "all_game_types_from_game.to_csv('../csv/game_game_type.csv', index=False)"
   ]
  },
  {
   "cell_type": "markdown",
   "id": "b3edf7d6",
   "metadata": {},
   "source": [
    "# Game player_perspective et game_id de l'API de game (table game_player_perspective)"
   ]
  },
  {
   "cell_type": "code",
   "execution_count": 10,
   "id": "a7ee49b8",
   "metadata": {},
   "outputs": [],
   "source": [
    "# Fonction pour récupérer les type de support pour les langues\n",
    "def get_all_game_player_perspective():\n",
    "    \"\"\"\n",
    "    Récupère les player perspective des jeux dans la partie Game de l'API IGDB avec pagination.\n",
    "    \n",
    "    Returns:\n",
    "        pd.DataFrame: DataFrame contenant toutes les perspectives de joueur.\n",
    "    \"\"\"\n",
    "    all_game_player_perspective = []\n",
    "    offset = 0\n",
    "    limit = 500  # Maximum limit for IGDB API\n",
    "\n",
    "    while True:\n",
    "        response = post('https://api.igdb.com/v4/games', headers=headers, data = f'fields player_perspectives; limit {limit}; offset {offset};')\n",
    "        \n",
    "        if response.status_code == 200:\n",
    "            response_json = response.json()\n",
    "            if not response_json:  # If no more data, break the loop\n",
    "                break\n",
    "            all_game_player_perspective.extend(response_json)\n",
    "            offset += limit\n",
    "        else:\n",
    "            print(\"Error fetching data from the API\")\n",
    "            print(\"Status code:\", response.status_code)\n",
    "            break\n",
    "\n",
    "    return pd.DataFrame(all_game_player_perspective)"
   ]
  },
  {
   "cell_type": "code",
   "execution_count": null,
   "id": "f2d3e7bb",
   "metadata": {},
   "outputs": [
    {
     "data": {
      "application/vnd.microsoft.datawrangler.viewer.v0+json": {
       "columns": [
        {
         "name": "index",
         "rawType": "int64",
         "type": "integer"
        },
        {
         "name": "id",
         "rawType": "int64",
         "type": "integer"
        },
        {
         "name": "player_perspectives",
         "rawType": "object",
         "type": "unknown"
        }
       ],
       "ref": "82ca3826-3596-4a6f-b4fd-0addc18629cb",
       "rows": [
        [
         "0",
         "330684",
         "[2]"
        ],
        [
         "1",
         "177310",
         "[1]"
        ],
        [
         "2",
         "282079",
         "[2, 4]"
        ],
        [
         "3",
         "63844",
         "[2]"
        ],
        [
         "4",
         "338541",
         "[2]"
        ],
        [
         "5",
         "157761",
         "[1, 2]"
        ],
        [
         "6",
         "335661",
         "[4]"
        ],
        [
         "7",
         "348397",
         null
        ],
        [
         "8",
         "347317",
         null
        ],
        [
         "9",
         "2329",
         "[3]"
        ],
        [
         "10",
         "145545",
         "[1]"
        ],
        [
         "11",
         "341397",
         "[5]"
        ],
        [
         "12",
         "340611",
         null
        ],
        [
         "13",
         "189844",
         "[3]"
        ],
        [
         "14",
         "134684",
         "[1]"
        ],
        [
         "15",
         "194844",
         "[4]"
        ],
        [
         "16",
         "340494",
         null
        ],
        [
         "17",
         "36558",
         "[2, 3]"
        ],
        [
         "18",
         "274434",
         null
        ],
        [
         "19",
         "130742",
         null
        ],
        [
         "20",
         "94975",
         null
        ],
        [
         "21",
         "198472",
         "[4]"
        ],
        [
         "22",
         "289954",
         null
        ],
        [
         "23",
         "337409",
         "[2, 4]"
        ],
        [
         "24",
         "44618",
         "[4]"
        ],
        [
         "25",
         "260316",
         null
        ],
        [
         "26",
         "222607",
         "[3]"
        ],
        [
         "27",
         "347330",
         null
        ],
        [
         "28",
         "239401",
         "[3]"
        ],
        [
         "29",
         "227130",
         null
        ],
        [
         "30",
         "297397",
         "[1]"
        ],
        [
         "31",
         "255115",
         "[5]"
        ],
        [
         "32",
         "6692",
         "[2]"
        ],
        [
         "33",
         "342765",
         "[2, 3, 4]"
        ],
        [
         "34",
         "1460",
         "[3]"
        ],
        [
         "35",
         "301852",
         null
        ],
        [
         "36",
         "5522",
         "[3]"
        ],
        [
         "37",
         "211629",
         null
        ],
        [
         "38",
         "225397",
         "[5]"
        ],
        [
         "39",
         "226044",
         "[1]"
        ],
        [
         "40",
         "196965",
         null
        ],
        [
         "41",
         "220753",
         null
        ],
        [
         "42",
         "176127",
         "[4]"
        ],
        [
         "43",
         "190145",
         "[2, 4]"
        ],
        [
         "44",
         "259007",
         "[1, 5]"
        ],
        [
         "45",
         "340454",
         null
        ],
        [
         "46",
         "721",
         "[3]"
        ],
        [
         "47",
         "347311",
         null
        ],
        [
         "48",
         "151312",
         "[2]"
        ],
        [
         "49",
         "146301",
         "[2]"
        ]
       ],
       "shape": {
        "columns": 2,
        "rows": 321747
       }
      },
      "text/html": [
       "<div>\n",
       "<style scoped>\n",
       "    .dataframe tbody tr th:only-of-type {\n",
       "        vertical-align: middle;\n",
       "    }\n",
       "\n",
       "    .dataframe tbody tr th {\n",
       "        vertical-align: top;\n",
       "    }\n",
       "\n",
       "    .dataframe thead th {\n",
       "        text-align: right;\n",
       "    }\n",
       "</style>\n",
       "<table border=\"1\" class=\"dataframe\">\n",
       "  <thead>\n",
       "    <tr style=\"text-align: right;\">\n",
       "      <th></th>\n",
       "      <th>id</th>\n",
       "      <th>player_perspectives</th>\n",
       "    </tr>\n",
       "  </thead>\n",
       "  <tbody>\n",
       "    <tr>\n",
       "      <th>0</th>\n",
       "      <td>330684</td>\n",
       "      <td>[2]</td>\n",
       "    </tr>\n",
       "    <tr>\n",
       "      <th>1</th>\n",
       "      <td>177310</td>\n",
       "      <td>[1]</td>\n",
       "    </tr>\n",
       "    <tr>\n",
       "      <th>2</th>\n",
       "      <td>282079</td>\n",
       "      <td>[2, 4]</td>\n",
       "    </tr>\n",
       "    <tr>\n",
       "      <th>3</th>\n",
       "      <td>63844</td>\n",
       "      <td>[2]</td>\n",
       "    </tr>\n",
       "    <tr>\n",
       "      <th>4</th>\n",
       "      <td>338541</td>\n",
       "      <td>[2]</td>\n",
       "    </tr>\n",
       "    <tr>\n",
       "      <th>...</th>\n",
       "      <td>...</td>\n",
       "      <td>...</td>\n",
       "    </tr>\n",
       "    <tr>\n",
       "      <th>321742</th>\n",
       "      <td>34207</td>\n",
       "      <td>NaN</td>\n",
       "    </tr>\n",
       "    <tr>\n",
       "      <th>321743</th>\n",
       "      <td>8993</td>\n",
       "      <td>[3]</td>\n",
       "    </tr>\n",
       "    <tr>\n",
       "      <th>321744</th>\n",
       "      <td>154420</td>\n",
       "      <td>[1]</td>\n",
       "    </tr>\n",
       "    <tr>\n",
       "      <th>321745</th>\n",
       "      <td>6253</td>\n",
       "      <td>[4]</td>\n",
       "    </tr>\n",
       "    <tr>\n",
       "      <th>321746</th>\n",
       "      <td>11261</td>\n",
       "      <td>[4]</td>\n",
       "    </tr>\n",
       "  </tbody>\n",
       "</table>\n",
       "<p>321747 rows × 2 columns</p>\n",
       "</div>"
      ],
      "text/plain": [
       "            id player_perspectives\n",
       "0       330684                 [2]\n",
       "1       177310                 [1]\n",
       "2       282079              [2, 4]\n",
       "3        63844                 [2]\n",
       "4       338541                 [2]\n",
       "...        ...                 ...\n",
       "321742   34207                 NaN\n",
       "321743    8993                 [3]\n",
       "321744  154420                 [1]\n",
       "321745    6253                 [4]\n",
       "321746   11261                 [4]\n",
       "\n",
       "[321747 rows x 2 columns]"
      ]
     },
     "metadata": {},
     "output_type": "display_data"
    }
   ],
   "source": [
    "all_game_player_perspective = get_all_game_player_perspective()\n",
    "display(all_game_player_perspective)"
   ]
  },
  {
   "cell_type": "code",
   "execution_count": 16,
   "id": "8a511045",
   "metadata": {},
   "outputs": [],
   "source": [
    "# Exporter le DataFrame en CSV\n",
    "all_game_player_perspective.to_csv('../csv/game_player_perspective.csv', index=False)"
   ]
  },
  {
   "cell_type": "code",
   "execution_count": null,
   "id": "ad6132ee",
   "metadata": {},
   "outputs": [
    {
     "data": {
      "application/vnd.microsoft.datawrangler.viewer.v0+json": {
       "columns": [
        {
         "name": "index",
         "rawType": "int64",
         "type": "integer"
        },
        {
         "name": "game_id",
         "rawType": "int64",
         "type": "integer"
        },
        {
         "name": "player_perspectives",
         "rawType": "object",
         "type": "unknown"
        }
       ],
       "ref": "45d7728b-59d8-4398-afd3-b8e211eb0626",
       "rows": [
        [
         "0",
         "330684",
         "2"
        ],
        [
         "1",
         "177310",
         "1"
        ],
        [
         "2",
         "282079",
         "2"
        ],
        [
         "2",
         "282079",
         "4"
        ],
        [
         "3",
         "63844",
         "2"
        ],
        [
         "4",
         "338541",
         "2"
        ],
        [
         "5",
         "157761",
         "1"
        ],
        [
         "5",
         "157761",
         "2"
        ],
        [
         "6",
         "335661",
         "4"
        ],
        [
         "7",
         "348397",
         null
        ],
        [
         "8",
         "347317",
         null
        ],
        [
         "9",
         "2329",
         "3"
        ],
        [
         "10",
         "145545",
         "1"
        ],
        [
         "11",
         "341397",
         "5"
        ],
        [
         "12",
         "340611",
         null
        ],
        [
         "13",
         "189844",
         "3"
        ],
        [
         "14",
         "134684",
         "1"
        ],
        [
         "15",
         "194844",
         "4"
        ],
        [
         "16",
         "340494",
         null
        ],
        [
         "17",
         "36558",
         "2"
        ],
        [
         "17",
         "36558",
         "3"
        ],
        [
         "18",
         "274434",
         null
        ],
        [
         "19",
         "130742",
         null
        ],
        [
         "20",
         "94975",
         null
        ],
        [
         "21",
         "198472",
         "4"
        ],
        [
         "22",
         "289954",
         null
        ],
        [
         "23",
         "337409",
         "2"
        ],
        [
         "23",
         "337409",
         "4"
        ],
        [
         "24",
         "44618",
         "4"
        ],
        [
         "25",
         "260316",
         null
        ],
        [
         "26",
         "222607",
         "3"
        ],
        [
         "27",
         "347330",
         null
        ],
        [
         "28",
         "239401",
         "3"
        ],
        [
         "29",
         "227130",
         null
        ],
        [
         "30",
         "297397",
         "1"
        ],
        [
         "31",
         "255115",
         "5"
        ],
        [
         "32",
         "6692",
         "2"
        ],
        [
         "33",
         "342765",
         "2"
        ],
        [
         "33",
         "342765",
         "3"
        ],
        [
         "33",
         "342765",
         "4"
        ],
        [
         "34",
         "1460",
         "3"
        ],
        [
         "35",
         "301852",
         null
        ],
        [
         "36",
         "5522",
         "3"
        ],
        [
         "37",
         "211629",
         null
        ],
        [
         "38",
         "225397",
         "5"
        ],
        [
         "39",
         "226044",
         "1"
        ],
        [
         "40",
         "196965",
         null
        ],
        [
         "41",
         "220753",
         null
        ],
        [
         "42",
         "176127",
         "4"
        ],
        [
         "43",
         "190145",
         "2"
        ]
       ],
       "shape": {
        "columns": 2,
        "rows": 338782
       }
      },
      "text/html": [
       "<div>\n",
       "<style scoped>\n",
       "    .dataframe tbody tr th:only-of-type {\n",
       "        vertical-align: middle;\n",
       "    }\n",
       "\n",
       "    .dataframe tbody tr th {\n",
       "        vertical-align: top;\n",
       "    }\n",
       "\n",
       "    .dataframe thead th {\n",
       "        text-align: right;\n",
       "    }\n",
       "</style>\n",
       "<table border=\"1\" class=\"dataframe\">\n",
       "  <thead>\n",
       "    <tr style=\"text-align: right;\">\n",
       "      <th></th>\n",
       "      <th>game_id</th>\n",
       "      <th>player_perspectives</th>\n",
       "    </tr>\n",
       "  </thead>\n",
       "  <tbody>\n",
       "    <tr>\n",
       "      <th>0</th>\n",
       "      <td>330684</td>\n",
       "      <td>2</td>\n",
       "    </tr>\n",
       "    <tr>\n",
       "      <th>1</th>\n",
       "      <td>177310</td>\n",
       "      <td>1</td>\n",
       "    </tr>\n",
       "    <tr>\n",
       "      <th>2</th>\n",
       "      <td>282079</td>\n",
       "      <td>2</td>\n",
       "    </tr>\n",
       "    <tr>\n",
       "      <th>2</th>\n",
       "      <td>282079</td>\n",
       "      <td>4</td>\n",
       "    </tr>\n",
       "    <tr>\n",
       "      <th>3</th>\n",
       "      <td>63844</td>\n",
       "      <td>2</td>\n",
       "    </tr>\n",
       "    <tr>\n",
       "      <th>...</th>\n",
       "      <td>...</td>\n",
       "      <td>...</td>\n",
       "    </tr>\n",
       "    <tr>\n",
       "      <th>321742</th>\n",
       "      <td>34207</td>\n",
       "      <td>NaN</td>\n",
       "    </tr>\n",
       "    <tr>\n",
       "      <th>321743</th>\n",
       "      <td>8993</td>\n",
       "      <td>3</td>\n",
       "    </tr>\n",
       "    <tr>\n",
       "      <th>321744</th>\n",
       "      <td>154420</td>\n",
       "      <td>1</td>\n",
       "    </tr>\n",
       "    <tr>\n",
       "      <th>321745</th>\n",
       "      <td>6253</td>\n",
       "      <td>4</td>\n",
       "    </tr>\n",
       "    <tr>\n",
       "      <th>321746</th>\n",
       "      <td>11261</td>\n",
       "      <td>4</td>\n",
       "    </tr>\n",
       "  </tbody>\n",
       "</table>\n",
       "<p>338782 rows × 2 columns</p>\n",
       "</div>"
      ],
      "text/plain": [
       "        game_id player_perspectives\n",
       "0        330684                   2\n",
       "1        177310                   1\n",
       "2        282079                   2\n",
       "2        282079                   4\n",
       "3         63844                   2\n",
       "...         ...                 ...\n",
       "321742    34207                 NaN\n",
       "321743     8993                   3\n",
       "321744   154420                   1\n",
       "321745     6253                   4\n",
       "321746    11261                   4\n",
       "\n",
       "[338782 rows x 2 columns]"
      ]
     },
     "metadata": {},
     "output_type": "display_data"
    }
   ],
   "source": [
    "# Séparer les player_perspectives si ils y en a plus d'une dans la colonne pour faciliter l'insertion dans la bdd\n",
    "\n",
    "all_game_player_perspective_exploded = pd.read_csv('../csv/game_player_perspective.csv')\n",
    "\n",
    "# Conversion de la chaîne \"[2, 4]\" → liste [2, 4]\n",
    "all_game_player_perspective_exploded['player_perspectives'] = all_game_player_perspective_exploded['player_perspectives'].apply(\n",
    "    lambda x: ast.literal_eval(x) if pd.notnull(x) and x != \"Missing value\" else []\n",
    ")\n",
    "\n",
    "all_game_player_perspective_exploded = all_game_player_perspective_exploded.explode('player_perspectives')\n",
    "\n",
    "all_game_player_perspective_exploded= all_game_player_perspective_exploded.rename(columns={\n",
    "    'id': 'game_id',\n",
    "    'player_perspective': 'player_perspective_id'\n",
    "})\n",
    "\n",
    "display(all_game_player_perspective_exploded)\n"
   ]
  },
  {
   "cell_type": "code",
   "execution_count": 20,
   "id": "22cc25fc",
   "metadata": {},
   "outputs": [],
   "source": [
    "# Exporter le DataFrame en CSV\n",
    "all_game_player_perspective_exploded.to_csv('../csv/game_player_perspective_exploded.csv', index=False)"
   ]
  },
  {
   "cell_type": "markdown",
   "id": "c0b24ae9",
   "metadata": {},
   "source": [
    "# Age Rating"
   ]
  },
  {
   "cell_type": "code",
   "execution_count": null,
   "id": "61e6e7c4",
   "metadata": {},
   "outputs": [],
   "source": [
    "# Fonction pour récupérer les type de support pour les langues\n",
    "def get_all_age_ratings():\n",
    "    \"\"\"\n",
    "    Récupère les player perspective des jeux dans la partie Game de l'API IGDB avec pagination.\n",
    "    \n",
    "    Returns:\n",
    "        pd.DataFrame: DataFrame contenant toutes les perspectives de joueur.\n",
    "    \"\"\"\n",
    "    all_game_player_perspective = []\n",
    "    offset = 0\n",
    "    limit = 500  # Maximum limit for IGDB API\n",
    "\n",
    "    while True:\n",
    "        response = post('https://api.igdb.com/v4/games', headers=headers, data = f'fields player_perspectives; limit {limit}; offset {offset};')\n",
    "        \n",
    "        if response.status_code == 200:\n",
    "            response_json = response.json()\n",
    "            if not response_json:  # If no more data, break the loop\n",
    "                break\n",
    "            all_game_player_perspective.extend(response_json)\n",
    "            offset += limit\n",
    "        else:\n",
    "            print(\"Error fetching data from the API\")\n",
    "            print(\"Status code:\", response.status_code)\n",
    "            break\n",
    "\n",
    "    return pd.DataFrame(all_game_player_perspective)"
   ]
  },
  {
   "cell_type": "code",
   "execution_count": null,
   "id": "68b2c5d5",
   "metadata": {},
   "outputs": [],
   "source": []
  },
  {
   "cell_type": "code",
   "execution_count": null,
   "id": "0cfa9c4f",
   "metadata": {},
   "outputs": [],
   "source": []
  },
  {
   "cell_type": "markdown",
   "id": "6b074336",
   "metadata": {},
   "source": [
    "# Age rating from Game"
   ]
  },
  {
   "cell_type": "code",
   "execution_count": 21,
   "id": "c1bbfa68",
   "metadata": {},
   "outputs": [],
   "source": [
    "# Fonction pour récupérer les type de support pour les langues\n",
    "def get_all_game_age_rating():\n",
    "    \"\"\"\n",
    "    Récupère les age ratings des jeux dans la partie Game de l'API IGDB avec pagination.\n",
    "    \n",
    "    Returns:\n",
    "        pd.DataFrame: DataFrame contenant toutes les perspectives de joueur.\n",
    "    \"\"\"\n",
    "    all_game_age_rating = []\n",
    "    offset = 0\n",
    "    limit = 500  # Maximum limit for IGDB API\n",
    "\n",
    "    while True:\n",
    "        response = post('https://api.igdb.com/v4/games', headers=headers, data = f'fields age_ratings; limit {limit}; offset {offset};')\n",
    "        \n",
    "        if response.status_code == 200:\n",
    "            response_json = response.json()\n",
    "            if not response_json:  # If no more data, break the loop\n",
    "                break\n",
    "            all_game_age_rating.extend(response_json)\n",
    "            offset += limit\n",
    "        else:\n",
    "            print(\"Error fetching data from the API\")\n",
    "            print(\"Status code:\", response.status_code)\n",
    "            break\n",
    "\n",
    "    return pd.DataFrame(all_game_age_rating)"
   ]
  },
  {
   "cell_type": "code",
   "execution_count": 22,
   "id": "68f7661b",
   "metadata": {},
   "outputs": [
    {
     "data": {
      "application/vnd.microsoft.datawrangler.viewer.v0+json": {
       "columns": [
        {
         "name": "index",
         "rawType": "int64",
         "type": "integer"
        },
        {
         "name": "id",
         "rawType": "int64",
         "type": "integer"
        },
        {
         "name": "age_ratings",
         "rawType": "object",
         "type": "unknown"
        }
       ],
       "ref": "9be07357-2b87-4a55-a299-27f0edd474ef",
       "rows": [
        [
         "0",
         "330684",
         null
        ],
        [
         "1",
         "177310",
         null
        ],
        [
         "2",
         "282079",
         null
        ],
        [
         "3",
         "63844",
         null
        ],
        [
         "4",
         "338541",
         null
        ],
        [
         "5",
         "157761",
         null
        ],
        [
         "6",
         "335661",
         null
        ],
        [
         "7",
         "348397",
         null
        ],
        [
         "8",
         "347317",
         "[212650, 213490]"
        ],
        [
         "9",
         "2329",
         "[8718, 96855]"
        ],
        [
         "10",
         "145545",
         null
        ],
        [
         "11",
         "341397",
         null
        ],
        [
         "12",
         "340611",
         null
        ],
        [
         "13",
         "189844",
         null
        ],
        [
         "14",
         "134684",
         null
        ],
        [
         "15",
         "194844",
         null
        ],
        [
         "16",
         "340494",
         null
        ],
        [
         "17",
         "36558",
         "[12577, 210580, 210581, 210582, 189230]"
        ],
        [
         "18",
         "274434",
         "[157922, 157924, 157926, 157923, 157925]"
        ],
        [
         "19",
         "130742",
         null
        ],
        [
         "20",
         "94975",
         null
        ],
        [
         "21",
         "198472",
         null
        ],
        [
         "22",
         "289954",
         null
        ],
        [
         "23",
         "337409",
         null
        ],
        [
         "24",
         "44618",
         null
        ],
        [
         "25",
         "260316",
         null
        ],
        [
         "26",
         "222607",
         null
        ],
        [
         "27",
         "347330",
         "[212663, 213524]"
        ],
        [
         "28",
         "239401",
         null
        ],
        [
         "29",
         "227130",
         "[104162]"
        ],
        [
         "30",
         "297397",
         null
        ],
        [
         "31",
         "255115",
         null
        ],
        [
         "32",
         "6692",
         "[3839, 167746]"
        ],
        [
         "33",
         "342765",
         null
        ],
        [
         "34",
         "1460",
         "[17803, 65027]"
        ],
        [
         "35",
         "301852",
         "[178459]"
        ],
        [
         "36",
         "5522",
         "[190801, 133525]"
        ],
        [
         "37",
         "211629",
         null
        ],
        [
         "38",
         "225397",
         null
        ],
        [
         "39",
         "226044",
         null
        ],
        [
         "40",
         "196965",
         null
        ],
        [
         "41",
         "220753",
         "[114238]"
        ],
        [
         "42",
         "176127",
         null
        ],
        [
         "43",
         "190145",
         "[171717, 171715, 170898, 171714, 171716, 171718]"
        ],
        [
         "44",
         "259007",
         null
        ],
        [
         "45",
         "340454",
         null
        ],
        [
         "46",
         "721",
         "[124092, 61640]"
        ],
        [
         "47",
         "347311",
         "[212646, 213493]"
        ],
        [
         "48",
         "151312",
         "[112927]"
        ],
        [
         "49",
         "146301",
         "[35852]"
        ]
       ],
       "shape": {
        "columns": 2,
        "rows": 321747
       }
      },
      "text/html": [
       "<div>\n",
       "<style scoped>\n",
       "    .dataframe tbody tr th:only-of-type {\n",
       "        vertical-align: middle;\n",
       "    }\n",
       "\n",
       "    .dataframe tbody tr th {\n",
       "        vertical-align: top;\n",
       "    }\n",
       "\n",
       "    .dataframe thead th {\n",
       "        text-align: right;\n",
       "    }\n",
       "</style>\n",
       "<table border=\"1\" class=\"dataframe\">\n",
       "  <thead>\n",
       "    <tr style=\"text-align: right;\">\n",
       "      <th></th>\n",
       "      <th>id</th>\n",
       "      <th>age_ratings</th>\n",
       "    </tr>\n",
       "  </thead>\n",
       "  <tbody>\n",
       "    <tr>\n",
       "      <th>0</th>\n",
       "      <td>330684</td>\n",
       "      <td>NaN</td>\n",
       "    </tr>\n",
       "    <tr>\n",
       "      <th>1</th>\n",
       "      <td>177310</td>\n",
       "      <td>NaN</td>\n",
       "    </tr>\n",
       "    <tr>\n",
       "      <th>2</th>\n",
       "      <td>282079</td>\n",
       "      <td>NaN</td>\n",
       "    </tr>\n",
       "    <tr>\n",
       "      <th>3</th>\n",
       "      <td>63844</td>\n",
       "      <td>NaN</td>\n",
       "    </tr>\n",
       "    <tr>\n",
       "      <th>4</th>\n",
       "      <td>338541</td>\n",
       "      <td>NaN</td>\n",
       "    </tr>\n",
       "    <tr>\n",
       "      <th>...</th>\n",
       "      <td>...</td>\n",
       "      <td>...</td>\n",
       "    </tr>\n",
       "    <tr>\n",
       "      <th>321742</th>\n",
       "      <td>34207</td>\n",
       "      <td>[107225, 123510]</td>\n",
       "    </tr>\n",
       "    <tr>\n",
       "      <th>321743</th>\n",
       "      <td>8993</td>\n",
       "      <td>NaN</td>\n",
       "    </tr>\n",
       "    <tr>\n",
       "      <th>321744</th>\n",
       "      <td>154420</td>\n",
       "      <td>NaN</td>\n",
       "    </tr>\n",
       "    <tr>\n",
       "      <th>321745</th>\n",
       "      <td>6253</td>\n",
       "      <td>NaN</td>\n",
       "    </tr>\n",
       "    <tr>\n",
       "      <th>321746</th>\n",
       "      <td>11261</td>\n",
       "      <td>[65667, 123468]</td>\n",
       "    </tr>\n",
       "  </tbody>\n",
       "</table>\n",
       "<p>321747 rows × 2 columns</p>\n",
       "</div>"
      ],
      "text/plain": [
       "            id       age_ratings\n",
       "0       330684               NaN\n",
       "1       177310               NaN\n",
       "2       282079               NaN\n",
       "3        63844               NaN\n",
       "4       338541               NaN\n",
       "...        ...               ...\n",
       "321742   34207  [107225, 123510]\n",
       "321743    8993               NaN\n",
       "321744  154420               NaN\n",
       "321745    6253               NaN\n",
       "321746   11261   [65667, 123468]\n",
       "\n",
       "[321747 rows x 2 columns]"
      ]
     },
     "metadata": {},
     "output_type": "display_data"
    }
   ],
   "source": [
    "all_game_age_rating = get_all_game_age_rating()\n",
    "display(all_game_age_rating)"
   ]
  },
  {
   "cell_type": "code",
   "execution_count": 27,
   "id": "ae087b3b",
   "metadata": {},
   "outputs": [],
   "source": [
    "# Séparer les age ratings si ils y en a plus d'une dans la colonne pour faciliter l'insertion dans la bdd\n",
    "\n",
    "def safe_eval(x):\n",
    "    if isinstance(x, str) and x != \"Missing value\":\n",
    "        try:\n",
    "            return ast.literal_eval(x)\n",
    "        except:\n",
    "            return []\n",
    "    elif isinstance(x, list):\n",
    "        return x\n",
    "    else:\n",
    "        return []\n",
    "\n",
    "# Application robuste\n",
    "all_game_ratings_exploded = all_game_age_rating.copy()\n",
    "all_game_ratings_exploded['age_ratings'] = all_game_ratings_exploded['age_ratings'].apply(safe_eval)\n",
    "all_game_ratings_exploded = all_game_ratings_exploded.explode('age_ratings')\n",
    "\n",
    "# Renommage final\n",
    "all_game_ratings_exploded = all_game_ratings_exploded.rename(columns={\n",
    "    'id': 'game_id',\n",
    "    'age_ratings': 'age_ratings_id'\n",
    "})"
   ]
  },
  {
   "cell_type": "code",
   "execution_count": 29,
   "id": "fac02387",
   "metadata": {},
   "outputs": [
    {
     "data": {
      "application/vnd.microsoft.datawrangler.viewer.v0+json": {
       "columns": [
        {
         "name": "index",
         "rawType": "int64",
         "type": "integer"
        },
        {
         "name": "game_id",
         "rawType": "int64",
         "type": "integer"
        },
        {
         "name": "age_ratings_id",
         "rawType": "object",
         "type": "unknown"
        }
       ],
       "ref": "8c3a09c8-e88d-42b2-b84d-17ac015f7ff7",
       "rows": [
        [
         "0",
         "330684",
         null
        ],
        [
         "1",
         "177310",
         null
        ],
        [
         "2",
         "282079",
         null
        ],
        [
         "3",
         "63844",
         null
        ],
        [
         "4",
         "338541",
         null
        ],
        [
         "5",
         "157761",
         null
        ],
        [
         "6",
         "335661",
         null
        ],
        [
         "7",
         "348397",
         null
        ],
        [
         "8",
         "347317",
         "212650"
        ],
        [
         "8",
         "347317",
         "213490"
        ],
        [
         "9",
         "2329",
         "8718"
        ],
        [
         "9",
         "2329",
         "96855"
        ],
        [
         "10",
         "145545",
         null
        ],
        [
         "11",
         "341397",
         null
        ],
        [
         "12",
         "340611",
         null
        ],
        [
         "13",
         "189844",
         null
        ],
        [
         "14",
         "134684",
         null
        ],
        [
         "15",
         "194844",
         null
        ],
        [
         "16",
         "340494",
         null
        ],
        [
         "17",
         "36558",
         "12577"
        ],
        [
         "17",
         "36558",
         "210580"
        ],
        [
         "17",
         "36558",
         "210581"
        ],
        [
         "17",
         "36558",
         "210582"
        ],
        [
         "17",
         "36558",
         "189230"
        ],
        [
         "18",
         "274434",
         "157922"
        ],
        [
         "18",
         "274434",
         "157924"
        ],
        [
         "18",
         "274434",
         "157926"
        ],
        [
         "18",
         "274434",
         "157923"
        ],
        [
         "18",
         "274434",
         "157925"
        ],
        [
         "19",
         "130742",
         null
        ],
        [
         "20",
         "94975",
         null
        ],
        [
         "21",
         "198472",
         null
        ],
        [
         "22",
         "289954",
         null
        ],
        [
         "23",
         "337409",
         null
        ],
        [
         "24",
         "44618",
         null
        ],
        [
         "25",
         "260316",
         null
        ],
        [
         "26",
         "222607",
         null
        ],
        [
         "27",
         "347330",
         "212663"
        ],
        [
         "27",
         "347330",
         "213524"
        ],
        [
         "28",
         "239401",
         null
        ],
        [
         "29",
         "227130",
         "104162"
        ],
        [
         "30",
         "297397",
         null
        ],
        [
         "31",
         "255115",
         null
        ],
        [
         "32",
         "6692",
         "3839"
        ],
        [
         "32",
         "6692",
         "167746"
        ],
        [
         "33",
         "342765",
         null
        ],
        [
         "34",
         "1460",
         "17803"
        ],
        [
         "34",
         "1460",
         "65027"
        ],
        [
         "35",
         "301852",
         "178459"
        ],
        [
         "36",
         "5522",
         "190801"
        ]
       ],
       "shape": {
        "columns": 2,
        "rows": 417684
       }
      },
      "text/html": [
       "<div>\n",
       "<style scoped>\n",
       "    .dataframe tbody tr th:only-of-type {\n",
       "        vertical-align: middle;\n",
       "    }\n",
       "\n",
       "    .dataframe tbody tr th {\n",
       "        vertical-align: top;\n",
       "    }\n",
       "\n",
       "    .dataframe thead th {\n",
       "        text-align: right;\n",
       "    }\n",
       "</style>\n",
       "<table border=\"1\" class=\"dataframe\">\n",
       "  <thead>\n",
       "    <tr style=\"text-align: right;\">\n",
       "      <th></th>\n",
       "      <th>game_id</th>\n",
       "      <th>age_ratings_id</th>\n",
       "    </tr>\n",
       "  </thead>\n",
       "  <tbody>\n",
       "    <tr>\n",
       "      <th>0</th>\n",
       "      <td>330684</td>\n",
       "      <td>NaN</td>\n",
       "    </tr>\n",
       "    <tr>\n",
       "      <th>1</th>\n",
       "      <td>177310</td>\n",
       "      <td>NaN</td>\n",
       "    </tr>\n",
       "    <tr>\n",
       "      <th>2</th>\n",
       "      <td>282079</td>\n",
       "      <td>NaN</td>\n",
       "    </tr>\n",
       "    <tr>\n",
       "      <th>3</th>\n",
       "      <td>63844</td>\n",
       "      <td>NaN</td>\n",
       "    </tr>\n",
       "    <tr>\n",
       "      <th>4</th>\n",
       "      <td>338541</td>\n",
       "      <td>NaN</td>\n",
       "    </tr>\n",
       "    <tr>\n",
       "      <th>...</th>\n",
       "      <td>...</td>\n",
       "      <td>...</td>\n",
       "    </tr>\n",
       "    <tr>\n",
       "      <th>321743</th>\n",
       "      <td>8993</td>\n",
       "      <td>NaN</td>\n",
       "    </tr>\n",
       "    <tr>\n",
       "      <th>321744</th>\n",
       "      <td>154420</td>\n",
       "      <td>NaN</td>\n",
       "    </tr>\n",
       "    <tr>\n",
       "      <th>321745</th>\n",
       "      <td>6253</td>\n",
       "      <td>NaN</td>\n",
       "    </tr>\n",
       "    <tr>\n",
       "      <th>321746</th>\n",
       "      <td>11261</td>\n",
       "      <td>65667</td>\n",
       "    </tr>\n",
       "    <tr>\n",
       "      <th>321746</th>\n",
       "      <td>11261</td>\n",
       "      <td>123468</td>\n",
       "    </tr>\n",
       "  </tbody>\n",
       "</table>\n",
       "<p>417684 rows × 2 columns</p>\n",
       "</div>"
      ],
      "text/plain": [
       "        game_id age_ratings_id\n",
       "0        330684            NaN\n",
       "1        177310            NaN\n",
       "2        282079            NaN\n",
       "3         63844            NaN\n",
       "4        338541            NaN\n",
       "...         ...            ...\n",
       "321743     8993            NaN\n",
       "321744   154420            NaN\n",
       "321745     6253            NaN\n",
       "321746    11261          65667\n",
       "321746    11261         123468\n",
       "\n",
       "[417684 rows x 2 columns]"
      ]
     },
     "metadata": {},
     "output_type": "display_data"
    }
   ],
   "source": [
    "display(all_game_ratings_exploded)\n",
    "\n",
    "all_game_ratings_exploded.to_csv(\"../csv/game_age_ratings.csv\")"
   ]
  }
 ],
 "metadata": {
  "kernelspec": {
   "display_name": "data-game",
   "language": "python",
   "name": "python3"
  },
  "language_info": {
   "codemirror_mode": {
    "name": "ipython",
    "version": 3
   },
   "file_extension": ".py",
   "mimetype": "text/x-python",
   "name": "python",
   "nbconvert_exporter": "python",
   "pygments_lexer": "ipython3",
   "version": "3.13.3"
  }
 },
 "nbformat": 4,
 "nbformat_minor": 5
}
